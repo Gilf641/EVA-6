{
  "nbformat": 4,
  "nbformat_minor": 0,
  "metadata": {
    "accelerator": "GPU",
    "colab": {
      "name": "EVA6-S6.ipynb",
      "provenance": [],
      "collapsed_sections": []
    },
    "kernelspec": {
      "display_name": "Python 3",
      "name": "python3"
    },
    "language_info": {
      "name": "python"
    }
  },
  "cells": [
    {
      "cell_type": "code",
      "metadata": {
        "colab": {
          "base_uri": "https://localhost:8080/"
        },
        "id": "nFE0wySsXr5l",
        "outputId": "b02a0c6d-7113-43ce-a8d5-9131c9137ad2"
      },
      "source": [
        "! nvidia-smi\n"
      ],
      "execution_count": 1,
      "outputs": [
        {
          "output_type": "stream",
          "text": [
            "Fri Jun 11 19:02:43 2021       \n",
            "+-----------------------------------------------------------------------------+\n",
            "| NVIDIA-SMI 465.27       Driver Version: 460.32.03    CUDA Version: 11.2     |\n",
            "|-------------------------------+----------------------+----------------------+\n",
            "| GPU  Name        Persistence-M| Bus-Id        Disp.A | Volatile Uncorr. ECC |\n",
            "| Fan  Temp  Perf  Pwr:Usage/Cap|         Memory-Usage | GPU-Util  Compute M. |\n",
            "|                               |                      |               MIG M. |\n",
            "|===============================+======================+======================|\n",
            "|   0  Tesla T4            Off  | 00000000:00:04.0 Off |                    0 |\n",
            "| N/A   65C    P8    10W /  70W |      0MiB / 15109MiB |      0%      Default |\n",
            "|                               |                      |                  N/A |\n",
            "+-------------------------------+----------------------+----------------------+\n",
            "                                                                               \n",
            "+-----------------------------------------------------------------------------+\n",
            "| Processes:                                                                  |\n",
            "|  GPU   GI   CI        PID   Type   Process name                  GPU Memory |\n",
            "|        ID   ID                                                   Usage      |\n",
            "|=============================================================================|\n",
            "|  No running processes found                                                 |\n",
            "+-----------------------------------------------------------------------------+\n"
          ],
          "name": "stdout"
        }
      ]
    },
    {
      "cell_type": "code",
      "metadata": {
        "colab": {
          "base_uri": "https://localhost:8080/"
        },
        "id": "eArnTjYbCybd",
        "outputId": "af3ca6ef-352a-4a23-eb66-2c6743165a2d"
      },
      "source": [
        "import sys\n",
        "from google.colab import drive\n",
        "\n",
        "drive.mount(\"/content/gdrive\", force_remount=True)\n",
        "sys.path.append(\"/content/gdrive/MyDrive\")\n",
        "\n",
        "%reload_ext tensorboard"
      ],
      "execution_count": 2,
      "outputs": [
        {
          "output_type": "stream",
          "text": [
            "Mounted at /content/gdrive\n"
          ],
          "name": "stdout"
        }
      ]
    },
    {
      "cell_type": "code",
      "metadata": {
        "colab": {
          "base_uri": "https://localhost:8080/"
        },
        "id": "1-CxU7VcDvkY",
        "outputId": "6b07266a-efe6-480c-abd8-670c9bbc0090"
      },
      "source": [
        "from __future__ import print_function\n",
        "import torch\n",
        "import torch.nn as nn\n",
        "import torch.nn.functional as F\n",
        "import torch.optim as optim\n",
        "from torchvision import datasets, transforms\n",
        "from torch.utils.tensorboard import SummaryWriter\n",
        "from tqdm import tqdm_notebook\n",
        "from tqdm import tqdm\n",
        "!pip install torchsummary\n",
        "from torchsummary import summary\n",
        "import numpy as np\n",
        "import matplotlib.pyplot as plt\n",
        "\n",
        "# custom torch package\n",
        "import torchkit\n",
        "from torchkit.run import train, test, fit\n",
        "from torchkit.data.dataloader import MNIST_Loader\n",
        "from torchkit.models.mnist_net import  NoFCNet2\n",
        "from torchkit.utils import data_utils, model_utils"
      ],
      "execution_count": 3,
      "outputs": [
        {
          "output_type": "stream",
          "text": [
            "Requirement already satisfied: torchsummary in /usr/local/lib/python3.7/dist-packages (1.5.1)\n"
          ],
          "name": "stdout"
        }
      ]
    },
    {
      "cell_type": "code",
      "metadata": {
        "id": "65l2FK6IzSDF"
      },
      "source": [
        "\n",
        "BATCH_SIZE=128\n",
        "train_loader, test_loader = MNIST_Loader(BATCH_SIZE)"
      ],
      "execution_count": 4,
      "outputs": []
    },
    {
      "cell_type": "code",
      "metadata": {
        "id": "mhE3fcXetGJX"
      },
      "source": [
        "class GlobalConfig:\n",
        "    seed = 1992\n",
        "    num_classes = 10\n",
        "    batch_size = 128\n",
        "    EPOCHS = 20\n",
        "    device = torch.device('cuda' if torch.cuda.is_available() else 'cpu')\n",
        "\n",
        "    # data\n",
        "    input_image_size = (1, 28, 28)\n",
        "    trainloader = train_loader\n",
        "    testloader = test_loader\n",
        "\n",
        "    # model data normalization\n",
        "    channel_norm = 'GroupNorm'\n",
        "    channel_norm_params = {'GroupNorm': {'num_groups':2},\n",
        "                 'BatchNorm2d':{'affine':True},\n",
        "                 'LayerNorm': {'normalized_shape':10}}\n",
        "                \n",
        "\n",
        "    # regularizer\n",
        "    dropout_value = 0.05\n",
        "\n",
        "    # loss\n",
        "    loss_function = 'CrossEntropyLoss'\n",
        "\n",
        "    # scheduler\n",
        "    lr_scheduler = 'OneCycleLR'\n",
        "    lr_scheduler_params = {'StepLR': {'step_size':6, 'gamma':0.1},\n",
        "                \n",
        "                'ReduceLROnPlateau': {'mode':'min', 'factor':0.5, 'patience':2, 'threshold':0.0001,\n",
        "                                      'threshold_mode':'rel', 'cooldown':0, 'min_lr':1e-4,\n",
        "                                      'eps':1e-08, 'verbose':True},\n",
        "                'OneCycleLR': {'max_lr': 0.2, 'steps_per_epoch':len(trainloader), 'div_factor':20, 'epochs':EPOCHS }}\n",
        "                                \n",
        "\n",
        "    # optimizer\n",
        "    optimizer = 'SGD'\n",
        "    optimizer_params = {'SGD':{'lr':0.01, 'momentum':0.9}}\n",
        "\n",
        "    # store model stats\n",
        "    model_results = {'TestAccuracy': [], \n",
        "                  'TrainAccuracy': [],\n",
        "                  'TestLoss': [],\n",
        "                  'TrainLoss':[]}\n",
        "\n",
        "    # Params\n",
        "    misclassified=True\n",
        "    L1Lambda=False\n",
        "\n",
        "    \n",
        "modelconfig = GlobalConfig\n"
      ],
      "execution_count": 5,
      "outputs": []
    },
    {
      "cell_type": "code",
      "metadata": {
        "id": "ey_19q61T0Pm",
        "colab": {
          "base_uri": "https://localhost:8080/",
          "height": 1000
        },
        "outputId": "a95d7b9d-53bd-4aff-aca6-decf5e445f87"
      },
      "source": [
        "# NoFCNet2 - BatchNorm2d\n",
        "modelconfig.channel_norm = 'BatchNorm2d'\n",
        "modelconfig.L1Lambda = True\n",
        "\n",
        "model = NoFCNet2(modelconfig).to(modelconfig.device)\n",
        "summary(model, input_size=modelconfig.input_image_size)\n",
        "train_misc_img, test_misc_img, bn_model_results = fit(model=model, config=modelconfig)\n",
        "\n",
        "# store the model results\n",
        "batchnorm_results = modelconfig.model_results\n",
        "\n",
        "# Plot misclassified images\n"
      ],
      "execution_count": 6,
      "outputs": [
        {
          "output_type": "stream",
          "text": [
            "\r  0%|          | 0/469 [00:00<?, ?it/s]"
          ],
          "name": "stderr"
        },
        {
          "output_type": "stream",
          "text": [
            "----------------------------------------------------------------\n",
            "        Layer (type)               Output Shape         Param #\n",
            "================================================================\n",
            "            Conv2d-1           [-1, 10, 28, 28]              90\n",
            "              ReLU-2           [-1, 10, 28, 28]               0\n",
            "       BatchNorm2d-3           [-1, 10, 28, 28]              20\n",
            "           Dropout-4           [-1, 10, 28, 28]               0\n",
            "            Conv2d-5           [-1, 16, 26, 26]           1,440\n",
            "              ReLU-6           [-1, 16, 26, 26]               0\n",
            "       BatchNorm2d-7           [-1, 16, 26, 26]              32\n",
            "           Dropout-8           [-1, 16, 26, 26]               0\n",
            "         MaxPool2d-9           [-1, 16, 13, 13]               0\n",
            "           Conv2d-10            [-1, 8, 13, 13]             128\n",
            "           Conv2d-11           [-1, 10, 11, 11]             720\n",
            "             ReLU-12           [-1, 10, 11, 11]               0\n",
            "      BatchNorm2d-13           [-1, 10, 11, 11]              20\n",
            "          Dropout-14           [-1, 10, 11, 11]               0\n",
            "           Conv2d-15             [-1, 12, 9, 9]           1,080\n",
            "             ReLU-16             [-1, 12, 9, 9]               0\n",
            "      BatchNorm2d-17             [-1, 12, 9, 9]              24\n",
            "          Dropout-18             [-1, 12, 9, 9]               0\n",
            "           Conv2d-19             [-1, 14, 7, 7]           1,512\n",
            "             ReLU-20             [-1, 14, 7, 7]               0\n",
            "      BatchNorm2d-21             [-1, 14, 7, 7]              28\n",
            "          Dropout-22             [-1, 14, 7, 7]               0\n",
            "           Conv2d-23             [-1, 16, 5, 5]           2,016\n",
            "             ReLU-24             [-1, 16, 5, 5]               0\n",
            "      BatchNorm2d-25             [-1, 16, 5, 5]              32\n",
            "          Dropout-26             [-1, 16, 5, 5]               0\n",
            "           Conv2d-27             [-1, 24, 5, 5]             408\n",
            "AdaptiveAvgPool2d-28             [-1, 24, 1, 1]               0\n",
            "           Conv2d-29             [-1, 10, 1, 1]             250\n",
            "================================================================\n",
            "Total params: 7,800\n",
            "Trainable params: 7,800\n",
            "Non-trainable params: 0\n",
            "----------------------------------------------------------------\n",
            "Input size (MB): 0.00\n",
            "Forward/backward pass size (MB): 0.70\n",
            "Params size (MB): 0.03\n",
            "Estimated Total Size (MB): 0.74\n",
            "----------------------------------------------------------------\n",
            "\n",
            "EPOCH:  1 LR:  [0.010000000000000009]\n"
          ],
          "name": "stdout"
        },
        {
          "output_type": "stream",
          "text": [
            "Train set: batch_id=468  Average loss: 0.22204561531543732 Accuracy: 85.383: 100%|██████████| 469/469 [00:31<00:00, 14.90it/s]\n"
          ],
          "name": "stderr"
        },
        {
          "output_type": "stream",
          "text": [
            "Validation loss has  decreased from inf to 0.0006. Saving the model\n"
          ],
          "name": "stdout"
        },
        {
          "output_type": "stream",
          "text": [
            "\r  0%|          | 0/469 [00:00<?, ?it/s]"
          ],
          "name": "stderr"
        },
        {
          "output_type": "stream",
          "text": [
            "\n",
            "Test set: Average loss: 0.0006, Accuracy: 9778/10000 (97.78%)\n",
            "\n",
            "\n",
            "EPOCH:  2 LR:  [0.010000000000000009]\n"
          ],
          "name": "stdout"
        },
        {
          "output_type": "stream",
          "text": [
            "Train set: batch_id=468  Average loss: 0.0697312280535698 Accuracy: 97.628: 100%|██████████| 469/469 [00:31<00:00, 14.71it/s]\n",
            "  0%|          | 0/469 [00:00<?, ?it/s]"
          ],
          "name": "stderr"
        },
        {
          "output_type": "stream",
          "text": [
            "Validation loss has  decreased from 0.0006 to 0.0004. Saving the model\n",
            "\n",
            "Test set: Average loss: 0.0004, Accuracy: 9845/10000 (98.45%)\n",
            "\n",
            "\n",
            "EPOCH:  3 LR:  [0.010000000000000009]\n"
          ],
          "name": "stdout"
        },
        {
          "output_type": "stream",
          "text": [
            "Train set: batch_id=468  Average loss: 0.027044204995036125 Accuracy: 98.052: 100%|██████████| 469/469 [00:32<00:00, 14.58it/s]\n",
            "  0%|          | 0/469 [00:00<?, ?it/s]"
          ],
          "name": "stderr"
        },
        {
          "output_type": "stream",
          "text": [
            "Validation loss has  decreased from 0.0004 to 0.0003. Saving the model\n",
            "\n",
            "Test set: Average loss: 0.0003, Accuracy: 9890/10000 (98.90%)\n",
            "\n",
            "\n",
            "EPOCH:  4 LR:  [0.010000000000000009]\n"
          ],
          "name": "stdout"
        },
        {
          "output_type": "stream",
          "text": [
            "Train set: batch_id=468  Average loss: 0.014521967619657516 Accuracy: 98.315: 100%|██████████| 469/469 [00:31<00:00, 14.86it/s]\n",
            "  0%|          | 0/469 [00:00<?, ?it/s]"
          ],
          "name": "stderr"
        },
        {
          "output_type": "stream",
          "text": [
            "Validation loss has  decreased from 0.0003 to 0.0003. Saving the model\n",
            "\n",
            "Test set: Average loss: 0.0003, Accuracy: 9895/10000 (98.95%)\n",
            "\n",
            "\n",
            "EPOCH:  5 LR:  [0.010000000000000009]\n"
          ],
          "name": "stdout"
        },
        {
          "output_type": "stream",
          "text": [
            "Train set: batch_id=468  Average loss: 0.09686979651451111 Accuracy: 98.513: 100%|██████████| 469/469 [00:32<00:00, 14.34it/s]\n",
            "  0%|          | 0/469 [00:00<?, ?it/s]"
          ],
          "name": "stderr"
        },
        {
          "output_type": "stream",
          "text": [
            "Validation loss has  decreased from 0.0003 to 0.0003. Saving the model\n",
            "\n",
            "Test set: Average loss: 0.0003, Accuracy: 9905/10000 (99.05%)\n",
            "\n",
            "\n",
            "EPOCH:  6 LR:  [0.010000000000000009]\n"
          ],
          "name": "stdout"
        },
        {
          "output_type": "stream",
          "text": [
            "Train set: batch_id=468  Average loss: 0.027382122352719307 Accuracy: 98.67: 100%|██████████| 469/469 [00:32<00:00, 14.39it/s]\n",
            "  0%|          | 0/469 [00:00<?, ?it/s]"
          ],
          "name": "stderr"
        },
        {
          "output_type": "stream",
          "text": [
            "Validation loss has  decreased from 0.0003 to 0.0002. Saving the model\n",
            "\n",
            "Test set: Average loss: 0.0002, Accuracy: 9910/10000 (99.10%)\n",
            "\n",
            "\n",
            "EPOCH:  7 LR:  [0.010000000000000009]\n"
          ],
          "name": "stdout"
        },
        {
          "output_type": "stream",
          "text": [
            "Train set: batch_id=468  Average loss: 0.01813211850821972 Accuracy: 98.638: 100%|██████████| 469/469 [00:30<00:00, 15.18it/s]\n",
            "  0%|          | 0/469 [00:00<?, ?it/s]"
          ],
          "name": "stderr"
        },
        {
          "output_type": "stream",
          "text": [
            "\n",
            "Test set: Average loss: 0.0003, Accuracy: 9902/10000 (99.02%)\n",
            "\n",
            "\n",
            "EPOCH:  8 LR:  [0.010000000000000009]\n"
          ],
          "name": "stdout"
        },
        {
          "output_type": "stream",
          "text": [
            "Train set: batch_id=468  Average loss: 0.11110687255859375 Accuracy: 98.773: 100%|██████████| 469/469 [00:31<00:00, 14.99it/s]\n",
            "  0%|          | 0/469 [00:00<?, ?it/s]"
          ],
          "name": "stderr"
        },
        {
          "output_type": "stream",
          "text": [
            "Validation loss has  decreased from 0.0002 to 0.0002. Saving the model\n",
            "\n",
            "Test set: Average loss: 0.0002, Accuracy: 9910/10000 (99.10%)\n",
            "\n",
            "\n",
            "EPOCH:  9 LR:  [0.010000000000000009]\n"
          ],
          "name": "stdout"
        },
        {
          "output_type": "stream",
          "text": [
            "Train set: batch_id=468  Average loss: 0.03597303479909897 Accuracy: 98.757: 100%|██████████| 469/469 [00:31<00:00, 14.99it/s]\n",
            "  0%|          | 0/469 [00:00<?, ?it/s]"
          ],
          "name": "stderr"
        },
        {
          "output_type": "stream",
          "text": [
            "Validation loss has  decreased from 0.0002 to 0.0002. Saving the model\n",
            "\n",
            "Test set: Average loss: 0.0002, Accuracy: 9935/10000 (99.35%)\n",
            "\n",
            "\n",
            "EPOCH:  10 LR:  [0.010000000000000009]\n"
          ],
          "name": "stdout"
        },
        {
          "output_type": "stream",
          "text": [
            "Train set: batch_id=468  Average loss: 0.09298509359359741 Accuracy: 98.88: 100%|██████████| 469/469 [00:31<00:00, 14.85it/s]\n",
            "  0%|          | 0/469 [00:00<?, ?it/s]"
          ],
          "name": "stderr"
        },
        {
          "output_type": "stream",
          "text": [
            "\n",
            "Test set: Average loss: 0.0002, Accuracy: 9911/10000 (99.11%)\n",
            "\n",
            "\n",
            "EPOCH:  11 LR:  [0.010000000000000009]\n"
          ],
          "name": "stdout"
        },
        {
          "output_type": "stream",
          "text": [
            "Train set: batch_id=468  Average loss: 0.041566431522369385 Accuracy: 98.837: 100%|██████████| 469/469 [00:31<00:00, 14.85it/s]\n",
            "  0%|          | 0/469 [00:00<?, ?it/s]"
          ],
          "name": "stderr"
        },
        {
          "output_type": "stream",
          "text": [
            "\n",
            "Test set: Average loss: 0.0002, Accuracy: 9913/10000 (99.13%)\n",
            "\n",
            "\n",
            "EPOCH:  12 LR:  [0.010000000000000009]\n"
          ],
          "name": "stdout"
        },
        {
          "output_type": "stream",
          "text": [
            "Train set: batch_id=468  Average loss: 0.05427548661828041 Accuracy: 98.833: 100%|██████████| 469/469 [00:31<00:00, 14.68it/s]\n",
            "  0%|          | 0/469 [00:00<?, ?it/s]"
          ],
          "name": "stderr"
        },
        {
          "output_type": "stream",
          "text": [
            "Validation loss has  decreased from 0.0002 to 0.0002. Saving the model\n",
            "\n",
            "Test set: Average loss: 0.0002, Accuracy: 9925/10000 (99.25%)\n",
            "\n",
            "\n",
            "EPOCH:  13 LR:  [0.010000000000000009]\n"
          ],
          "name": "stdout"
        },
        {
          "output_type": "stream",
          "text": [
            "Train set: batch_id=468  Average loss: 0.03276316449046135 Accuracy: 99.0: 100%|██████████| 469/469 [00:31<00:00, 14.87it/s]\n",
            "  0%|          | 0/469 [00:00<?, ?it/s]"
          ],
          "name": "stderr"
        },
        {
          "output_type": "stream",
          "text": [
            "\n",
            "Test set: Average loss: 0.0002, Accuracy: 9921/10000 (99.21%)\n",
            "\n",
            "\n",
            "EPOCH:  14 LR:  [0.010000000000000009]\n"
          ],
          "name": "stdout"
        },
        {
          "output_type": "stream",
          "text": [
            "Train set: batch_id=468  Average loss: 0.002280924003571272 Accuracy: 99.0: 100%|██████████| 469/469 [00:31<00:00, 14.96it/s]\n",
            "  0%|          | 0/469 [00:00<?, ?it/s]"
          ],
          "name": "stderr"
        },
        {
          "output_type": "stream",
          "text": [
            "\n",
            "Test set: Average loss: 0.0002, Accuracy: 9921/10000 (99.21%)\n",
            "\n",
            "\n",
            "EPOCH:  15 LR:  [0.010000000000000009]\n"
          ],
          "name": "stdout"
        },
        {
          "output_type": "stream",
          "text": [
            "Train set: batch_id=468  Average loss: 0.01321102399379015 Accuracy: 98.998: 100%|██████████| 469/469 [00:31<00:00, 14.92it/s]\n",
            "  0%|          | 0/469 [00:00<?, ?it/s]"
          ],
          "name": "stderr"
        },
        {
          "output_type": "stream",
          "text": [
            "\n",
            "Test set: Average loss: 0.0002, Accuracy: 9920/10000 (99.20%)\n",
            "\n",
            "\n",
            "EPOCH:  16 LR:  [0.010000000000000009]\n"
          ],
          "name": "stdout"
        },
        {
          "output_type": "stream",
          "text": [
            "Train set: batch_id=468  Average loss: 0.02872990258038044 Accuracy: 99.033: 100%|██████████| 469/469 [00:31<00:00, 15.08it/s]\n",
            "  0%|          | 0/469 [00:00<?, ?it/s]"
          ],
          "name": "stderr"
        },
        {
          "output_type": "stream",
          "text": [
            "\n",
            "Test set: Average loss: 0.0002, Accuracy: 9925/10000 (99.25%)\n",
            "\n",
            "\n",
            "EPOCH:  17 LR:  [0.010000000000000009]\n"
          ],
          "name": "stdout"
        },
        {
          "output_type": "stream",
          "text": [
            "Train set: batch_id=468  Average loss: 0.05253468453884125 Accuracy: 99.025: 100%|██████████| 469/469 [00:31<00:00, 15.10it/s]\n",
            "  0%|          | 0/469 [00:00<?, ?it/s]"
          ],
          "name": "stderr"
        },
        {
          "output_type": "stream",
          "text": [
            "Validation loss has  decreased from 0.0002 to 0.0002. Saving the model\n",
            "\n",
            "Test set: Average loss: 0.0002, Accuracy: 9937/10000 (99.37%)\n",
            "\n",
            "\n",
            "EPOCH:  18 LR:  [0.010000000000000009]\n"
          ],
          "name": "stdout"
        },
        {
          "output_type": "stream",
          "text": [
            "Train set: batch_id=468  Average loss: 0.1600412279367447 Accuracy: 99.012: 100%|██████████| 469/469 [00:30<00:00, 15.15it/s]\n",
            "  0%|          | 0/469 [00:00<?, ?it/s]"
          ],
          "name": "stderr"
        },
        {
          "output_type": "stream",
          "text": [
            "\n",
            "Test set: Average loss: 0.0002, Accuracy: 9935/10000 (99.35%)\n",
            "\n",
            "\n",
            "EPOCH:  19 LR:  [0.010000000000000009]\n"
          ],
          "name": "stdout"
        },
        {
          "output_type": "stream",
          "text": [
            "Train set: batch_id=468  Average loss: 0.008424022234976292 Accuracy: 99.103: 100%|██████████| 469/469 [00:30<00:00, 15.16it/s]\n",
            "  0%|          | 0/469 [00:00<?, ?it/s]"
          ],
          "name": "stderr"
        },
        {
          "output_type": "stream",
          "text": [
            "Validation loss has  decreased from 0.0002 to 0.0002. Saving the model\n",
            "\n",
            "Test set: Average loss: 0.0002, Accuracy: 9938/10000 (99.38%)\n",
            "\n",
            "\n",
            "EPOCH:  20 LR:  [0.010000000000000009]\n"
          ],
          "name": "stdout"
        },
        {
          "output_type": "stream",
          "text": [
            "Train set: batch_id=468  Average loss: 0.04714178666472435 Accuracy: 99.07: 100%|██████████| 469/469 [00:31<00:00, 15.06it/s]\n"
          ],
          "name": "stderr"
        },
        {
          "output_type": "stream",
          "text": [
            "Validation loss has  decreased from 0.0002 to 0.0001. Saving the model\n",
            "\n",
            "Test set: Average loss: 0.0001, Accuracy: 9939/10000 (99.39%)\n",
            "\n"
          ],
          "name": "stdout"
        },
        {
          "output_type": "error",
          "ename": "IndexError",
          "evalue": "ignored",
          "traceback": [
            "\u001b[0;31m---------------------------------------------------------------------------\u001b[0m",
            "\u001b[0;31mIndexError\u001b[0m                                Traceback (most recent call last)",
            "\u001b[0;32m<ipython-input-6-e0dfebd82d04>\u001b[0m in \u001b[0;36m<module>\u001b[0;34m()\u001b[0m\n\u001b[1;32m     11\u001b[0m \u001b[0;34m\u001b[0m\u001b[0m\n\u001b[1;32m     12\u001b[0m \u001b[0;31m# Plot misclassified images\u001b[0m\u001b[0;34m\u001b[0m\u001b[0;34m\u001b[0m\u001b[0;34m\u001b[0m\u001b[0m\n\u001b[0;32m---> 13\u001b[0;31m \u001b[0mtrain_misc_images\u001b[0m \u001b[0;34m=\u001b[0m \u001b[0;34m[\u001b[0m\u001b[0mtrain_misc_img\u001b[0m\u001b[0;34m[\u001b[0m\u001b[0mi\u001b[0m\u001b[0;34m]\u001b[0m \u001b[0;32mfor\u001b[0m \u001b[0mi\u001b[0m \u001b[0;32min\u001b[0m \u001b[0mrange\u001b[0m\u001b[0;34m(\u001b[0m\u001b[0;36m30\u001b[0m\u001b[0;34m)\u001b[0m\u001b[0;34m]\u001b[0m\u001b[0;34m\u001b[0m\u001b[0;34m\u001b[0m\u001b[0m\n\u001b[0m\u001b[1;32m     14\u001b[0m \u001b[0mtest_misc_images\u001b[0m \u001b[0;34m=\u001b[0m \u001b[0;34m[\u001b[0m\u001b[0mtest_misc_img\u001b[0m\u001b[0;34m[\u001b[0m\u001b[0mi\u001b[0m\u001b[0;34m]\u001b[0m \u001b[0;32mfor\u001b[0m \u001b[0mi\u001b[0m \u001b[0;32min\u001b[0m \u001b[0mrange\u001b[0m\u001b[0;34m(\u001b[0m\u001b[0;36m20\u001b[0m\u001b[0;34m)\u001b[0m\u001b[0;34m]\u001b[0m\u001b[0;34m\u001b[0m\u001b[0;34m\u001b[0m\u001b[0m\n\u001b[1;32m     15\u001b[0m \u001b[0mprint\u001b[0m\u001b[0;34m(\u001b[0m\u001b[0mlen\u001b[0m\u001b[0;34m(\u001b[0m\u001b[0mtest_misc_img\u001b[0m\u001b[0;34m)\u001b[0m\u001b[0;34m,\u001b[0m \u001b[0mlen\u001b[0m\u001b[0;34m(\u001b[0m\u001b[0mtrain_misc_img\u001b[0m\u001b[0;34m)\u001b[0m\u001b[0;34m)\u001b[0m\u001b[0;34m\u001b[0m\u001b[0;34m\u001b[0m\u001b[0m\n",
            "\u001b[0;32m<ipython-input-6-e0dfebd82d04>\u001b[0m in \u001b[0;36m<listcomp>\u001b[0;34m(.0)\u001b[0m\n\u001b[1;32m     11\u001b[0m \u001b[0;34m\u001b[0m\u001b[0m\n\u001b[1;32m     12\u001b[0m \u001b[0;31m# Plot misclassified images\u001b[0m\u001b[0;34m\u001b[0m\u001b[0;34m\u001b[0m\u001b[0;34m\u001b[0m\u001b[0m\n\u001b[0;32m---> 13\u001b[0;31m \u001b[0mtrain_misc_images\u001b[0m \u001b[0;34m=\u001b[0m \u001b[0;34m[\u001b[0m\u001b[0mtrain_misc_img\u001b[0m\u001b[0;34m[\u001b[0m\u001b[0mi\u001b[0m\u001b[0;34m]\u001b[0m \u001b[0;32mfor\u001b[0m \u001b[0mi\u001b[0m \u001b[0;32min\u001b[0m \u001b[0mrange\u001b[0m\u001b[0;34m(\u001b[0m\u001b[0;36m30\u001b[0m\u001b[0;34m)\u001b[0m\u001b[0;34m]\u001b[0m\u001b[0;34m\u001b[0m\u001b[0;34m\u001b[0m\u001b[0m\n\u001b[0m\u001b[1;32m     14\u001b[0m \u001b[0mtest_misc_images\u001b[0m \u001b[0;34m=\u001b[0m \u001b[0;34m[\u001b[0m\u001b[0mtest_misc_img\u001b[0m\u001b[0;34m[\u001b[0m\u001b[0mi\u001b[0m\u001b[0;34m]\u001b[0m \u001b[0;32mfor\u001b[0m \u001b[0mi\u001b[0m \u001b[0;32min\u001b[0m \u001b[0mrange\u001b[0m\u001b[0;34m(\u001b[0m\u001b[0;36m20\u001b[0m\u001b[0;34m)\u001b[0m\u001b[0;34m]\u001b[0m\u001b[0;34m\u001b[0m\u001b[0;34m\u001b[0m\u001b[0m\n\u001b[1;32m     15\u001b[0m \u001b[0mprint\u001b[0m\u001b[0;34m(\u001b[0m\u001b[0mlen\u001b[0m\u001b[0;34m(\u001b[0m\u001b[0mtest_misc_img\u001b[0m\u001b[0;34m)\u001b[0m\u001b[0;34m,\u001b[0m \u001b[0mlen\u001b[0m\u001b[0;34m(\u001b[0m\u001b[0mtrain_misc_img\u001b[0m\u001b[0;34m)\u001b[0m\u001b[0;34m)\u001b[0m\u001b[0;34m\u001b[0m\u001b[0;34m\u001b[0m\u001b[0m\n",
            "\u001b[0;31mIndexError\u001b[0m: list index out of range"
          ]
        }
      ]
    },
    {
      "cell_type": "code",
      "metadata": {
        "colab": {
          "base_uri": "https://localhost:8080/",
          "height": 833
        },
        "id": "q7qaLVkegpU3",
        "outputId": "bfbf0771-320e-4202-8653-9a592feedaf2"
      },
      "source": [
        "\n",
        "test_misc_images = [test_misc_img[i] for i in range(20)]\n",
        "data_utils.plot_images(test_misc_images, 'test_misc_batchnorm.png')"
      ],
      "execution_count": 9,
      "outputs": [
        {
          "output_type": "display_data",
          "data": {
            "image/png": "[encoded data removed]",
            "text/plain": [
              "<Figure size 1080x1080 with 20 Axes>"
            ]
          },
          "metadata": {
            "tags": [],
            "needs_background": "light"
          }
        }
      ]
    },
    {
      "cell_type": "code",
      "metadata": {
        "id": "rxNw0X9lcz89"
      },
      "source": [
        "%tensorboard --logdir /content/runs"
      ],
      "execution_count": null,
      "outputs": []
    },
    {
      "cell_type": "code",
      "metadata": {
        "colab": {
          "base_uri": "https://localhost:8080/",
          "height": 1000
        },
        "id": "usBQ19ZfKxsE",
        "outputId": "8dd89da6-ccd0-4ccd-90e4-28422f3632ec"
      },
      "source": [
        "# NoFCNet2 - GroupNorm\n",
        "modelconfig.channel_norm = 'GroupNorm'\n",
        "model = NoFCNet2(modelconfig).to(modelconfig.device)\n",
        "summary(model, input_size=modelconfig.input_image_size)\n",
        "train_misc_img, test_misc_img, bn_model_results = fit(model=model, config=modelconfig)\n",
        "\n",
        "# store the model results\n",
        "groupnorm_results = modelconfig.model_results\n",
        "\n",
        "# Plot misclassified images\n",
        "test_misc_images = [test_misc_img[i] for i in range(20)]\n",
        "print(len(test_misc_img), len(train_misc_img))\n",
        "\n",
        "data_utils.plot_images(test_misc_images, 'test_misc_groupnorm.png')\n"
      ],
      "execution_count": 13,
      "outputs": [
        {
          "output_type": "stream",
          "text": [
            "\r  0%|          | 0/469 [00:00<?, ?it/s]"
          ],
          "name": "stderr"
        },
        {
          "output_type": "stream",
          "text": [
            "----------------------------------------------------------------\n",
            "        Layer (type)               Output Shape         Param #\n",
            "================================================================\n",
            "            Conv2d-1           [-1, 10, 28, 28]              90\n",
            "              ReLU-2           [-1, 10, 28, 28]               0\n",
            "         GroupNorm-3           [-1, 10, 28, 28]              20\n",
            "           Dropout-4           [-1, 10, 28, 28]               0\n",
            "            Conv2d-5           [-1, 16, 26, 26]           1,440\n",
            "              ReLU-6           [-1, 16, 26, 26]               0\n",
            "         GroupNorm-7           [-1, 16, 26, 26]              32\n",
            "           Dropout-8           [-1, 16, 26, 26]               0\n",
            "         MaxPool2d-9           [-1, 16, 13, 13]               0\n",
            "           Conv2d-10            [-1, 8, 13, 13]             128\n",
            "           Conv2d-11           [-1, 10, 11, 11]             720\n",
            "             ReLU-12           [-1, 10, 11, 11]               0\n",
            "        GroupNorm-13           [-1, 10, 11, 11]              20\n",
            "          Dropout-14           [-1, 10, 11, 11]               0\n",
            "           Conv2d-15             [-1, 12, 9, 9]           1,080\n",
            "             ReLU-16             [-1, 12, 9, 9]               0\n",
            "        GroupNorm-17             [-1, 12, 9, 9]              24\n",
            "          Dropout-18             [-1, 12, 9, 9]               0\n",
            "           Conv2d-19             [-1, 14, 7, 7]           1,512\n",
            "             ReLU-20             [-1, 14, 7, 7]               0\n",
            "        GroupNorm-21             [-1, 14, 7, 7]              28\n",
            "          Dropout-22             [-1, 14, 7, 7]               0\n",
            "           Conv2d-23             [-1, 16, 5, 5]           2,016\n",
            "             ReLU-24             [-1, 16, 5, 5]               0\n",
            "        GroupNorm-25             [-1, 16, 5, 5]              32\n",
            "          Dropout-26             [-1, 16, 5, 5]               0\n",
            "           Conv2d-27             [-1, 24, 5, 5]             408\n",
            "AdaptiveAvgPool2d-28             [-1, 24, 1, 1]               0\n",
            "           Conv2d-29             [-1, 10, 1, 1]             250\n",
            "================================================================\n",
            "Total params: 7,800\n",
            "Trainable params: 7,800\n",
            "Non-trainable params: 0\n",
            "----------------------------------------------------------------\n",
            "Input size (MB): 0.00\n",
            "Forward/backward pass size (MB): 0.70\n",
            "Params size (MB): 0.03\n",
            "Estimated Total Size (MB): 0.74\n",
            "----------------------------------------------------------------\n",
            "\n",
            "EPOCH:  1 LR:  [0.010000000000000009]\n"
          ],
          "name": "stdout"
        },
        {
          "output_type": "stream",
          "text": [
            "Train set: batch_id=468  Average loss: 0.10052701085805893 Accuracy: 85.205: 100%|██████████| 469/469 [00:32<00:00, 14.60it/s]\n",
            "  0%|          | 0/469 [00:00<?, ?it/s]"
          ],
          "name": "stderr"
        },
        {
          "output_type": "stream",
          "text": [
            "\n",
            "Test set: Average loss: 0.0005, Accuracy: 9795/10000 (97.95%)\n",
            "\n",
            "\n",
            "EPOCH:  2 LR:  [0.010000000000000009]\n"
          ],
          "name": "stdout"
        },
        {
          "output_type": "stream",
          "text": [
            "Train set: batch_id=468  Average loss: 0.0589509941637516 Accuracy: 97.567: 100%|██████████| 469/469 [00:32<00:00, 14.56it/s]\n",
            "  0%|          | 0/469 [00:00<?, ?it/s]"
          ],
          "name": "stderr"
        },
        {
          "output_type": "stream",
          "text": [
            "\n",
            "Test set: Average loss: 0.0004, Accuracy: 9825/10000 (98.25%)\n",
            "\n",
            "\n",
            "EPOCH:  3 LR:  [0.010000000000000009]\n"
          ],
          "name": "stdout"
        },
        {
          "output_type": "stream",
          "text": [
            "Train set: batch_id=468  Average loss: 0.08036071807146072 Accuracy: 97.873: 100%|██████████| 469/469 [00:32<00:00, 14.27it/s]\n",
            "  0%|          | 0/469 [00:00<?, ?it/s]"
          ],
          "name": "stderr"
        },
        {
          "output_type": "stream",
          "text": [
            "\n",
            "Test set: Average loss: 0.0003, Accuracy: 9873/10000 (98.73%)\n",
            "\n",
            "\n",
            "EPOCH:  4 LR:  [0.010000000000000009]\n"
          ],
          "name": "stdout"
        },
        {
          "output_type": "stream",
          "text": [
            "Train set: batch_id=468  Average loss: 0.08254372328519821 Accuracy: 98.208: 100%|██████████| 469/469 [00:31<00:00, 14.76it/s]\n",
            "  0%|          | 0/469 [00:00<?, ?it/s]"
          ],
          "name": "stderr"
        },
        {
          "output_type": "stream",
          "text": [
            "\n",
            "Test set: Average loss: 0.0003, Accuracy: 9888/10000 (98.88%)\n",
            "\n",
            "\n",
            "EPOCH:  5 LR:  [0.010000000000000009]\n"
          ],
          "name": "stdout"
        },
        {
          "output_type": "stream",
          "text": [
            "Train set: batch_id=468  Average loss: 0.0211679358035326 Accuracy: 98.408: 100%|██████████| 469/469 [00:31<00:00, 14.84it/s]\n",
            "  0%|          | 0/469 [00:00<?, ?it/s]"
          ],
          "name": "stderr"
        },
        {
          "output_type": "stream",
          "text": [
            "\n",
            "Test set: Average loss: 0.0004, Accuracy: 9848/10000 (98.48%)\n",
            "\n",
            "\n",
            "EPOCH:  6 LR:  [0.010000000000000009]\n"
          ],
          "name": "stdout"
        },
        {
          "output_type": "stream",
          "text": [
            "Train set: batch_id=468  Average loss: 0.08194776624441147 Accuracy: 98.602: 100%|██████████| 469/469 [00:31<00:00, 14.67it/s]\n",
            "  0%|          | 0/469 [00:00<?, ?it/s]"
          ],
          "name": "stderr"
        },
        {
          "output_type": "stream",
          "text": [
            "\n",
            "Test set: Average loss: 0.0003, Accuracy: 9890/10000 (98.90%)\n",
            "\n",
            "\n",
            "EPOCH:  7 LR:  [0.010000000000000009]\n"
          ],
          "name": "stdout"
        },
        {
          "output_type": "stream",
          "text": [
            "Train set: batch_id=468  Average loss: 0.02604673057794571 Accuracy: 98.705: 100%|██████████| 469/469 [00:31<00:00, 14.75it/s]\n",
            "  0%|          | 0/469 [00:00<?, ?it/s]"
          ],
          "name": "stderr"
        },
        {
          "output_type": "stream",
          "text": [
            "\n",
            "Test set: Average loss: 0.0003, Accuracy: 9910/10000 (99.10%)\n",
            "\n",
            "\n",
            "EPOCH:  8 LR:  [0.010000000000000009]\n"
          ],
          "name": "stdout"
        },
        {
          "output_type": "stream",
          "text": [
            "Train set: batch_id=468  Average loss: 0.06444258987903595 Accuracy: 98.7: 100%|██████████| 469/469 [00:31<00:00, 14.99it/s]\n",
            "  0%|          | 0/469 [00:00<?, ?it/s]"
          ],
          "name": "stderr"
        },
        {
          "output_type": "stream",
          "text": [
            "\n",
            "Test set: Average loss: 0.0003, Accuracy: 9888/10000 (98.88%)\n",
            "\n",
            "\n",
            "EPOCH:  9 LR:  [0.010000000000000009]\n"
          ],
          "name": "stdout"
        },
        {
          "output_type": "stream",
          "text": [
            "Train set: batch_id=468  Average loss: 0.03001604788005352 Accuracy: 98.752: 100%|██████████| 469/469 [00:31<00:00, 15.08it/s]\n",
            "  0%|          | 0/469 [00:00<?, ?it/s]"
          ],
          "name": "stderr"
        },
        {
          "output_type": "stream",
          "text": [
            "\n",
            "Test set: Average loss: 0.0003, Accuracy: 9907/10000 (99.07%)\n",
            "\n",
            "\n",
            "EPOCH:  10 LR:  [0.010000000000000009]\n"
          ],
          "name": "stdout"
        },
        {
          "output_type": "stream",
          "text": [
            "Train set: batch_id=468  Average loss: 0.024795932695269585 Accuracy: 98.77: 100%|██████████| 469/469 [00:30<00:00, 15.14it/s]\n",
            "  0%|          | 0/469 [00:00<?, ?it/s]"
          ],
          "name": "stderr"
        },
        {
          "output_type": "stream",
          "text": [
            "\n",
            "Test set: Average loss: 0.0002, Accuracy: 9915/10000 (99.15%)\n",
            "\n",
            "\n",
            "EPOCH:  11 LR:  [0.010000000000000009]\n"
          ],
          "name": "stdout"
        },
        {
          "output_type": "stream",
          "text": [
            "Train set: batch_id=468  Average loss: 0.06506583094596863 Accuracy: 98.865: 100%|██████████| 469/469 [00:31<00:00, 15.01it/s]\n",
            "  0%|          | 0/469 [00:00<?, ?it/s]"
          ],
          "name": "stderr"
        },
        {
          "output_type": "stream",
          "text": [
            "\n",
            "Test set: Average loss: 0.0002, Accuracy: 9924/10000 (99.24%)\n",
            "\n",
            "\n",
            "EPOCH:  12 LR:  [0.010000000000000009]\n"
          ],
          "name": "stdout"
        },
        {
          "output_type": "stream",
          "text": [
            "Train set: batch_id=468  Average loss: 0.031288620084524155 Accuracy: 98.917: 100%|██████████| 469/469 [00:30<00:00, 15.16it/s]\n",
            "  0%|          | 0/469 [00:00<?, ?it/s]"
          ],
          "name": "stderr"
        },
        {
          "output_type": "stream",
          "text": [
            "\n",
            "Test set: Average loss: 0.0002, Accuracy: 9913/10000 (99.13%)\n",
            "\n",
            "\n",
            "EPOCH:  13 LR:  [0.010000000000000009]\n"
          ],
          "name": "stdout"
        },
        {
          "output_type": "stream",
          "text": [
            "Train set: batch_id=468  Average loss: 0.041107308119535446 Accuracy: 98.918: 100%|██████████| 469/469 [00:31<00:00, 15.00it/s]\n",
            "  0%|          | 0/469 [00:00<?, ?it/s]"
          ],
          "name": "stderr"
        },
        {
          "output_type": "stream",
          "text": [
            "\n",
            "Test set: Average loss: 0.0002, Accuracy: 9895/10000 (98.95%)\n",
            "\n",
            "\n",
            "EPOCH:  14 LR:  [0.010000000000000009]\n"
          ],
          "name": "stdout"
        },
        {
          "output_type": "stream",
          "text": [
            "Train set: batch_id=468  Average loss: 0.10915469378232956 Accuracy: 98.897: 100%|██████████| 469/469 [00:31<00:00, 15.10it/s]\n",
            "  0%|          | 0/469 [00:00<?, ?it/s]"
          ],
          "name": "stderr"
        },
        {
          "output_type": "stream",
          "text": [
            "\n",
            "Test set: Average loss: 0.0002, Accuracy: 9917/10000 (99.17%)\n",
            "\n",
            "\n",
            "EPOCH:  15 LR:  [0.010000000000000009]\n"
          ],
          "name": "stdout"
        },
        {
          "output_type": "stream",
          "text": [
            "Train set: batch_id=468  Average loss: 0.005509674083441496 Accuracy: 98.968: 100%|██████████| 469/469 [00:30<00:00, 15.14it/s]\n",
            "  0%|          | 0/469 [00:00<?, ?it/s]"
          ],
          "name": "stderr"
        },
        {
          "output_type": "stream",
          "text": [
            "\n",
            "Test set: Average loss: 0.0002, Accuracy: 9930/10000 (99.30%)\n",
            "\n",
            "\n",
            "EPOCH:  16 LR:  [0.010000000000000009]\n"
          ],
          "name": "stdout"
        },
        {
          "output_type": "stream",
          "text": [
            "Train set: batch_id=468  Average loss: 0.006190065294504166 Accuracy: 99.045: 100%|██████████| 469/469 [00:31<00:00, 15.05it/s]\n",
            "  0%|          | 0/469 [00:00<?, ?it/s]"
          ],
          "name": "stderr"
        },
        {
          "output_type": "stream",
          "text": [
            "\n",
            "Test set: Average loss: 0.0002, Accuracy: 9916/10000 (99.16%)\n",
            "\n",
            "\n",
            "EPOCH:  17 LR:  [0.010000000000000009]\n"
          ],
          "name": "stdout"
        },
        {
          "output_type": "stream",
          "text": [
            "Train set: batch_id=468  Average loss: 0.031279537826776505 Accuracy: 99.053: 100%|██████████| 469/469 [00:30<00:00, 15.30it/s]\n",
            "  0%|          | 0/469 [00:00<?, ?it/s]"
          ],
          "name": "stderr"
        },
        {
          "output_type": "stream",
          "text": [
            "\n",
            "Test set: Average loss: 0.0002, Accuracy: 9931/10000 (99.31%)\n",
            "\n",
            "\n",
            "EPOCH:  18 LR:  [0.010000000000000009]\n"
          ],
          "name": "stdout"
        },
        {
          "output_type": "stream",
          "text": [
            "Train set: batch_id=468  Average loss: 0.024994289502501488 Accuracy: 99.152: 100%|██████████| 469/469 [00:31<00:00, 15.04it/s]\n",
            "  0%|          | 0/469 [00:00<?, ?it/s]"
          ],
          "name": "stderr"
        },
        {
          "output_type": "stream",
          "text": [
            "\n",
            "Test set: Average loss: 0.0002, Accuracy: 9918/10000 (99.18%)\n",
            "\n",
            "\n",
            "EPOCH:  19 LR:  [0.010000000000000009]\n"
          ],
          "name": "stdout"
        },
        {
          "output_type": "stream",
          "text": [
            "Train set: batch_id=468  Average loss: 0.010498639196157455 Accuracy: 99.085: 100%|██████████| 469/469 [00:31<00:00, 15.10it/s]\n",
            "  0%|          | 0/469 [00:00<?, ?it/s]"
          ],
          "name": "stderr"
        },
        {
          "output_type": "stream",
          "text": [
            "\n",
            "Test set: Average loss: 0.0002, Accuracy: 9937/10000 (99.37%)\n",
            "\n",
            "\n",
            "EPOCH:  20 LR:  [0.010000000000000009]\n"
          ],
          "name": "stdout"
        },
        {
          "output_type": "stream",
          "text": [
            "Train set: batch_id=468  Average loss: 0.03964925929903984 Accuracy: 99.065: 100%|██████████| 469/469 [00:30<00:00, 15.21it/s]\n"
          ],
          "name": "stderr"
        },
        {
          "output_type": "stream",
          "text": [
            "\n",
            "Test set: Average loss: 0.0002, Accuracy: 9930/10000 (99.30%)\n",
            "\n",
            "22 0\n"
          ],
          "name": "stdout"
        },
        {
          "output_type": "display_data",
          "data": {
            "image/png": "[encoded data removed]",
            "text/plain": [
              "<Figure size 1080x1080 with 20 Axes>"
            ]
          },
          "metadata": {
            "tags": [],
            "needs_background": "light"
          }
        }
      ]
    },
    {
      "cell_type": "code",
      "metadata": {
        "id": "riSS4Cf4c0z5"
      },
      "source": [
        "%tensorboard --logdir /content/runs"
      ],
      "execution_count": null,
      "outputs": []
    },
    {
      "cell_type": "code",
      "metadata": {
        "colab": {
          "base_uri": "https://localhost:8080/",
          "height": 1000
        },
        "id": "u0QbfUEmK1oL",
        "outputId": "85c2ce59-afea-45ad-9b71-578b5605049b"
      },
      "source": [
        "# NoFCNet2 - LayerNorm\n",
        "modelconfig.channel_norm = 'LayerNorm'\n",
        "model = NoFCNet2(modelconfig).to(modelconfig.device)\n",
        "summary(model, input_size=modelconfig.input_image_size)\n",
        "train_misc_img, test_misc_img, bn_model_results = fit(model=model, config=modelconfig)\n",
        "\n",
        "# store the model results\n",
        "layernorm_results = modelconfig.model_results\n"
      ],
      "execution_count": 14,
      "outputs": [
        {
          "output_type": "stream",
          "text": [
            "\r  0%|          | 0/469 [00:00<?, ?it/s]"
          ],
          "name": "stderr"
        },
        {
          "output_type": "stream",
          "text": [
            "----------------------------------------------------------------\n",
            "        Layer (type)               Output Shape         Param #\n",
            "================================================================\n",
            "            Conv2d-1           [-1, 10, 28, 28]              90\n",
            "              ReLU-2           [-1, 10, 28, 28]               0\n",
            "         GroupNorm-3           [-1, 10, 28, 28]              20\n",
            "           Dropout-4           [-1, 10, 28, 28]               0\n",
            "            Conv2d-5           [-1, 16, 26, 26]           1,440\n",
            "              ReLU-6           [-1, 16, 26, 26]               0\n",
            "         GroupNorm-7           [-1, 16, 26, 26]              32\n",
            "           Dropout-8           [-1, 16, 26, 26]               0\n",
            "         MaxPool2d-9           [-1, 16, 13, 13]               0\n",
            "           Conv2d-10            [-1, 8, 13, 13]             128\n",
            "           Conv2d-11           [-1, 10, 11, 11]             720\n",
            "             ReLU-12           [-1, 10, 11, 11]               0\n",
            "        GroupNorm-13           [-1, 10, 11, 11]              20\n",
            "          Dropout-14           [-1, 10, 11, 11]               0\n",
            "           Conv2d-15             [-1, 12, 9, 9]           1,080\n",
            "             ReLU-16             [-1, 12, 9, 9]               0\n",
            "        GroupNorm-17             [-1, 12, 9, 9]              24\n",
            "          Dropout-18             [-1, 12, 9, 9]               0\n",
            "           Conv2d-19             [-1, 14, 7, 7]           1,512\n",
            "             ReLU-20             [-1, 14, 7, 7]               0\n",
            "        GroupNorm-21             [-1, 14, 7, 7]              28\n",
            "          Dropout-22             [-1, 14, 7, 7]               0\n",
            "           Conv2d-23             [-1, 16, 5, 5]           2,016\n",
            "             ReLU-24             [-1, 16, 5, 5]               0\n",
            "        GroupNorm-25             [-1, 16, 5, 5]              32\n",
            "          Dropout-26             [-1, 16, 5, 5]               0\n",
            "           Conv2d-27             [-1, 24, 5, 5]             408\n",
            "AdaptiveAvgPool2d-28             [-1, 24, 1, 1]               0\n",
            "           Conv2d-29             [-1, 10, 1, 1]             250\n",
            "================================================================\n",
            "Total params: 7,800\n",
            "Trainable params: 7,800\n",
            "Non-trainable params: 0\n",
            "----------------------------------------------------------------\n",
            "Input size (MB): 0.00\n",
            "Forward/backward pass size (MB): 0.70\n",
            "Params size (MB): 0.03\n",
            "Estimated Total Size (MB): 0.74\n",
            "----------------------------------------------------------------\n",
            "\n",
            "EPOCH:  1 LR:  [0.010000000000000009]\n"
          ],
          "name": "stdout"
        },
        {
          "output_type": "stream",
          "text": [
            "Train set: batch_id=468  Average loss: 0.18859946727752686 Accuracy: 85.842: 100%|██████████| 469/469 [00:31<00:00, 15.12it/s]\n",
            "  0%|          | 0/469 [00:00<?, ?it/s]"
          ],
          "name": "stderr"
        },
        {
          "output_type": "stream",
          "text": [
            "\n",
            "Test set: Average loss: 0.0005, Accuracy: 9776/10000 (97.76%)\n",
            "\n",
            "\n",
            "EPOCH:  2 LR:  [0.010000000000000009]\n"
          ],
          "name": "stdout"
        },
        {
          "output_type": "stream",
          "text": [
            "Train set: batch_id=468  Average loss: 0.1087891235947609 Accuracy: 97.6: 100%|██████████| 469/469 [00:30<00:00, 15.24it/s]\n",
            "  0%|          | 0/469 [00:00<?, ?it/s]"
          ],
          "name": "stderr"
        },
        {
          "output_type": "stream",
          "text": [
            "\n",
            "Test set: Average loss: 0.0004, Accuracy: 9830/10000 (98.30%)\n",
            "\n",
            "\n",
            "EPOCH:  3 LR:  [0.010000000000000009]\n"
          ],
          "name": "stdout"
        },
        {
          "output_type": "stream",
          "text": [
            "Train set: batch_id=468  Average loss: 0.09957330673933029 Accuracy: 98.087: 100%|██████████| 469/469 [00:30<00:00, 15.15it/s]\n",
            "  0%|          | 0/469 [00:00<?, ?it/s]"
          ],
          "name": "stderr"
        },
        {
          "output_type": "stream",
          "text": [
            "\n",
            "Test set: Average loss: 0.0004, Accuracy: 9838/10000 (98.38%)\n",
            "\n",
            "\n",
            "EPOCH:  4 LR:  [0.010000000000000009]\n"
          ],
          "name": "stdout"
        },
        {
          "output_type": "stream",
          "text": [
            "Train set: batch_id=468  Average loss: 0.07870087027549744 Accuracy: 98.338: 100%|██████████| 469/469 [00:30<00:00, 15.28it/s]\n",
            "  0%|          | 0/469 [00:00<?, ?it/s]"
          ],
          "name": "stderr"
        },
        {
          "output_type": "stream",
          "text": [
            "\n",
            "Test set: Average loss: 0.0003, Accuracy: 9877/10000 (98.77%)\n",
            "\n",
            "\n",
            "EPOCH:  5 LR:  [0.010000000000000009]\n"
          ],
          "name": "stdout"
        },
        {
          "output_type": "stream",
          "text": [
            "Train set: batch_id=468  Average loss: 0.27648022770881653 Accuracy: 98.567: 100%|██████████| 469/469 [00:30<00:00, 15.24it/s]\n",
            "  0%|          | 0/469 [00:00<?, ?it/s]"
          ],
          "name": "stderr"
        },
        {
          "output_type": "stream",
          "text": [
            "\n",
            "Test set: Average loss: 0.0002, Accuracy: 9914/10000 (99.14%)\n",
            "\n",
            "\n",
            "EPOCH:  6 LR:  [0.010000000000000009]\n"
          ],
          "name": "stdout"
        },
        {
          "output_type": "stream",
          "text": [
            "Train set: batch_id=468  Average loss: 0.002438618801534176 Accuracy: 98.668: 100%|██████████| 469/469 [00:31<00:00, 14.66it/s]\n",
            "  0%|          | 0/469 [00:00<?, ?it/s]"
          ],
          "name": "stderr"
        },
        {
          "output_type": "stream",
          "text": [
            "\n",
            "Test set: Average loss: 0.0002, Accuracy: 9901/10000 (99.01%)\n",
            "\n",
            "\n",
            "EPOCH:  7 LR:  [0.010000000000000009]\n"
          ],
          "name": "stdout"
        },
        {
          "output_type": "stream",
          "text": [
            "Train set: batch_id=468  Average loss: 0.10619664937257767 Accuracy: 98.675: 100%|██████████| 469/469 [00:33<00:00, 14.18it/s]\n",
            "  0%|          | 0/469 [00:00<?, ?it/s]"
          ],
          "name": "stderr"
        },
        {
          "output_type": "stream",
          "text": [
            "\n",
            "Test set: Average loss: 0.0002, Accuracy: 9908/10000 (99.08%)\n",
            "\n",
            "\n",
            "EPOCH:  8 LR:  [0.010000000000000009]\n"
          ],
          "name": "stdout"
        },
        {
          "output_type": "stream",
          "text": [
            "Train set: batch_id=468  Average loss: 0.052728310227394104 Accuracy: 98.772: 100%|██████████| 469/469 [00:31<00:00, 14.86it/s]\n",
            "  0%|          | 0/469 [00:00<?, ?it/s]"
          ],
          "name": "stderr"
        },
        {
          "output_type": "stream",
          "text": [
            "\n",
            "Test set: Average loss: 0.0002, Accuracy: 9923/10000 (99.23%)\n",
            "\n",
            "\n",
            "EPOCH:  9 LR:  [0.010000000000000009]\n"
          ],
          "name": "stdout"
        },
        {
          "output_type": "stream",
          "text": [
            "Train set: batch_id=468  Average loss: 0.04387379810214043 Accuracy: 98.787: 100%|██████████| 469/469 [00:31<00:00, 14.77it/s]\n",
            "  0%|          | 0/469 [00:00<?, ?it/s]"
          ],
          "name": "stderr"
        },
        {
          "output_type": "stream",
          "text": [
            "\n",
            "Test set: Average loss: 0.0003, Accuracy: 9882/10000 (98.82%)\n",
            "\n",
            "\n",
            "EPOCH:  10 LR:  [0.010000000000000009]\n"
          ],
          "name": "stdout"
        },
        {
          "output_type": "stream",
          "text": [
            "Train set: batch_id=468  Average loss: 0.04796304926276207 Accuracy: 98.913: 100%|██████████| 469/469 [00:32<00:00, 14.37it/s]\n",
            "  0%|          | 0/469 [00:00<?, ?it/s]"
          ],
          "name": "stderr"
        },
        {
          "output_type": "stream",
          "text": [
            "\n",
            "Test set: Average loss: 0.0002, Accuracy: 9913/10000 (99.13%)\n",
            "\n",
            "\n",
            "EPOCH:  11 LR:  [0.010000000000000009]\n"
          ],
          "name": "stdout"
        },
        {
          "output_type": "stream",
          "text": [
            "Train set: batch_id=468  Average loss: 0.012597435154020786 Accuracy: 98.905: 100%|██████████| 469/469 [00:31<00:00, 15.12it/s]\n",
            "  0%|          | 0/469 [00:00<?, ?it/s]"
          ],
          "name": "stderr"
        },
        {
          "output_type": "stream",
          "text": [
            "\n",
            "Test set: Average loss: 0.0002, Accuracy: 9933/10000 (99.33%)\n",
            "\n",
            "\n",
            "EPOCH:  12 LR:  [0.010000000000000009]\n"
          ],
          "name": "stdout"
        },
        {
          "output_type": "stream",
          "text": [
            "Train set: batch_id=468  Average loss: 0.02342708222568035 Accuracy: 98.993: 100%|██████████| 469/469 [00:31<00:00, 15.03it/s]\n",
            "  0%|          | 0/469 [00:00<?, ?it/s]"
          ],
          "name": "stderr"
        },
        {
          "output_type": "stream",
          "text": [
            "\n",
            "Test set: Average loss: 0.0003, Accuracy: 9893/10000 (98.93%)\n",
            "\n",
            "\n",
            "EPOCH:  13 LR:  [0.010000000000000009]\n"
          ],
          "name": "stdout"
        },
        {
          "output_type": "stream",
          "text": [
            "Train set: batch_id=468  Average loss: 0.006627917755395174 Accuracy: 98.983: 100%|██████████| 469/469 [00:31<00:00, 15.03it/s]\n",
            "  0%|          | 0/469 [00:00<?, ?it/s]"
          ],
          "name": "stderr"
        },
        {
          "output_type": "stream",
          "text": [
            "\n",
            "Test set: Average loss: 0.0003, Accuracy: 9868/10000 (98.68%)\n",
            "\n",
            "\n",
            "EPOCH:  14 LR:  [0.010000000000000009]\n"
          ],
          "name": "stdout"
        },
        {
          "output_type": "stream",
          "text": [
            "Train set: batch_id=468  Average loss: 0.03721485286951065 Accuracy: 98.997: 100%|██████████| 469/469 [00:31<00:00, 14.93it/s]\n",
            "  0%|          | 0/469 [00:00<?, ?it/s]"
          ],
          "name": "stderr"
        },
        {
          "output_type": "stream",
          "text": [
            "\n",
            "Test set: Average loss: 0.0002, Accuracy: 9929/10000 (99.29%)\n",
            "\n",
            "\n",
            "EPOCH:  15 LR:  [0.010000000000000009]\n"
          ],
          "name": "stdout"
        },
        {
          "output_type": "stream",
          "text": [
            "Train set: batch_id=468  Average loss: 0.04237450659275055 Accuracy: 99.092: 100%|██████████| 469/469 [00:31<00:00, 14.86it/s]\n",
            "  0%|          | 0/469 [00:00<?, ?it/s]"
          ],
          "name": "stderr"
        },
        {
          "output_type": "stream",
          "text": [
            "\n",
            "Test set: Average loss: 0.0002, Accuracy: 9934/10000 (99.34%)\n",
            "\n",
            "\n",
            "EPOCH:  16 LR:  [0.010000000000000009]\n"
          ],
          "name": "stdout"
        },
        {
          "output_type": "stream",
          "text": [
            "Train set: batch_id=468  Average loss: 0.00617707846686244 Accuracy: 99.092: 100%|██████████| 469/469 [00:31<00:00, 14.80it/s]\n",
            "  0%|          | 0/469 [00:00<?, ?it/s]"
          ],
          "name": "stderr"
        },
        {
          "output_type": "stream",
          "text": [
            "\n",
            "Test set: Average loss: 0.0002, Accuracy: 9917/10000 (99.17%)\n",
            "\n",
            "\n",
            "EPOCH:  17 LR:  [0.010000000000000009]\n"
          ],
          "name": "stdout"
        },
        {
          "output_type": "stream",
          "text": [
            "Train set: batch_id=468  Average loss: 0.06343469768762589 Accuracy: 99.09: 100%|██████████| 469/469 [00:31<00:00, 14.72it/s]\n",
            "  0%|          | 0/469 [00:00<?, ?it/s]"
          ],
          "name": "stderr"
        },
        {
          "output_type": "stream",
          "text": [
            "\n",
            "Test set: Average loss: 0.0002, Accuracy: 9919/10000 (99.19%)\n",
            "\n",
            "\n",
            "EPOCH:  18 LR:  [0.010000000000000009]\n"
          ],
          "name": "stdout"
        },
        {
          "output_type": "stream",
          "text": [
            "Train set: batch_id=468  Average loss: 0.041070323437452316 Accuracy: 98.997: 100%|██████████| 469/469 [00:30<00:00, 15.16it/s]\n",
            "  0%|          | 0/469 [00:00<?, ?it/s]"
          ],
          "name": "stderr"
        },
        {
          "output_type": "stream",
          "text": [
            "\n",
            "Test set: Average loss: 0.0002, Accuracy: 9928/10000 (99.28%)\n",
            "\n",
            "\n",
            "EPOCH:  19 LR:  [0.010000000000000009]\n"
          ],
          "name": "stdout"
        },
        {
          "output_type": "stream",
          "text": [
            "Train set: batch_id=468  Average loss: 0.07793143391609192 Accuracy: 99.175: 100%|██████████| 469/469 [00:30<00:00, 15.34it/s]\n",
            "  0%|          | 0/469 [00:00<?, ?it/s]"
          ],
          "name": "stderr"
        },
        {
          "output_type": "stream",
          "text": [
            "\n",
            "Test set: Average loss: 0.0002, Accuracy: 9932/10000 (99.32%)\n",
            "\n",
            "\n",
            "EPOCH:  20 LR:  [0.010000000000000009]\n"
          ],
          "name": "stdout"
        },
        {
          "output_type": "stream",
          "text": [
            "Train set: batch_id=468  Average loss: 0.009048010222613811 Accuracy: 99.168: 100%|██████████| 469/469 [00:30<00:00, 15.21it/s]\n"
          ],
          "name": "stderr"
        },
        {
          "output_type": "stream",
          "text": [
            "\n",
            "Test set: Average loss: 0.0002, Accuracy: 9933/10000 (99.33%)\n",
            "\n"
          ],
          "name": "stdout"
        },
        {
          "output_type": "error",
          "ename": "IndexError",
          "evalue": "ignored",
          "traceback": [
            "\u001b[0;31m---------------------------------------------------------------------------\u001b[0m",
            "\u001b[0;31mIndexError\u001b[0m                                Traceback (most recent call last)",
            "\u001b[0;32m<ipython-input-14-d95107cb5926>\u001b[0m in \u001b[0;36m<module>\u001b[0;34m()\u001b[0m\n\u001b[1;32m      9\u001b[0m \u001b[0;34m\u001b[0m\u001b[0m\n\u001b[1;32m     10\u001b[0m \u001b[0;31m# Plot misclassified images\u001b[0m\u001b[0;34m\u001b[0m\u001b[0;34m\u001b[0m\u001b[0;34m\u001b[0m\u001b[0m\n\u001b[0;32m---> 11\u001b[0;31m \u001b[0mtrain_misc_images\u001b[0m \u001b[0;34m=\u001b[0m \u001b[0;34m[\u001b[0m\u001b[0mtrain_misc_img\u001b[0m\u001b[0;34m[\u001b[0m\u001b[0mi\u001b[0m\u001b[0;34m]\u001b[0m \u001b[0;32mfor\u001b[0m \u001b[0mi\u001b[0m \u001b[0;32min\u001b[0m \u001b[0mrange\u001b[0m\u001b[0;34m(\u001b[0m\u001b[0;36m30\u001b[0m\u001b[0;34m)\u001b[0m\u001b[0;34m]\u001b[0m\u001b[0;34m\u001b[0m\u001b[0;34m\u001b[0m\u001b[0m\n\u001b[0m\u001b[1;32m     12\u001b[0m \u001b[0mtest_misc_images\u001b[0m \u001b[0;34m=\u001b[0m \u001b[0;34m[\u001b[0m\u001b[0mtest_misc_img\u001b[0m\u001b[0;34m[\u001b[0m\u001b[0mi\u001b[0m\u001b[0;34m]\u001b[0m \u001b[0;32mfor\u001b[0m \u001b[0mi\u001b[0m \u001b[0;32min\u001b[0m \u001b[0mrange\u001b[0m\u001b[0;34m(\u001b[0m\u001b[0;36m20\u001b[0m\u001b[0;34m)\u001b[0m\u001b[0;34m]\u001b[0m\u001b[0;34m\u001b[0m\u001b[0;34m\u001b[0m\u001b[0m\n\u001b[1;32m     13\u001b[0m \u001b[0mprint\u001b[0m\u001b[0;34m(\u001b[0m\u001b[0mlen\u001b[0m\u001b[0;34m(\u001b[0m\u001b[0mtest_misc_img\u001b[0m\u001b[0;34m)\u001b[0m\u001b[0;34m,\u001b[0m \u001b[0mlen\u001b[0m\u001b[0;34m(\u001b[0m\u001b[0mtrain_misc_img\u001b[0m\u001b[0;34m)\u001b[0m\u001b[0;34m)\u001b[0m\u001b[0;34m\u001b[0m\u001b[0;34m\u001b[0m\u001b[0m\n",
            "\u001b[0;32m<ipython-input-14-d95107cb5926>\u001b[0m in \u001b[0;36m<listcomp>\u001b[0;34m(.0)\u001b[0m\n\u001b[1;32m      9\u001b[0m \u001b[0;34m\u001b[0m\u001b[0m\n\u001b[1;32m     10\u001b[0m \u001b[0;31m# Plot misclassified images\u001b[0m\u001b[0;34m\u001b[0m\u001b[0;34m\u001b[0m\u001b[0;34m\u001b[0m\u001b[0m\n\u001b[0;32m---> 11\u001b[0;31m \u001b[0mtrain_misc_images\u001b[0m \u001b[0;34m=\u001b[0m \u001b[0;34m[\u001b[0m\u001b[0mtrain_misc_img\u001b[0m\u001b[0;34m[\u001b[0m\u001b[0mi\u001b[0m\u001b[0;34m]\u001b[0m \u001b[0;32mfor\u001b[0m \u001b[0mi\u001b[0m \u001b[0;32min\u001b[0m \u001b[0mrange\u001b[0m\u001b[0;34m(\u001b[0m\u001b[0;36m30\u001b[0m\u001b[0;34m)\u001b[0m\u001b[0;34m]\u001b[0m\u001b[0;34m\u001b[0m\u001b[0;34m\u001b[0m\u001b[0m\n\u001b[0m\u001b[1;32m     12\u001b[0m \u001b[0mtest_misc_images\u001b[0m \u001b[0;34m=\u001b[0m \u001b[0;34m[\u001b[0m\u001b[0mtest_misc_img\u001b[0m\u001b[0;34m[\u001b[0m\u001b[0mi\u001b[0m\u001b[0;34m]\u001b[0m \u001b[0;32mfor\u001b[0m \u001b[0mi\u001b[0m \u001b[0;32min\u001b[0m \u001b[0mrange\u001b[0m\u001b[0;34m(\u001b[0m\u001b[0;36m20\u001b[0m\u001b[0;34m)\u001b[0m\u001b[0;34m]\u001b[0m\u001b[0;34m\u001b[0m\u001b[0;34m\u001b[0m\u001b[0m\n\u001b[1;32m     13\u001b[0m \u001b[0mprint\u001b[0m\u001b[0;34m(\u001b[0m\u001b[0mlen\u001b[0m\u001b[0;34m(\u001b[0m\u001b[0mtest_misc_img\u001b[0m\u001b[0;34m)\u001b[0m\u001b[0;34m,\u001b[0m \u001b[0mlen\u001b[0m\u001b[0;34m(\u001b[0m\u001b[0mtrain_misc_img\u001b[0m\u001b[0;34m)\u001b[0m\u001b[0;34m)\u001b[0m\u001b[0;34m\u001b[0m\u001b[0;34m\u001b[0m\u001b[0m\n",
            "\u001b[0;31mIndexError\u001b[0m: list index out of range"
          ]
        }
      ]
    },
    {
      "cell_type": "code",
      "metadata": {
        "colab": {
          "base_uri": "https://localhost:8080/",
          "height": 851
        },
        "id": "T9XabSednzEP",
        "outputId": "b12b62a5-bd5c-49ff-d0e8-3ee10e49f93f"
      },
      "source": [
        "\n",
        "# Plot misclassified images\n",
        "test_misc_images = [test_misc_img[i] for i in range(20)]\n",
        "print(len(test_misc_img), len(train_misc_img))\n",
        "\n",
        "data_utils.plot_images(test_misc_images, 'test_misc_layernorm.png')\n"
      ],
      "execution_count": 16,
      "outputs": [
        {
          "output_type": "stream",
          "text": [
            "23 0\n"
          ],
          "name": "stdout"
        },
        {
          "output_type": "display_data",
          "data": {
            "image/png": "[encoded data removed]",
            "text/plain": [
              "<Figure size 1080x1080 with 20 Axes>"
            ]
          },
          "metadata": {
            "tags": [],
            "needs_background": "light"
          }
        }
      ]
    },
    {
      "cell_type": "code",
      "metadata": {
        "id": "QvahnuJKpEqw"
      },
      "source": [
        "_results = batchnorm_results\n",
        "testacc = batchnorm_results['TestAccuracy']\n",
        "trainacc = batchnorm_results['TrainAccuracy']\n",
        "testloss = batchnorm_results['TestLoss']\n",
        "trainloss = batchnorm_results['TrainLoss']"
      ],
      "execution_count": 42,
      "outputs": []
    },
    {
      "cell_type": "code",
      "metadata": {
        "id": "4w12SSg7pRFn"
      },
      "source": [
        "plot_details_dict = {'Test Accuracy(%)': 'Validation Accuracy across Batch, Group & Layer Normalized Models',\n",
        "                     'Train Accuracy(%)': 'Train Accuracy across Batch, Group & Layer Normalized Models',\n",
        "                     'Test Loss(%)': 'Validation Loss across Batch, Group & Layer Normalized Models',\n",
        "                     'Train Loss(%)': 'Train Loss across Batch, Group & Layer Normalized Models'}\n",
        "\n",
        "\n",
        "def plot_curve(data, y_label):\n",
        "  # Plotting both the curves simultaneously\n",
        "  with plt.style.context('dark_background'):# fivethirtyeight\n",
        "    plt.plot(data[0:20], color='r', label='BatchNorm')\n",
        "    plt.plot(data[21:40], color='g', label='GroupNorm')\n",
        "    plt.plot(data[41:61], color='y', label='LayerNorm')\n",
        "      \n",
        "    # Naming the x-axis, y-axis and the whole graph\n",
        "    plt.xlabel(\"Epochs\")\n",
        "    plt.ylabel(y_label)\n",
        "    plt.title(plot_details_dict[y_label])\n",
        "      \n",
        "    # Adding legend, which helps us recognize the curve according to it's color\n",
        "    plt.legend()\n",
        "  "
      ],
      "execution_count": 55,
      "outputs": []
    },
    {
      "cell_type": "code",
      "metadata": {
        "colab": {
          "base_uri": "https://localhost:8080/",
          "height": 294
        },
        "id": "W099HBdYp73S",
        "outputId": "80865c46-ae75-4327-e325-e9678831fa6b"
      },
      "source": [
        "plot_curve(testacc, \"Test Accuracy(%)\")"
      ],
      "execution_count": 56,
      "outputs": [
        {
          "output_type": "display_data",
          "data": {
            "image/png": "[encoded data removed]",
            "text/plain": [
              "<Figure size 432x288 with 1 Axes>"
            ]
          },
          "metadata": {
            "tags": []
          }
        }
      ]
    },
    {
      "cell_type": "code",
      "metadata": {
        "colab": {
          "base_uri": "https://localhost:8080/",
          "height": 294
        },
        "id": "IQtAIrBbtsBv",
        "outputId": "2a61eeb3-e23d-44cc-b593-a527a5e70f33"
      },
      "source": [
        "plot_curve(trainacc, \"Train Accuracy(%)\")"
      ],
      "execution_count": 57,
      "outputs": [
        {
          "output_type": "display_data",
          "data": {
            "image/png": "[encoded data removed]",
            "text/plain": [
              "<Figure size 432x288 with 1 Axes>"
            ]
          },
          "metadata": {
            "tags": []
          }
        }
      ]
    },
    {
      "cell_type": "code",
      "metadata": {
        "colab": {
          "base_uri": "https://localhost:8080/",
          "height": 294
        },
        "id": "sirlLArctr3X",
        "outputId": "c7ebeff1-7258-415a-cddc-5a4e2d66d872"
      },
      "source": [
        "plot_curve(trainloss, \"Train Loss(%)\")"
      ],
      "execution_count": 58,
      "outputs": [
        {
          "output_type": "display_data",
          "data": {
            "image/png": "[encoded data removed]",
            "text/plain": [
              "<Figure size 432x288 with 1 Axes>"
            ]
          },
          "metadata": {
            "tags": []
          }
        }
      ]
    },
    {
      "cell_type": "code",
      "metadata": {
        "colab": {
          "base_uri": "https://localhost:8080/",
          "height": 294
        },
        "id": "FU1pm3Jqtkil",
        "outputId": "954b327c-7fb2-4587-87bf-344c4e362ae0"
      },
      "source": [
        "plot_curve(testloss, \"Test Loss(%)\")"
      ],
      "execution_count": 59,
      "outputs": [
        {
          "output_type": "display_data",
          "data": {
            "image/png": "[encoded data removed]",
            "text/plain": [
              "<Figure size 432x288 with 1 Axes>"
            ]
          },
          "metadata": {
            "tags": []
          }
        }
      ]
    },
    {
      "cell_type": "code",
      "metadata": {
        "id": "uLDkPBvGt1wf"
      },
      "source": [
        ""
      ],
      "execution_count": null,
      "outputs": []
    }
  ]
}