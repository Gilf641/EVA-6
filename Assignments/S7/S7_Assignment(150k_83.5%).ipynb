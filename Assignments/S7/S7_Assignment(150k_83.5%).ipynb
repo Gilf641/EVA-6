{
  "nbformat": 4,
  "nbformat_minor": 0,
  "metadata": {
    "kernelspec": {
      "name": "python3",
      "display_name": "Python 3"
    },
    "language_info": {
      "codemirror_mode": {
        "name": "ipython",
        "version": 3
      },
      "file_extension": ".py",
      "mimetype": "text/x-python",
      "name": "python",
      "nbconvert_exporter": "python",
      "pygments_lexer": "ipython3",
      "version": "3.6.6"
    },
    "colab": {
      "name": "S7-Assignment.ipynb",
      "provenance": [],
      "collapsed_sections": []
    },
    "accelerator": "GPU"
  },
  "cells": [
    {
      "cell_type": "code",
      "metadata": {
        "colab": {
          "base_uri": "https://localhost:8080/"
        },
        "id": "fsxEsLqQDNNm",
        "outputId": "533abfd0-6310-4702-f922-21bea920702f"
      },
      "source": [
        "!nvidia-smi"
      ],
      "execution_count": 1,
      "outputs": [
        {
          "output_type": "stream",
          "text": [
            "Thu Jun 24 01:16:19 2021       \n",
            "+-----------------------------------------------------------------------------+\n",
            "| NVIDIA-SMI 465.27       Driver Version: 460.32.03    CUDA Version: 11.2     |\n",
            "|-------------------------------+----------------------+----------------------+\n",
            "| GPU  Name        Persistence-M| Bus-Id        Disp.A | Volatile Uncorr. ECC |\n",
            "| Fan  Temp  Perf  Pwr:Usage/Cap|         Memory-Usage | GPU-Util  Compute M. |\n",
            "|                               |                      |               MIG M. |\n",
            "|===============================+======================+======================|\n",
            "|   0  Tesla T4            Off  | 00000000:00:04.0 Off |                    0 |\n",
            "| N/A   67C    P8    11W /  70W |      0MiB / 15109MiB |      0%      Default |\n",
            "|                               |                      |                  N/A |\n",
            "+-------------------------------+----------------------+----------------------+\n",
            "                                                                               \n",
            "+-----------------------------------------------------------------------------+\n",
            "| Processes:                                                                  |\n",
            "|  GPU   GI   CI        PID   Type   Process name                  GPU Memory |\n",
            "|        ID   ID                                                   Usage      |\n",
            "|=============================================================================|\n",
            "|  No running processes found                                                 |\n",
            "+-----------------------------------------------------------------------------+\n"
          ],
          "name": "stdout"
        }
      ]
    },
    {
      "cell_type": "code",
      "metadata": {
        "colab": {
          "base_uri": "https://localhost:8080/"
        },
        "id": "LfQ7zahiDRD3",
        "outputId": "38cd4540-a3ab-42f7-e325-ffde6b211f71"
      },
      "source": [
        "import sys\n",
        "from google.colab import drive\n",
        "\n",
        "drive.mount('/content/gdrive', force_remount=True)\n",
        "sys.path.append('/content/gdrive/MyDrive')\n",
        "\n",
        "%reload_ext tensorboard\n"
      ],
      "execution_count": 1,
      "outputs": [
        {
          "output_type": "stream",
          "text": [
            "Mounted at /content/gdrive\n"
          ],
          "name": "stdout"
        }
      ]
    },
    {
      "cell_type": "code",
      "metadata": {
        "colab": {
          "base_uri": "https://localhost:8080/"
        },
        "id": "dpO40ss4nWLe",
        "outputId": "a2e7fa0e-e4d7-4f93-b4eb-9dd268f9cd87"
      },
      "source": [
        "!pip install -U albumentations>=0.3.0 --user\n",
        "!pip install --upgrade git+https://github.com/albumentations-team/albumentations\n",
        "\n",
        "\n",
        "import albumentations as A"
      ],
      "execution_count": 2,
      "outputs": [
        {
          "output_type": "stream",
          "text": [
            "Collecting git+https://github.com/albumentations-team/albumentations\n",
            "  Cloning https://github.com/albumentations-team/albumentations to /tmp/pip-req-build-78ihauek\n",
            "  Running command git clone -q https://github.com/albumentations-team/albumentations /tmp/pip-req-build-78ihauek\n",
            "Requirement already satisfied, skipping upgrade: numpy>=1.11.1 in /usr/local/lib/python3.7/dist-packages (from albumentations==1.0.0) (1.19.5)\n",
            "Requirement already satisfied, skipping upgrade: scipy in /usr/local/lib/python3.7/dist-packages (from albumentations==1.0.0) (1.4.1)\n",
            "Requirement already satisfied, skipping upgrade: scikit-image>=0.16.1 in /usr/local/lib/python3.7/dist-packages (from albumentations==1.0.0) (0.16.2)\n",
            "Requirement already satisfied, skipping upgrade: PyYAML in /usr/local/lib/python3.7/dist-packages (from albumentations==1.0.0) (3.13)\n",
            "Requirement already satisfied, skipping upgrade: opencv-python>=4.1.1 in /usr/local/lib/python3.7/dist-packages (from albumentations==1.0.0) (4.1.2.30)\n",
            "Requirement already satisfied, skipping upgrade: pillow>=4.3.0 in /usr/local/lib/python3.7/dist-packages (from scikit-image>=0.16.1->albumentations==1.0.0) (7.1.2)\n",
            "Requirement already satisfied, skipping upgrade: matplotlib!=3.0.0,>=2.0.0 in /usr/local/lib/python3.7/dist-packages (from scikit-image>=0.16.1->albumentations==1.0.0) (3.2.2)\n",
            "Requirement already satisfied, skipping upgrade: PyWavelets>=0.4.0 in /usr/local/lib/python3.7/dist-packages (from scikit-image>=0.16.1->albumentations==1.0.0) (1.1.1)\n",
            "Requirement already satisfied, skipping upgrade: networkx>=2.0 in /usr/local/lib/python3.7/dist-packages (from scikit-image>=0.16.1->albumentations==1.0.0) (2.5.1)\n",
            "Requirement already satisfied, skipping upgrade: imageio>=2.3.0 in /usr/local/lib/python3.7/dist-packages (from scikit-image>=0.16.1->albumentations==1.0.0) (2.4.1)\n",
            "Requirement already satisfied, skipping upgrade: pyparsing!=2.0.4,!=2.1.2,!=2.1.6,>=2.0.1 in /usr/local/lib/python3.7/dist-packages (from matplotlib!=3.0.0,>=2.0.0->scikit-image>=0.16.1->albumentations==1.0.0) (2.4.7)\n",
            "Requirement already satisfied, skipping upgrade: kiwisolver>=1.0.1 in /usr/local/lib/python3.7/dist-packages (from matplotlib!=3.0.0,>=2.0.0->scikit-image>=0.16.1->albumentations==1.0.0) (1.3.1)\n",
            "Requirement already satisfied, skipping upgrade: cycler>=0.10 in /usr/local/lib/python3.7/dist-packages (from matplotlib!=3.0.0,>=2.0.0->scikit-image>=0.16.1->albumentations==1.0.0) (0.10.0)\n",
            "Requirement already satisfied, skipping upgrade: python-dateutil>=2.1 in /usr/local/lib/python3.7/dist-packages (from matplotlib!=3.0.0,>=2.0.0->scikit-image>=0.16.1->albumentations==1.0.0) (2.8.1)\n",
            "Requirement already satisfied, skipping upgrade: decorator<5,>=4.3 in /usr/local/lib/python3.7/dist-packages (from networkx>=2.0->scikit-image>=0.16.1->albumentations==1.0.0) (4.4.2)\n",
            "Requirement already satisfied, skipping upgrade: six in /usr/local/lib/python3.7/dist-packages (from cycler>=0.10->matplotlib!=3.0.0,>=2.0.0->scikit-image>=0.16.1->albumentations==1.0.0) (1.15.0)\n",
            "Building wheels for collected packages: albumentations\n",
            "  Building wheel for albumentations (setup.py) ... \u001b[?25l\u001b[?25hdone\n",
            "  Created wheel for albumentations: filename=albumentations-1.0.0-cp37-none-any.whl size=98151 sha256=1177f6495d268e4285ed768191b304edff005cc2b95ab9b9b125f51074a92d7f\n",
            "  Stored in directory: /tmp/pip-ephem-wheel-cache-xo32qxpg/wheels/6f/77/82/86baf8aeda64a6de0f890cd0f2fb31acaf5545cc9c99ad21ba\n",
            "Successfully built albumentations\n",
            "Installing collected packages: albumentations\n",
            "  Found existing installation: albumentations 1.0.0\n",
            "    Uninstalling albumentations-1.0.0:\n",
            "      Successfully uninstalled albumentations-1.0.0\n",
            "Successfully installed albumentations-1.0.0\n"
          ],
          "name": "stdout"
        }
      ]
    },
    {
      "cell_type": "code",
      "metadata": {
        "id": "-yVpodAMpoCi",
        "colab": {
          "base_uri": "https://localhost:8080/"
        },
        "outputId": "38919477-92d9-4aa5-eeea-d3480cda4d34"
      },
      "source": [
        "from __future__ import print_function\n",
        "import torch\n",
        "import torch.nn as nn\n",
        "import torch.nn.functional as F\n",
        "import torch.optim as optim\n",
        "import torchvision\n",
        "from torchvision import datasets, transforms\n",
        "from torch.utils.tensorboard import SummaryWriter\n",
        "from tqdm import tqdm_notebook\n",
        "from tqdm import tqdm\n",
        "!pip install torchsummary\n",
        "from torchsummary import summary\n",
        "import numpy as np\n",
        "import matplotlib.pyplot as plt\n",
        "from torch.utils.data import Dataset, DataLoader\n",
        "import albumentations as A\n",
        "from albumentations.pytorch import ToTensorV2\n",
        "\n",
        "# custom torch package\n",
        "import torchkit\n",
        "from torchkit.run import train, test, fit\n",
        "from torchkit.data.dataloader import convert\n",
        "from torchkit.data.dataset import CIFAR_Dataset\n",
        "from torchkit.utils import data_utils, model_utils\n",
        "from torchkit.models.cifar_net import SeaFar\n",
        "from torchkit.torchsummary import summary"
      ],
      "execution_count": 3,
      "outputs": [
        {
          "output_type": "stream",
          "text": [
            "Requirement already satisfied: torchsummary in /usr/local/lib/python3.7/dist-packages (1.5.1)\n"
          ],
          "name": "stdout"
        }
      ]
    },
    {
      "cell_type": "markdown",
      "metadata": {
        "id": "5kjt4e2TpoCk"
      },
      "source": [
        "The output of torchvision datasets are PILImage images of range [0, 1].\n",
        "We transform them to Tensors of normalized range [-1, 1].\n",
        "\n"
      ]
    },
    {
      "cell_type": "code",
      "metadata": {
        "colab": {
          "base_uri": "https://localhost:8080/"
        },
        "id": "nzpxSQZNVOAt",
        "outputId": "fee77e4a-b878-4df0-e523-2e24e07682e9"
      },
      "source": [
        "# Download CIFAR data\n",
        "trainset = torchvision.datasets.CIFAR10(root='./data', train=True,\n",
        "                                        download=True)\n",
        "testset = torchvision.datasets.CIFAR10(root='./data', train=False,\n",
        "                                       download=True)"
      ],
      "execution_count": 4,
      "outputs": [
        {
          "output_type": "stream",
          "text": [
            "Files already downloaded and verified\n",
            "Files already downloaded and verified\n"
          ],
          "name": "stdout"
        }
      ]
    },
    {
      "cell_type": "code",
      "metadata": {
        "id": "NZyAlaAQ3P77"
      },
      "source": [
        "# Train and Test Transforms \n",
        "\n",
        "train_transform = A.Compose(\n",
        "    [\n",
        "        A.HorizontalFlip(),\n",
        "        A.ShiftScaleRotate(),\n",
        "        A.CoarseDropout(max_holes = 1, max_height=16, max_width=16, min_holes = 1, min_height=16, min_width=16, fill_value=(0.4675, 0.4599, 0.4236), mask_fill_value = None),\n",
        "        A.Normalize(mean=(0.4675, 0.4599, 0.4236), std=(0.2901, 0.2874, 0.2917)),\n",
        "        ToTensorV2(),\n",
        "    ])\n",
        "\n",
        "\n",
        "test_transform = A.Compose(\n",
        "    [\n",
        "        A.Normalize(mean=(0.4675, 0.4599, 0.4236), std=(0.2901, 0.2874, 0.2917)),\n",
        "        ToTensorV2(),\n",
        "    ])"
      ],
      "execution_count": 5,
      "outputs": []
    },
    {
      "cell_type": "code",
      "metadata": {
        "id": "o8HLCrGUrGyq"
      },
      "source": [
        "train = CIFAR_Dataset(trainset.data, trainset.targets, transforms=train_transform)\n",
        "test = CIFAR_Dataset(testset.data, testset.targets, transforms=test_transform)\n",
        "\n",
        "train_loader, test_loader = convert(train, test)\n"
      ],
      "execution_count": 6,
      "outputs": []
    },
    {
      "cell_type": "code",
      "metadata": {
        "id": "p5PCVq_Lahqx"
      },
      "source": [
        "class GlobalConfig:\n",
        "    seed = 1992\n",
        "    num_classes = 10\n",
        "    batch_size = 128\n",
        "    EPOCHS = 70\n",
        "    device = torch.device('cuda' if torch.cuda.is_available() else 'cpu')\n",
        "\n",
        "    # data\n",
        "    input_image_size = (3, 32, 32)\n",
        "    trainloader = train_loader\n",
        "    testloader = test_loader\n",
        "\n",
        "    classes = ('plane', 'car', 'bird', 'cat',\n",
        "           'deer', 'dog', 'frog', 'horse', 'ship', 'truck')\n",
        "\n",
        "\n",
        "\n",
        "    # model data normalization\n",
        "    channel_norm = 'BatchNorm2d'\n",
        "    channel_norm_params = {'GroupNorm': {'num_groups':2},\n",
        "                 'BatchNorm2d':{'affine':True},\n",
        "                 'LayerNorm': {'normalized_shape':10}}\n",
        "                \n",
        "\n",
        "    # regularizer\n",
        "    dropout_value = 0.05\n",
        "\n",
        "    # loss\n",
        "    loss_function = 'CrossEntropyLoss'\n",
        "\n",
        "    # scheduler\n",
        "    lr_scheduler = 'StepLR'\n",
        "    lr_scheduler_params = {'StepLR': {'step_size':7, 'gamma':0.5},\n",
        "                \n",
        "                'ReduceLROnPlateau': {'mode':'min', 'factor':0.5, 'patience':2, 'threshold':0.0001,\n",
        "                                      'threshold_mode':'rel', 'cooldown':0, 'min_lr':1e-4,\n",
        "                                      'eps':1e-08, 'verbose':True},\n",
        "                'OneCycleLR': {'max_lr': 0.2, 'steps_per_epoch':len(trainloader), 'div_factor':20, 'epochs':EPOCHS }}\n",
        "                                \n",
        "\n",
        "    # optimizer\n",
        "    optimizer = 'SGD'\n",
        "    optimizer_params = {'SGD':{'lr':0.01, 'momentum':0.9}}\n",
        "\n",
        "    # store model stats\n",
        "    model_results = {'TestAccuracy': [], \n",
        "                  'TrainAccuracy': [],\n",
        "                  'TestLoss': [],\n",
        "                  'TrainLoss':[]}\n",
        "\n",
        "    # Params\n",
        "    misclassified=True\n",
        "    L1Lambda=False\n",
        "\n",
        "    \n",
        "modelconfig = GlobalConfig\n"
      ],
      "execution_count": 7,
      "outputs": []
    },
    {
      "cell_type": "markdown",
      "metadata": {
        "id": "_cj433rtpoCn"
      },
      "source": [
        "Let us show some of the training images, for fun.\n",
        "\n"
      ]
    },
    {
      "cell_type": "code",
      "metadata": {
        "colab": {
          "base_uri": "https://localhost:8080/",
          "height": 1000
        },
        "id": "h-Xkm0TfnnRQ",
        "outputId": "fd60e39c-8cdd-4908-88d0-ac11e286d6d9"
      },
      "source": [
        "img, label = next(iter(modelconfig.trainloader))\n",
        "data = CIFAR_Dataset(img,label)\n",
        "data_utils.plot_data(data,modelconfig)"
      ],
      "execution_count": 8,
      "outputs": [
        {
          "output_type": "stream",
          "text": [
            "Clipping input data to the valid range for imshow with RGB data ([0..1] for floats or [0..255] for integers).\n",
            "Clipping input data to the valid range for imshow with RGB data ([0..1] for floats or [0..255] for integers).\n",
            "Clipping input data to the valid range for imshow with RGB data ([0..1] for floats or [0..255] for integers).\n",
            "Clipping input data to the valid range for imshow with RGB data ([0..1] for floats or [0..255] for integers).\n",
            "Clipping input data to the valid range for imshow with RGB data ([0..1] for floats or [0..255] for integers).\n",
            "Clipping input data to the valid range for imshow with RGB data ([0..1] for floats or [0..255] for integers).\n",
            "Clipping input data to the valid range for imshow with RGB data ([0..1] for floats or [0..255] for integers).\n",
            "Clipping input data to the valid range for imshow with RGB data ([0..1] for floats or [0..255] for integers).\n",
            "Clipping input data to the valid range for imshow with RGB data ([0..1] for floats or [0..255] for integers).\n",
            "Clipping input data to the valid range for imshow with RGB data ([0..1] for floats or [0..255] for integers).\n",
            "Clipping input data to the valid range for imshow with RGB data ([0..1] for floats or [0..255] for integers).\n",
            "Clipping input data to the valid range for imshow with RGB data ([0..1] for floats or [0..255] for integers).\n",
            "Clipping input data to the valid range for imshow with RGB data ([0..1] for floats or [0..255] for integers).\n",
            "Clipping input data to the valid range for imshow with RGB data ([0..1] for floats or [0..255] for integers).\n",
            "Clipping input data to the valid range for imshow with RGB data ([0..1] for floats or [0..255] for integers).\n",
            "Clipping input data to the valid range for imshow with RGB data ([0..1] for floats or [0..255] for integers).\n",
            "Clipping input data to the valid range for imshow with RGB data ([0..1] for floats or [0..255] for integers).\n",
            "Clipping input data to the valid range for imshow with RGB data ([0..1] for floats or [0..255] for integers).\n",
            "Clipping input data to the valid range for imshow with RGB data ([0..1] for floats or [0..255] for integers).\n",
            "Clipping input data to the valid range for imshow with RGB data ([0..1] for floats or [0..255] for integers).\n",
            "Clipping input data to the valid range for imshow with RGB data ([0..1] for floats or [0..255] for integers).\n",
            "Clipping input data to the valid range for imshow with RGB data ([0..1] for floats or [0..255] for integers).\n",
            "Clipping input data to the valid range for imshow with RGB data ([0..1] for floats or [0..255] for integers).\n",
            "Clipping input data to the valid range for imshow with RGB data ([0..1] for floats or [0..255] for integers).\n",
            "Clipping input data to the valid range for imshow with RGB data ([0..1] for floats or [0..255] for integers).\n",
            "Clipping input data to the valid range for imshow with RGB data ([0..1] for floats or [0..255] for integers).\n",
            "Clipping input data to the valid range for imshow with RGB data ([0..1] for floats or [0..255] for integers).\n",
            "Clipping input data to the valid range for imshow with RGB data ([0..1] for floats or [0..255] for integers).\n",
            "Clipping input data to the valid range for imshow with RGB data ([0..1] for floats or [0..255] for integers).\n",
            "Clipping input data to the valid range for imshow with RGB data ([0..1] for floats or [0..255] for integers).\n",
            "Clipping input data to the valid range for imshow with RGB data ([0..1] for floats or [0..255] for integers).\n",
            "Clipping input data to the valid range for imshow with RGB data ([0..1] for floats or [0..255] for integers).\n",
            "Clipping input data to the valid range for imshow with RGB data ([0..1] for floats or [0..255] for integers).\n",
            "Clipping input data to the valid range for imshow with RGB data ([0..1] for floats or [0..255] for integers).\n",
            "Clipping input data to the valid range for imshow with RGB data ([0..1] for floats or [0..255] for integers).\n",
            "Clipping input data to the valid range for imshow with RGB data ([0..1] for floats or [0..255] for integers).\n",
            "Clipping input data to the valid range for imshow with RGB data ([0..1] for floats or [0..255] for integers).\n",
            "Clipping input data to the valid range for imshow with RGB data ([0..1] for floats or [0..255] for integers).\n",
            "Clipping input data to the valid range for imshow with RGB data ([0..1] for floats or [0..255] for integers).\n",
            "Clipping input data to the valid range for imshow with RGB data ([0..1] for floats or [0..255] for integers).\n"
          ],
          "name": "stderr"
        },
        {
          "output_type": "display_data",
          "data": {
            "image/png": "[encoded data removed]",
            "text/plain": [
              "<Figure size 1152x720 with 40 Axes>"
            ]
          },
          "metadata": {
            "tags": [],
            "needs_background": "light"
          }
        }
      ]
    },
    {
      "cell_type": "markdown",
      "metadata": {
        "id": "3NKcu-xgXwwV"
      },
      "source": [
        "**Class/Batch Balance**"
      ]
    },
    {
      "cell_type": "code",
      "metadata": {
        "id": "-BF6sqmqEp5v",
        "colab": {
          "base_uri": "https://localhost:8080/"
        },
        "outputId": "1f782f07-58fb-41f0-de56-1c4b1f4b5f61"
      },
      "source": [
        "from collections import defaultdict\n",
        "data = defaultdict()\n",
        "for batch_idx, (images, labels) in enumerate(iter(modelconfig.trainloader)):\n",
        "  data[batch_idx] = labels\n",
        "\n",
        "total_data = []\n",
        "first_batch = data[1]\n",
        "for i in range(len(data)):\n",
        "  for label in list(data[i]):\n",
        "   total_data.append(label.item())\n",
        "\n",
        "class_balance = defaultdict()\n",
        "class_data = {0,1,2,3,4,5,6,7,8,9}\n",
        "for i in class_data:\n",
        "  class_balance[i]=total_data.count(i)\n",
        "class_balance\n",
        "\n"
      ],
      "execution_count": 9,
      "outputs": [
        {
          "output_type": "execute_result",
          "data": {
            "text/plain": [
              "defaultdict(None,\n",
              "            {0: 5000,\n",
              "             1: 5000,\n",
              "             2: 5000,\n",
              "             3: 5000,\n",
              "             4: 5000,\n",
              "             5: 5000,\n",
              "             6: 5000,\n",
              "             7: 5000,\n",
              "             8: 5000,\n",
              "             9: 5000})"
            ]
          },
          "metadata": {
            "tags": []
          },
          "execution_count": 9
        }
      ]
    },
    {
      "cell_type": "markdown",
      "metadata": {
        "id": "yrDX-mSIaQkC"
      },
      "source": [
        "All classes have same number of images, 5000. Dataset is balanced. "
      ]
    },
    {
      "cell_type": "code",
      "metadata": {
        "id": "v4M2vR9Hiz4f"
      },
      "source": [
        "\n",
        "import torch.nn as nn\n",
        "import torch.nn.functional as F\n",
        "\n",
        "\n",
        "class Net(nn.Module):\n",
        "    def __init__(self, config):\n",
        "        super(Net, self).__init__()\n",
        "        self.config = config\n",
        "        ## Convolution Block1\n",
        "        self.conv1 = nn.Sequential(\n",
        "            nn.Conv2d(3, 32, 3, padding=1, bias = False),  # Input: 32x32x3 | Output: 32x32x32 | RF: 3x3\n",
        "            nn.ReLU(),\n",
        "            nn.BatchNorm2d(32),\n",
        "            nn.Dropout2d(self.config.dropout_value),\n",
        "\n",
        "            nn.Conv2d(32, 64, 3, padding=1, bias = False), # Input: 32x32x32 | Output: 32x32x64 | RF: 5x5\n",
        "            nn.ReLU(),\n",
        "            nn.BatchNorm2d(64),\n",
        "            nn.Dropout2d(self.config.dropout_value)\n",
        "        )\n",
        "        \n",
        "        ## Transition Block1\n",
        "        self.trans1 = nn.Sequential(\n",
        "            nn.Conv2d(64, 32,3, stride=2), # Input: 32x32x64 | Output: 16x16x32 | RF: 5x5\n",
        "            nn.ReLU(),\n",
        "        )\n",
        "\n",
        "        ## Convolution Block2\n",
        "        self.conv2 =  nn.Sequential(\n",
        "            nn.Conv2d(32, 64, 3,  padding=1,  dilation=2, bias = False), # Input: 16x16x32 | Output: 16x16x32 | RF: 5x5\n",
        "            nn.ReLU(),\n",
        "            nn.BatchNorm2d(64),\n",
        "            nn.Dropout2d(self.config.dropout_value),\n",
        "\n",
        "            ## Depthwise Seperable Convolution1\n",
        "            nn.Conv2d(64,32, 3,  padding=1,groups=32 ,bias = False),  # Input: 16x16x32 | Output: 16x16x32 | RF: 9x9\n",
        "            nn.Conv2d(32, 64, 1, padding=1, bias = False),   # Input: 16x16x32 | Output: 18x18x64 | RF: 13x13\n",
        "            nn.ReLU(),\n",
        "            nn.BatchNorm2d(64),\n",
        "            nn.Dropout2d(self.config.dropout_value),\n",
        "        )\n",
        "        \n",
        "        #Transition Block2\n",
        "        self.trans2 = nn.Sequential(\n",
        "\n",
        "            nn.Conv2d(64, 32, 3, stride=2), # Input: 18x18x32 | Output: 9x9x64 | RF: 17x17\n",
        "            nn.ReLU()\n",
        "        )\n",
        "\n",
        "        #Convolution Block3\n",
        "        self.conv3 = nn.Sequential(\n",
        "            \n",
        "            ## Dilation Block\n",
        "            nn.Conv2d(32, 64, 3,  padding=1, bias = False), # Input: 9x9x64 | Output: 7x7x64 | RF: 33x33\n",
        "            nn.ReLU(),\n",
        "            nn.BatchNorm2d(64),\n",
        "            nn.Dropout2d(self.config.dropout_value),\n",
        "\n",
        "            nn.Conv2d(64, 64, 3,  padding=1, bias = False),  # Input: 7x7x64| Output: 7x7x64 | RF: 41x41\n",
        "            nn.ReLU(),\n",
        "            nn.BatchNorm2d(64),\n",
        "            nn.Dropout2d(self.config.dropout_value),\n",
        "        )\n",
        "\n",
        "        #Transition Block3\n",
        "        self.trans3 = nn.Sequential(\n",
        "\n",
        "            nn.Conv2d(64, 16, 3, stride=2, padding=1), # Input: 7x7x64| Output: 4x4x16 | RF: 49x49\n",
        "            nn.ReLU()\n",
        "        )\n",
        "\n",
        "        #Convolution Block4        \n",
        "        self.conv4 = nn.Sequential(\n",
        "            nn.Conv2d(16, 32, 3, padding=1, bias = False), # Input: 4x4x16 | Output: 4x4x32 | RF: 65x65\n",
        "            nn.ReLU(),\n",
        "            nn.BatchNorm2d(32),\n",
        "            nn.Dropout2d(self.config.dropout_value),\n",
        "\n",
        "            ## Depthwise seperable Convolution2\n",
        "            nn.Conv2d(32,32, 3,bias = False),# Input: 4x4x16 | Output: 4x4x32 | RF: 97x97\n",
        "            nn.Conv2d(32, 10, 1,  bias = False),          # Input: 4x4x32| Output: 6x6x10 | RF: 97x97\n",
        "            nn.ReLU(),\n",
        "            nn.BatchNorm2d(10),\n",
        "            # nn.Dropout2d(self.config.dropout_value),\n",
        "        )\n",
        "\n",
        "        ## Output Block\n",
        "        self.gap = nn.Sequential(\n",
        "            nn.AdaptiveAvgPool2d(1)\n",
        "        ) \n",
        "\n",
        "\n",
        "    def forward(self, x):\n",
        "        x = self.conv1(x)\n",
        "        x = self.trans1(x)\n",
        "\n",
        "        x = self.conv2(x) \n",
        "        x = self.trans2(x) \n",
        "\n",
        "        x = self.conv3(x) \n",
        "        x = self.trans3(x)\n",
        "\n",
        "        x = self.conv4(x)\n",
        "        x = self.gap(x)\n",
        "\n",
        "        final_op = x.view(-1,10)\n",
        "        if self.config.loss_function == 'CrossEntropyLoss':\n",
        "            return final_op\n",
        "        elif self.config.loss_function == 'NLLoss':\n",
        "            return F.log_softmax(final_op, dim=-1)\n"
      ],
      "execution_count": 18,
      "outputs": []
    },
    {
      "cell_type": "code",
      "metadata": {
        "id": "M4xBbDROpoCv",
        "colab": {
          "base_uri": "https://localhost:8080/"
        },
        "outputId": "4c24e220-3ab4-4de3-f768-82c4f1b2785e"
      },
      "source": [
        "# SeaFar\n",
        "model = Net(modelconfig).to(modelconfig.device)\n",
        "summary(model, input_size=modelconfig.input_image_size)\n",
        "train_misc_img, test_misc_img, model_results = fit(model=model, config=modelconfig)"
      ],
      "execution_count": 20,
      "outputs": [
        {
          "output_type": "stream",
          "text": [
            "\r  0%|          | 0/391 [00:00<?, ?it/s]"
          ],
          "name": "stderr"
        },
        {
          "output_type": "stream",
          "text": [
            "------------------------------------------------------------------------------------------------\n",
            "        Layer (type)               Output Shape         Param #           Receptive Field\n",
            "================================================================================================\n",
            "            Conv2d-1           [-1, 32, 32, 32]             864               3\n",
            "              ReLU-2           [-1, 32, 32, 32]               0               3\n",
            "       BatchNorm2d-3           [-1, 32, 32, 32]              64               3\n",
            "         Dropout2d-4           [-1, 32, 32, 32]               0               3\n",
            "            Conv2d-5           [-1, 64, 32, 32]          18,432               5\n",
            "              ReLU-6           [-1, 64, 32, 32]               0               5\n",
            "       BatchNorm2d-7           [-1, 64, 32, 32]             128               5\n",
            "         Dropout2d-8           [-1, 64, 32, 32]               0               5\n",
            "            Conv2d-9           [-1, 32, 15, 15]          18,464               7\n",
            "             ReLU-10           [-1, 32, 15, 15]               0               7\n",
            "           Conv2d-11           [-1, 64, 13, 13]          18,432              15\n",
            "             ReLU-12           [-1, 64, 13, 13]               0              15\n",
            "      BatchNorm2d-13           [-1, 64, 13, 13]             128              15\n",
            "        Dropout2d-14           [-1, 64, 13, 13]               0              15\n",
            "           Conv2d-15           [-1, 32, 13, 13]             576              19\n",
            "           Conv2d-16           [-1, 64, 15, 15]           2,048              19\n",
            "             ReLU-17           [-1, 64, 15, 15]               0              19\n",
            "      BatchNorm2d-18           [-1, 64, 15, 15]             128              19\n",
            "        Dropout2d-19           [-1, 64, 15, 15]               0              19\n",
            "           Conv2d-20             [-1, 32, 7, 7]          18,464              23\n",
            "             ReLU-21             [-1, 32, 7, 7]               0              23\n",
            "           Conv2d-22             [-1, 64, 7, 7]          18,432              31\n",
            "             ReLU-23             [-1, 64, 7, 7]               0              31\n",
            "      BatchNorm2d-24             [-1, 64, 7, 7]             128              31\n",
            "        Dropout2d-25             [-1, 64, 7, 7]               0              31\n",
            "           Conv2d-26             [-1, 64, 7, 7]          36,864              39\n",
            "             ReLU-27             [-1, 64, 7, 7]               0              39\n",
            "      BatchNorm2d-28             [-1, 64, 7, 7]             128              39\n",
            "        Dropout2d-29             [-1, 64, 7, 7]               0              39\n",
            "           Conv2d-30             [-1, 16, 4, 4]           9,232              47\n",
            "             ReLU-31             [-1, 16, 4, 4]               0              47\n",
            "           Conv2d-32             [-1, 32, 4, 4]           4,608              63\n",
            "             ReLU-33             [-1, 32, 4, 4]               0              63\n",
            "      BatchNorm2d-34             [-1, 32, 4, 4]              64              63\n",
            "        Dropout2d-35             [-1, 32, 4, 4]               0              63\n",
            "           Conv2d-36             [-1, 32, 2, 2]           9,216              79\n",
            "           Conv2d-37             [-1, 10, 2, 2]             320              79\n",
            "             ReLU-38             [-1, 10, 2, 2]               0              79\n",
            "      BatchNorm2d-39             [-1, 10, 2, 2]              20              79\n",
            "AdaptiveAvgPool2d-40             [-1, 10, 1, 1]               0              79\n",
            "              Net-41                   [-1, 10]               0              79\n",
            "================================================================================================\n",
            "Total params: 156,740\n",
            "Total receptive field: 79\n",
            "Trainable params: 156,740\n",
            "Non-trainable params: 0\n",
            "------------------------------------------------------------------------------------------------\n",
            "Input size (MB): 0.01\n",
            "Forward/backward pass size (MB): 4.16\n",
            "Params size (MB): 0.60\n",
            "Estimated Total Size (MB): 4.77\n",
            "------------------------------------------------------------------------------------------------\n",
            "\n",
            "\n",
            "EPOCH:  1 LR:  [0.01]\n"
          ],
          "name": "stdout"
        },
        {
          "output_type": "stream",
          "text": [
            "Train set: batch_id=390  Average loss: 1.589617371559143 Accuracy: 33.628: 100%|██████████| 391/391 [00:12<00:00, 31.09it/s]\n"
          ],
          "name": "stderr"
        },
        {
          "output_type": "stream",
          "text": [
            "Validation loss has  decreased from inf to 0.0127. Saving the model\n"
          ],
          "name": "stdout"
        },
        {
          "output_type": "stream",
          "text": [
            "/usr/local/lib/python3.7/dist-packages/torch/optim/lr_scheduler.py:134: UserWarning: Detected call of `lr_scheduler.step()` before `optimizer.step()`. In PyTorch 1.1.0 and later, you should call them in the opposite order: `optimizer.step()` before `lr_scheduler.step()`.  Failure to do this will result in PyTorch skipping the first value of the learning rate schedule. See more details at https://pytorch.org/docs/stable/optim.html#how-to-adjust-learning-rate\n",
            "  \"https://pytorch.org/docs/stable/optim.html#how-to-adjust-learning-rate\", UserWarning)\n",
            "\r  0%|          | 0/391 [00:00<?, ?it/s]"
          ],
          "name": "stderr"
        },
        {
          "output_type": "stream",
          "text": [
            "\n",
            "Test set: Average loss: 0.0127, Accuracy: 4238/10000 (42.38%)\n",
            "\n",
            "\n",
            "EPOCH:  2 LR:  [0.01]\n"
          ],
          "name": "stdout"
        },
        {
          "output_type": "stream",
          "text": [
            "Train set: batch_id=390  Average loss: 1.6660677194595337 Accuracy: 42.872: 100%|██████████| 391/391 [00:12<00:00, 30.79it/s]\n"
          ],
          "name": "stderr"
        },
        {
          "output_type": "stream",
          "text": [
            "Validation loss has  decreased from 0.0127 to 0.0104. Saving the model\n"
          ],
          "name": "stdout"
        },
        {
          "output_type": "stream",
          "text": [
            "\r  0%|          | 0/391 [00:00<?, ?it/s]"
          ],
          "name": "stderr"
        },
        {
          "output_type": "stream",
          "text": [
            "\n",
            "Test set: Average loss: 0.0104, Accuracy: 5245/10000 (52.45%)\n",
            "\n",
            "\n",
            "EPOCH:  3 LR:  [0.01]\n"
          ],
          "name": "stdout"
        },
        {
          "output_type": "stream",
          "text": [
            "Train set: batch_id=390  Average loss: 1.2923132181167603 Accuracy: 47.334: 100%|██████████| 391/391 [00:12<00:00, 31.10it/s]\n"
          ],
          "name": "stderr"
        },
        {
          "output_type": "stream",
          "text": [
            "Validation loss has  decreased from 0.0104 to 0.0097. Saving the model\n"
          ],
          "name": "stdout"
        },
        {
          "output_type": "stream",
          "text": [
            "\r  0%|          | 0/391 [00:00<?, ?it/s]"
          ],
          "name": "stderr"
        },
        {
          "output_type": "stream",
          "text": [
            "\n",
            "Test set: Average loss: 0.0097, Accuracy: 5598/10000 (55.98%)\n",
            "\n",
            "\n",
            "EPOCH:  4 LR:  [0.01]\n"
          ],
          "name": "stdout"
        },
        {
          "output_type": "stream",
          "text": [
            "Train set: batch_id=390  Average loss: 1.3777538537979126 Accuracy: 50.254: 100%|██████████| 391/391 [00:12<00:00, 31.37it/s]\n"
          ],
          "name": "stderr"
        },
        {
          "output_type": "stream",
          "text": [
            "Validation loss has  decreased from 0.0097 to 0.0088. Saving the model\n"
          ],
          "name": "stdout"
        },
        {
          "output_type": "stream",
          "text": [
            "\r  0%|          | 0/391 [00:00<?, ?it/s]"
          ],
          "name": "stderr"
        },
        {
          "output_type": "stream",
          "text": [
            "\n",
            "Test set: Average loss: 0.0088, Accuracy: 6000/10000 (60.00%)\n",
            "\n",
            "\n",
            "EPOCH:  5 LR:  [0.01]\n"
          ],
          "name": "stdout"
        },
        {
          "output_type": "stream",
          "text": [
            "Train set: batch_id=390  Average loss: 1.3859065771102905 Accuracy: 52.638: 100%|██████████| 391/391 [00:12<00:00, 31.20it/s]\n"
          ],
          "name": "stderr"
        },
        {
          "output_type": "stream",
          "text": [
            "Validation loss has  decreased from 0.0088 to 0.0086. Saving the model\n"
          ],
          "name": "stdout"
        },
        {
          "output_type": "stream",
          "text": [
            "\r  0%|          | 0/391 [00:00<?, ?it/s]"
          ],
          "name": "stderr"
        },
        {
          "output_type": "stream",
          "text": [
            "\n",
            "Test set: Average loss: 0.0086, Accuracy: 6139/10000 (61.39%)\n",
            "\n",
            "\n",
            "EPOCH:  6 LR:  [0.01]\n"
          ],
          "name": "stdout"
        },
        {
          "output_type": "stream",
          "text": [
            "Train set: batch_id=390  Average loss: 1.2304232120513916 Accuracy: 54.742: 100%|██████████| 391/391 [00:12<00:00, 31.27it/s]\n"
          ],
          "name": "stderr"
        },
        {
          "output_type": "stream",
          "text": [
            "Validation loss has  decreased from 0.0086 to 0.0075. Saving the model\n"
          ],
          "name": "stdout"
        },
        {
          "output_type": "stream",
          "text": [
            "\r  0%|          | 0/391 [00:00<?, ?it/s]"
          ],
          "name": "stderr"
        },
        {
          "output_type": "stream",
          "text": [
            "\n",
            "Test set: Average loss: 0.0075, Accuracy: 6664/10000 (66.64%)\n",
            "\n",
            "\n",
            "EPOCH:  7 LR:  [0.01]\n"
          ],
          "name": "stdout"
        },
        {
          "output_type": "stream",
          "text": [
            "Train set: batch_id=390  Average loss: 1.2219669818878174 Accuracy: 56.83: 100%|██████████| 391/391 [00:12<00:00, 30.78it/s]\n"
          ],
          "name": "stderr"
        },
        {
          "output_type": "stream",
          "text": [
            "Validation loss has  decreased from 0.0075 to 0.0075. Saving the model\n"
          ],
          "name": "stdout"
        },
        {
          "output_type": "stream",
          "text": [
            "\r  0%|          | 0/391 [00:00<?, ?it/s]"
          ],
          "name": "stderr"
        },
        {
          "output_type": "stream",
          "text": [
            "\n",
            "Test set: Average loss: 0.0075, Accuracy: 6681/10000 (66.81%)\n",
            "\n",
            "\n",
            "EPOCH:  8 LR:  [0.005]\n"
          ],
          "name": "stdout"
        },
        {
          "output_type": "stream",
          "text": [
            "Train set: batch_id=390  Average loss: 1.2259564399719238 Accuracy: 58.126: 100%|██████████| 391/391 [00:12<00:00, 30.63it/s]\n"
          ],
          "name": "stderr"
        },
        {
          "output_type": "stream",
          "text": [
            "Validation loss has  decreased from 0.0075 to 0.007. Saving the model\n"
          ],
          "name": "stdout"
        },
        {
          "output_type": "stream",
          "text": [
            "\r  0%|          | 0/391 [00:00<?, ?it/s]"
          ],
          "name": "stderr"
        },
        {
          "output_type": "stream",
          "text": [
            "\n",
            "Test set: Average loss: 0.0070, Accuracy: 6858/10000 (68.58%)\n",
            "\n",
            "\n",
            "EPOCH:  9 LR:  [0.005]\n"
          ],
          "name": "stdout"
        },
        {
          "output_type": "stream",
          "text": [
            "Train set: batch_id=390  Average loss: 1.1496059894561768 Accuracy: 59.792: 100%|██████████| 391/391 [00:12<00:00, 30.73it/s]\n"
          ],
          "name": "stderr"
        },
        {
          "output_type": "stream",
          "text": [
            "Validation loss has  decreased from 0.007 to 0.0067. Saving the model\n"
          ],
          "name": "stdout"
        },
        {
          "output_type": "stream",
          "text": [
            "\r  0%|          | 0/391 [00:00<?, ?it/s]"
          ],
          "name": "stderr"
        },
        {
          "output_type": "stream",
          "text": [
            "\n",
            "Test set: Average loss: 0.0067, Accuracy: 7060/10000 (70.60%)\n",
            "\n",
            "\n",
            "EPOCH:  10 LR:  [0.005]\n"
          ],
          "name": "stdout"
        },
        {
          "output_type": "stream",
          "text": [
            "Train set: batch_id=390  Average loss: 0.9258171916007996 Accuracy: 60.64: 100%|██████████| 391/391 [00:12<00:00, 30.97it/s]\n",
            "  0%|          | 0/391 [00:00<?, ?it/s]"
          ],
          "name": "stderr"
        },
        {
          "output_type": "stream",
          "text": [
            "\n",
            "Test set: Average loss: 0.0067, Accuracy: 7007/10000 (70.07%)\n",
            "\n",
            "\n",
            "EPOCH:  11 LR:  [0.005]\n"
          ],
          "name": "stdout"
        },
        {
          "output_type": "stream",
          "text": [
            "Train set: batch_id=390  Average loss: 0.8303737640380859 Accuracy: 61.656: 100%|██████████| 391/391 [00:12<00:00, 30.71it/s]\n"
          ],
          "name": "stderr"
        },
        {
          "output_type": "stream",
          "text": [
            "Validation loss has  decreased from 0.0067 to 0.0064. Saving the model\n"
          ],
          "name": "stdout"
        },
        {
          "output_type": "stream",
          "text": [
            "\r  0%|          | 0/391 [00:00<?, ?it/s]"
          ],
          "name": "stderr"
        },
        {
          "output_type": "stream",
          "text": [
            "\n",
            "Test set: Average loss: 0.0064, Accuracy: 7149/10000 (71.49%)\n",
            "\n",
            "\n",
            "EPOCH:  12 LR:  [0.005]\n"
          ],
          "name": "stdout"
        },
        {
          "output_type": "stream",
          "text": [
            "Train set: batch_id=390  Average loss: 0.9998787045478821 Accuracy: 62.952: 100%|██████████| 391/391 [00:12<00:00, 30.93it/s]\n"
          ],
          "name": "stderr"
        },
        {
          "output_type": "stream",
          "text": [
            "Validation loss has  decreased from 0.0064 to 0.0062. Saving the model\n"
          ],
          "name": "stdout"
        },
        {
          "output_type": "stream",
          "text": [
            "\r  0%|          | 0/391 [00:00<?, ?it/s]"
          ],
          "name": "stderr"
        },
        {
          "output_type": "stream",
          "text": [
            "\n",
            "Test set: Average loss: 0.0062, Accuracy: 7304/10000 (73.04%)\n",
            "\n",
            "\n",
            "EPOCH:  13 LR:  [0.005]\n"
          ],
          "name": "stdout"
        },
        {
          "output_type": "stream",
          "text": [
            "Train set: batch_id=390  Average loss: 1.1049919128417969 Accuracy: 63.36: 100%|██████████| 391/391 [00:12<00:00, 30.95it/s]\n"
          ],
          "name": "stderr"
        },
        {
          "output_type": "stream",
          "text": [
            "Validation loss has  decreased from 0.0062 to 0.0059. Saving the model\n"
          ],
          "name": "stdout"
        },
        {
          "output_type": "stream",
          "text": [
            "\r  0%|          | 0/391 [00:00<?, ?it/s]"
          ],
          "name": "stderr"
        },
        {
          "output_type": "stream",
          "text": [
            "\n",
            "Test set: Average loss: 0.0059, Accuracy: 7425/10000 (74.25%)\n",
            "\n",
            "\n",
            "EPOCH:  14 LR:  [0.005]\n"
          ],
          "name": "stdout"
        },
        {
          "output_type": "stream",
          "text": [
            "Train set: batch_id=390  Average loss: 1.363486886024475 Accuracy: 64.122: 100%|██████████| 391/391 [00:12<00:00, 30.73it/s]\n"
          ],
          "name": "stderr"
        },
        {
          "output_type": "stream",
          "text": [
            "Validation loss has  decreased from 0.0059 to 0.0058. Saving the model\n"
          ],
          "name": "stdout"
        },
        {
          "output_type": "stream",
          "text": [
            "\r  0%|          | 0/391 [00:00<?, ?it/s]"
          ],
          "name": "stderr"
        },
        {
          "output_type": "stream",
          "text": [
            "\n",
            "Test set: Average loss: 0.0058, Accuracy: 7456/10000 (74.56%)\n",
            "\n",
            "\n",
            "EPOCH:  15 LR:  [0.0025]\n"
          ],
          "name": "stdout"
        },
        {
          "output_type": "stream",
          "text": [
            "Train set: batch_id=390  Average loss: 0.9132577776908875 Accuracy: 64.78: 100%|██████████| 391/391 [00:12<00:00, 30.90it/s]\n",
            "  0%|          | 0/391 [00:00<?, ?it/s]"
          ],
          "name": "stderr"
        },
        {
          "output_type": "stream",
          "text": [
            "\n",
            "Test set: Average loss: 0.0058, Accuracy: 7455/10000 (74.55%)\n",
            "\n",
            "\n",
            "EPOCH:  16 LR:  [0.0025]\n"
          ],
          "name": "stdout"
        },
        {
          "output_type": "stream",
          "text": [
            "Train set: batch_id=390  Average loss: 0.8210551142692566 Accuracy: 65.318: 100%|██████████| 391/391 [00:12<00:00, 30.74it/s]\n"
          ],
          "name": "stderr"
        },
        {
          "output_type": "stream",
          "text": [
            "Validation loss has  decreased from 0.0058 to 0.0056. Saving the model\n"
          ],
          "name": "stdout"
        },
        {
          "output_type": "stream",
          "text": [
            "\r  0%|          | 0/391 [00:00<?, ?it/s]"
          ],
          "name": "stderr"
        },
        {
          "output_type": "stream",
          "text": [
            "\n",
            "Test set: Average loss: 0.0056, Accuracy: 7518/10000 (75.18%)\n",
            "\n",
            "\n",
            "EPOCH:  17 LR:  [0.0025]\n"
          ],
          "name": "stdout"
        },
        {
          "output_type": "stream",
          "text": [
            "Train set: batch_id=390  Average loss: 1.1229993104934692 Accuracy: 65.908: 100%|██████████| 391/391 [00:12<00:00, 30.92it/s]\n"
          ],
          "name": "stderr"
        },
        {
          "output_type": "stream",
          "text": [
            "Validation loss has  decreased from 0.0056 to 0.0054. Saving the model\n"
          ],
          "name": "stdout"
        },
        {
          "output_type": "stream",
          "text": [
            "\r  0%|          | 0/391 [00:00<?, ?it/s]"
          ],
          "name": "stderr"
        },
        {
          "output_type": "stream",
          "text": [
            "\n",
            "Test set: Average loss: 0.0054, Accuracy: 7633/10000 (76.33%)\n",
            "\n",
            "\n",
            "EPOCH:  18 LR:  [0.0025]\n"
          ],
          "name": "stdout"
        },
        {
          "output_type": "stream",
          "text": [
            "Train set: batch_id=390  Average loss: 0.8556771278381348 Accuracy: 66.366: 100%|██████████| 391/391 [00:12<00:00, 30.87it/s]\n"
          ],
          "name": "stderr"
        },
        {
          "output_type": "stream",
          "text": [
            "Validation loss has  decreased from 0.0054 to 0.0052. Saving the model\n"
          ],
          "name": "stdout"
        },
        {
          "output_type": "stream",
          "text": [
            "\r  0%|          | 0/391 [00:00<?, ?it/s]"
          ],
          "name": "stderr"
        },
        {
          "output_type": "stream",
          "text": [
            "\n",
            "Test set: Average loss: 0.0052, Accuracy: 7713/10000 (77.13%)\n",
            "\n",
            "\n",
            "EPOCH:  19 LR:  [0.0025]\n"
          ],
          "name": "stdout"
        },
        {
          "output_type": "stream",
          "text": [
            "Train set: batch_id=390  Average loss: 1.049088954925537 Accuracy: 66.674: 100%|██████████| 391/391 [00:12<00:00, 30.74it/s]\n"
          ],
          "name": "stderr"
        },
        {
          "output_type": "stream",
          "text": [
            "Validation loss has  decreased from 0.0052 to 0.0052. Saving the model\n"
          ],
          "name": "stdout"
        },
        {
          "output_type": "stream",
          "text": [
            "\r  0%|          | 0/391 [00:00<?, ?it/s]"
          ],
          "name": "stderr"
        },
        {
          "output_type": "stream",
          "text": [
            "\n",
            "Test set: Average loss: 0.0052, Accuracy: 7755/10000 (77.55%)\n",
            "\n",
            "\n",
            "EPOCH:  20 LR:  [0.0025]\n"
          ],
          "name": "stdout"
        },
        {
          "output_type": "stream",
          "text": [
            "Train set: batch_id=390  Average loss: 0.8946183919906616 Accuracy: 67.302: 100%|██████████| 391/391 [00:12<00:00, 30.84it/s]\n",
            "Traceback (most recent call last):\n",
            "  File \"/usr/lib/python3.7/multiprocessing/queues.py\", line 242, in _feed\n",
            "    send_bytes(obj)\n",
            "  File \"/usr/lib/python3.7/multiprocessing/connection.py\", line 200, in send_bytes\n",
            "    self._send_bytes(m[offset:offset + size])\n",
            "  File \"/usr/lib/python3.7/multiprocessing/connection.py\", line 404, in _send_bytes\n",
            "    self._send(header + buf)\n",
            "  File \"/usr/lib/python3.7/multiprocessing/connection.py\", line 368, in _send\n",
            "    n = write(self._handle, buf)\n",
            "BrokenPipeError: [Errno 32] Broken pipe\n",
            "  0%|          | 0/391 [00:00<?, ?it/s]"
          ],
          "name": "stderr"
        },
        {
          "output_type": "stream",
          "text": [
            "\n",
            "Test set: Average loss: 0.0052, Accuracy: 7743/10000 (77.43%)\n",
            "\n",
            "\n",
            "EPOCH:  21 LR:  [0.0025]\n"
          ],
          "name": "stdout"
        },
        {
          "output_type": "stream",
          "text": [
            "Train set: batch_id=390  Average loss: 0.8669508099555969 Accuracy: 67.524: 100%|██████████| 391/391 [00:12<00:00, 30.89it/s]\n"
          ],
          "name": "stderr"
        },
        {
          "output_type": "stream",
          "text": [
            "Validation loss has  decreased from 0.0052 to 0.0051. Saving the model\n"
          ],
          "name": "stdout"
        },
        {
          "output_type": "stream",
          "text": [
            "\r  0%|          | 0/391 [00:00<?, ?it/s]"
          ],
          "name": "stderr"
        },
        {
          "output_type": "stream",
          "text": [
            "\n",
            "Test set: Average loss: 0.0051, Accuracy: 7787/10000 (77.87%)\n",
            "\n",
            "\n",
            "EPOCH:  22 LR:  [0.00125]\n"
          ],
          "name": "stdout"
        },
        {
          "output_type": "stream",
          "text": [
            "Train set: batch_id=390  Average loss: 1.0007095336914062 Accuracy: 67.95: 100%|██████████| 391/391 [00:12<00:00, 30.26it/s]\n"
          ],
          "name": "stderr"
        },
        {
          "output_type": "stream",
          "text": [
            "Validation loss has  decreased from 0.0051 to 0.0048. Saving the model\n"
          ],
          "name": "stdout"
        },
        {
          "output_type": "stream",
          "text": [
            "\r  0%|          | 0/391 [00:00<?, ?it/s]"
          ],
          "name": "stderr"
        },
        {
          "output_type": "stream",
          "text": [
            "\n",
            "Test set: Average loss: 0.0048, Accuracy: 7929/10000 (79.29%)\n",
            "\n",
            "\n",
            "EPOCH:  23 LR:  [0.00125]\n"
          ],
          "name": "stdout"
        },
        {
          "output_type": "stream",
          "text": [
            "Train set: batch_id=390  Average loss: 0.7522442936897278 Accuracy: 68.406: 100%|██████████| 391/391 [00:12<00:00, 30.38it/s]\n",
            "  0%|          | 0/391 [00:00<?, ?it/s]"
          ],
          "name": "stderr"
        },
        {
          "output_type": "stream",
          "text": [
            "\n",
            "Test set: Average loss: 0.0049, Accuracy: 7867/10000 (78.67%)\n",
            "\n",
            "\n",
            "EPOCH:  24 LR:  [0.00125]\n"
          ],
          "name": "stdout"
        },
        {
          "output_type": "stream",
          "text": [
            "Train set: batch_id=390  Average loss: 1.0222234725952148 Accuracy: 68.458: 100%|██████████| 391/391 [00:12<00:00, 30.40it/s]\n",
            "  0%|          | 0/391 [00:00<?, ?it/s]"
          ],
          "name": "stderr"
        },
        {
          "output_type": "stream",
          "text": [
            "\n",
            "Test set: Average loss: 0.0049, Accuracy: 7861/10000 (78.61%)\n",
            "\n",
            "\n",
            "EPOCH:  25 LR:  [0.00125]\n"
          ],
          "name": "stdout"
        },
        {
          "output_type": "stream",
          "text": [
            "Train set: batch_id=390  Average loss: 0.9276242256164551 Accuracy: 68.622: 100%|██████████| 391/391 [00:12<00:00, 30.70it/s]\n",
            "  0%|          | 0/391 [00:00<?, ?it/s]"
          ],
          "name": "stderr"
        },
        {
          "output_type": "stream",
          "text": [
            "\n",
            "Test set: Average loss: 0.0049, Accuracy: 7908/10000 (79.08%)\n",
            "\n",
            "\n",
            "EPOCH:  26 LR:  [0.00125]\n"
          ],
          "name": "stdout"
        },
        {
          "output_type": "stream",
          "text": [
            "Train set: batch_id=390  Average loss: 0.91650390625 Accuracy: 68.988: 100%|██████████| 391/391 [00:12<00:00, 30.14it/s]\n"
          ],
          "name": "stderr"
        },
        {
          "output_type": "stream",
          "text": [
            "Validation loss has  decreased from 0.0048 to 0.0048. Saving the model\n"
          ],
          "name": "stdout"
        },
        {
          "output_type": "stream",
          "text": [
            "\r  0%|          | 0/391 [00:00<?, ?it/s]"
          ],
          "name": "stderr"
        },
        {
          "output_type": "stream",
          "text": [
            "\n",
            "Test set: Average loss: 0.0048, Accuracy: 7943/10000 (79.43%)\n",
            "\n",
            "\n",
            "EPOCH:  27 LR:  [0.00125]\n"
          ],
          "name": "stdout"
        },
        {
          "output_type": "stream",
          "text": [
            "Train set: batch_id=390  Average loss: 0.801131546497345 Accuracy: 69.102: 100%|██████████| 391/391 [00:12<00:00, 30.10it/s]\n",
            "  0%|          | 0/391 [00:00<?, ?it/s]"
          ],
          "name": "stderr"
        },
        {
          "output_type": "stream",
          "text": [
            "\n",
            "Test set: Average loss: 0.0048, Accuracy: 7913/10000 (79.13%)\n",
            "\n",
            "\n",
            "EPOCH:  28 LR:  [0.00125]\n"
          ],
          "name": "stdout"
        },
        {
          "output_type": "stream",
          "text": [
            "Train set: batch_id=390  Average loss: 0.9559471011161804 Accuracy: 69.544: 100%|██████████| 391/391 [00:12<00:00, 30.46it/s]\n"
          ],
          "name": "stderr"
        },
        {
          "output_type": "stream",
          "text": [
            "Validation loss has  decreased from 0.0048 to 0.0047. Saving the model\n"
          ],
          "name": "stdout"
        },
        {
          "output_type": "stream",
          "text": [
            "\r  0%|          | 0/391 [00:00<?, ?it/s]"
          ],
          "name": "stderr"
        },
        {
          "output_type": "stream",
          "text": [
            "\n",
            "Test set: Average loss: 0.0047, Accuracy: 7971/10000 (79.71%)\n",
            "\n",
            "\n",
            "EPOCH:  29 LR:  [0.000625]\n"
          ],
          "name": "stdout"
        },
        {
          "output_type": "stream",
          "text": [
            "Train set: batch_id=390  Average loss: 0.9884878396987915 Accuracy: 69.956: 100%|██████████| 391/391 [00:12<00:00, 30.37it/s]\n"
          ],
          "name": "stderr"
        },
        {
          "output_type": "stream",
          "text": [
            "Validation loss has  decreased from 0.0047 to 0.0047. Saving the model\n"
          ],
          "name": "stdout"
        },
        {
          "output_type": "stream",
          "text": [
            "\r  0%|          | 0/391 [00:00<?, ?it/s]"
          ],
          "name": "stderr"
        },
        {
          "output_type": "stream",
          "text": [
            "\n",
            "Test set: Average loss: 0.0047, Accuracy: 7996/10000 (79.96%)\n",
            "\n",
            "\n",
            "EPOCH:  30 LR:  [0.000625]\n"
          ],
          "name": "stdout"
        },
        {
          "output_type": "stream",
          "text": [
            "Train set: batch_id=390  Average loss: 0.9127971529960632 Accuracy: 69.902: 100%|██████████| 391/391 [00:12<00:00, 30.57it/s]\n"
          ],
          "name": "stderr"
        },
        {
          "output_type": "stream",
          "text": [
            "Validation loss has  decreased from 0.0047 to 0.0045. Saving the model\n"
          ],
          "name": "stdout"
        },
        {
          "output_type": "stream",
          "text": [
            "\r  0%|          | 0/391 [00:00<?, ?it/s]"
          ],
          "name": "stderr"
        },
        {
          "output_type": "stream",
          "text": [
            "\n",
            "Test set: Average loss: 0.0045, Accuracy: 8021/10000 (80.21%)\n",
            "\n",
            "\n",
            "EPOCH:  31 LR:  [0.000625]\n"
          ],
          "name": "stdout"
        },
        {
          "output_type": "stream",
          "text": [
            "Train set: batch_id=390  Average loss: 0.9691556692123413 Accuracy: 70.288: 100%|██████████| 391/391 [00:13<00:00, 29.92it/s]\n",
            "  0%|          | 0/391 [00:00<?, ?it/s]"
          ],
          "name": "stderr"
        },
        {
          "output_type": "stream",
          "text": [
            "\n",
            "Test set: Average loss: 0.0048, Accuracy: 7947/10000 (79.47%)\n",
            "\n",
            "\n",
            "EPOCH:  32 LR:  [0.000625]\n"
          ],
          "name": "stdout"
        },
        {
          "output_type": "stream",
          "text": [
            "Train set: batch_id=390  Average loss: 0.8822166323661804 Accuracy: 70.366: 100%|██████████| 391/391 [00:12<00:00, 30.50it/s]\n",
            "  0%|          | 0/391 [00:00<?, ?it/s]"
          ],
          "name": "stderr"
        },
        {
          "output_type": "stream",
          "text": [
            "\n",
            "Test set: Average loss: 0.0046, Accuracy: 8031/10000 (80.31%)\n",
            "\n",
            "\n",
            "EPOCH:  33 LR:  [0.000625]\n"
          ],
          "name": "stdout"
        },
        {
          "output_type": "stream",
          "text": [
            "Train set: batch_id=390  Average loss: 0.7543746829032898 Accuracy: 70.734: 100%|██████████| 391/391 [00:12<00:00, 30.75it/s]\n"
          ],
          "name": "stderr"
        },
        {
          "output_type": "stream",
          "text": [
            "Validation loss has  decreased from 0.0045 to 0.0045. Saving the model\n"
          ],
          "name": "stdout"
        },
        {
          "output_type": "stream",
          "text": [
            "\r  0%|          | 0/391 [00:00<?, ?it/s]"
          ],
          "name": "stderr"
        },
        {
          "output_type": "stream",
          "text": [
            "\n",
            "Test set: Average loss: 0.0045, Accuracy: 8018/10000 (80.18%)\n",
            "\n",
            "\n",
            "EPOCH:  34 LR:  [0.000625]\n"
          ],
          "name": "stdout"
        },
        {
          "output_type": "stream",
          "text": [
            "Train set: batch_id=390  Average loss: 0.7489748597145081 Accuracy: 70.506: 100%|██████████| 391/391 [00:12<00:00, 30.35it/s]\n"
          ],
          "name": "stderr"
        },
        {
          "output_type": "stream",
          "text": [
            "Validation loss has  decreased from 0.0045 to 0.0044. Saving the model\n"
          ],
          "name": "stdout"
        },
        {
          "output_type": "stream",
          "text": [
            "\r  0%|          | 0/391 [00:00<?, ?it/s]"
          ],
          "name": "stderr"
        },
        {
          "output_type": "stream",
          "text": [
            "\n",
            "Test set: Average loss: 0.0044, Accuracy: 8131/10000 (81.31%)\n",
            "\n",
            "\n",
            "EPOCH:  35 LR:  [0.000625]\n"
          ],
          "name": "stdout"
        },
        {
          "output_type": "stream",
          "text": [
            "Train set: batch_id=390  Average loss: 0.8092877268791199 Accuracy: 70.86: 100%|██████████| 391/391 [00:12<00:00, 30.68it/s]\n"
          ],
          "name": "stderr"
        },
        {
          "output_type": "stream",
          "text": [
            "Validation loss has  decreased from 0.0044 to 0.0044. Saving the model\n"
          ],
          "name": "stdout"
        },
        {
          "output_type": "stream",
          "text": [
            "\r  0%|          | 0/391 [00:00<?, ?it/s]"
          ],
          "name": "stderr"
        },
        {
          "output_type": "stream",
          "text": [
            "\n",
            "Test set: Average loss: 0.0044, Accuracy: 8110/10000 (81.10%)\n",
            "\n",
            "\n",
            "EPOCH:  36 LR:  [0.0003125]\n"
          ],
          "name": "stdout"
        },
        {
          "output_type": "stream",
          "text": [
            "Train set: batch_id=390  Average loss: 0.96906977891922 Accuracy: 71.358: 100%|██████████| 391/391 [00:12<00:00, 30.32it/s]\n"
          ],
          "name": "stderr"
        },
        {
          "output_type": "stream",
          "text": [
            "Validation loss has  decreased from 0.0044 to 0.0044. Saving the model\n"
          ],
          "name": "stdout"
        },
        {
          "output_type": "stream",
          "text": [
            "\r  0%|          | 0/391 [00:00<?, ?it/s]"
          ],
          "name": "stderr"
        },
        {
          "output_type": "stream",
          "text": [
            "\n",
            "Test set: Average loss: 0.0044, Accuracy: 8119/10000 (81.19%)\n",
            "\n",
            "\n",
            "EPOCH:  37 LR:  [0.0003125]\n"
          ],
          "name": "stdout"
        },
        {
          "output_type": "stream",
          "text": [
            "Train set: batch_id=390  Average loss: 0.8708208203315735 Accuracy: 71.316: 100%|██████████| 391/391 [00:12<00:00, 30.60it/s]\n"
          ],
          "name": "stderr"
        },
        {
          "output_type": "stream",
          "text": [
            "Validation loss has  decreased from 0.0044 to 0.0043. Saving the model\n"
          ],
          "name": "stdout"
        },
        {
          "output_type": "stream",
          "text": [
            "\r  0%|          | 0/391 [00:00<?, ?it/s]"
          ],
          "name": "stderr"
        },
        {
          "output_type": "stream",
          "text": [
            "\n",
            "Test set: Average loss: 0.0043, Accuracy: 8097/10000 (80.97%)\n",
            "\n",
            "\n",
            "EPOCH:  38 LR:  [0.0003125]\n"
          ],
          "name": "stdout"
        },
        {
          "output_type": "stream",
          "text": [
            "Train set: batch_id=390  Average loss: 0.9780339002609253 Accuracy: 71.67: 100%|██████████| 391/391 [00:12<00:00, 30.35it/s]\n"
          ],
          "name": "stderr"
        },
        {
          "output_type": "stream",
          "text": [
            "Validation loss has  decreased from 0.0043 to 0.0043. Saving the model\n"
          ],
          "name": "stdout"
        },
        {
          "output_type": "stream",
          "text": [
            "\r  0%|          | 0/391 [00:00<?, ?it/s]"
          ],
          "name": "stderr"
        },
        {
          "output_type": "stream",
          "text": [
            "\n",
            "Test set: Average loss: 0.0043, Accuracy: 8164/10000 (81.64%)\n",
            "\n",
            "\n",
            "EPOCH:  39 LR:  [0.0003125]\n"
          ],
          "name": "stdout"
        },
        {
          "output_type": "stream",
          "text": [
            "Train set: batch_id=390  Average loss: 0.9839398264884949 Accuracy: 71.746: 100%|██████████| 391/391 [00:12<00:00, 30.45it/s]\n",
            "  0%|          | 0/391 [00:00<?, ?it/s]"
          ],
          "name": "stderr"
        },
        {
          "output_type": "stream",
          "text": [
            "\n",
            "Test set: Average loss: 0.0043, Accuracy: 8139/10000 (81.39%)\n",
            "\n",
            "\n",
            "EPOCH:  40 LR:  [0.0003125]\n"
          ],
          "name": "stdout"
        },
        {
          "output_type": "stream",
          "text": [
            "Train set: batch_id=390  Average loss: 0.8815469741821289 Accuracy: 71.844: 100%|██████████| 391/391 [00:12<00:00, 30.47it/s]\n"
          ],
          "name": "stderr"
        },
        {
          "output_type": "stream",
          "text": [
            "Validation loss has  decreased from 0.0043 to 0.0043. Saving the model\n"
          ],
          "name": "stdout"
        },
        {
          "output_type": "stream",
          "text": [
            "\r  0%|          | 0/391 [00:00<?, ?it/s]"
          ],
          "name": "stderr"
        },
        {
          "output_type": "stream",
          "text": [
            "\n",
            "Test set: Average loss: 0.0043, Accuracy: 8164/10000 (81.64%)\n",
            "\n",
            "\n",
            "EPOCH:  41 LR:  [0.0003125]\n"
          ],
          "name": "stdout"
        },
        {
          "output_type": "stream",
          "text": [
            "Train set: batch_id=390  Average loss: 0.7178144454956055 Accuracy: 72.01: 100%|██████████| 391/391 [00:12<00:00, 30.56it/s]\n",
            "  0%|          | 0/391 [00:00<?, ?it/s]"
          ],
          "name": "stderr"
        },
        {
          "output_type": "stream",
          "text": [
            "\n",
            "Test set: Average loss: 0.0044, Accuracy: 8119/10000 (81.19%)\n",
            "\n",
            "\n",
            "EPOCH:  42 LR:  [0.0003125]\n"
          ],
          "name": "stdout"
        },
        {
          "output_type": "stream",
          "text": [
            "Train set: batch_id=390  Average loss: 0.8018490076065063 Accuracy: 72.258: 100%|██████████| 391/391 [00:12<00:00, 30.45it/s]\n"
          ],
          "name": "stderr"
        },
        {
          "output_type": "stream",
          "text": [
            "Validation loss has  decreased from 0.0043 to 0.0042. Saving the model\n"
          ],
          "name": "stdout"
        },
        {
          "output_type": "stream",
          "text": [
            "\r  0%|          | 0/391 [00:00<?, ?it/s]"
          ],
          "name": "stderr"
        },
        {
          "output_type": "stream",
          "text": [
            "\n",
            "Test set: Average loss: 0.0042, Accuracy: 8212/10000 (82.12%)\n",
            "\n",
            "\n",
            "EPOCH:  43 LR:  [0.00015625]\n"
          ],
          "name": "stdout"
        },
        {
          "output_type": "stream",
          "text": [
            "Train set: batch_id=390  Average loss: 0.9493788480758667 Accuracy: 72.208: 100%|██████████| 391/391 [00:12<00:00, 30.48it/s]\n",
            "  0%|          | 0/391 [00:00<?, ?it/s]"
          ],
          "name": "stderr"
        },
        {
          "output_type": "stream",
          "text": [
            "\n",
            "Test set: Average loss: 0.0042, Accuracy: 8185/10000 (81.85%)\n",
            "\n",
            "\n",
            "EPOCH:  44 LR:  [0.00015625]\n"
          ],
          "name": "stdout"
        },
        {
          "output_type": "stream",
          "text": [
            "Train set: batch_id=390  Average loss: 0.6958773732185364 Accuracy: 72.298: 100%|██████████| 391/391 [00:12<00:00, 30.17it/s]\n"
          ],
          "name": "stderr"
        },
        {
          "output_type": "stream",
          "text": [
            "Validation loss has  decreased from 0.0042 to 0.0042. Saving the model\n"
          ],
          "name": "stdout"
        },
        {
          "output_type": "stream",
          "text": [
            "\r  0%|          | 0/391 [00:00<?, ?it/s]"
          ],
          "name": "stderr"
        },
        {
          "output_type": "stream",
          "text": [
            "\n",
            "Test set: Average loss: 0.0042, Accuracy: 8216/10000 (82.16%)\n",
            "\n",
            "\n",
            "EPOCH:  45 LR:  [0.00015625]\n"
          ],
          "name": "stdout"
        },
        {
          "output_type": "stream",
          "text": [
            "Train set: batch_id=390  Average loss: 0.9379026293754578 Accuracy: 72.38: 100%|██████████| 391/391 [00:12<00:00, 30.30it/s]\n"
          ],
          "name": "stderr"
        },
        {
          "output_type": "stream",
          "text": [
            "Validation loss has  decreased from 0.0042 to 0.0041. Saving the model\n"
          ],
          "name": "stdout"
        },
        {
          "output_type": "stream",
          "text": [
            "\r  0%|          | 0/391 [00:00<?, ?it/s]"
          ],
          "name": "stderr"
        },
        {
          "output_type": "stream",
          "text": [
            "\n",
            "Test set: Average loss: 0.0041, Accuracy: 8248/10000 (82.48%)\n",
            "\n",
            "\n",
            "EPOCH:  46 LR:  [0.00015625]\n"
          ],
          "name": "stdout"
        },
        {
          "output_type": "stream",
          "text": [
            "Train set: batch_id=390  Average loss: 0.6959205865859985 Accuracy: 72.918: 100%|██████████| 391/391 [00:12<00:00, 30.36it/s]\n",
            "  0%|          | 0/391 [00:00<?, ?it/s]"
          ],
          "name": "stderr"
        },
        {
          "output_type": "stream",
          "text": [
            "\n",
            "Test set: Average loss: 0.0042, Accuracy: 8202/10000 (82.02%)\n",
            "\n",
            "\n",
            "EPOCH:  47 LR:  [0.00015625]\n"
          ],
          "name": "stdout"
        },
        {
          "output_type": "stream",
          "text": [
            "Train set: batch_id=390  Average loss: 1.07511568069458 Accuracy: 72.638: 100%|██████████| 391/391 [00:12<00:00, 30.57it/s]\n",
            "  0%|          | 0/391 [00:00<?, ?it/s]"
          ],
          "name": "stderr"
        },
        {
          "output_type": "stream",
          "text": [
            "\n",
            "Test set: Average loss: 0.0042, Accuracy: 8209/10000 (82.09%)\n",
            "\n",
            "\n",
            "EPOCH:  48 LR:  [0.00015625]\n"
          ],
          "name": "stdout"
        },
        {
          "output_type": "stream",
          "text": [
            "Train set: batch_id=390  Average loss: 0.879957377910614 Accuracy: 72.892: 100%|██████████| 391/391 [00:12<00:00, 30.58it/s]\n"
          ],
          "name": "stderr"
        },
        {
          "output_type": "stream",
          "text": [
            "Validation loss has  decreased from 0.0041 to 0.0041. Saving the model\n"
          ],
          "name": "stdout"
        },
        {
          "output_type": "stream",
          "text": [
            "\r  0%|          | 0/391 [00:00<?, ?it/s]"
          ],
          "name": "stderr"
        },
        {
          "output_type": "stream",
          "text": [
            "\n",
            "Test set: Average loss: 0.0041, Accuracy: 8223/10000 (82.23%)\n",
            "\n",
            "\n",
            "EPOCH:  49 LR:  [0.00015625]\n"
          ],
          "name": "stdout"
        },
        {
          "output_type": "stream",
          "text": [
            "Train set: batch_id=390  Average loss: 0.8396638631820679 Accuracy: 73.06: 100%|██████████| 391/391 [00:12<00:00, 30.70it/s]\n"
          ],
          "name": "stderr"
        },
        {
          "output_type": "stream",
          "text": [
            "Validation loss has  decreased from 0.0041 to 0.0041. Saving the model\n"
          ],
          "name": "stdout"
        },
        {
          "output_type": "stream",
          "text": [
            "\r  0%|          | 0/391 [00:00<?, ?it/s]"
          ],
          "name": "stderr"
        },
        {
          "output_type": "stream",
          "text": [
            "\n",
            "Test set: Average loss: 0.0041, Accuracy: 8250/10000 (82.50%)\n",
            "\n",
            "\n",
            "EPOCH:  50 LR:  [7.8125e-05]\n"
          ],
          "name": "stdout"
        },
        {
          "output_type": "stream",
          "text": [
            "Train set: batch_id=390  Average loss: 0.8589892387390137 Accuracy: 72.7: 100%|██████████| 391/391 [00:12<00:00, 30.64it/s]\n"
          ],
          "name": "stderr"
        },
        {
          "output_type": "stream",
          "text": [
            "Validation loss has  decreased from 0.0041 to 0.004. Saving the model\n"
          ],
          "name": "stdout"
        },
        {
          "output_type": "stream",
          "text": [
            "\r  0%|          | 0/391 [00:00<?, ?it/s]"
          ],
          "name": "stderr"
        },
        {
          "output_type": "stream",
          "text": [
            "\n",
            "Test set: Average loss: 0.0040, Accuracy: 8274/10000 (82.74%)\n",
            "\n",
            "\n",
            "EPOCH:  51 LR:  [7.8125e-05]\n"
          ],
          "name": "stdout"
        },
        {
          "output_type": "stream",
          "text": [
            "Train set: batch_id=390  Average loss: 1.017458438873291 Accuracy: 73.264: 100%|██████████| 391/391 [00:12<00:00, 30.63it/s]\n"
          ],
          "name": "stderr"
        },
        {
          "output_type": "stream",
          "text": [
            "Validation loss has  decreased from 0.004 to 0.004. Saving the model\n"
          ],
          "name": "stdout"
        },
        {
          "output_type": "stream",
          "text": [
            "\r  0%|          | 0/391 [00:00<?, ?it/s]"
          ],
          "name": "stderr"
        },
        {
          "output_type": "stream",
          "text": [
            "\n",
            "Test set: Average loss: 0.0040, Accuracy: 8287/10000 (82.87%)\n",
            "\n",
            "\n",
            "EPOCH:  52 LR:  [7.8125e-05]\n"
          ],
          "name": "stdout"
        },
        {
          "output_type": "stream",
          "text": [
            "Train set: batch_id=390  Average loss: 0.7234097719192505 Accuracy: 73.352: 100%|██████████| 391/391 [00:12<00:00, 30.30it/s]\n",
            "  0%|          | 0/391 [00:00<?, ?it/s]"
          ],
          "name": "stderr"
        },
        {
          "output_type": "stream",
          "text": [
            "\n",
            "Test set: Average loss: 0.0041, Accuracy: 8233/10000 (82.33%)\n",
            "\n",
            "\n",
            "EPOCH:  53 LR:  [7.8125e-05]\n"
          ],
          "name": "stdout"
        },
        {
          "output_type": "stream",
          "text": [
            "Train set: batch_id=390  Average loss: 1.0417678356170654 Accuracy: 73.376: 100%|██████████| 391/391 [00:12<00:00, 30.14it/s]\n"
          ],
          "name": "stderr"
        },
        {
          "output_type": "stream",
          "text": [
            "Validation loss has  decreased from 0.004 to 0.004. Saving the model\n"
          ],
          "name": "stdout"
        },
        {
          "output_type": "stream",
          "text": [
            "\r  0%|          | 0/391 [00:00<?, ?it/s]"
          ],
          "name": "stderr"
        },
        {
          "output_type": "stream",
          "text": [
            "\n",
            "Test set: Average loss: 0.0040, Accuracy: 8292/10000 (82.92%)\n",
            "\n",
            "\n",
            "EPOCH:  54 LR:  [7.8125e-05]\n"
          ],
          "name": "stdout"
        },
        {
          "output_type": "stream",
          "text": [
            "Train set: batch_id=390  Average loss: 0.9578129649162292 Accuracy: 73.558: 100%|██████████| 391/391 [00:13<00:00, 30.07it/s]\n"
          ],
          "name": "stderr"
        },
        {
          "output_type": "stream",
          "text": [
            "Validation loss has  decreased from 0.004 to 0.0039. Saving the model\n"
          ],
          "name": "stdout"
        },
        {
          "output_type": "stream",
          "text": [
            "\r  0%|          | 0/391 [00:00<?, ?it/s]"
          ],
          "name": "stderr"
        },
        {
          "output_type": "stream",
          "text": [
            "\n",
            "Test set: Average loss: 0.0039, Accuracy: 8295/10000 (82.95%)\n",
            "\n",
            "\n",
            "EPOCH:  55 LR:  [7.8125e-05]\n"
          ],
          "name": "stdout"
        },
        {
          "output_type": "stream",
          "text": [
            "Train set: batch_id=390  Average loss: 0.700115442276001 Accuracy: 73.592: 100%|██████████| 391/391 [00:12<00:00, 30.31it/s]\n"
          ],
          "name": "stderr"
        },
        {
          "output_type": "stream",
          "text": [
            "Validation loss has  decreased from 0.0039 to 0.0039. Saving the model\n"
          ],
          "name": "stdout"
        },
        {
          "output_type": "stream",
          "text": [
            "\r  0%|          | 0/391 [00:00<?, ?it/s]"
          ],
          "name": "stderr"
        },
        {
          "output_type": "stream",
          "text": [
            "\n",
            "Test set: Average loss: 0.0039, Accuracy: 8305/10000 (83.05%)\n",
            "\n",
            "\n",
            "EPOCH:  56 LR:  [7.8125e-05]\n"
          ],
          "name": "stdout"
        },
        {
          "output_type": "stream",
          "text": [
            "Train set: batch_id=390  Average loss: 0.6001409292221069 Accuracy: 73.612: 100%|██████████| 391/391 [00:12<00:00, 30.38it/s]\n",
            "  0%|          | 0/391 [00:00<?, ?it/s]"
          ],
          "name": "stderr"
        },
        {
          "output_type": "stream",
          "text": [
            "\n",
            "Test set: Average loss: 0.0040, Accuracy: 8267/10000 (82.67%)\n",
            "\n",
            "\n",
            "EPOCH:  57 LR:  [3.90625e-05]\n"
          ],
          "name": "stdout"
        },
        {
          "output_type": "stream",
          "text": [
            "Train set: batch_id=390  Average loss: 0.8683006167411804 Accuracy: 73.644: 100%|██████████| 391/391 [00:12<00:00, 30.78it/s]\n",
            "  0%|          | 0/391 [00:00<?, ?it/s]"
          ],
          "name": "stderr"
        },
        {
          "output_type": "stream",
          "text": [
            "\n",
            "Test set: Average loss: 0.0040, Accuracy: 8277/10000 (82.77%)\n",
            "\n",
            "\n",
            "EPOCH:  58 LR:  [3.90625e-05]\n"
          ],
          "name": "stdout"
        },
        {
          "output_type": "stream",
          "text": [
            "Train set: batch_id=390  Average loss: 0.5412324070930481 Accuracy: 73.714: 100%|██████████| 391/391 [00:12<00:00, 30.55it/s]\n",
            "  0%|          | 0/391 [00:00<?, ?it/s]"
          ],
          "name": "stderr"
        },
        {
          "output_type": "stream",
          "text": [
            "\n",
            "Test set: Average loss: 0.0040, Accuracy: 8298/10000 (82.98%)\n",
            "\n",
            "\n",
            "EPOCH:  59 LR:  [3.90625e-05]\n"
          ],
          "name": "stdout"
        },
        {
          "output_type": "stream",
          "text": [
            "Train set: batch_id=390  Average loss: 0.8807786107063293 Accuracy: 73.664: 100%|██████████| 391/391 [00:12<00:00, 30.60it/s]\n"
          ],
          "name": "stderr"
        },
        {
          "output_type": "stream",
          "text": [
            "Validation loss has  decreased from 0.0039 to 0.0039. Saving the model\n"
          ],
          "name": "stdout"
        },
        {
          "output_type": "stream",
          "text": [
            "\r  0%|          | 0/391 [00:00<?, ?it/s]"
          ],
          "name": "stderr"
        },
        {
          "output_type": "stream",
          "text": [
            "\n",
            "Test set: Average loss: 0.0039, Accuracy: 8333/10000 (83.33%)\n",
            "\n",
            "\n",
            "EPOCH:  60 LR:  [3.90625e-05]\n"
          ],
          "name": "stdout"
        },
        {
          "output_type": "stream",
          "text": [
            "Train set: batch_id=390  Average loss: 0.7663397789001465 Accuracy: 74.304: 100%|██████████| 391/391 [00:12<00:00, 30.70it/s]\n"
          ],
          "name": "stderr"
        },
        {
          "output_type": "stream",
          "text": [
            "Validation loss has  decreased from 0.0039 to 0.0039. Saving the model\n"
          ],
          "name": "stdout"
        },
        {
          "output_type": "stream",
          "text": [
            "\r  0%|          | 0/391 [00:00<?, ?it/s]"
          ],
          "name": "stderr"
        },
        {
          "output_type": "stream",
          "text": [
            "\n",
            "Test set: Average loss: 0.0039, Accuracy: 8352/10000 (83.52%)\n",
            "\n",
            "\n",
            "EPOCH:  61 LR:  [3.90625e-05]\n"
          ],
          "name": "stdout"
        },
        {
          "output_type": "stream",
          "text": [
            "Train set: batch_id=390  Average loss: 0.7869503498077393 Accuracy: 74.162: 100%|██████████| 391/391 [00:12<00:00, 30.27it/s]\n"
          ],
          "name": "stderr"
        },
        {
          "output_type": "stream",
          "text": [
            "Validation loss has  decreased from 0.0039 to 0.0038. Saving the model\n"
          ],
          "name": "stdout"
        },
        {
          "output_type": "stream",
          "text": [
            "\r  0%|          | 0/391 [00:00<?, ?it/s]"
          ],
          "name": "stderr"
        },
        {
          "output_type": "stream",
          "text": [
            "\n",
            "Test set: Average loss: 0.0038, Accuracy: 8317/10000 (83.17%)\n",
            "\n",
            "\n",
            "EPOCH:  62 LR:  [3.90625e-05]\n"
          ],
          "name": "stdout"
        },
        {
          "output_type": "stream",
          "text": [
            "Train set: batch_id=390  Average loss: 0.950007438659668 Accuracy: 74.154: 100%|██████████| 391/391 [00:12<00:00, 30.58it/s]\n"
          ],
          "name": "stderr"
        },
        {
          "output_type": "stream",
          "text": [
            "Validation loss has  decreased from 0.0038 to 0.0038. Saving the model\n"
          ],
          "name": "stdout"
        },
        {
          "output_type": "stream",
          "text": [
            "\r  0%|          | 0/391 [00:00<?, ?it/s]"
          ],
          "name": "stderr"
        },
        {
          "output_type": "stream",
          "text": [
            "\n",
            "Test set: Average loss: 0.0038, Accuracy: 8379/10000 (83.79%)\n",
            "\n",
            "\n",
            "EPOCH:  63 LR:  [3.90625e-05]\n"
          ],
          "name": "stdout"
        },
        {
          "output_type": "stream",
          "text": [
            "Train set: batch_id=390  Average loss: 0.7533799409866333 Accuracy: 74.25: 100%|██████████| 391/391 [00:12<00:00, 30.30it/s]\n",
            "  0%|          | 0/391 [00:00<?, ?it/s]"
          ],
          "name": "stderr"
        },
        {
          "output_type": "stream",
          "text": [
            "\n",
            "Test set: Average loss: 0.0038, Accuracy: 8354/10000 (83.54%)\n",
            "\n",
            "\n",
            "EPOCH:  64 LR:  [1.953125e-05]\n"
          ],
          "name": "stdout"
        },
        {
          "output_type": "stream",
          "text": [
            "Train set: batch_id=390  Average loss: 0.5675966143608093 Accuracy: 74.058: 100%|██████████| 391/391 [00:12<00:00, 30.62it/s]\n",
            "  0%|          | 0/391 [00:00<?, ?it/s]"
          ],
          "name": "stderr"
        },
        {
          "output_type": "stream",
          "text": [
            "\n",
            "Test set: Average loss: 0.0040, Accuracy: 8336/10000 (83.36%)\n",
            "\n",
            "\n",
            "EPOCH:  65 LR:  [1.953125e-05]\n"
          ],
          "name": "stdout"
        },
        {
          "output_type": "stream",
          "text": [
            "Train set: batch_id=390  Average loss: 0.7059320211410522 Accuracy: 74.92: 100%|██████████| 391/391 [00:12<00:00, 30.21it/s]\n",
            "  0%|          | 0/391 [00:00<?, ?it/s]"
          ],
          "name": "stderr"
        },
        {
          "output_type": "stream",
          "text": [
            "\n",
            "Test set: Average loss: 0.0039, Accuracy: 8351/10000 (83.51%)\n",
            "\n",
            "\n",
            "EPOCH:  66 LR:  [1.953125e-05]\n"
          ],
          "name": "stdout"
        },
        {
          "output_type": "stream",
          "text": [
            "Train set: batch_id=390  Average loss: 0.6495503187179565 Accuracy: 74.636: 100%|██████████| 391/391 [00:12<00:00, 30.62it/s]\n"
          ],
          "name": "stderr"
        },
        {
          "output_type": "stream",
          "text": [
            "Validation loss has  decreased from 0.0038 to 0.0037. Saving the model\n"
          ],
          "name": "stdout"
        },
        {
          "output_type": "stream",
          "text": [
            "\r  0%|          | 0/391 [00:00<?, ?it/s]"
          ],
          "name": "stderr"
        },
        {
          "output_type": "stream",
          "text": [
            "\n",
            "Test set: Average loss: 0.0037, Accuracy: 8402/10000 (84.02%)\n",
            "\n",
            "\n",
            "EPOCH:  67 LR:  [1.953125e-05]\n"
          ],
          "name": "stdout"
        },
        {
          "output_type": "stream",
          "text": [
            "Train set: batch_id=390  Average loss: 0.7548699378967285 Accuracy: 74.412: 100%|██████████| 391/391 [00:13<00:00, 29.99it/s]\n",
            "  0%|          | 0/391 [00:00<?, ?it/s]"
          ],
          "name": "stderr"
        },
        {
          "output_type": "stream",
          "text": [
            "\n",
            "Test set: Average loss: 0.0038, Accuracy: 8386/10000 (83.86%)\n",
            "\n",
            "\n",
            "EPOCH:  68 LR:  [1.953125e-05]\n"
          ],
          "name": "stdout"
        },
        {
          "output_type": "stream",
          "text": [
            "Train set: batch_id=390  Average loss: 0.7932557463645935 Accuracy: 74.562: 100%|██████████| 391/391 [00:13<00:00, 30.00it/s]\n"
          ],
          "name": "stderr"
        },
        {
          "output_type": "stream",
          "text": [
            "Validation loss has  decreased from 0.0037 to 0.0037. Saving the model\n"
          ],
          "name": "stdout"
        },
        {
          "output_type": "stream",
          "text": [
            "\r  0%|          | 0/391 [00:00<?, ?it/s]"
          ],
          "name": "stderr"
        },
        {
          "output_type": "stream",
          "text": [
            "\n",
            "Test set: Average loss: 0.0037, Accuracy: 8407/10000 (84.07%)\n",
            "\n",
            "\n",
            "EPOCH:  69 LR:  [1.953125e-05]\n"
          ],
          "name": "stdout"
        },
        {
          "output_type": "stream",
          "text": [
            "Train set: batch_id=390  Average loss: 0.6979458332061768 Accuracy: 74.736: 100%|██████████| 391/391 [00:12<00:00, 30.42it/s]\n",
            "  0%|          | 0/391 [00:00<?, ?it/s]"
          ],
          "name": "stderr"
        },
        {
          "output_type": "stream",
          "text": [
            "\n",
            "Test set: Average loss: 0.0037, Accuracy: 8385/10000 (83.85%)\n",
            "\n",
            "\n",
            "EPOCH:  70 LR:  [1.953125e-05]\n"
          ],
          "name": "stdout"
        },
        {
          "output_type": "stream",
          "text": [
            "Train set: batch_id=390  Average loss: 0.6718971133232117 Accuracy: 74.812: 100%|██████████| 391/391 [00:12<00:00, 30.31it/s]\n"
          ],
          "name": "stderr"
        },
        {
          "output_type": "stream",
          "text": [
            "\n",
            "Test set: Average loss: 0.0037, Accuracy: 8386/10000 (83.86%)\n",
            "\n"
          ],
          "name": "stdout"
        }
      ]
    },
    {
      "cell_type": "code",
      "metadata": {
        "colab": {
          "base_uri": "https://localhost:8080/",
          "height": 1000
        },
        "id": "IydQGIj1D51K",
        "outputId": "5e84faab-7855-4d15-866c-63ce80c944ca"
      },
      "source": [
        "test_misc_images = [test_misc_img[i] for i in range(20)]\n",
        "data_utils.plot_misclassified_rgb(test_misc_images, 'test_misc_batchnorm.png', config=modelconfig)"
      ],
      "execution_count": 21,
      "outputs": [
        {
          "output_type": "stream",
          "text": [
            "Clipping input data to the valid range for imshow with RGB data ([0..1] for floats or [0..255] for integers).\n",
            "Clipping input data to the valid range for imshow with RGB data ([0..1] for floats or [0..255] for integers).\n",
            "Clipping input data to the valid range for imshow with RGB data ([0..1] for floats or [0..255] for integers).\n",
            "Clipping input data to the valid range for imshow with RGB data ([0..1] for floats or [0..255] for integers).\n",
            "Clipping input data to the valid range for imshow with RGB data ([0..1] for floats or [0..255] for integers).\n",
            "Clipping input data to the valid range for imshow with RGB data ([0..1] for floats or [0..255] for integers).\n",
            "Clipping input data to the valid range for imshow with RGB data ([0..1] for floats or [0..255] for integers).\n",
            "Clipping input data to the valid range for imshow with RGB data ([0..1] for floats or [0..255] for integers).\n",
            "Clipping input data to the valid range for imshow with RGB data ([0..1] for floats or [0..255] for integers).\n",
            "Clipping input data to the valid range for imshow with RGB data ([0..1] for floats or [0..255] for integers).\n",
            "Clipping input data to the valid range for imshow with RGB data ([0..1] for floats or [0..255] for integers).\n",
            "Clipping input data to the valid range for imshow with RGB data ([0..1] for floats or [0..255] for integers).\n",
            "Clipping input data to the valid range for imshow with RGB data ([0..1] for floats or [0..255] for integers).\n",
            "Clipping input data to the valid range for imshow with RGB data ([0..1] for floats or [0..255] for integers).\n",
            "Clipping input data to the valid range for imshow with RGB data ([0..1] for floats or [0..255] for integers).\n",
            "Clipping input data to the valid range for imshow with RGB data ([0..1] for floats or [0..255] for integers).\n",
            "Clipping input data to the valid range for imshow with RGB data ([0..1] for floats or [0..255] for integers).\n",
            "Clipping input data to the valid range for imshow with RGB data ([0..1] for floats or [0..255] for integers).\n",
            "Clipping input data to the valid range for imshow with RGB data ([0..1] for floats or [0..255] for integers).\n",
            "Clipping input data to the valid range for imshow with RGB data ([0..1] for floats or [0..255] for integers).\n"
          ],
          "name": "stderr"
        },
        {
          "output_type": "display_data",
          "data": {
            "image/png": "[encoded data removed]",
            "text/plain": [
              "<Figure size 1080x1080 with 20 Axes>"
            ]
          },
          "metadata": {
            "tags": [],
            "needs_background": "light"
          }
        }
      ]
    },
    {
      "cell_type": "code",
      "metadata": {
        "colab": {
          "base_uri": "https://localhost:8080/"
        },
        "id": "gHSQ2N79hHd1",
        "outputId": "38b34c88-c2e1-4e08-a982-d54ca47bd082"
      },
      "source": [
        "class_correct = list(0. for i in range(10))\n",
        "class_total = list(0. for i in range(10))\n",
        "with torch.no_grad():\n",
        "    for data in modelconfig.testloader:\n",
        "        images, labels = data\n",
        "        labels=labels.to(modelconfig.device)\n",
        "        outputs = model(images.to(modelconfig.device))\n",
        "        _, predicted = torch.max(outputs, 1)\n",
        "        c = (predicted == labels).squeeze()\n",
        "        for i in range(4):\n",
        "            label = labels[i]\n",
        "            class_correct[label] += c[i].item()\n",
        "            class_total[label] += 1\n",
        "\n",
        "\n",
        "for i in range(10):\n",
        "    print('Accuracy of %5s : %2d %%' % (\n",
        "        modelconfig.classes[i], 100 * class_correct[i] / class_total[i]))"
      ],
      "execution_count": 22,
      "outputs": [
        {
          "output_type": "stream",
          "text": [
            "Accuracy of plane : 89 %\n",
            "Accuracy of   car : 93 %\n",
            "Accuracy of  bird : 78 %\n",
            "Accuracy of   cat : 60 %\n",
            "Accuracy of  deer : 73 %\n",
            "Accuracy of   dog : 76 %\n",
            "Accuracy of  frog : 94 %\n",
            "Accuracy of horse : 97 %\n",
            "Accuracy of  ship : 93 %\n",
            "Accuracy of truck : 83 %\n"
          ],
          "name": "stdout"
        }
      ]
    },
    {
      "cell_type": "code",
      "metadata": {
        "id": "VmDm9ogZhhNM"
      },
      "source": [
        "len(modelconfig.testloader)"
      ],
      "execution_count": null,
      "outputs": []
    },
    {
      "cell_type": "code",
      "metadata": {
        "id": "8XcigfR5hHWL"
      },
      "source": [
        "_results = modelconfig.model_results\n",
        "testacc =  _results['TestAccuracy']\n",
        "trainacc =  _results['TrainAccuracy']\n",
        "testloss = [i/len(modelconfig.testloader) for i in _results['TestLoss']]\n",
        "trainloss = [i/len(modelconfig.trainloader) for i in _results['TrainLoss']]\n",
        "\n",
        "# testacc = model_results['TestAccuracy']\n",
        "# trainacc = model_results['TrainAccuracy']\n",
        "# testloss = model_results['TestLoss']\n",
        "# trainloss = model_results['TrainLoss']\n",
        "# _results"
      ],
      "execution_count": 23,
      "outputs": []
    },
    {
      "cell_type": "code",
      "metadata": {
        "id": "jpxUjZYfiLox"
      },
      "source": [
        "len(testacc)"
      ],
      "execution_count": null,
      "outputs": []
    },
    {
      "cell_type": "code",
      "metadata": {
        "id": "WeeihvmXhHSe"
      },
      "source": [
        "plot_details_dict = {'Test Accuracy(%)': 'Validation Accuracy',\n",
        "                     'Train Accuracy(%)': 'Train Accuracy',\n",
        "                     'Test Loss(%)': 'Validation Loss',\n",
        "                     'Train Loss(%)': 'Train Loss'}\n",
        "\n",
        "\n",
        "def plot_curve(data, y_label):\n",
        "  # Plotting both the curves simultaneously\n",
        "  with plt.style.context('dark_background'):# fivethirtyeight\n",
        "    plt.plot(data[0:70], color='r', label='BatchNorm')\n",
        "    \n",
        "    # Naming the x-axis, y-axis and the whole graph\n",
        "    plt.xlabel(\"Epochs\")\n",
        "    plt.ylabel(y_label)\n",
        "    plt.title(plot_details_dict[y_label])\n",
        "      \n",
        "    # Adding legend, which helps us recognize the curve according to it's color\n",
        "    plt.legend()\n",
        "  "
      ],
      "execution_count": 24,
      "outputs": []
    },
    {
      "cell_type": "code",
      "metadata": {
        "id": "pDNFuDEDpoDG",
        "colab": {
          "base_uri": "https://localhost:8080/",
          "height": 295
        },
        "outputId": "bb80b9ea-c726-4bef-f43f-d9a727f8700a"
      },
      "source": [
        "plot_curve(testacc, \"Test Accuracy(%)\")"
      ],
      "execution_count": 25,
      "outputs": [
        {
          "output_type": "display_data",
          "data": {
            "image/png": "[encoded data removed]",
            "text/plain": [
              "<Figure size 432x288 with 1 Axes>"
            ]
          },
          "metadata": {
            "tags": []
          }
        }
      ]
    },
    {
      "cell_type": "code",
      "metadata": {
        "colab": {
          "base_uri": "https://localhost:8080/",
          "height": 295
        },
        "id": "gNh6AfQPiBKN",
        "outputId": "f0ee4c72-7c4d-43c9-f6f6-d3d2d4c96aa8"
      },
      "source": [
        "plot_curve(trainacc, \"Train Accuracy(%)\")"
      ],
      "execution_count": 26,
      "outputs": [
        {
          "output_type": "display_data",
          "data": {
            "image/png": "[encoded data removed]",
            "text/plain": [
              "<Figure size 432x288 with 1 Axes>"
            ]
          },
          "metadata": {
            "tags": []
          }
        }
      ]
    },
    {
      "cell_type": "code",
      "metadata": {
        "colab": {
          "base_uri": "https://localhost:8080/",
          "height": 295
        },
        "id": "Q3k9cnfeiRJa",
        "outputId": "00b99176-dd79-4ab1-837a-d586bf6a4d17"
      },
      "source": [
        "plot_curve(testloss, \"Test Loss(%)\")"
      ],
      "execution_count": 27,
      "outputs": [
        {
          "output_type": "display_data",
          "data": {
            "image/png": "[encoded data removed]",
            "text/plain": [
              "<Figure size 432x288 with 1 Axes>"
            ]
          },
          "metadata": {
            "tags": []
          }
        }
      ]
    },
    {
      "cell_type": "code",
      "metadata": {
        "colab": {
          "base_uri": "https://localhost:8080/",
          "height": 295
        },
        "id": "lq2O8UW6iRiK",
        "outputId": "e48adb80-4280-4c53-f1a2-78dac3a0e389"
      },
      "source": [
        "plot_curve(trainloss, \"Train Loss(%)\")"
      ],
      "execution_count": 28,
      "outputs": [
        {
          "output_type": "display_data",
          "data": {
            "image/png": "[encoded data removed]",
            "text/plain": [
              "<Figure size 432x288 with 1 Axes>"
            ]
          },
          "metadata": {
            "tags": []
          }
        }
      ]
    },
    {
      "cell_type": "code",
      "metadata": {
        "id": "riEYa-HviYvs"
      },
      "source": [
        ""
      ],
      "execution_count": null,
      "outputs": []
    }
  ]
}