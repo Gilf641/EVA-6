{
  "nbformat": 4,
  "nbformat_minor": 0,
  "metadata": {
    "kernelspec": {
      "name": "python3",
      "display_name": "Python 3"
    },
    "language_info": {
      "codemirror_mode": {
        "name": "ipython",
        "version": 3
      },
      "file_extension": ".py",
      "mimetype": "text/x-python",
      "name": "python",
      "nbconvert_exporter": "python",
      "pygments_lexer": "ipython3",
      "version": "3.6.6"
    },
    "colab": {
      "name": "S7-Assignment.ipynb",
      "provenance": [],
      "collapsed_sections": []
    },
    "accelerator": "GPU"
  },
  "cells": [
    {
      "cell_type": "code",
      "metadata": {
        "colab": {
          "base_uri": "https://localhost:8080/"
        },
        "id": "pBg8ohxzYfvX",
        "outputId": "d91a04c8-bc8b-4b9a-cb4d-5b435a9f21af"
      },
      "source": [
        "!pip install nvitop"
      ],
      "execution_count": null,
      "outputs": [
        {
          "output_type": "stream",
          "text": [
            "Collecting nvitop\n",
            "\u001b[?25l  Downloading https://files.pythonhosted.org/packages/88/54/60a5927efb24f786255e4ba2d6d198efd2b76243a147e6d3588004798c0c/nvitop-0.3.3-py3-none-any.whl (64kB)\n",
            "\r\u001b[K     |█████                           | 10kB 18.6MB/s eta 0:00:01\r\u001b[K     |██████████▏                     | 20kB 24.8MB/s eta 0:00:01\r\u001b[K     |███████████████▎                | 30kB 26.4MB/s eta 0:00:01\r\u001b[K     |████████████████████▍           | 40kB 29.0MB/s eta 0:00:01\r\u001b[K     |█████████████████████████▌      | 51kB 31.6MB/s eta 0:00:01\r\u001b[K     |██████████████████████████████▋ | 61kB 33.4MB/s eta 0:00:01\r\u001b[K     |████████████████████████████████| 71kB 8.4MB/s \n",
            "\u001b[?25hRequirement already satisfied: cachetools in /usr/local/lib/python3.7/dist-packages (from nvitop) (4.2.2)\n",
            "Requirement already satisfied: psutil in /usr/local/lib/python3.7/dist-packages (from nvitop) (5.4.8)\n",
            "Requirement already satisfied: termcolor in /usr/local/lib/python3.7/dist-packages (from nvitop) (1.1.0)\n",
            "Collecting nvidia-ml-py==11.450.51\n",
            "  Downloading https://files.pythonhosted.org/packages/4c/e7/f6fef887708f601cda64c8fd48dcb80a0763cb6ee4eaf89939bdc165ce41/nvidia-ml-py-11.450.51.tar.gz\n",
            "Building wheels for collected packages: nvidia-ml-py\n",
            "  Building wheel for nvidia-ml-py (setup.py) ... \u001b[?25l\u001b[?25hdone\n",
            "  Created wheel for nvidia-ml-py: filename=nvidia_ml_py-11.450.51-cp37-none-any.whl size=24235 sha256=78727b98cb779a3abd71c85e8dee052316c8019ccc50c27b720f18a4e04fa918\n",
            "  Stored in directory: /root/.cache/pip/wheels/98/bf/a0/2ccfd4ff2f7b98e64f29b57149ddf9cd59d298d583ba9040a3\n",
            "Successfully built nvidia-ml-py\n",
            "Installing collected packages: nvidia-ml-py, nvitop\n",
            "Successfully installed nvidia-ml-py-11.450.51 nvitop-0.3.3\n"
          ],
          "name": "stdout"
        }
      ]
    },
    {
      "cell_type": "code",
      "metadata": {
        "colab": {
          "base_uri": "https://localhost:8080/"
        },
        "id": "fsxEsLqQDNNm",
        "outputId": "27e64d32-dfff-4a3e-e4e4-a5f9332ea442"
      },
      "source": [
        "!nvitop"
      ],
      "execution_count": null,
      "outputs": [
        {
          "output_type": "stream",
          "text": [
            "Wed Jun 16 15:29:19 2021\n",
            "╒═════════════════════════════════════════════════════════════════════════════╕\n",
            "│ NVIDIA-SMI 460.32.03    Driver Version: 460.32.03    CUDA Version: 11.2     │\n",
            "├───────────────────────────────┬──────────────────────┬──────────────────────┤\n",
            "│ GPU  Name        Persistence-M│ Bus-Id        Disp.A │ Volatile Uncorr. ECC │\n",
            "│ Fan  Temp  Perf  Pwr:Usage/Cap│         Memory-Usage │ GPU-Util  Compute M. │\n",
            "╞═══════════════════════════════╪══════════════════════╪══════════════════════╡\n",
            "│\u001b[32m   0  Tesla T4            Off  \u001b[0m│\u001b[32m 00000000:00:04.0 Off \u001b[0m│\u001b[32m                    0 \u001b[0m│\n",
            "│\u001b[32m N/A   64C    P8     11W / 70W \u001b[0m│\u001b[32m    128KiB / 15110MiB \u001b[0m│\u001b[32m      0%      Default \u001b[0m│\n",
            "╘═══════════════════════════════╧══════════════════════╧══════════════════════╛\n",
            "\u001b[1m\u001b[36m[ CPU: ███████████████▉ 45.5%                  ]\u001b[0m  \u001b[1m( Load Average: N/A N/A N/A )\u001b[0m\n",
            "\u001b[1m\u001b[35m[ MEM: ██▎ 6.4%                                ]\u001b[0m  \u001b[1m\u001b[34m[ SWP: ▏ 0%                 ]\u001b[0m\n",
            "\n",
            "╒═════════════════════════════════════════════════════════════════════════════╕\n",
            "│ Processes:                                                                  │\n",
            "│ GPU    PID      USER  GPU-MEM %SM  %CPU  %MEM  TIME  COMMAND                │\n",
            "╞═════════════════════════════════════════════════════════════════════════════╡\n",
            "│  No running processes found                                                 │\n",
            "╘═════════════════════════════════════════════════════════════════════════════╛\n"
          ],
          "name": "stdout"
        }
      ]
    },
    {
      "cell_type": "code",
      "metadata": {
        "colab": {
          "base_uri": "https://localhost:8080/"
        },
        "id": "LfQ7zahiDRD3",
        "outputId": "3b9390f8-bce2-4348-899a-eab4932707b3"
      },
      "source": [
        "import sys\n",
        "from google.colab import drive\n",
        "\n",
        "drive.mount('/content/gdrive', force_remount=True)\n",
        "sys.path.append('/content/gdrive/MyDrive')\n",
        "\n",
        "%reload_ext tensorboard\n"
      ],
      "execution_count": null,
      "outputs": [
        {
          "output_type": "stream",
          "text": [
            "Mounted at /content/gdrive\n"
          ],
          "name": "stdout"
        }
      ]
    },
    {
      "cell_type": "code",
      "metadata": {
        "id": "-yVpodAMpoCi",
        "colab": {
          "base_uri": "https://localhost:8080/"
        },
        "outputId": "9c3ce320-a170-4b31-c259-53bdaa23e41d"
      },
      "source": [
        "from __future__ import print_function\n",
        "import torch\n",
        "import torch.nn as nn\n",
        "import torch.nn.functional as F\n",
        "import torch.optim as optim\n",
        "import torchvision\n",
        "from torchvision import datasets, transforms\n",
        "from torch.utils.tensorboard import SummaryWriter\n",
        "from tqdm import tqdm_notebook\n",
        "from tqdm import tqdm\n",
        "!pip install torchsummary\n",
        "from torchsummary import summary\n",
        "import numpy as np\n",
        "import matplotlib.pyplot as plt\n",
        "from albumentations import Compose, RandomCrop, Normalize, Rotate\n",
        "from albumentations.pytorch import ToTensor\n",
        "\n",
        "\n",
        "# custom torch package\n",
        "import torchkit\n",
        "from torchkit.run import train, test, fit\n",
        "from torchkit.data.dataloader import MNIST_Loader\n",
        "from torchkit.models.mnist_net import  NoFCNet2\n",
        "from torchkit.utils import data_utils, model_utils"
      ],
      "execution_count": 36,
      "outputs": [
        {
          "output_type": "stream",
          "text": [
            "Requirement already satisfied: torchsummary in /usr/local/lib/python3.7/dist-packages (1.5.1)\n"
          ],
          "name": "stdout"
        }
      ]
    },
    {
      "cell_type": "markdown",
      "metadata": {
        "id": "5kjt4e2TpoCk"
      },
      "source": [
        "The output of torchvision datasets are PILImage images of range [0, 1].\n",
        "We transform them to Tensors of normalized range [-1, 1].\n",
        "\n"
      ]
    },
    {
      "cell_type": "code",
      "metadata": {
        "id": "D8Tjigo2poCl",
        "colab": {
          "base_uri": "https://localhost:8080/"
        },
        "outputId": "ae6efa87-2026-49c6-9aff-fdea7e7ec6c0"
      },
      "source": [
        "train_transform = transforms.Compose(\n",
        "    [transforms.ColorJitter(brightness=0.7, contrast=0.3),\n",
        "     transforms.ToTensor(),\n",
        "     transforms.Normalize((0.5, 0.5, 0.5), (0.5, 0.5, 0.5))\n",
        "     ])\n",
        "\n",
        "test_transform = transforms.Compose(\n",
        "    [transforms.ToTensor(),\n",
        "     transforms.Normalize((0.5, 0.5, 0.5), (0.5, 0.5, 0.5))\n",
        "     ])\n",
        "\n",
        "train_transforms = Compose([\n",
        "                            Rotate((-10.0, 10.0)),\n",
        "                            ToTensor(),\n",
        "                            Normalize(mean=[0.4675, 0.4599, 0.4236], std=[0.2901, 0.2874, 0.2917])\n",
        "                          ])\n",
        "test_transforms = Compose([\n",
        "                            ToTensor(),\n",
        "                           Normalize(mean=[0.4675, 0.4599, 0.4236], std=[0.3, 0.2874, 0.3])\n",
        "                          ])\n",
        "\n",
        "\n",
        "trainset = torchvision.datasets.CIFAR10(root='./data', train=True,\n",
        "                                        download=True, transform=train_transforms)\n",
        "train_loader = torch.utils.data.DataLoader(trainset, batch_size=128,\n",
        "                                          shuffle=True, num_workers=2)\n",
        "\n",
        "testset = torchvision.datasets.CIFAR10(root='./data', train=False,\n",
        "                                       download=True, transform=test_transforms)\n",
        "# test_loader = torch.utils.data.DataLoader(testset, batch_size=128,\n",
        "                                        #  shuffle=False, num_workers=2)\n",
        "\n",
        "classes = ('plane', 'car', 'bird', 'cat',\n",
        "           'deer', 'dog', 'frog', 'horse', 'ship', 'truck')\n",
        "\n"
      ],
      "execution_count": 60,
      "outputs": [
        {
          "output_type": "stream",
          "text": [
            "Files already downloaded and verified\n",
            "Files already downloaded and verified\n"
          ],
          "name": "stdout"
        }
      ]
    },
    {
      "cell_type": "code",
      "metadata": {
        "colab": {
          "base_uri": "https://localhost:8080/",
          "height": 833
        },
        "id": "hyE2G1zVwUz6",
        "outputId": "9955160f-3596-4fa2-e748-8c52d21e75d8"
      },
      "source": [
        "trainset, next(iter(train_loader))"
      ],
      "execution_count": 62,
      "outputs": [
        {
          "output_type": "error",
          "ename": "TypeError",
          "evalue": "ignored",
          "traceback": [
            "\u001b[0;31m---------------------------------------------------------------------------\u001b[0m",
            "\u001b[0;31mTypeError\u001b[0m                                 Traceback (most recent call last)",
            "\u001b[0;32m<ipython-input-62-e38384abaca5>\u001b[0m in \u001b[0;36m<module>\u001b[0;34m()\u001b[0m\n\u001b[0;32m----> 1\u001b[0;31m \u001b[0mtrainset\u001b[0m\u001b[0;34m,\u001b[0m \u001b[0mnext\u001b[0m\u001b[0;34m(\u001b[0m\u001b[0miter\u001b[0m\u001b[0;34m(\u001b[0m\u001b[0mtrain_loader\u001b[0m\u001b[0;34m)\u001b[0m\u001b[0;34m)\u001b[0m\u001b[0;34m\u001b[0m\u001b[0;34m\u001b[0m\u001b[0m\n\u001b[0m",
            "\u001b[0;32m/usr/local/lib/python3.7/dist-packages/torch/utils/data/dataloader.py\u001b[0m in \u001b[0;36m__next__\u001b[0;34m(self)\u001b[0m\n\u001b[1;32m    515\u001b[0m             \u001b[0;32mif\u001b[0m \u001b[0mself\u001b[0m\u001b[0;34m.\u001b[0m\u001b[0m_sampler_iter\u001b[0m \u001b[0;32mis\u001b[0m \u001b[0;32mNone\u001b[0m\u001b[0;34m:\u001b[0m\u001b[0;34m\u001b[0m\u001b[0;34m\u001b[0m\u001b[0m\n\u001b[1;32m    516\u001b[0m                 \u001b[0mself\u001b[0m\u001b[0;34m.\u001b[0m\u001b[0m_reset\u001b[0m\u001b[0;34m(\u001b[0m\u001b[0;34m)\u001b[0m\u001b[0;34m\u001b[0m\u001b[0;34m\u001b[0m\u001b[0m\n\u001b[0;32m--> 517\u001b[0;31m             \u001b[0mdata\u001b[0m \u001b[0;34m=\u001b[0m \u001b[0mself\u001b[0m\u001b[0;34m.\u001b[0m\u001b[0m_next_data\u001b[0m\u001b[0;34m(\u001b[0m\u001b[0;34m)\u001b[0m\u001b[0;34m\u001b[0m\u001b[0;34m\u001b[0m\u001b[0m\n\u001b[0m\u001b[1;32m    518\u001b[0m             \u001b[0mself\u001b[0m\u001b[0;34m.\u001b[0m\u001b[0m_num_yielded\u001b[0m \u001b[0;34m+=\u001b[0m \u001b[0;36m1\u001b[0m\u001b[0;34m\u001b[0m\u001b[0;34m\u001b[0m\u001b[0m\n\u001b[1;32m    519\u001b[0m             \u001b[0;32mif\u001b[0m \u001b[0mself\u001b[0m\u001b[0;34m.\u001b[0m\u001b[0m_dataset_kind\u001b[0m \u001b[0;34m==\u001b[0m \u001b[0m_DatasetKind\u001b[0m\u001b[0;34m.\u001b[0m\u001b[0mIterable\u001b[0m \u001b[0;32mand\u001b[0m\u001b[0;31m \u001b[0m\u001b[0;31m\\\u001b[0m\u001b[0;34m\u001b[0m\u001b[0;34m\u001b[0m\u001b[0m\n",
            "\u001b[0;32m/usr/local/lib/python3.7/dist-packages/torch/utils/data/dataloader.py\u001b[0m in \u001b[0;36m_next_data\u001b[0;34m(self)\u001b[0m\n\u001b[1;32m   1197\u001b[0m             \u001b[0;32melse\u001b[0m\u001b[0;34m:\u001b[0m\u001b[0;34m\u001b[0m\u001b[0;34m\u001b[0m\u001b[0m\n\u001b[1;32m   1198\u001b[0m                 \u001b[0;32mdel\u001b[0m \u001b[0mself\u001b[0m\u001b[0;34m.\u001b[0m\u001b[0m_task_info\u001b[0m\u001b[0;34m[\u001b[0m\u001b[0midx\u001b[0m\u001b[0;34m]\u001b[0m\u001b[0;34m\u001b[0m\u001b[0;34m\u001b[0m\u001b[0m\n\u001b[0;32m-> 1199\u001b[0;31m                 \u001b[0;32mreturn\u001b[0m \u001b[0mself\u001b[0m\u001b[0;34m.\u001b[0m\u001b[0m_process_data\u001b[0m\u001b[0;34m(\u001b[0m\u001b[0mdata\u001b[0m\u001b[0;34m)\u001b[0m\u001b[0;34m\u001b[0m\u001b[0;34m\u001b[0m\u001b[0m\n\u001b[0m\u001b[1;32m   1200\u001b[0m \u001b[0;34m\u001b[0m\u001b[0m\n\u001b[1;32m   1201\u001b[0m     \u001b[0;32mdef\u001b[0m \u001b[0m_try_put_index\u001b[0m\u001b[0;34m(\u001b[0m\u001b[0mself\u001b[0m\u001b[0;34m)\u001b[0m\u001b[0;34m:\u001b[0m\u001b[0;34m\u001b[0m\u001b[0;34m\u001b[0m\u001b[0m\n",
            "\u001b[0;32m/usr/local/lib/python3.7/dist-packages/torch/utils/data/dataloader.py\u001b[0m in \u001b[0;36m_process_data\u001b[0;34m(self, data)\u001b[0m\n\u001b[1;32m   1223\u001b[0m         \u001b[0mself\u001b[0m\u001b[0;34m.\u001b[0m\u001b[0m_try_put_index\u001b[0m\u001b[0;34m(\u001b[0m\u001b[0;34m)\u001b[0m\u001b[0;34m\u001b[0m\u001b[0;34m\u001b[0m\u001b[0m\n\u001b[1;32m   1224\u001b[0m         \u001b[0;32mif\u001b[0m \u001b[0misinstance\u001b[0m\u001b[0;34m(\u001b[0m\u001b[0mdata\u001b[0m\u001b[0;34m,\u001b[0m \u001b[0mExceptionWrapper\u001b[0m\u001b[0;34m)\u001b[0m\u001b[0;34m:\u001b[0m\u001b[0;34m\u001b[0m\u001b[0;34m\u001b[0m\u001b[0m\n\u001b[0;32m-> 1225\u001b[0;31m             \u001b[0mdata\u001b[0m\u001b[0;34m.\u001b[0m\u001b[0mreraise\u001b[0m\u001b[0;34m(\u001b[0m\u001b[0;34m)\u001b[0m\u001b[0;34m\u001b[0m\u001b[0;34m\u001b[0m\u001b[0m\n\u001b[0m\u001b[1;32m   1226\u001b[0m         \u001b[0;32mreturn\u001b[0m \u001b[0mdata\u001b[0m\u001b[0;34m\u001b[0m\u001b[0;34m\u001b[0m\u001b[0m\n\u001b[1;32m   1227\u001b[0m \u001b[0;34m\u001b[0m\u001b[0m\n",
            "\u001b[0;32m/usr/local/lib/python3.7/dist-packages/torch/_utils.py\u001b[0m in \u001b[0;36mreraise\u001b[0;34m(self)\u001b[0m\n\u001b[1;32m    427\u001b[0m             \u001b[0;31m# have message field\u001b[0m\u001b[0;34m\u001b[0m\u001b[0;34m\u001b[0m\u001b[0;34m\u001b[0m\u001b[0m\n\u001b[1;32m    428\u001b[0m             \u001b[0;32mraise\u001b[0m \u001b[0mself\u001b[0m\u001b[0;34m.\u001b[0m\u001b[0mexc_type\u001b[0m\u001b[0;34m(\u001b[0m\u001b[0mmessage\u001b[0m\u001b[0;34m=\u001b[0m\u001b[0mmsg\u001b[0m\u001b[0;34m)\u001b[0m\u001b[0;34m\u001b[0m\u001b[0;34m\u001b[0m\u001b[0m\n\u001b[0;32m--> 429\u001b[0;31m         \u001b[0;32mraise\u001b[0m \u001b[0mself\u001b[0m\u001b[0;34m.\u001b[0m\u001b[0mexc_type\u001b[0m\u001b[0;34m(\u001b[0m\u001b[0mmsg\u001b[0m\u001b[0;34m)\u001b[0m\u001b[0;34m\u001b[0m\u001b[0;34m\u001b[0m\u001b[0m\n\u001b[0m\u001b[1;32m    430\u001b[0m \u001b[0;34m\u001b[0m\u001b[0m\n\u001b[1;32m    431\u001b[0m \u001b[0;34m\u001b[0m\u001b[0m\n",
            "\u001b[0;31mTypeError\u001b[0m: Caught TypeError in DataLoader worker process 0.\nOriginal Traceback (most recent call last):\n  File \"/usr/local/lib/python3.7/dist-packages/torch/utils/data/_utils/worker.py\", line 202, in _worker_loop\n    data = fetcher.fetch(index)\n  File \"/usr/local/lib/python3.7/dist-packages/torch/utils/data/_utils/fetch.py\", line 44, in fetch\n    data = [self.dataset[idx] for idx in possibly_batched_index]\n  File \"/usr/local/lib/python3.7/dist-packages/torch/utils/data/_utils/fetch.py\", line 44, in <listcomp>\n    data = [self.dataset[idx] for idx in possibly_batched_index]\n  File \"/usr/local/lib/python3.7/dist-packages/torchvision/datasets/cifar.py\", line 120, in __getitem__\n    img = self.transform(img)\nTypeError: __call__() takes 1 positional argument but 2 were given\n"
          ]
        }
      ]
    },
    {
      "cell_type": "code",
      "metadata": {
        "colab": {
          "base_uri": "https://localhost:8080/",
          "height": 1000
        },
        "id": "G26Hon6tnuKH",
        "outputId": "94f431ca-0dc9-4be8-adb9-3d1a7643b906"
      },
      "source": [
        "def calc_mean_sd(data, image_size=32):\n",
        "  sum_ = torch.tensor([0.0,0.0,0.0])\n",
        "  sum_sq = torch.tensor([0.0,0.0,0.0])\n",
        "  batch_sizes = []\n",
        "\n",
        "  # count = (390*128*32*32)+(80*32*32) # last batch has 80 images\n",
        "  count = 0\n",
        "  image_size=32\n",
        "\n",
        "  for images, labels in tqdm(data):\n",
        "    # images shape = (batch_size x channels x image_size x image_size)\n",
        "    batch_sizes.append(images.shape[0])\n",
        "    count += images.shape[0]*image_size*image_size\n",
        "    sum_ += images.sum(axis=[0,2,3]) # calculating mean channelwise\n",
        "    sum_sq += (images**2).sum(axis=[0,2,3])\n",
        "\n",
        "  total_mean = sum_/count\n",
        "  total_var = (sum_sq/count) -  (total_mean**2)\n",
        "  total_std = torch.sqrt(total_var)\n",
        "\n",
        "  return f'Dataset Mean: {total_mean}, Dataset SD: {total_std}'\n",
        "\n",
        "calc_mean_sd(train_loader)"
      ],
      "execution_count": 41,
      "outputs": [
        {
          "output_type": "stream",
          "text": [
            "\n",
            "\n",
            "  0%|          | 0/391 [00:00<?, ?it/s]\u001b[A\u001b[A"
          ],
          "name": "stderr"
        },
        {
          "output_type": "error",
          "ename": "TypeError",
          "evalue": "ignored",
          "traceback": [
            "\u001b[0;31m---------------------------------------------------------------------------\u001b[0m",
            "\u001b[0;31mTypeError\u001b[0m                                 Traceback (most recent call last)",
            "\u001b[0;32m<ipython-input-41-2cb168bd23ae>\u001b[0m in \u001b[0;36m<module>\u001b[0;34m()\u001b[0m\n\u001b[1;32m     21\u001b[0m   \u001b[0;32mreturn\u001b[0m \u001b[0;34mf'Dataset Mean: {total_mean}, Dataset SD: {total_std}'\u001b[0m\u001b[0;34m\u001b[0m\u001b[0;34m\u001b[0m\u001b[0m\n\u001b[1;32m     22\u001b[0m \u001b[0;34m\u001b[0m\u001b[0m\n\u001b[0;32m---> 23\u001b[0;31m \u001b[0mcalc_mean_sd\u001b[0m\u001b[0;34m(\u001b[0m\u001b[0mtrain_loader\u001b[0m\u001b[0;34m)\u001b[0m\u001b[0;34m\u001b[0m\u001b[0;34m\u001b[0m\u001b[0m\n\u001b[0m",
            "\u001b[0;32m<ipython-input-41-2cb168bd23ae>\u001b[0m in \u001b[0;36mcalc_mean_sd\u001b[0;34m(data, image_size)\u001b[0m\n\u001b[1;32m      8\u001b[0m   \u001b[0mimage_size\u001b[0m\u001b[0;34m=\u001b[0m\u001b[0;36m32\u001b[0m\u001b[0;34m\u001b[0m\u001b[0;34m\u001b[0m\u001b[0m\n\u001b[1;32m      9\u001b[0m \u001b[0;34m\u001b[0m\u001b[0m\n\u001b[0;32m---> 10\u001b[0;31m   \u001b[0;32mfor\u001b[0m \u001b[0mimages\u001b[0m\u001b[0;34m,\u001b[0m \u001b[0mlabels\u001b[0m \u001b[0;32min\u001b[0m \u001b[0mtqdm\u001b[0m\u001b[0;34m(\u001b[0m\u001b[0mdata\u001b[0m\u001b[0;34m)\u001b[0m\u001b[0;34m:\u001b[0m\u001b[0;34m\u001b[0m\u001b[0;34m\u001b[0m\u001b[0m\n\u001b[0m\u001b[1;32m     11\u001b[0m     \u001b[0;31m# images shape = (batch_size x channels x image_size x image_size)\u001b[0m\u001b[0;34m\u001b[0m\u001b[0;34m\u001b[0m\u001b[0;34m\u001b[0m\u001b[0m\n\u001b[1;32m     12\u001b[0m     \u001b[0mbatch_sizes\u001b[0m\u001b[0;34m.\u001b[0m\u001b[0mappend\u001b[0m\u001b[0;34m(\u001b[0m\u001b[0mimages\u001b[0m\u001b[0;34m.\u001b[0m\u001b[0mshape\u001b[0m\u001b[0;34m[\u001b[0m\u001b[0;36m0\u001b[0m\u001b[0;34m]\u001b[0m\u001b[0;34m)\u001b[0m\u001b[0;34m\u001b[0m\u001b[0;34m\u001b[0m\u001b[0m\n",
            "\u001b[0;32m/usr/local/lib/python3.7/dist-packages/tqdm/std.py\u001b[0m in \u001b[0;36m__iter__\u001b[0;34m(self)\u001b[0m\n\u001b[1;32m   1102\u001b[0m                 fp_write=getattr(self.fp, 'write', sys.stderr.write))\n\u001b[1;32m   1103\u001b[0m \u001b[0;34m\u001b[0m\u001b[0m\n\u001b[0;32m-> 1104\u001b[0;31m         \u001b[0;32mfor\u001b[0m \u001b[0mobj\u001b[0m \u001b[0;32min\u001b[0m \u001b[0miterable\u001b[0m\u001b[0;34m:\u001b[0m\u001b[0;34m\u001b[0m\u001b[0;34m\u001b[0m\u001b[0m\n\u001b[0m\u001b[1;32m   1105\u001b[0m             \u001b[0;32myield\u001b[0m \u001b[0mobj\u001b[0m\u001b[0;34m\u001b[0m\u001b[0;34m\u001b[0m\u001b[0m\n\u001b[1;32m   1106\u001b[0m             \u001b[0;31m# Update and possibly print the progressbar.\u001b[0m\u001b[0;34m\u001b[0m\u001b[0;34m\u001b[0m\u001b[0;34m\u001b[0m\u001b[0m\n",
            "\u001b[0;32m/usr/local/lib/python3.7/dist-packages/torch/utils/data/dataloader.py\u001b[0m in \u001b[0;36m__next__\u001b[0;34m(self)\u001b[0m\n\u001b[1;32m    515\u001b[0m             \u001b[0;32mif\u001b[0m \u001b[0mself\u001b[0m\u001b[0;34m.\u001b[0m\u001b[0m_sampler_iter\u001b[0m \u001b[0;32mis\u001b[0m \u001b[0;32mNone\u001b[0m\u001b[0;34m:\u001b[0m\u001b[0;34m\u001b[0m\u001b[0;34m\u001b[0m\u001b[0m\n\u001b[1;32m    516\u001b[0m                 \u001b[0mself\u001b[0m\u001b[0;34m.\u001b[0m\u001b[0m_reset\u001b[0m\u001b[0;34m(\u001b[0m\u001b[0;34m)\u001b[0m\u001b[0;34m\u001b[0m\u001b[0;34m\u001b[0m\u001b[0m\n\u001b[0;32m--> 517\u001b[0;31m             \u001b[0mdata\u001b[0m \u001b[0;34m=\u001b[0m \u001b[0mself\u001b[0m\u001b[0;34m.\u001b[0m\u001b[0m_next_data\u001b[0m\u001b[0;34m(\u001b[0m\u001b[0;34m)\u001b[0m\u001b[0;34m\u001b[0m\u001b[0;34m\u001b[0m\u001b[0m\n\u001b[0m\u001b[1;32m    518\u001b[0m             \u001b[0mself\u001b[0m\u001b[0;34m.\u001b[0m\u001b[0m_num_yielded\u001b[0m \u001b[0;34m+=\u001b[0m \u001b[0;36m1\u001b[0m\u001b[0;34m\u001b[0m\u001b[0;34m\u001b[0m\u001b[0m\n\u001b[1;32m    519\u001b[0m             \u001b[0;32mif\u001b[0m \u001b[0mself\u001b[0m\u001b[0;34m.\u001b[0m\u001b[0m_dataset_kind\u001b[0m \u001b[0;34m==\u001b[0m \u001b[0m_DatasetKind\u001b[0m\u001b[0;34m.\u001b[0m\u001b[0mIterable\u001b[0m \u001b[0;32mand\u001b[0m\u001b[0;31m \u001b[0m\u001b[0;31m\\\u001b[0m\u001b[0;34m\u001b[0m\u001b[0;34m\u001b[0m\u001b[0m\n",
            "\u001b[0;32m/usr/local/lib/python3.7/dist-packages/torch/utils/data/dataloader.py\u001b[0m in \u001b[0;36m_next_data\u001b[0;34m(self)\u001b[0m\n\u001b[1;32m   1197\u001b[0m             \u001b[0;32melse\u001b[0m\u001b[0;34m:\u001b[0m\u001b[0;34m\u001b[0m\u001b[0;34m\u001b[0m\u001b[0m\n\u001b[1;32m   1198\u001b[0m                 \u001b[0;32mdel\u001b[0m \u001b[0mself\u001b[0m\u001b[0;34m.\u001b[0m\u001b[0m_task_info\u001b[0m\u001b[0;34m[\u001b[0m\u001b[0midx\u001b[0m\u001b[0;34m]\u001b[0m\u001b[0;34m\u001b[0m\u001b[0;34m\u001b[0m\u001b[0m\n\u001b[0;32m-> 1199\u001b[0;31m                 \u001b[0;32mreturn\u001b[0m \u001b[0mself\u001b[0m\u001b[0;34m.\u001b[0m\u001b[0m_process_data\u001b[0m\u001b[0;34m(\u001b[0m\u001b[0mdata\u001b[0m\u001b[0;34m)\u001b[0m\u001b[0;34m\u001b[0m\u001b[0;34m\u001b[0m\u001b[0m\n\u001b[0m\u001b[1;32m   1200\u001b[0m \u001b[0;34m\u001b[0m\u001b[0m\n\u001b[1;32m   1201\u001b[0m     \u001b[0;32mdef\u001b[0m \u001b[0m_try_put_index\u001b[0m\u001b[0;34m(\u001b[0m\u001b[0mself\u001b[0m\u001b[0;34m)\u001b[0m\u001b[0;34m:\u001b[0m\u001b[0;34m\u001b[0m\u001b[0;34m\u001b[0m\u001b[0m\n",
            "\u001b[0;32m/usr/local/lib/python3.7/dist-packages/torch/utils/data/dataloader.py\u001b[0m in \u001b[0;36m_process_data\u001b[0;34m(self, data)\u001b[0m\n\u001b[1;32m   1223\u001b[0m         \u001b[0mself\u001b[0m\u001b[0;34m.\u001b[0m\u001b[0m_try_put_index\u001b[0m\u001b[0;34m(\u001b[0m\u001b[0;34m)\u001b[0m\u001b[0;34m\u001b[0m\u001b[0;34m\u001b[0m\u001b[0m\n\u001b[1;32m   1224\u001b[0m         \u001b[0;32mif\u001b[0m \u001b[0misinstance\u001b[0m\u001b[0;34m(\u001b[0m\u001b[0mdata\u001b[0m\u001b[0;34m,\u001b[0m \u001b[0mExceptionWrapper\u001b[0m\u001b[0;34m)\u001b[0m\u001b[0;34m:\u001b[0m\u001b[0;34m\u001b[0m\u001b[0;34m\u001b[0m\u001b[0m\n\u001b[0;32m-> 1225\u001b[0;31m             \u001b[0mdata\u001b[0m\u001b[0;34m.\u001b[0m\u001b[0mreraise\u001b[0m\u001b[0;34m(\u001b[0m\u001b[0;34m)\u001b[0m\u001b[0;34m\u001b[0m\u001b[0;34m\u001b[0m\u001b[0m\n\u001b[0m\u001b[1;32m   1226\u001b[0m         \u001b[0;32mreturn\u001b[0m \u001b[0mdata\u001b[0m\u001b[0;34m\u001b[0m\u001b[0;34m\u001b[0m\u001b[0m\n\u001b[1;32m   1227\u001b[0m \u001b[0;34m\u001b[0m\u001b[0m\n",
            "\u001b[0;32m/usr/local/lib/python3.7/dist-packages/torch/_utils.py\u001b[0m in \u001b[0;36mreraise\u001b[0;34m(self)\u001b[0m\n\u001b[1;32m    427\u001b[0m             \u001b[0;31m# have message field\u001b[0m\u001b[0;34m\u001b[0m\u001b[0;34m\u001b[0m\u001b[0;34m\u001b[0m\u001b[0m\n\u001b[1;32m    428\u001b[0m             \u001b[0;32mraise\u001b[0m \u001b[0mself\u001b[0m\u001b[0;34m.\u001b[0m\u001b[0mexc_type\u001b[0m\u001b[0;34m(\u001b[0m\u001b[0mmessage\u001b[0m\u001b[0;34m=\u001b[0m\u001b[0mmsg\u001b[0m\u001b[0;34m)\u001b[0m\u001b[0;34m\u001b[0m\u001b[0;34m\u001b[0m\u001b[0m\n\u001b[0;32m--> 429\u001b[0;31m         \u001b[0;32mraise\u001b[0m \u001b[0mself\u001b[0m\u001b[0;34m.\u001b[0m\u001b[0mexc_type\u001b[0m\u001b[0;34m(\u001b[0m\u001b[0mmsg\u001b[0m\u001b[0;34m)\u001b[0m\u001b[0;34m\u001b[0m\u001b[0;34m\u001b[0m\u001b[0m\n\u001b[0m\u001b[1;32m    430\u001b[0m \u001b[0;34m\u001b[0m\u001b[0m\n\u001b[1;32m    431\u001b[0m \u001b[0;34m\u001b[0m\u001b[0m\n",
            "\u001b[0;31mTypeError\u001b[0m: Caught TypeError in DataLoader worker process 0.\nOriginal Traceback (most recent call last):\n  File \"/usr/local/lib/python3.7/dist-packages/torch/utils/data/_utils/worker.py\", line 202, in _worker_loop\n    data = fetcher.fetch(index)\n  File \"/usr/local/lib/python3.7/dist-packages/torch/utils/data/_utils/fetch.py\", line 44, in fetch\n    data = [self.dataset[idx] for idx in possibly_batched_index]\n  File \"/usr/local/lib/python3.7/dist-packages/torch/utils/data/_utils/fetch.py\", line 44, in <listcomp>\n    data = [self.dataset[idx] for idx in possibly_batched_index]\n  File \"/usr/local/lib/python3.7/dist-packages/torchvision/datasets/cifar.py\", line 120, in __getitem__\n    img = self.transform(img)\nTypeError: __call__() takes 1 positional argument but 2 were given\n"
          ]
        }
      ]
    },
    {
      "cell_type": "code",
      "metadata": {
        "id": "p5PCVq_Lahqx"
      },
      "source": [
        "class GlobalConfig:\n",
        "    seed = 1992\n",
        "    num_classes = 20\n",
        "    batch_size = 128\n",
        "    EPOCHS = 10\n",
        "    device = torch.device('cuda' if torch.cuda.is_available() else 'cpu')\n",
        "\n",
        "    # data\n",
        "    input_image_size = (3, 32, 32)\n",
        "    trainloader = train_loader\n",
        "    testloader = test_loader\n",
        "\n",
        "    # model data normalization\n",
        "    channel_norm = 'BatchNorm2d'\n",
        "    channel_norm_params = {'GroupNorm': {'num_groups':2},\n",
        "                 'BatchNorm2d':{'affine':True},\n",
        "                 'LayerNorm': {'normalized_shape':10}}\n",
        "                \n",
        "\n",
        "    # regularizer\n",
        "    dropout_value = 0.05\n",
        "\n",
        "    # loss\n",
        "    loss_function = 'CrossEntropyLoss'\n",
        "\n",
        "    # scheduler\n",
        "    lr_scheduler = 'StepLR'\n",
        "    lr_scheduler_params = {'StepLR': {'step_size':6, 'gamma':0.1},\n",
        "                \n",
        "                'ReduceLROnPlateau': {'mode':'min', 'factor':0.5, 'patience':2, 'threshold':0.0001,\n",
        "                                      'threshold_mode':'rel', 'cooldown':0, 'min_lr':1e-4,\n",
        "                                      'eps':1e-08, 'verbose':True},\n",
        "                'OneCycleLR': {'max_lr': 0.2, 'steps_per_epoch':len(trainloader), 'div_factor':20, 'epochs':EPOCHS }}\n",
        "                                \n",
        "\n",
        "    # optimizer\n",
        "    optimizer = 'SGD'\n",
        "    optimizer_params = {'SGD':{'lr':0.01, 'momentum':0.9}}\n",
        "\n",
        "    # store model stats\n",
        "    model_results = {'TestAccuracy': [], \n",
        "                  'TrainAccuracy': [],\n",
        "                  'TestLoss': [],\n",
        "                  'TrainLoss':[]}\n",
        "\n",
        "    # Params\n",
        "    misclassified=True\n",
        "    L1Lambda=False\n",
        "\n",
        "    \n",
        "modelconfig = GlobalConfig\n"
      ],
      "execution_count": 33,
      "outputs": []
    },
    {
      "cell_type": "markdown",
      "metadata": {
        "id": "_cj433rtpoCn"
      },
      "source": [
        "Let us show some of the training images, for fun.\n",
        "\n"
      ]
    },
    {
      "cell_type": "code",
      "metadata": {
        "colab": {
          "base_uri": "https://localhost:8080/",
          "height": 112
        },
        "id": "gnB822Q9QNq7",
        "outputId": "677b5882-94d1-4b7d-e5a0-517062eea3db"
      },
      "source": [
        "plane = data_utils.display_cifar_images(modelconfig.trainloader, classname='plane')\n",
        "fig = plt.figure(figsize=(45,20))\n",
        "for idx in np.arange(len(plane[:10])):\n",
        "  ax = fig.add_subplot(12,12, idx+1, xticks=[], yticks=[]) \n",
        "  plt.imshow(plane[idx]) #converting to numpy array as plt needs it.\n",
        "  ax.set_title('plane')\n"
      ],
      "execution_count": null,
      "outputs": [
        {
          "output_type": "display_data",
          "data": {
            "image/png": "[encoded data removed]",
            "text/plain": [
              "<Figure size 3240x1440 with 10 Axes>"
            ]
          },
          "metadata": {
            "tags": []
          }
        }
      ]
    },
    {
      "cell_type": "markdown",
      "metadata": {
        "id": "3NKcu-xgXwwV"
      },
      "source": [
        "**Class/Batch Balance**"
      ]
    },
    {
      "cell_type": "code",
      "metadata": {
        "colab": {
          "base_uri": "https://localhost:8080/"
        },
        "id": "-BF6sqmqEp5v",
        "outputId": "92e0925d-47c6-424b-c8ff-5033e80f6f75"
      },
      "source": [
        "from collections import defaultdict\n",
        "data = defaultdict()\n",
        "for batch_idx, (images, labels) in enumerate(iter(modelconfig.trainloader)):\n",
        "  data[batch_idx] = labels\n",
        "\n",
        "total_data = []\n",
        "first_batch = data[1]\n",
        "for i in range(len(data)):\n",
        "  for label in list(data[i]):\n",
        "   total_data.append(label.item())\n",
        "\n",
        "class_balance = defaultdict()\n",
        "class_data = {0,1,2,3,4,5,6,7,8,9}\n",
        "for i in class_data:\n",
        "  class_balance[i]=total_data.count(i)\n",
        "class_balance\n",
        "\n"
      ],
      "execution_count": null,
      "outputs": [
        {
          "output_type": "execute_result",
          "data": {
            "text/plain": [
              "defaultdict(None,\n",
              "            {0: 5000,\n",
              "             1: 5000,\n",
              "             2: 5000,\n",
              "             3: 5000,\n",
              "             4: 5000,\n",
              "             5: 5000,\n",
              "             6: 5000,\n",
              "             7: 5000,\n",
              "             8: 5000,\n",
              "             9: 5000})"
            ]
          },
          "metadata": {
            "tags": []
          },
          "execution_count": 8
        }
      ]
    },
    {
      "cell_type": "markdown",
      "metadata": {
        "id": "yrDX-mSIaQkC"
      },
      "source": [
        "All classes have same number of images, 5000. Dataset is balanced. "
      ]
    },
    {
      "cell_type": "code",
      "metadata": {
        "id": "0jjLwLLQpoCr",
        "colab": {
          "base_uri": "https://localhost:8080/"
        },
        "outputId": "859bba79-c36d-4d53-9789-62096e2866a5"
      },
      "source": [
        "import torch.nn as nn\n",
        "import torch.nn.functional as F\n",
        "\n",
        "class Net(nn.Module):\n",
        "    def __init__(self, config):\n",
        "        super(Net, self).__init__()\n",
        "        self.config = config\n",
        "        self.ch_norm = self.config.channel_norm\n",
        "\n",
        "    def convblock(self, in_ch=1, mid_ch=8, out_ch=16, kernel_=(3,3), padding_=[0,0], dilation_=[1,1], bias=False):#, ch_norm = self.ch_norm):\n",
        "        if self.ch_norm == 'BatchNorm2d':\n",
        "          _block = nn.Sequential(\n",
        "                                  nn.Conv2d(in_channels=in_ch, out_channels=mid_ch, kernel_size=kernel_, padding=padding_[0], dilation=dilation_[0], bias=False),\n",
        "                                  nn.ReLU(), \n",
        "                                  nn.BatchNorm2d(mid_ch), \n",
        "                                  nn.Dropout(self.config.dropout_value),\n",
        "                                  \n",
        "                                  nn.Conv2d(in_channels=mid_ch, out_channels=out_ch, kernel_size=kernel_, padding=padding_[1],dilation=dilation_[1], bias=False),\n",
        "                                  nn.ReLU(), \n",
        "                                  nn.BatchNorm2d(out_ch),\n",
        "                                  nn.Dropout(self.config.dropout_value)\n",
        "            )\n",
        "        if self.ch_norm == 'GroupNorm':\n",
        "            _block = nn.Sequential(\n",
        "                                    nn.Conv2d(in_channels=in_ch, out_channels=mid_ch, kernel_size=kernel_, padding=padding_[0], dilation=dilation_[0], bias=False),\n",
        "                                    nn.ReLU(), \n",
        "                                    nn.GroupNorm(2, mid_ch), \n",
        "                                    nn.Dropout(self.config.dropout_value),\n",
        "                                    \n",
        "                                    nn.Conv2d(in_channels=mid_ch, out_channels=out_ch, kernel_size=kernel_, padding=padding_[1],dilation=dilation_[1], bias=False),\n",
        "                                    nn.ReLU(), \n",
        "                                    nn.GroupNorm(2, out_ch),\n",
        "                                    nn.Dropout(self.config.dropout_value)\n",
        "            )\n",
        "        if self.ch_norm == 'LayerNorm':\n",
        "            _block = nn.Sequential(\n",
        "                                    nn.Conv2d(in_channels=in_ch, out_channels=mid_ch, kernel_size=kernel_, padding=padding_[0], dilation=dilation_[0], bias=False),\n",
        "                                    nn.ReLU(), \n",
        "                                    nn.GroupNorm(1, mid_ch),\n",
        "                                    nn.Dropout(self.config.dropout_value),\n",
        "                                    \n",
        "                                    nn.Conv2d(in_channels=mid_ch, out_channels=out_ch, kernel_size=kernel_, padding=padding_[1],dilation=dilation_[1], bias=False),\n",
        "                                    nn.ReLU(), \n",
        "                                    nn.GroupNorm(1, out_ch),\n",
        "                                    nn.Dropout(self.config.dropout_value)\n",
        "            )\n",
        "        return _block\n",
        "\n",
        "    def single_convblock(self, in_ch=1, out_ch=16, kernel_=(3,3), padding_=0, bias_=False):\n",
        "      if self.ch_norm == 'BatchNorm2d':\n",
        "            _block = nn.Sequential(nn.Conv2d(in_channels=in_ch, out_channels=out_ch, kernel_size=kernel_, padding=padding_, bias=bias_),\n",
        "                                    nn.ReLU(), \n",
        "                                    nn.BatchNorm2d(out_ch), \n",
        "                                    nn.Dropout(self.config.dropout_value))\n",
        "            \n",
        "      if self.ch_norm == 'GroupNorm':\n",
        "          _block = nn.Sequential(nn.Conv2d(in_channels=in_ch, out_channels=out_ch, kernel_size=kernel_, padding=padding_, bias=bias_),\n",
        "                                  nn.ReLU(), \n",
        "                                  nn.GroupNorm(2, out_ch), \n",
        "                                  nn.Dropout(self.config.dropout_value))\n",
        "          \n",
        "      if self.ch_norm == 'LayerNorm':\n",
        "            _block = nn.Sequential(nn.Conv2d(in_channels=in_ch, out_channels=out_ch, kernel_size=kernel_, padding=padding_, bias=bias_),\n",
        "                                  nn.ReLU(), \n",
        "                                  nn.GroupNorm(1, out_ch),\n",
        "                                  nn.Dropout(self.config.dropout_value))\n",
        "      return _block\n",
        "\n",
        "    \n",
        "    def transition_block(self, in_ch=0, out_ch=10, kernel_=(2,2), stride_value=2, bias_=False):\n",
        "      _block = nn.Sequential(nn.Conv2d(in_channels=in_ch, out_channels=in_ch, kernel_size=kernel_, stride=stride_value, bias=bias_),\n",
        "                              nn.Conv2d(in_channels=in_ch, out_channels=out_ch, kernel_size=(1,1), bias=False))\n",
        "      return _block\n",
        "\n",
        "\n",
        "\n",
        "class CifarNet(Net):\n",
        "    def __init__(self):\n",
        "        super(CifarNet, self).__init__(modelconfig)\n",
        "        self.conv0 = nn.Conv2d(in_channels=3, out_channels=8, kernel_size=(3,3), padding=2)\n",
        "        self.conv1 = self.convblock(in_ch=8, mid_ch=16, out_ch=32, padding_=[4,2], dilation_=[2,2]) # RF 5x5\n",
        "        self.transition1 = self.transition_block(in_ch=32, out_ch=16, kernel_=(3,3), stride_value=2) # RF \n",
        "        \n",
        "        self.conv2 = self.convblock(in_ch=16, mid_ch=32, out_ch=64, padding_=[4,2], dilation_=[2,2]) # RF\n",
        "        self.transition2 = self.transition_block(in_ch=64, out_ch=16, kernel_=(3,3), stride_value=2) # RF\n",
        "\n",
        "        self.conv3 = self.convblock(in_ch=16, mid_ch=32, out_ch=64, padding_=[4,2], dilation_=[2,2]) # RF\n",
        "        self.transition3 = self.transition_block(in_ch=64, out_ch=16, kernel_=(3,3), stride_value=2) # RF\n",
        "\n",
        "        self.conv4 = self.convblock(in_ch=16, mid_ch=32, out_ch=64, padding_=[2,2], dilation_=[2,2]) # RF\n",
        "        # self.transition4 = self.transition_block(in_ch=64, out_ch=16, kernel_=(3,3), stride_value=2) # RF\n",
        "\n",
        "\n",
        "        # self.conv2 = self.convblock(in_ch=16, mid_ch=32, out_ch=64)\n",
        "\n",
        "        self.gap = nn.AvgPool2d(6)\n",
        "\n",
        "        self.last_conv = nn.Conv2d(in_channels=64, out_channels=10, kernel_size=(1,1))\n",
        "        self.fc = self.single_convblock(in_ch=64, out_ch=10, kernel_=(1,1))\n",
        "\n",
        "\n",
        "    def forward(self, ip):\n",
        "        conv0 = self.conv0(ip)\n",
        "        conv1x = self.conv1(conv0)\n",
        "        # print('conv1x.shape', conv1x.shape)\n",
        "\n",
        "        transition1x = self.transition1(conv1x)\n",
        "        # print('transition1x.shape', transition1x.shape)\n",
        "\n",
        "        conv2x = self.conv2(transition1x)\n",
        "        # print('conv2x.shape', conv2x.shape)\n",
        "\n",
        "        transition2x = self.transition2(conv2x)\n",
        "        # print('transition2x.shape', transition2x.shape)\n",
        "\n",
        "        conv3x = self.conv3(transition2x)\n",
        "        # print('conv3x.shape', conv3x.shape)\n",
        "\n",
        "        transition3x = self.transition3(conv3x)\n",
        "        # print('transition3x.shape', transition3x.shape)\n",
        "        \n",
        "        conv4x = self.conv4(transition3x)\n",
        "        # print('conv4x.shape', conv4x.shape)\n",
        "        # print('conv2x.shape', conv2x.shape)\n",
        "        gap = self.gap(conv4x)\n",
        "        # # print('gap.shape',gap.shape)\n",
        "        # fc = self.fc(gap)\n",
        "        last_conv = self.last_conv(gap)\n",
        "        # # print('fc.shape',fc.shape)\n",
        "\n",
        "        final_op = last_conv.view(last_conv.shape[0],-1)\n",
        "\n",
        "        if self.config.loss_function == 'CrossEntropyLoss':\n",
        "            return final_op\n",
        "        elif self.config.loss_function == 'NLLoss':\n",
        "            return F.log_softmax(final_op, dim=-1)\n",
        "\n",
        "\n",
        "\n",
        "\n",
        "\n",
        "model = CifarNet().to(modelconfig.device)\n",
        "summary(model, input_size=modelconfig.input_image_size)"
      ],
      "execution_count": 34,
      "outputs": [
        {
          "output_type": "stream",
          "text": [
            "----------------------------------------------------------------\n",
            "        Layer (type)               Output Shape         Param #\n",
            "================================================================\n",
            "            Conv2d-1            [-1, 8, 34, 34]             224\n",
            "            Conv2d-2           [-1, 16, 38, 38]           1,152\n",
            "              ReLU-3           [-1, 16, 38, 38]               0\n",
            "       BatchNorm2d-4           [-1, 16, 38, 38]              32\n",
            "           Dropout-5           [-1, 16, 38, 38]               0\n",
            "            Conv2d-6           [-1, 32, 38, 38]           4,608\n",
            "              ReLU-7           [-1, 32, 38, 38]               0\n",
            "       BatchNorm2d-8           [-1, 32, 38, 38]              64\n",
            "           Dropout-9           [-1, 32, 38, 38]               0\n",
            "           Conv2d-10           [-1, 32, 18, 18]           9,216\n",
            "           Conv2d-11           [-1, 16, 18, 18]             512\n",
            "           Conv2d-12           [-1, 32, 22, 22]           4,608\n",
            "             ReLU-13           [-1, 32, 22, 22]               0\n",
            "      BatchNorm2d-14           [-1, 32, 22, 22]              64\n",
            "          Dropout-15           [-1, 32, 22, 22]               0\n",
            "           Conv2d-16           [-1, 64, 22, 22]          18,432\n",
            "             ReLU-17           [-1, 64, 22, 22]               0\n",
            "      BatchNorm2d-18           [-1, 64, 22, 22]             128\n",
            "          Dropout-19           [-1, 64, 22, 22]               0\n",
            "           Conv2d-20           [-1, 64, 10, 10]          36,864\n",
            "           Conv2d-21           [-1, 16, 10, 10]           1,024\n",
            "           Conv2d-22           [-1, 32, 14, 14]           4,608\n",
            "             ReLU-23           [-1, 32, 14, 14]               0\n",
            "      BatchNorm2d-24           [-1, 32, 14, 14]              64\n",
            "          Dropout-25           [-1, 32, 14, 14]               0\n",
            "           Conv2d-26           [-1, 64, 14, 14]          18,432\n",
            "             ReLU-27           [-1, 64, 14, 14]               0\n",
            "      BatchNorm2d-28           [-1, 64, 14, 14]             128\n",
            "          Dropout-29           [-1, 64, 14, 14]               0\n",
            "           Conv2d-30             [-1, 64, 6, 6]          36,864\n",
            "           Conv2d-31             [-1, 16, 6, 6]           1,024\n",
            "           Conv2d-32             [-1, 32, 6, 6]           4,608\n",
            "             ReLU-33             [-1, 32, 6, 6]               0\n",
            "      BatchNorm2d-34             [-1, 32, 6, 6]              64\n",
            "          Dropout-35             [-1, 32, 6, 6]               0\n",
            "           Conv2d-36             [-1, 64, 6, 6]          18,432\n",
            "             ReLU-37             [-1, 64, 6, 6]               0\n",
            "      BatchNorm2d-38             [-1, 64, 6, 6]             128\n",
            "          Dropout-39             [-1, 64, 6, 6]               0\n",
            "        AvgPool2d-40             [-1, 64, 1, 1]               0\n",
            "           Conv2d-41             [-1, 10, 1, 1]             650\n",
            "================================================================\n",
            "Total params: 161,930\n",
            "Trainable params: 161,930\n",
            "Non-trainable params: 0\n",
            "----------------------------------------------------------------\n",
            "Input size (MB): 0.01\n",
            "Forward/backward pass size (MB): 4.49\n",
            "Params size (MB): 0.62\n",
            "Estimated Total Size (MB): 5.12\n",
            "----------------------------------------------------------------\n"
          ],
          "name": "stdout"
        }
      ]
    },
    {
      "cell_type": "code",
      "metadata": {
        "id": "M4xBbDROpoCv",
        "colab": {
          "base_uri": "https://localhost:8080/",
          "height": 1000
        },
        "outputId": "bf699709-0a6d-4d40-e971-51ec4e38b6a5"
      },
      "source": [
        "\n",
        "train_misc_img, test_misc_img, model_results = fit(model=model, config=modelconfig)\n"
      ],
      "execution_count": 35,
      "outputs": [
        {
          "output_type": "stream",
          "text": [
            "\r  0%|          | 0/391 [00:00<?, ?it/s]"
          ],
          "name": "stderr"
        },
        {
          "output_type": "stream",
          "text": [
            "\n",
            "EPOCH:  1 LR:  [0.01]\n"
          ],
          "name": "stdout"
        },
        {
          "output_type": "error",
          "ename": "TypeError",
          "evalue": "ignored",
          "traceback": [
            "\u001b[0;31m---------------------------------------------------------------------------\u001b[0m",
            "\u001b[0;31mTypeError\u001b[0m                                 Traceback (most recent call last)",
            "\u001b[0;32m<ipython-input-35-2202bf29144a>\u001b[0m in \u001b[0;36m<module>\u001b[0;34m()\u001b[0m\n\u001b[1;32m      1\u001b[0m \u001b[0;34m\u001b[0m\u001b[0m\n\u001b[0;32m----> 2\u001b[0;31m \u001b[0mtrain_misc_img\u001b[0m\u001b[0;34m,\u001b[0m \u001b[0mtest_misc_img\u001b[0m\u001b[0;34m,\u001b[0m \u001b[0mmodel_results\u001b[0m \u001b[0;34m=\u001b[0m \u001b[0mfit\u001b[0m\u001b[0;34m(\u001b[0m\u001b[0mmodel\u001b[0m\u001b[0;34m=\u001b[0m\u001b[0mmodel\u001b[0m\u001b[0;34m,\u001b[0m \u001b[0mconfig\u001b[0m\u001b[0;34m=\u001b[0m\u001b[0mmodelconfig\u001b[0m\u001b[0;34m)\u001b[0m\u001b[0;34m\u001b[0m\u001b[0;34m\u001b[0m\u001b[0m\n\u001b[0m",
            "\u001b[0;32m/content/gdrive/MyDrive/torchkit/run/runner.py\u001b[0m in \u001b[0;36mfit\u001b[0;34m(model, config)\u001b[0m\n\u001b[1;32m    173\u001b[0m \u001b[0;34m\u001b[0m\u001b[0m\n\u001b[1;32m    174\u001b[0m         \u001b[0;31m# Train and Test Model\u001b[0m\u001b[0;34m\u001b[0m\u001b[0;34m\u001b[0m\u001b[0;34m\u001b[0m\u001b[0m\n\u001b[0;32m--> 175\u001b[0;31m         \u001b[0mtrain_misc_images\u001b[0m \u001b[0;34m=\u001b[0m \u001b[0mtrain\u001b[0m\u001b[0;34m(\u001b[0m\u001b[0mmodel\u001b[0m\u001b[0;34m,\u001b[0m \u001b[0mepoch\u001b[0m\u001b[0;34m,\u001b[0m \u001b[0mconfig\u001b[0m\u001b[0;34m=\u001b[0m\u001b[0mconfig\u001b[0m\u001b[0;34m)\u001b[0m\u001b[0;34m\u001b[0m\u001b[0;34m\u001b[0m\u001b[0m\n\u001b[0m\u001b[1;32m    176\u001b[0m         \u001b[0;31m# if config.lr_scheduler=='OneCycleLR':\u001b[0m\u001b[0;34m\u001b[0m\u001b[0;34m\u001b[0m\u001b[0;34m\u001b[0m\u001b[0m\n\u001b[1;32m    177\u001b[0m         \u001b[0;31m#     scheduler.step()\u001b[0m\u001b[0;34m\u001b[0m\u001b[0;34m\u001b[0m\u001b[0;34m\u001b[0m\u001b[0m\n",
            "\u001b[0;32m/content/gdrive/MyDrive/torchkit/run/runner.py\u001b[0m in \u001b[0;36mtrain\u001b[0;34m(model, epoch, config)\u001b[0m\n\u001b[1;32m     30\u001b[0m \u001b[0;34m\u001b[0m\u001b[0m\n\u001b[1;32m     31\u001b[0m \u001b[0;34m\u001b[0m\u001b[0m\n\u001b[0;32m---> 32\u001b[0;31m   \u001b[0;32mfor\u001b[0m \u001b[0mbatch_idx\u001b[0m\u001b[0;34m,\u001b[0m \u001b[0;34m(\u001b[0m\u001b[0mdata\u001b[0m\u001b[0;34m,\u001b[0m \u001b[0mtarget\u001b[0m\u001b[0;34m)\u001b[0m \u001b[0;32min\u001b[0m \u001b[0menumerate\u001b[0m\u001b[0;34m(\u001b[0m\u001b[0mpbar\u001b[0m\u001b[0;34m)\u001b[0m\u001b[0;34m:\u001b[0m\u001b[0;34m\u001b[0m\u001b[0;34m\u001b[0m\u001b[0m\n\u001b[0m\u001b[1;32m     33\u001b[0m     \u001b[0mdata\u001b[0m\u001b[0;34m,\u001b[0m \u001b[0mtarget\u001b[0m \u001b[0;34m=\u001b[0m \u001b[0mdata\u001b[0m\u001b[0;34m.\u001b[0m\u001b[0mto\u001b[0m\u001b[0;34m(\u001b[0m\u001b[0mconfig\u001b[0m\u001b[0;34m.\u001b[0m\u001b[0mdevice\u001b[0m\u001b[0;34m)\u001b[0m\u001b[0;34m,\u001b[0m \u001b[0mtarget\u001b[0m\u001b[0;34m.\u001b[0m\u001b[0mto\u001b[0m\u001b[0;34m(\u001b[0m\u001b[0mconfig\u001b[0m\u001b[0;34m.\u001b[0m\u001b[0mdevice\u001b[0m\u001b[0;34m)\u001b[0m\u001b[0;34m\u001b[0m\u001b[0;34m\u001b[0m\u001b[0m\n\u001b[1;32m     34\u001b[0m \u001b[0;34m\u001b[0m\u001b[0m\n",
            "\u001b[0;32m/usr/local/lib/python3.7/dist-packages/tqdm/std.py\u001b[0m in \u001b[0;36m__iter__\u001b[0;34m(self)\u001b[0m\n\u001b[1;32m   1102\u001b[0m                 fp_write=getattr(self.fp, 'write', sys.stderr.write))\n\u001b[1;32m   1103\u001b[0m \u001b[0;34m\u001b[0m\u001b[0m\n\u001b[0;32m-> 1104\u001b[0;31m         \u001b[0;32mfor\u001b[0m \u001b[0mobj\u001b[0m \u001b[0;32min\u001b[0m \u001b[0miterable\u001b[0m\u001b[0;34m:\u001b[0m\u001b[0;34m\u001b[0m\u001b[0;34m\u001b[0m\u001b[0m\n\u001b[0m\u001b[1;32m   1105\u001b[0m             \u001b[0;32myield\u001b[0m \u001b[0mobj\u001b[0m\u001b[0;34m\u001b[0m\u001b[0;34m\u001b[0m\u001b[0m\n\u001b[1;32m   1106\u001b[0m             \u001b[0;31m# Update and possibly print the progressbar.\u001b[0m\u001b[0;34m\u001b[0m\u001b[0;34m\u001b[0m\u001b[0;34m\u001b[0m\u001b[0m\n",
            "\u001b[0;32m/usr/local/lib/python3.7/dist-packages/torch/utils/data/dataloader.py\u001b[0m in \u001b[0;36m__next__\u001b[0;34m(self)\u001b[0m\n\u001b[1;32m    515\u001b[0m             \u001b[0;32mif\u001b[0m \u001b[0mself\u001b[0m\u001b[0;34m.\u001b[0m\u001b[0m_sampler_iter\u001b[0m \u001b[0;32mis\u001b[0m \u001b[0;32mNone\u001b[0m\u001b[0;34m:\u001b[0m\u001b[0;34m\u001b[0m\u001b[0;34m\u001b[0m\u001b[0m\n\u001b[1;32m    516\u001b[0m                 \u001b[0mself\u001b[0m\u001b[0;34m.\u001b[0m\u001b[0m_reset\u001b[0m\u001b[0;34m(\u001b[0m\u001b[0;34m)\u001b[0m\u001b[0;34m\u001b[0m\u001b[0;34m\u001b[0m\u001b[0m\n\u001b[0;32m--> 517\u001b[0;31m             \u001b[0mdata\u001b[0m \u001b[0;34m=\u001b[0m \u001b[0mself\u001b[0m\u001b[0;34m.\u001b[0m\u001b[0m_next_data\u001b[0m\u001b[0;34m(\u001b[0m\u001b[0;34m)\u001b[0m\u001b[0;34m\u001b[0m\u001b[0;34m\u001b[0m\u001b[0m\n\u001b[0m\u001b[1;32m    518\u001b[0m             \u001b[0mself\u001b[0m\u001b[0;34m.\u001b[0m\u001b[0m_num_yielded\u001b[0m \u001b[0;34m+=\u001b[0m \u001b[0;36m1\u001b[0m\u001b[0;34m\u001b[0m\u001b[0;34m\u001b[0m\u001b[0m\n\u001b[1;32m    519\u001b[0m             \u001b[0;32mif\u001b[0m \u001b[0mself\u001b[0m\u001b[0;34m.\u001b[0m\u001b[0m_dataset_kind\u001b[0m \u001b[0;34m==\u001b[0m \u001b[0m_DatasetKind\u001b[0m\u001b[0;34m.\u001b[0m\u001b[0mIterable\u001b[0m \u001b[0;32mand\u001b[0m\u001b[0;31m \u001b[0m\u001b[0;31m\\\u001b[0m\u001b[0;34m\u001b[0m\u001b[0;34m\u001b[0m\u001b[0m\n",
            "\u001b[0;32m/usr/local/lib/python3.7/dist-packages/torch/utils/data/dataloader.py\u001b[0m in \u001b[0;36m_next_data\u001b[0;34m(self)\u001b[0m\n\u001b[1;32m   1197\u001b[0m             \u001b[0;32melse\u001b[0m\u001b[0;34m:\u001b[0m\u001b[0;34m\u001b[0m\u001b[0;34m\u001b[0m\u001b[0m\n\u001b[1;32m   1198\u001b[0m                 \u001b[0;32mdel\u001b[0m \u001b[0mself\u001b[0m\u001b[0;34m.\u001b[0m\u001b[0m_task_info\u001b[0m\u001b[0;34m[\u001b[0m\u001b[0midx\u001b[0m\u001b[0;34m]\u001b[0m\u001b[0;34m\u001b[0m\u001b[0;34m\u001b[0m\u001b[0m\n\u001b[0;32m-> 1199\u001b[0;31m                 \u001b[0;32mreturn\u001b[0m \u001b[0mself\u001b[0m\u001b[0;34m.\u001b[0m\u001b[0m_process_data\u001b[0m\u001b[0;34m(\u001b[0m\u001b[0mdata\u001b[0m\u001b[0;34m)\u001b[0m\u001b[0;34m\u001b[0m\u001b[0;34m\u001b[0m\u001b[0m\n\u001b[0m\u001b[1;32m   1200\u001b[0m \u001b[0;34m\u001b[0m\u001b[0m\n\u001b[1;32m   1201\u001b[0m     \u001b[0;32mdef\u001b[0m \u001b[0m_try_put_index\u001b[0m\u001b[0;34m(\u001b[0m\u001b[0mself\u001b[0m\u001b[0;34m)\u001b[0m\u001b[0;34m:\u001b[0m\u001b[0;34m\u001b[0m\u001b[0;34m\u001b[0m\u001b[0m\n",
            "\u001b[0;32m/usr/local/lib/python3.7/dist-packages/torch/utils/data/dataloader.py\u001b[0m in \u001b[0;36m_process_data\u001b[0;34m(self, data)\u001b[0m\n\u001b[1;32m   1223\u001b[0m         \u001b[0mself\u001b[0m\u001b[0;34m.\u001b[0m\u001b[0m_try_put_index\u001b[0m\u001b[0;34m(\u001b[0m\u001b[0;34m)\u001b[0m\u001b[0;34m\u001b[0m\u001b[0;34m\u001b[0m\u001b[0m\n\u001b[1;32m   1224\u001b[0m         \u001b[0;32mif\u001b[0m \u001b[0misinstance\u001b[0m\u001b[0;34m(\u001b[0m\u001b[0mdata\u001b[0m\u001b[0;34m,\u001b[0m \u001b[0mExceptionWrapper\u001b[0m\u001b[0;34m)\u001b[0m\u001b[0;34m:\u001b[0m\u001b[0;34m\u001b[0m\u001b[0;34m\u001b[0m\u001b[0m\n\u001b[0;32m-> 1225\u001b[0;31m             \u001b[0mdata\u001b[0m\u001b[0;34m.\u001b[0m\u001b[0mreraise\u001b[0m\u001b[0;34m(\u001b[0m\u001b[0;34m)\u001b[0m\u001b[0;34m\u001b[0m\u001b[0;34m\u001b[0m\u001b[0m\n\u001b[0m\u001b[1;32m   1226\u001b[0m         \u001b[0;32mreturn\u001b[0m \u001b[0mdata\u001b[0m\u001b[0;34m\u001b[0m\u001b[0;34m\u001b[0m\u001b[0m\n\u001b[1;32m   1227\u001b[0m \u001b[0;34m\u001b[0m\u001b[0m\n",
            "\u001b[0;32m/usr/local/lib/python3.7/dist-packages/torch/_utils.py\u001b[0m in \u001b[0;36mreraise\u001b[0;34m(self)\u001b[0m\n\u001b[1;32m    427\u001b[0m             \u001b[0;31m# have message field\u001b[0m\u001b[0;34m\u001b[0m\u001b[0;34m\u001b[0m\u001b[0;34m\u001b[0m\u001b[0m\n\u001b[1;32m    428\u001b[0m             \u001b[0;32mraise\u001b[0m \u001b[0mself\u001b[0m\u001b[0;34m.\u001b[0m\u001b[0mexc_type\u001b[0m\u001b[0;34m(\u001b[0m\u001b[0mmessage\u001b[0m\u001b[0;34m=\u001b[0m\u001b[0mmsg\u001b[0m\u001b[0;34m)\u001b[0m\u001b[0;34m\u001b[0m\u001b[0;34m\u001b[0m\u001b[0m\n\u001b[0;32m--> 429\u001b[0;31m         \u001b[0;32mraise\u001b[0m \u001b[0mself\u001b[0m\u001b[0;34m.\u001b[0m\u001b[0mexc_type\u001b[0m\u001b[0;34m(\u001b[0m\u001b[0mmsg\u001b[0m\u001b[0;34m)\u001b[0m\u001b[0;34m\u001b[0m\u001b[0;34m\u001b[0m\u001b[0m\n\u001b[0m\u001b[1;32m    430\u001b[0m \u001b[0;34m\u001b[0m\u001b[0m\n\u001b[1;32m    431\u001b[0m \u001b[0;34m\u001b[0m\u001b[0m\n",
            "\u001b[0;31mTypeError\u001b[0m: Caught TypeError in DataLoader worker process 0.\nOriginal Traceback (most recent call last):\n  File \"/usr/local/lib/python3.7/dist-packages/torch/utils/data/_utils/worker.py\", line 202, in _worker_loop\n    data = fetcher.fetch(index)\n  File \"/usr/local/lib/python3.7/dist-packages/torch/utils/data/_utils/fetch.py\", line 44, in fetch\n    data = [self.dataset[idx] for idx in possibly_batched_index]\n  File \"/usr/local/lib/python3.7/dist-packages/torch/utils/data/_utils/fetch.py\", line 44, in <listcomp>\n    data = [self.dataset[idx] for idx in possibly_batched_index]\n  File \"/usr/local/lib/python3.7/dist-packages/torchvision/datasets/cifar.py\", line 120, in __getitem__\n    img = self.transform(img)\nTypeError: __call__() takes 1 positional argument but 2 were given\n"
          ]
        }
      ]
    },
    {
      "cell_type": "markdown",
      "metadata": {
        "id": "O-odOrhdpoC2"
      },
      "source": [
        "4. Train the network\n",
        "^^^^^^^^^^^^^^^^^^^^\n",
        "\n",
        "This is when things start to get interesting.\n",
        "We simply have to loop over our data iterator, and feed the inputs to the\n",
        "network and optimize.\n",
        "\n"
      ]
    },
    {
      "cell_type": "code",
      "metadata": {
        "id": "kkuRfo1IpoC3",
        "colab": {
          "base_uri": "https://localhost:8080/",
          "height": 143
        },
        "outputId": "a482939e-8adb-4e0b-e729-840c779827ee"
      },
      "source": [
        "for epoch in range(2):  # loop over the dataset multiple times\n",
        "\n",
        "    running_loss = 0.0\n",
        "    for i, data in enumerate(trainloader, 0):\n",
        "        # get the inputs\n",
        "        inputs, labels = data\n",
        "\n",
        "        # zero the parameter gradients\n",
        "        optimizer.zero_grad()\n",
        "\n",
        "        # forward + backward + optimize\n",
        "        outputs = net(inputs)\n",
        "        loss = criterion(outputs, labels)\n",
        "        loss.backward()\n",
        "        optimizer.step()\n",
        "\n",
        "        # print statistics\n",
        "        running_loss += loss.item()\n",
        "        if i % 2000 == 1999:    # print every 2000 mini-batches\n",
        "            print('[%d, %5d] loss: %.3f' %\n",
        "                  (epoch + 1, i + 1, running_loss / 2000))\n",
        "            running_loss = 0.0\n",
        "\n",
        "print('Finished Training')"
      ],
      "execution_count": null,
      "outputs": [
        {
          "output_type": "stream",
          "text": [
            "[1,  2000] loss: 2.185\n",
            "[1,  4000] loss: 1.848\n",
            "[1,  6000] loss: 1.678\n",
            "[1,  8000] loss: 1.573\n",
            "[1, 10000] loss: 1.524\n",
            "[1, 12000] loss: 1.480\n",
            "[2,  2000] loss: 1.399\n"
          ],
          "name": "stdout"
        }
      ]
    },
    {
      "cell_type": "markdown",
      "metadata": {
        "id": "YLrvL_fHpoC5"
      },
      "source": [
        "5. Test the network on the test data\n",
        "^^^^^^^^^^^^^^^^^^^^^^^^^^^^^^^^^^^^\n",
        "\n",
        "We have trained the network for 2 passes over the training dataset.\n",
        "But we need to check if the network has learnt anything at all.\n",
        "\n",
        "We will check this by predicting the class label that the neural network\n",
        "outputs, and checking it against the ground-truth. If the prediction is\n",
        "correct, we add the sample to the list of correct predictions.\n",
        "\n",
        "Okay, first step. Let us display an image from the test set to get familiar.\n",
        "\n"
      ]
    },
    {
      "cell_type": "code",
      "metadata": {
        "id": "nizbsvw9poC6"
      },
      "source": [
        "dataiter = iter(testloader)\n",
        "images, labels = dataiter.next()\n",
        "\n",
        "# print images\n",
        "imshow(torchvision.utils.make_grid(images))\n",
        "print('GroundTruth: ', ' '.join('%5s' % classes[labels[j]] for j in range(4)))"
      ],
      "execution_count": null,
      "outputs": []
    },
    {
      "cell_type": "markdown",
      "metadata": {
        "id": "DAx4QPHVpoC8"
      },
      "source": [
        "Okay, now let us see what the neural network thinks these examples above are:\n",
        "\n"
      ]
    },
    {
      "cell_type": "code",
      "metadata": {
        "id": "HVLjlssWpoC9"
      },
      "source": [
        "outputs = net(images)"
      ],
      "execution_count": null,
      "outputs": []
    },
    {
      "cell_type": "markdown",
      "metadata": {
        "id": "u8OTHZEApoC_"
      },
      "source": [
        "The outputs are energies for the 10 classes.\n",
        "Higher the energy for a class, the more the network\n",
        "thinks that the image is of the particular class.\n",
        "So, let's get the index of the highest energy:\n",
        "\n"
      ]
    },
    {
      "cell_type": "code",
      "metadata": {
        "id": "ABRIDW3lpoDA"
      },
      "source": [
        "_, predicted = torch.max(outputs, 1)\n",
        "\n",
        "print('Predicted: ', ' '.join('%5s' % classes[predicted[j]]\n",
        "                              for j in range(4)))"
      ],
      "execution_count": null,
      "outputs": []
    },
    {
      "cell_type": "markdown",
      "metadata": {
        "id": "2TV0TXL1poDC"
      },
      "source": [
        "The results seem pretty good.\n",
        "\n",
        "Let us look at how the network performs on the whole dataset.\n",
        "\n"
      ]
    },
    {
      "cell_type": "code",
      "metadata": {
        "id": "SZ4-5CESpoDD"
      },
      "source": [
        "correct = 0\n",
        "total = 0\n",
        "with torch.no_grad():\n",
        "    for data in testloader:\n",
        "        images, labels = data\n",
        "        outputs = net(images)\n",
        "        _, predicted = torch.max(outputs.data, 1)\n",
        "        total += labels.size(0)\n",
        "        correct += (predicted == labels).sum().item()\n",
        "\n",
        "print('Accuracy of the network on the 10000 test images: %d %%' % (\n",
        "    100 * correct / total))"
      ],
      "execution_count": null,
      "outputs": []
    },
    {
      "cell_type": "markdown",
      "metadata": {
        "id": "eDdwPBl8poDF"
      },
      "source": [
        "That looks waaay better than chance, which is 10% accuracy (randomly picking\n",
        "a class out of 10 classes).\n",
        "Seems like the network learnt something.\n",
        "\n",
        "Hmmm, what are the classes that performed well, and the classes that did\n",
        "not perform well:\n",
        "\n"
      ]
    },
    {
      "cell_type": "code",
      "metadata": {
        "id": "pDNFuDEDpoDG"
      },
      "source": [
        "class_correct = list(0. for i in range(10))\n",
        "class_total = list(0. for i in range(10))\n",
        "with torch.no_grad():\n",
        "    for data in testloader:\n",
        "        images, labels = data\n",
        "        outputs = net(images)\n",
        "        _, predicted = torch.max(outputs, 1)\n",
        "        c = (predicted == labels).squeeze()\n",
        "        for i in range(4):\n",
        "            label = labels[i]\n",
        "            class_correct[label] += c[i].item()\n",
        "            class_total[label] += 1\n",
        "\n",
        "\n",
        "for i in range(10):\n",
        "    print('Accuracy of %5s : %2d %%' % (\n",
        "        classes[i], 100 * class_correct[i] / class_total[i]))"
      ],
      "execution_count": null,
      "outputs": []
    }
  ]
}