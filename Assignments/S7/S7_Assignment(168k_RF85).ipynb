{
  "nbformat": 4,
  "nbformat_minor": 0,
  "metadata": {
    "kernelspec": {
      "name": "python3",
      "display_name": "Python 3"
    },
    "language_info": {
      "codemirror_mode": {
        "name": "ipython",
        "version": 3
      },
      "file_extension": ".py",
      "mimetype": "text/x-python",
      "name": "python",
      "nbconvert_exporter": "python",
      "pygments_lexer": "ipython3",
      "version": "3.6.6"
    },
    "colab": {
      "name": "S7-Assignment.ipynb",
      "provenance": [],
      "collapsed_sections": []
    },
    "accelerator": "GPU"
  },
  "cells": [
    {
      "cell_type": "code",
      "metadata": {
        "colab": {
          "base_uri": "https://localhost:8080/"
        },
        "id": "fsxEsLqQDNNm",
        "outputId": "f12352d7-d5a4-45d5-b771-4ec46653295d"
      },
      "source": [
        "!nvidia-smi"
      ],
      "execution_count": 1,
      "outputs": [
        {
          "output_type": "stream",
          "text": [
            "Thu Jun 24 18:02:45 2021       \n",
            "+-----------------------------------------------------------------------------+\n",
            "| NVIDIA-SMI 465.27       Driver Version: 460.32.03    CUDA Version: 11.2     |\n",
            "|-------------------------------+----------------------+----------------------+\n",
            "| GPU  Name        Persistence-M| Bus-Id        Disp.A | Volatile Uncorr. ECC |\n",
            "| Fan  Temp  Perf  Pwr:Usage/Cap|         Memory-Usage | GPU-Util  Compute M. |\n",
            "|                               |                      |               MIG M. |\n",
            "|===============================+======================+======================|\n",
            "|   0  Tesla T4            Off  | 00000000:00:04.0 Off |                    0 |\n",
            "| N/A   45C    P8     9W /  70W |      0MiB / 15109MiB |      0%      Default |\n",
            "|                               |                      |                  N/A |\n",
            "+-------------------------------+----------------------+----------------------+\n",
            "                                                                               \n",
            "+-----------------------------------------------------------------------------+\n",
            "| Processes:                                                                  |\n",
            "|  GPU   GI   CI        PID   Type   Process name                  GPU Memory |\n",
            "|        ID   ID                                                   Usage      |\n",
            "|=============================================================================|\n",
            "|  No running processes found                                                 |\n",
            "+-----------------------------------------------------------------------------+\n"
          ],
          "name": "stdout"
        }
      ]
    },
    {
      "cell_type": "code",
      "metadata": {
        "colab": {
          "base_uri": "https://localhost:8080/"
        },
        "id": "LfQ7zahiDRD3",
        "outputId": "e65854ef-4574-49b1-fe6a-1642ee2d987c"
      },
      "source": [
        "import sys\n",
        "from google.colab import drive\n",
        "\n",
        "drive.mount('/content/gdrive', force_remount=True)\n",
        "sys.path.append('/content/gdrive/MyDrive')\n",
        "\n",
        "%reload_ext tensorboard\n"
      ],
      "execution_count": 2,
      "outputs": [
        {
          "output_type": "stream",
          "text": [
            "Mounted at /content/gdrive\n"
          ],
          "name": "stdout"
        }
      ]
    },
    {
      "cell_type": "code",
      "metadata": {
        "colab": {
          "base_uri": "https://localhost:8080/"
        },
        "id": "dpO40ss4nWLe",
        "outputId": "aecddc68-d018-46e7-d7a7-8208145d9b64"
      },
      "source": [
        "!pip install -U albumentations>=0.3.0 --user\n",
        "!pip install --upgrade git+https://github.com/albumentations-team/albumentations\n",
        "\n",
        "\n",
        "import albumentations as A"
      ],
      "execution_count": 3,
      "outputs": [
        {
          "output_type": "stream",
          "text": [
            "Collecting git+https://github.com/albumentations-team/albumentations\n",
            "  Cloning https://github.com/albumentations-team/albumentations to /tmp/pip-req-build-fcsh5esa\n",
            "  Running command git clone -q https://github.com/albumentations-team/albumentations /tmp/pip-req-build-fcsh5esa\n",
            "Requirement already satisfied, skipping upgrade: numpy>=1.11.1 in /usr/local/lib/python3.7/dist-packages (from albumentations==1.0.0) (1.19.5)\n",
            "Requirement already satisfied, skipping upgrade: scipy in /usr/local/lib/python3.7/dist-packages (from albumentations==1.0.0) (1.4.1)\n",
            "Requirement already satisfied, skipping upgrade: scikit-image>=0.16.1 in /usr/local/lib/python3.7/dist-packages (from albumentations==1.0.0) (0.16.2)\n",
            "Requirement already satisfied, skipping upgrade: PyYAML in /usr/local/lib/python3.7/dist-packages (from albumentations==1.0.0) (3.13)\n",
            "Requirement already satisfied, skipping upgrade: opencv-python>=4.1.1 in /usr/local/lib/python3.7/dist-packages (from albumentations==1.0.0) (4.1.2.30)\n",
            "Requirement already satisfied, skipping upgrade: networkx>=2.0 in /usr/local/lib/python3.7/dist-packages (from scikit-image>=0.16.1->albumentations==1.0.0) (2.5.1)\n",
            "Requirement already satisfied, skipping upgrade: imageio>=2.3.0 in /usr/local/lib/python3.7/dist-packages (from scikit-image>=0.16.1->albumentations==1.0.0) (2.4.1)\n",
            "Requirement already satisfied, skipping upgrade: matplotlib!=3.0.0,>=2.0.0 in /usr/local/lib/python3.7/dist-packages (from scikit-image>=0.16.1->albumentations==1.0.0) (3.2.2)\n",
            "Requirement already satisfied, skipping upgrade: pillow>=4.3.0 in /usr/local/lib/python3.7/dist-packages (from scikit-image>=0.16.1->albumentations==1.0.0) (7.1.2)\n",
            "Requirement already satisfied, skipping upgrade: PyWavelets>=0.4.0 in /usr/local/lib/python3.7/dist-packages (from scikit-image>=0.16.1->albumentations==1.0.0) (1.1.1)\n",
            "Requirement already satisfied, skipping upgrade: decorator<5,>=4.3 in /usr/local/lib/python3.7/dist-packages (from networkx>=2.0->scikit-image>=0.16.1->albumentations==1.0.0) (4.4.2)\n",
            "Requirement already satisfied, skipping upgrade: pyparsing!=2.0.4,!=2.1.2,!=2.1.6,>=2.0.1 in /usr/local/lib/python3.7/dist-packages (from matplotlib!=3.0.0,>=2.0.0->scikit-image>=0.16.1->albumentations==1.0.0) (2.4.7)\n",
            "Requirement already satisfied, skipping upgrade: cycler>=0.10 in /usr/local/lib/python3.7/dist-packages (from matplotlib!=3.0.0,>=2.0.0->scikit-image>=0.16.1->albumentations==1.0.0) (0.10.0)\n",
            "Requirement already satisfied, skipping upgrade: python-dateutil>=2.1 in /usr/local/lib/python3.7/dist-packages (from matplotlib!=3.0.0,>=2.0.0->scikit-image>=0.16.1->albumentations==1.0.0) (2.8.1)\n",
            "Requirement already satisfied, skipping upgrade: kiwisolver>=1.0.1 in /usr/local/lib/python3.7/dist-packages (from matplotlib!=3.0.0,>=2.0.0->scikit-image>=0.16.1->albumentations==1.0.0) (1.3.1)\n",
            "Requirement already satisfied, skipping upgrade: six in /usr/local/lib/python3.7/dist-packages (from cycler>=0.10->matplotlib!=3.0.0,>=2.0.0->scikit-image>=0.16.1->albumentations==1.0.0) (1.15.0)\n",
            "Building wheels for collected packages: albumentations\n",
            "  Building wheel for albumentations (setup.py) ... \u001b[?25l\u001b[?25hdone\n",
            "  Created wheel for albumentations: filename=albumentations-1.0.0-cp37-none-any.whl size=98151 sha256=42374b1626cee660649753f3850ebda263a83b0ffc9474ea341664a9bf524205\n",
            "  Stored in directory: /tmp/pip-ephem-wheel-cache-msg29jiu/wheels/6f/77/82/86baf8aeda64a6de0f890cd0f2fb31acaf5545cc9c99ad21ba\n",
            "Successfully built albumentations\n",
            "Installing collected packages: albumentations\n",
            "  Found existing installation: albumentations 1.0.0\n",
            "    Uninstalling albumentations-1.0.0:\n",
            "      Successfully uninstalled albumentations-1.0.0\n",
            "Successfully installed albumentations-1.0.0\n"
          ],
          "name": "stdout"
        }
      ]
    },
    {
      "cell_type": "code",
      "metadata": {
        "id": "-yVpodAMpoCi",
        "colab": {
          "base_uri": "https://localhost:8080/"
        },
        "outputId": "f1498a35-3758-4f66-b77a-3fc258dce363"
      },
      "source": [
        "from __future__ import print_function\n",
        "import torch\n",
        "import torch.nn as nn\n",
        "import torch.nn.functional as F\n",
        "import torch.optim as optim\n",
        "import torchvision\n",
        "from torchvision import datasets, transforms\n",
        "from torch.utils.tensorboard import SummaryWriter\n",
        "from tqdm import tqdm_notebook\n",
        "from tqdm import tqdm\n",
        "!pip install torchsummary\n",
        "from torchsummary import summary\n",
        "import numpy as np\n",
        "import matplotlib.pyplot as plt\n",
        "from torch.utils.data import Dataset, DataLoader\n",
        "import albumentations as A\n",
        "from albumentations.pytorch import ToTensorV2\n",
        "from collections import defaultdict\n",
        "\n",
        "# custom torch package\n",
        "import torchkit\n",
        "from torchkit.run import train, test, fit\n",
        "from torchkit.data.dataloader import convert\n",
        "from torchkit.data.dataset import CIFAR_Dataset\n",
        "from torchkit.utils import data_utils, model_utils\n",
        "from torchkit.models.cifar_net import Net2\n",
        "from torchkit.torchsummary import summary"
      ],
      "execution_count": 4,
      "outputs": [
        {
          "output_type": "stream",
          "text": [
            "Requirement already satisfied: torchsummary in /usr/local/lib/python3.7/dist-packages (1.5.1)\n"
          ],
          "name": "stdout"
        }
      ]
    },
    {
      "cell_type": "markdown",
      "metadata": {
        "id": "5kjt4e2TpoCk"
      },
      "source": [
        "The output of torchvision datasets are PILImage images of range [0, 1].\n",
        "We transform them to Tensors of normalized range [-1, 1].\n",
        "\n"
      ]
    },
    {
      "cell_type": "code",
      "metadata": {
        "colab": {
          "base_uri": "https://localhost:8080/"
        },
        "id": "nzpxSQZNVOAt",
        "outputId": "1dced3f9-3cac-42ca-d517-b5e251cff689"
      },
      "source": [
        "# Download CIFAR data\n",
        "trainset = torchvision.datasets.CIFAR10(root='./data', train=True,\n",
        "                                        download=True)\n",
        "testset = torchvision.datasets.CIFAR10(root='./data', train=False,\n",
        "                                       download=True)"
      ],
      "execution_count": 5,
      "outputs": [
        {
          "output_type": "stream",
          "text": [
            "Files already downloaded and verified\n",
            "Files already downloaded and verified\n"
          ],
          "name": "stdout"
        }
      ]
    },
    {
      "cell_type": "code",
      "metadata": {
        "id": "NZyAlaAQ3P77"
      },
      "source": [
        "# Train and Test Transforms \n",
        "\n",
        "train_transform = A.Compose(\n",
        "    [\n",
        "        A.HorizontalFlip(),\n",
        "        A.ShiftScaleRotate(),\n",
        "        A.CoarseDropout(max_holes = 1, max_height=16, max_width=16, min_holes = 1, min_height=16, min_width=16, fill_value=(0.4675, 0.4599, 0.4236), mask_fill_value = None),\n",
        "        A.Normalize(mean=(0.4675, 0.4599, 0.4236), std=(0.2901, 0.2874, 0.2917)),\n",
        "        ToTensorV2(),\n",
        "    ])\n",
        "\n",
        "\n",
        "test_transform = A.Compose(\n",
        "    [\n",
        "        A.Normalize(mean=(0.4675, 0.4599, 0.4236), std=(0.2901, 0.2874, 0.2917)),\n",
        "        ToTensorV2(),\n",
        "    ])"
      ],
      "execution_count": 6,
      "outputs": []
    },
    {
      "cell_type": "code",
      "metadata": {
        "id": "o8HLCrGUrGyq"
      },
      "source": [
        "train = CIFAR_Dataset(trainset.data, trainset.targets, transforms=train_transform)\n",
        "test = CIFAR_Dataset(testset.data, testset.targets, transforms=test_transform)\n",
        "\n",
        "train_loader, test_loader = convert(train, test)\n"
      ],
      "execution_count": 7,
      "outputs": []
    },
    {
      "cell_type": "code",
      "metadata": {
        "id": "p5PCVq_Lahqx"
      },
      "source": [
        "class GlobalConfig:\n",
        "    seed = 1992\n",
        "    num_classes = 10\n",
        "    batch_size = 128\n",
        "    EPOCHS = 100\n",
        "    device = torch.device('cuda' if torch.cuda.is_available() else 'cpu')\n",
        "\n",
        "    # data\n",
        "    input_image_size = (3, 32, 32)\n",
        "    trainloader = train_loader\n",
        "    testloader = test_loader\n",
        "\n",
        "    classes = ('plane', 'car', 'bird', 'cat',\n",
        "           'deer', 'dog', 'frog', 'horse', 'ship', 'truck')\n",
        "\n",
        "\n",
        "\n",
        "    # model data normalization\n",
        "    channel_norm = 'BatchNorm2d'\n",
        "    channel_norm_params = {'GroupNorm': {'num_groups':2},\n",
        "                 'BatchNorm2d':{'affine':True},\n",
        "                 'LayerNorm': {'normalized_shape':10}}\n",
        "                \n",
        "\n",
        "    # regularizer\n",
        "    dropout_value = 0.05\n",
        "\n",
        "    # loss\n",
        "    # loss_function = 'CrossEntropyLoss'\n",
        "    loss_function = 'NLLoss'\n",
        "\n",
        "    # scheduler\n",
        "    lr_scheduler = 'OneCycleLR'\n",
        "    lr_scheduler_params = {'StepLR': {'step_size':7, 'gamma':0.5},\n",
        "                \n",
        "                'ReduceLROnPlateau': {'mode':'min', 'factor':0.5, 'patience':2, 'threshold':0.0001,\n",
        "                                      'threshold_mode':'rel', 'cooldown':0, 'min_lr':1e-4,\n",
        "                                      'eps':1e-08, 'verbose':True},\n",
        "                'OneCycleLR': {'max_lr': 0.2, 'steps_per_epoch':len(trainloader), 'div_factor':20, 'epochs':EPOCHS }}\n",
        "                                \n",
        "\n",
        "    # optimizer\n",
        "    optimizer = 'SGD'\n",
        "    optimizer_params = {'SGD':{'lr':0.01, 'momentum':0.9}}\n",
        "\n",
        "    # store model stats\n",
        "    model_results = {'TestAccuracy': [], \n",
        "                  'TrainAccuracy': [],\n",
        "                  'TestLoss': [],\n",
        "                  'TrainLoss':[]}\n",
        "\n",
        "    # Params\n",
        "    misclassified=True\n",
        "    L1Lambda=False\n",
        "\n",
        "    # ModelName\n",
        "    name='168K_100Epochs'\n",
        "\n",
        "    \n",
        "modelconfig = GlobalConfig\n"
      ],
      "execution_count": 8,
      "outputs": []
    },
    {
      "cell_type": "markdown",
      "metadata": {
        "id": "_cj433rtpoCn"
      },
      "source": [
        "Let us show some of the training images, for fun.\n",
        "\n"
      ]
    },
    {
      "cell_type": "code",
      "metadata": {
        "colab": {
          "base_uri": "https://localhost:8080/",
          "height": 1000
        },
        "id": "h-Xkm0TfnnRQ",
        "outputId": "fc073cfb-662a-4792-f890-b72d8cf3d542"
      },
      "source": [
        "img, label = next(iter(modelconfig.trainloader))\n",
        "data = CIFAR_Dataset(img,label)\n",
        "data_utils.plot_data(data,modelconfig)"
      ],
      "execution_count": 9,
      "outputs": [
        {
          "output_type": "stream",
          "text": [
            "Clipping input data to the valid range for imshow with RGB data ([0..1] for floats or [0..255] for integers).\n",
            "Clipping input data to the valid range for imshow with RGB data ([0..1] for floats or [0..255] for integers).\n",
            "Clipping input data to the valid range for imshow with RGB data ([0..1] for floats or [0..255] for integers).\n",
            "Clipping input data to the valid range for imshow with RGB data ([0..1] for floats or [0..255] for integers).\n",
            "Clipping input data to the valid range for imshow with RGB data ([0..1] for floats or [0..255] for integers).\n",
            "Clipping input data to the valid range for imshow with RGB data ([0..1] for floats or [0..255] for integers).\n",
            "Clipping input data to the valid range for imshow with RGB data ([0..1] for floats or [0..255] for integers).\n",
            "Clipping input data to the valid range for imshow with RGB data ([0..1] for floats or [0..255] for integers).\n",
            "Clipping input data to the valid range for imshow with RGB data ([0..1] for floats or [0..255] for integers).\n",
            "Clipping input data to the valid range for imshow with RGB data ([0..1] for floats or [0..255] for integers).\n",
            "Clipping input data to the valid range for imshow with RGB data ([0..1] for floats or [0..255] for integers).\n",
            "Clipping input data to the valid range for imshow with RGB data ([0..1] for floats or [0..255] for integers).\n",
            "Clipping input data to the valid range for imshow with RGB data ([0..1] for floats or [0..255] for integers).\n",
            "Clipping input data to the valid range for imshow with RGB data ([0..1] for floats or [0..255] for integers).\n",
            "Clipping input data to the valid range for imshow with RGB data ([0..1] for floats or [0..255] for integers).\n",
            "Clipping input data to the valid range for imshow with RGB data ([0..1] for floats or [0..255] for integers).\n",
            "Clipping input data to the valid range for imshow with RGB data ([0..1] for floats or [0..255] for integers).\n",
            "Clipping input data to the valid range for imshow with RGB data ([0..1] for floats or [0..255] for integers).\n",
            "Clipping input data to the valid range for imshow with RGB data ([0..1] for floats or [0..255] for integers).\n",
            "Clipping input data to the valid range for imshow with RGB data ([0..1] for floats or [0..255] for integers).\n",
            "Clipping input data to the valid range for imshow with RGB data ([0..1] for floats or [0..255] for integers).\n",
            "Clipping input data to the valid range for imshow with RGB data ([0..1] for floats or [0..255] for integers).\n",
            "Clipping input data to the valid range for imshow with RGB data ([0..1] for floats or [0..255] for integers).\n",
            "Clipping input data to the valid range for imshow with RGB data ([0..1] for floats or [0..255] for integers).\n",
            "Clipping input data to the valid range for imshow with RGB data ([0..1] for floats or [0..255] for integers).\n",
            "Clipping input data to the valid range for imshow with RGB data ([0..1] for floats or [0..255] for integers).\n",
            "Clipping input data to the valid range for imshow with RGB data ([0..1] for floats or [0..255] for integers).\n",
            "Clipping input data to the valid range for imshow with RGB data ([0..1] for floats or [0..255] for integers).\n",
            "Clipping input data to the valid range for imshow with RGB data ([0..1] for floats or [0..255] for integers).\n",
            "Clipping input data to the valid range for imshow with RGB data ([0..1] for floats or [0..255] for integers).\n",
            "Clipping input data to the valid range for imshow with RGB data ([0..1] for floats or [0..255] for integers).\n",
            "Clipping input data to the valid range for imshow with RGB data ([0..1] for floats or [0..255] for integers).\n",
            "Clipping input data to the valid range for imshow with RGB data ([0..1] for floats or [0..255] for integers).\n",
            "Clipping input data to the valid range for imshow with RGB data ([0..1] for floats or [0..255] for integers).\n",
            "Clipping input data to the valid range for imshow with RGB data ([0..1] for floats or [0..255] for integers).\n",
            "Clipping input data to the valid range for imshow with RGB data ([0..1] for floats or [0..255] for integers).\n",
            "Clipping input data to the valid range for imshow with RGB data ([0..1] for floats or [0..255] for integers).\n",
            "Clipping input data to the valid range for imshow with RGB data ([0..1] for floats or [0..255] for integers).\n",
            "Clipping input data to the valid range for imshow with RGB data ([0..1] for floats or [0..255] for integers).\n",
            "Clipping input data to the valid range for imshow with RGB data ([0..1] for floats or [0..255] for integers).\n"
          ],
          "name": "stderr"
        },
        {
          "output_type": "display_data",
          "data": {
            "image/png": "[encoded data removed]",
            "text/plain": [
              "<Figure size 1152x720 with 40 Axes>"
            ]
          },
          "metadata": {
            "tags": [],
            "needs_background": "light"
          }
        }
      ]
    },
    {
      "cell_type": "markdown",
      "metadata": {
        "id": "3NKcu-xgXwwV"
      },
      "source": [
        "**Class/Batch Balance**"
      ]
    },
    {
      "cell_type": "code",
      "metadata": {
        "id": "-BF6sqmqEp5v",
        "colab": {
          "base_uri": "https://localhost:8080/"
        },
        "outputId": "d942b321-890b-48b3-d73b-db8fb463805b"
      },
      "source": [
        "from collections import defaultdict\n",
        "data = defaultdict()\n",
        "for batch_idx, (images, labels) in enumerate(iter(modelconfig.trainloader)):\n",
        "  data[batch_idx] = labels\n",
        "\n",
        "total_data = []\n",
        "first_batch = data[1]\n",
        "for i in range(len(data)):\n",
        "  for label in list(data[i]):\n",
        "   total_data.append(label.item())\n",
        "\n",
        "class_balance = defaultdict()\n",
        "class_data = {0,1,2,3,4,5,6,7,8,9}\n",
        "for i in class_data:\n",
        "  class_balance[i]=total_data.count(i)\n",
        "class_balance\n",
        "\n"
      ],
      "execution_count": 10,
      "outputs": [
        {
          "output_type": "execute_result",
          "data": {
            "text/plain": [
              "defaultdict(None,\n",
              "            {0: 5000,\n",
              "             1: 5000,\n",
              "             2: 5000,\n",
              "             3: 5000,\n",
              "             4: 5000,\n",
              "             5: 5000,\n",
              "             6: 5000,\n",
              "             7: 5000,\n",
              "             8: 5000,\n",
              "             9: 5000})"
            ]
          },
          "metadata": {
            "tags": []
          },
          "execution_count": 10
        }
      ]
    },
    {
      "cell_type": "markdown",
      "metadata": {
        "id": "yrDX-mSIaQkC"
      },
      "source": [
        "All classes have same number of images, 5000. Dataset is balanced. "
      ]
    },
    {
      "cell_type": "code",
      "metadata": {
        "id": "v4M2vR9Hiz4f",
        "colab": {
          "base_uri": "https://localhost:8080/"
        },
        "outputId": "479935d5-2699-4a13-e356-d0a912967d06"
      },
      "source": [
        "model = Net2(modelconfig).to(modelconfig.device)\n",
        "summary(model, (3,32,32))"
      ],
      "execution_count": 31,
      "outputs": [
        {
          "output_type": "stream",
          "text": [
            "------------------------------------------------------------------------------------------------\n",
            "        Layer (type)               Output Shape         Param #           Receptive Field\n",
            "================================================================================================\n",
            "            Conv2d-1           [-1, 32, 32, 32]             864               3\n",
            "              ReLU-2           [-1, 32, 32, 32]               0               3\n",
            "       BatchNorm2d-3           [-1, 32, 32, 32]              64               3\n",
            "         Dropout2d-4           [-1, 32, 32, 32]               0               3\n",
            "            Conv2d-5           [-1, 48, 32, 32]          13,824               5\n",
            "              ReLU-6           [-1, 48, 32, 32]               0               5\n",
            "       BatchNorm2d-7           [-1, 48, 32, 32]              96               5\n",
            "         Dropout2d-8           [-1, 48, 32, 32]               0               5\n",
            "            Conv2d-9           [-1, 48, 32, 32]          20,736               7\n",
            "           Conv2d-10           [-1, 64, 32, 32]           3,072               7\n",
            "             ReLU-11           [-1, 64, 32, 32]               0               7\n",
            "      BatchNorm2d-12           [-1, 64, 32, 32]             128               7\n",
            "        Dropout2d-13           [-1, 64, 32, 32]               0               7\n",
            "           Conv2d-14           [-1, 16, 15, 15]           9,232               9\n",
            "             ReLU-15           [-1, 16, 15, 15]               0               9\n",
            "           Conv2d-16           [-1, 32, 15, 15]           4,608              13\n",
            "             ReLU-17           [-1, 32, 15, 15]               0              13\n",
            "      BatchNorm2d-18           [-1, 32, 15, 15]              64              13\n",
            "        Dropout2d-19           [-1, 32, 15, 15]               0              13\n",
            "           Conv2d-20           [-1, 64, 15, 15]          18,432              17\n",
            "             ReLU-21           [-1, 64, 15, 15]               0              17\n",
            "      BatchNorm2d-22           [-1, 64, 15, 15]             128              17\n",
            "        Dropout2d-23           [-1, 64, 15, 15]               0              17\n",
            "           Conv2d-24             [-1, 32, 7, 7]          18,464              21\n",
            "             ReLU-25             [-1, 32, 7, 7]               0              21\n",
            "           Conv2d-26             [-1, 64, 5, 5]          18,432              37\n",
            "             ReLU-27             [-1, 64, 5, 5]               0              37\n",
            "      BatchNorm2d-28             [-1, 64, 5, 5]             128              37\n",
            "        Dropout2d-29             [-1, 64, 5, 5]               0              37\n",
            "           Conv2d-30             [-1, 64, 5, 5]          36,864              45\n",
            "             ReLU-31             [-1, 64, 5, 5]               0              45\n",
            "      BatchNorm2d-32             [-1, 64, 5, 5]             128              45\n",
            "        Dropout2d-33             [-1, 64, 5, 5]               0              45\n",
            "           Conv2d-34             [-1, 16, 3, 3]           9,232              53\n",
            "             ReLU-35             [-1, 16, 3, 3]               0              53\n",
            "           Conv2d-36             [-1, 32, 3, 3]           4,608              69\n",
            "             ReLU-37             [-1, 32, 3, 3]               0              69\n",
            "      BatchNorm2d-38             [-1, 32, 3, 3]              64              69\n",
            "        Dropout2d-39             [-1, 32, 3, 3]               0              69\n",
            "           Conv2d-40             [-1, 32, 1, 1]           9,216              85\n",
            "           Conv2d-41             [-1, 10, 1, 1]             320              85\n",
            "             ReLU-42             [-1, 10, 1, 1]               0              85\n",
            "      BatchNorm2d-43             [-1, 10, 1, 1]              20              85\n",
            "AdaptiveAvgPool2d-44             [-1, 10, 1, 1]               0              85\n",
            "             Net2-45                   [-1, 10]               0              85\n",
            "================================================================================================\n",
            "Total params: 168,724\n",
            "Total receptive field: 85\n",
            "Trainable params: 168,724\n",
            "Non-trainable params: 0\n",
            "------------------------------------------------------------------------------------------------\n",
            "Input size (MB): 0.01\n",
            "Forward/backward pass size (MB): 5.72\n",
            "Params size (MB): 0.64\n",
            "Estimated Total Size (MB): 6.38\n",
            "------------------------------------------------------------------------------------------------\n",
            "\n"
          ],
          "name": "stdout"
        },
        {
          "output_type": "execute_result",
          "data": {
            "text/plain": [
              "(tensor(168724), tensor(168724))"
            ]
          },
          "metadata": {
            "tags": []
          },
          "execution_count": 31
        }
      ]
    },
    {
      "cell_type": "code",
      "metadata": {
        "colab": {
          "base_uri": "https://localhost:8080/"
        },
        "id": "JYmLX3ae233b",
        "outputId": "763f1a08-a775-45ad-f4f3-818c4123b774"
      },
      "source": [
        "import torch.optim as optim\n",
        "import torch.nn.functional as F\n",
        "from tqdm import tqdm\n",
        "\n",
        "def train(model, config, scheduler):\n",
        "    train_loss = []\n",
        "    train_acc = []\n",
        "\n",
        "    model.train()\n",
        "    pbar = tqdm(config.trainloader)\n",
        "    correct = 0\n",
        "    processed = 0\n",
        "    optimizer = getattr(torch.optim, config.optimizer)(model.parameters(), **config.optimizer_params[config.optimizer])\n",
        "    for batch_idx, (data, target) in enumerate(pbar):\n",
        "        data, target = data.to(config.device), target.to(config.device)\n",
        "\n",
        "        optimizer.zero_grad()\n",
        "        y_pred = model(data)\n",
        "\n",
        "        loss = F.nll_loss(y_pred, target)\n",
        "        if config.L1Lambda:\n",
        "            l1 = 0\n",
        "            for p in model.parameters():\n",
        "                l1 += p.abs().sum()\n",
        "            loss +=  1e-5 * l1\n",
        "\n",
        "        train_loss.append(loss.item())\n",
        "\n",
        "        loss.backward()\n",
        "        optimizer.step()\n",
        "\n",
        "        # lr changes\n",
        "        scheduler.step()\n",
        "\n",
        "        pred = y_pred.argmax(dim=1, keepdim=True)\n",
        "        correct += pred.eq(target.view_as(pred)).sum().item()\n",
        "        processed += len(data)\n",
        "\n",
        "        pbar.set_description(\n",
        "            desc=f'Train set: Loss={loss.item()} Batch_id={batch_idx} Accuracy={100*correct/processed:0.2f}')\n",
        "        train_acc.append(100*correct/processed)\n",
        "\n",
        "    return train_loss, train_acc\n",
        "\n",
        "\n",
        "def test(model, config):\n",
        "    model.eval()\n",
        "    test_loss_value = 0\n",
        "    correct = 0\n",
        "    test_misc_images = []\n",
        "    count = 0\n",
        "    with torch.no_grad():\n",
        "        for data, target in config.testloader:\n",
        "          count += 1\n",
        "          data, target = data.to(config.device), target.to(config.device)\n",
        "          output = model(data)\n",
        "          # sum up batch loss\n",
        "          test_loss_value += F.nll_loss(output, target, reduction='sum').item()\n",
        "          # get the index of the max log-probability\n",
        "          pred = output.argmax(dim=1, keepdim=True)\n",
        "          correct += pred.eq(target.view_as(pred)).sum().item()\n",
        "          result = pred.eq(target.view_as(pred))\n",
        "\n",
        "          if config.misclassified:\n",
        "            if count >40  and count < 70:\n",
        "                for i in range(0, config.testloader.batch_size):\n",
        "                    if not result[i]:\n",
        "                        test_misc_images.append({'pred': list(pred)[i], 'label': list(target.view_as(pred))[i], 'image': data[i]})\n",
        "            \n",
        "\n",
        "    test_loss_value /= len(config.testloader.dataset)\n",
        "\n",
        "    print('\\nTest set: Loss: {:.4f}, Accuracy: {}/{} ({:.2f}%)\\n'.format(\n",
        "        test_loss_value, correct, len(config.testloader.dataset),\n",
        "        100. * correct / len(config.testloader.dataset)))\n",
        "\n",
        "    test_acc = 100. * correct / len(config.testloader.dataset)\n",
        "\n",
        "    return test_loss_value, test_acc, test_misc_images\n",
        "\n",
        "\n",
        "def run(model, config):\n",
        "  train_loss = []\n",
        "  test_loss = []\n",
        "  train_acc = []\n",
        "  test_acc = []\n",
        "\n",
        "\n",
        "  model_results = defaultdict()\n",
        "\n",
        "  misclassified=None\n",
        "\n",
        "  optimizer = getattr(torch.optim, config.optimizer)(model.parameters(), **config.optimizer_params[config.optimizer])\n",
        "  scheduler = torch.optim.lr_scheduler.OneCycleLR(optimizer, \n",
        "                                                max_lr=0.2,\n",
        "                                                steps_per_epoch=len(config.trainloader),\n",
        "                                                epochs=config.EPOCHS) \n",
        "\n",
        "  lr_list = []\n",
        "\n",
        "  print('='*10+'RUNNING THE MODEL'+'='*10)\n",
        "  for epoch in range(config.EPOCHS):\n",
        "      print('EPOCH {} | LR {}: '.format(epoch+1, scheduler.get_last_lr()))\n",
        "      lr_list.append(scheduler.get_last_lr())\n",
        "      train_epoch_loss, train_epoch_acc = train(model, config, scheduler)\n",
        "      test_loss_val, test_acc_val, test_misc_images = test(model, config)\n",
        "\n",
        "      train_loss.append(sum(train_epoch_loss)/len(train_epoch_loss))\n",
        "      train_acc.append(sum(train_epoch_acc)/len(train_epoch_acc))\n",
        "      test_loss.append(test_loss_val)\n",
        "      test_acc.append(test_acc_val)\n",
        "\n",
        "  torch.save(model.state_dict(), f\"{config.name}.pth\")\n",
        "  misclassified = test_misc_images\n",
        "  model_results['TrainLoss'] = train_loss\n",
        "  model_results['TestLoss'] = test_loss\n",
        "  model_results['TrainAcc'] = train_acc\n",
        "  model_results['TestAcc'] = test_acc\n",
        "  model_results['LR'] = lr_list\n",
        "\n",
        "  return model_results, test_misc_images\n",
        "\n",
        "model =  Net2(modelconfig).to(modelconfig.device)\n",
        "\n",
        "result_dict, test_misc_images = run(model, modelconfig)"
      ],
      "execution_count": 12,
      "outputs": [
        {
          "output_type": "stream",
          "text": [
            "\r  0%|          | 0/391 [00:00<?, ?it/s]"
          ],
          "name": "stderr"
        },
        {
          "output_type": "stream",
          "text": [
            "==========RUNNING THE MODEL==========\n",
            "EPOCH 1 | LR [0.008000000000000007]: \n"
          ],
          "name": "stdout"
        },
        {
          "output_type": "stream",
          "text": [
            "/usr/local/lib/python3.7/dist-packages/torch/optim/lr_scheduler.py:134: UserWarning: Detected call of `lr_scheduler.step()` before `optimizer.step()`. In PyTorch 1.1.0 and later, you should call them in the opposite order: `optimizer.step()` before `lr_scheduler.step()`.  Failure to do this will result in PyTorch skipping the first value of the learning rate schedule. See more details at https://pytorch.org/docs/stable/optim.html#how-to-adjust-learning-rate\n",
            "  \"https://pytorch.org/docs/stable/optim.html#how-to-adjust-learning-rate\", UserWarning)\n",
            "Train set: Loss=1.8485031127929688 Batch_id=390 Accuracy=30.12: 100%|██████████| 391/391 [00:15<00:00, 25.04it/s]\n",
            "  0%|          | 0/391 [00:00<?, ?it/s]"
          ],
          "name": "stderr"
        },
        {
          "output_type": "stream",
          "text": [
            "\n",
            "Test set: Loss: 1.5781, Accuracy: 4331/10000 (43.31%)\n",
            "\n",
            "EPOCH 2 | LR [0.008525987641317262]: \n"
          ],
          "name": "stdout"
        },
        {
          "output_type": "stream",
          "text": [
            "Train set: Loss=1.681749701499939 Batch_id=390 Accuracy=39.96: 100%|██████████| 391/391 [00:15<00:00, 25.77it/s]\n",
            "  0%|          | 0/391 [00:00<?, ?it/s]"
          ],
          "name": "stderr"
        },
        {
          "output_type": "stream",
          "text": [
            "\n",
            "Test set: Loss: 1.3899, Accuracy: 4922/10000 (49.22%)\n",
            "\n",
            "EPOCH 3 | LR [0.010098186752793614]: \n"
          ],
          "name": "stdout"
        },
        {
          "output_type": "stream",
          "text": [
            "Train set: Loss=1.4430820941925049 Batch_id=390 Accuracy=44.31: 100%|██████████| 391/391 [00:15<00:00, 25.69it/s]\n",
            "  0%|          | 0/391 [00:00<?, ?it/s]"
          ],
          "name": "stderr"
        },
        {
          "output_type": "stream",
          "text": [
            "\n",
            "Test set: Loss: 1.2776, Accuracy: 5343/10000 (53.43%)\n",
            "\n",
            "EPOCH 4 | LR [0.012699369057297294]: \n"
          ],
          "name": "stdout"
        },
        {
          "output_type": "stream",
          "text": [
            "Train set: Loss=1.4161937236785889 Batch_id=390 Accuracy=47.32: 100%|██████████| 391/391 [00:15<00:00, 25.49it/s]\n",
            "  0%|          | 0/391 [00:00<?, ?it/s]"
          ],
          "name": "stderr"
        },
        {
          "output_type": "stream",
          "text": [
            "\n",
            "Test set: Loss: 1.2204, Accuracy: 5678/10000 (56.78%)\n",
            "\n",
            "EPOCH 5 | LR [0.016301030601807792]: \n"
          ],
          "name": "stdout"
        },
        {
          "output_type": "stream",
          "text": [
            "Train set: Loss=1.6385347843170166 Batch_id=390 Accuracy=50.01: 100%|██████████| 391/391 [00:15<00:00, 25.75it/s]\n",
            "  0%|          | 0/391 [00:00<?, ?it/s]"
          ],
          "name": "stderr"
        },
        {
          "output_type": "stream",
          "text": [
            "\n",
            "Test set: Loss: 1.1120, Accuracy: 5985/10000 (59.85%)\n",
            "\n",
            "EPOCH 6 | LR [0.02086370410589558]: \n"
          ],
          "name": "stdout"
        },
        {
          "output_type": "stream",
          "text": [
            "Train set: Loss=1.3620885610580444 Batch_id=390 Accuracy=52.03: 100%|██████████| 391/391 [00:15<00:00, 25.87it/s]\n",
            "  0%|          | 0/391 [00:00<?, ?it/s]"
          ],
          "name": "stderr"
        },
        {
          "output_type": "stream",
          "text": [
            "\n",
            "Test set: Loss: 1.0942, Accuracy: 6127/10000 (61.27%)\n",
            "\n",
            "EPOCH 7 | LR [0.026337391447174868]: \n"
          ],
          "name": "stdout"
        },
        {
          "output_type": "stream",
          "text": [
            "Train set: Loss=1.475805640220642 Batch_id=390 Accuracy=53.63: 100%|██████████| 391/391 [00:15<00:00, 25.62it/s]\n",
            "  0%|          | 0/391 [00:00<?, ?it/s]"
          ],
          "name": "stderr"
        },
        {
          "output_type": "stream",
          "text": [
            "\n",
            "Test set: Loss: 1.0196, Accuracy: 6345/10000 (63.45%)\n",
            "\n",
            "EPOCH 8 | LR [0.03266211154452178]: \n"
          ],
          "name": "stdout"
        },
        {
          "output_type": "stream",
          "text": [
            "Train set: Loss=1.1202682256698608 Batch_id=390 Accuracy=55.25: 100%|██████████| 391/391 [00:15<00:00, 25.60it/s]\n",
            "  0%|          | 0/391 [00:00<?, ?it/s]"
          ],
          "name": "stderr"
        },
        {
          "output_type": "stream",
          "text": [
            "\n",
            "Test set: Loss: 0.9733, Accuracy: 6562/10000 (65.62%)\n",
            "\n",
            "EPOCH 9 | LR [0.03976855763531137]: \n"
          ],
          "name": "stdout"
        },
        {
          "output_type": "stream",
          "text": [
            "Train set: Loss=1.0754886865615845 Batch_id=390 Accuracy=56.67: 100%|██████████| 391/391 [00:15<00:00, 25.77it/s]\n",
            "  0%|          | 0/391 [00:00<?, ?it/s]"
          ],
          "name": "stderr"
        },
        {
          "output_type": "stream",
          "text": [
            "\n",
            "Test set: Loss: 0.9584, Accuracy: 6594/10000 (65.94%)\n",
            "\n",
            "EPOCH 10 | LR [0.0475788567441803]: \n"
          ],
          "name": "stdout"
        },
        {
          "output_type": "stream",
          "text": [
            "Train set: Loss=1.2915815114974976 Batch_id=390 Accuracy=58.04: 100%|██████████| 391/391 [00:15<00:00, 25.99it/s]\n",
            "  0%|          | 0/391 [00:00<?, ?it/s]"
          ],
          "name": "stderr"
        },
        {
          "output_type": "stream",
          "text": [
            "\n",
            "Test set: Loss: 0.8911, Accuracy: 6852/10000 (68.52%)\n",
            "\n",
            "EPOCH 11 | LR [0.05600742302099826]: \n"
          ],
          "name": "stdout"
        },
        {
          "output_type": "stream",
          "text": [
            "Train set: Loss=1.4388468265533447 Batch_id=390 Accuracy=59.31: 100%|██████████| 391/391 [00:15<00:00, 25.92it/s]\n",
            "  0%|          | 0/391 [00:00<?, ?it/s]"
          ],
          "name": "stderr"
        },
        {
          "output_type": "stream",
          "text": [
            "\n",
            "Test set: Loss: 0.8649, Accuracy: 6955/10000 (69.55%)\n",
            "\n",
            "EPOCH 12 | LR [0.06496189559710616]: \n"
          ],
          "name": "stdout"
        },
        {
          "output_type": "stream",
          "text": [
            "Train set: Loss=1.0824313163757324 Batch_id=390 Accuracy=60.37: 100%|██████████| 391/391 [00:15<00:00, 25.85it/s]\n",
            "  0%|          | 0/391 [00:00<?, ?it/s]"
          ],
          "name": "stderr"
        },
        {
          "output_type": "stream",
          "text": [
            "\n",
            "Test set: Loss: 0.8558, Accuracy: 6960/10000 (69.60%)\n",
            "\n",
            "EPOCH 13 | LR [0.07434415068272193]: \n"
          ],
          "name": "stdout"
        },
        {
          "output_type": "stream",
          "text": [
            "Train set: Loss=0.9541112184524536 Batch_id=390 Accuracy=61.26: 100%|██████████| 391/391 [00:15<00:00, 25.52it/s]\n",
            "  0%|          | 0/391 [00:00<?, ?it/s]"
          ],
          "name": "stderr"
        },
        {
          "output_type": "stream",
          "text": [
            "\n",
            "Test set: Loss: 0.8058, Accuracy: 7174/10000 (71.74%)\n",
            "\n",
            "EPOCH 14 | LR [0.08405137681487215]: \n"
          ],
          "name": "stdout"
        },
        {
          "output_type": "stream",
          "text": [
            "Train set: Loss=1.294830322265625 Batch_id=390 Accuracy=62.60: 100%|██████████| 391/391 [00:15<00:00, 25.58it/s]\n",
            "  0%|          | 0/391 [00:00<?, ?it/s]"
          ],
          "name": "stderr"
        },
        {
          "output_type": "stream",
          "text": [
            "\n",
            "Test set: Loss: 0.7803, Accuracy: 7271/10000 (72.71%)\n",
            "\n",
            "EPOCH 15 | LR [0.09397720147320306]: \n"
          ],
          "name": "stdout"
        },
        {
          "output_type": "stream",
          "text": [
            "Train set: Loss=1.0458581447601318 Batch_id=390 Accuracy=62.82: 100%|██████████| 391/391 [00:15<00:00, 24.80it/s]\n",
            "  0%|          | 0/391 [00:00<?, ?it/s]"
          ],
          "name": "stderr"
        },
        {
          "output_type": "stream",
          "text": [
            "\n",
            "Test set: Loss: 0.7700, Accuracy: 7307/10000 (73.07%)\n",
            "\n",
            "EPOCH 16 | LR [0.10401285671812786]: \n"
          ],
          "name": "stdout"
        },
        {
          "output_type": "stream",
          "text": [
            "Train set: Loss=1.066321611404419 Batch_id=390 Accuracy=63.81: 100%|██████████| 391/391 [00:15<00:00, 25.19it/s]\n",
            "  0%|          | 0/391 [00:00<?, ?it/s]"
          ],
          "name": "stderr"
        },
        {
          "output_type": "stream",
          "text": [
            "\n",
            "Test set: Loss: 0.7423, Accuracy: 7389/10000 (73.89%)\n",
            "\n",
            "EPOCH 17 | LR [0.11404837107816007]: \n"
          ],
          "name": "stdout"
        },
        {
          "output_type": "stream",
          "text": [
            "Train set: Loss=0.9213629961013794 Batch_id=390 Accuracy=64.61: 100%|██████████| 391/391 [00:15<00:00, 25.08it/s]\n",
            "  0%|          | 0/391 [00:00<?, ?it/s]"
          ],
          "name": "stderr"
        },
        {
          "output_type": "stream",
          "text": [
            "\n",
            "Test set: Loss: 0.7244, Accuracy: 7499/10000 (74.99%)\n",
            "\n",
            "EPOCH 18 | LR [0.12397377462564063]: \n"
          ],
          "name": "stdout"
        },
        {
          "output_type": "stream",
          "text": [
            "Train set: Loss=0.8813517689704895 Batch_id=390 Accuracy=65.16: 100%|██████████| 391/391 [00:15<00:00, 25.51it/s]\n",
            "  0%|          | 0/391 [00:00<?, ?it/s]"
          ],
          "name": "stderr"
        },
        {
          "output_type": "stream",
          "text": [
            "\n",
            "Test set: Loss: 0.6998, Accuracy: 7588/10000 (75.88%)\n",
            "\n",
            "EPOCH 19 | LR [0.13368030403554737]: \n"
          ],
          "name": "stdout"
        },
        {
          "output_type": "stream",
          "text": [
            "Train set: Loss=0.8036983609199524 Batch_id=390 Accuracy=65.68: 100%|██████████| 391/391 [00:15<00:00, 25.24it/s]\n",
            "  0%|          | 0/391 [00:00<?, ?it/s]"
          ],
          "name": "stderr"
        },
        {
          "output_type": "stream",
          "text": [
            "\n",
            "Test set: Loss: 0.6881, Accuracy: 7622/10000 (76.22%)\n",
            "\n",
            "EPOCH 20 | LR [0.14306159442226166]: \n"
          ],
          "name": "stdout"
        },
        {
          "output_type": "stream",
          "text": [
            "Train set: Loss=1.0471503734588623 Batch_id=390 Accuracy=66.36: 100%|██████████| 391/391 [00:15<00:00, 25.35it/s]\n",
            "  0%|          | 0/391 [00:00<?, ?it/s]"
          ],
          "name": "stderr"
        },
        {
          "output_type": "stream",
          "text": [
            "\n",
            "Test set: Loss: 0.7109, Accuracy: 7543/10000 (75.43%)\n",
            "\n",
            "EPOCH 21 | LR [0.15201484489405398]: \n"
          ],
          "name": "stdout"
        },
        {
          "output_type": "stream",
          "text": [
            "Train set: Loss=1.0717586278915405 Batch_id=390 Accuracy=66.33: 100%|██████████| 391/391 [00:15<00:00, 25.22it/s]\n",
            "  0%|          | 0/391 [00:00<?, ?it/s]"
          ],
          "name": "stderr"
        },
        {
          "output_type": "stream",
          "text": [
            "\n",
            "Test set: Loss: 0.6853, Accuracy: 7663/10000 (76.63%)\n",
            "\n",
            "EPOCH 22 | LR [0.16044194505305379]: \n"
          ],
          "name": "stdout"
        },
        {
          "output_type": "stream",
          "text": [
            "Train set: Loss=1.0111310482025146 Batch_id=390 Accuracy=66.81: 100%|██████████| 391/391 [00:15<00:00, 25.16it/s]\n",
            "  0%|          | 0/391 [00:00<?, ?it/s]"
          ],
          "name": "stderr"
        },
        {
          "output_type": "stream",
          "text": [
            "\n",
            "Test set: Loss: 0.6697, Accuracy: 7722/10000 (77.22%)\n",
            "\n",
            "EPOCH 23 | LR [0.16825055009643253]: \n"
          ],
          "name": "stdout"
        },
        {
          "output_type": "stream",
          "text": [
            "Train set: Loss=0.8220300674438477 Batch_id=390 Accuracy=67.60: 100%|██████████| 391/391 [00:15<00:00, 24.93it/s]\n",
            "  0%|          | 0/391 [00:00<?, ?it/s]"
          ],
          "name": "stderr"
        },
        {
          "output_type": "stream",
          "text": [
            "\n",
            "Test set: Loss: 0.6392, Accuracy: 7804/10000 (78.04%)\n",
            "\n",
            "EPOCH 24 | LR [0.17535509273775796]: \n"
          ],
          "name": "stdout"
        },
        {
          "output_type": "stream",
          "text": [
            "Train set: Loss=0.9398385286331177 Batch_id=390 Accuracy=68.10: 100%|██████████| 391/391 [00:15<00:00, 25.62it/s]\n",
            "  0%|          | 0/391 [00:00<?, ?it/s]"
          ],
          "name": "stderr"
        },
        {
          "output_type": "stream",
          "text": [
            "\n",
            "Test set: Loss: 0.6476, Accuracy: 7772/10000 (77.72%)\n",
            "\n",
            "EPOCH 25 | LR [0.18167772085981035]: \n"
          ],
          "name": "stdout"
        },
        {
          "output_type": "stream",
          "text": [
            "Train set: Loss=1.2604597806930542 Batch_id=390 Accuracy=68.10: 100%|██████████| 391/391 [00:15<00:00, 25.08it/s]\n",
            "  0%|          | 0/391 [00:00<?, ?it/s]"
          ],
          "name": "stderr"
        },
        {
          "output_type": "stream",
          "text": [
            "\n",
            "Test set: Loss: 0.6254, Accuracy: 7855/10000 (78.55%)\n",
            "\n",
            "EPOCH 26 | LR [0.18714915062398876]: \n"
          ],
          "name": "stdout"
        },
        {
          "output_type": "stream",
          "text": [
            "Train set: Loss=0.905468761920929 Batch_id=390 Accuracy=68.68: 100%|██████████| 391/391 [00:15<00:00, 25.26it/s]\n",
            "  0%|          | 0/391 [00:00<?, ?it/s]"
          ],
          "name": "stderr"
        },
        {
          "output_type": "stream",
          "text": [
            "\n",
            "Test set: Loss: 0.6353, Accuracy: 7799/10000 (77.99%)\n",
            "\n",
            "EPOCH 27 | LR [0.19170942568787042]: \n"
          ],
          "name": "stdout"
        },
        {
          "output_type": "stream",
          "text": [
            "Train set: Loss=0.8706588745117188 Batch_id=390 Accuracy=68.72: 100%|██████████| 391/391 [00:15<00:00, 25.29it/s]\n",
            "  0%|          | 0/391 [00:00<?, ?it/s]"
          ],
          "name": "stderr"
        },
        {
          "output_type": "stream",
          "text": [
            "\n",
            "Test set: Loss: 0.6475, Accuracy: 7757/10000 (77.57%)\n",
            "\n",
            "EPOCH 28 | LR [0.19530857421135928]: \n"
          ],
          "name": "stdout"
        },
        {
          "output_type": "stream",
          "text": [
            "Train set: Loss=0.8439971208572388 Batch_id=390 Accuracy=68.93: 100%|██████████| 391/391 [00:15<00:00, 25.65it/s]\n",
            "  0%|          | 0/391 [00:00<?, ?it/s]"
          ],
          "name": "stderr"
        },
        {
          "output_type": "stream",
          "text": [
            "\n",
            "Test set: Loss: 0.6303, Accuracy: 7832/10000 (78.32%)\n",
            "\n",
            "EPOCH 29 | LR [0.19790715645190077]: \n"
          ],
          "name": "stdout"
        },
        {
          "output_type": "stream",
          "text": [
            "Train set: Loss=1.0999454259872437 Batch_id=390 Accuracy=69.44: 100%|██████████| 391/391 [00:15<00:00, 25.26it/s]\n",
            "  0%|          | 0/391 [00:00<?, ?it/s]"
          ],
          "name": "stderr"
        },
        {
          "output_type": "stream",
          "text": [
            "\n",
            "Test set: Loss: 0.6247, Accuracy: 7851/10000 (78.51%)\n",
            "\n",
            "EPOCH 30 | LR [0.19947669694817258]: \n"
          ],
          "name": "stdout"
        },
        {
          "output_type": "stream",
          "text": [
            "Train set: Loss=1.0836104154586792 Batch_id=390 Accuracy=69.56: 100%|██████████| 391/391 [00:15<00:00, 25.51it/s]\n",
            "  0%|          | 0/391 [00:00<?, ?it/s]"
          ],
          "name": "stderr"
        },
        {
          "output_type": "stream",
          "text": [
            "\n",
            "Test set: Loss: 0.5964, Accuracy: 7979/10000 (79.79%)\n",
            "\n",
            "EPOCH 31 | LR [0.19999999934125337]: \n"
          ],
          "name": "stdout"
        },
        {
          "output_type": "stream",
          "text": [
            "Train set: Loss=0.865578293800354 Batch_id=390 Accuracy=70.11: 100%|██████████| 391/391 [00:15<00:00, 25.44it/s]\n",
            "  0%|          | 0/391 [00:00<?, ?it/s]"
          ],
          "name": "stderr"
        },
        {
          "output_type": "stream",
          "text": [
            "\n",
            "Test set: Loss: 0.5957, Accuracy: 7977/10000 (79.77%)\n",
            "\n",
            "EPOCH 32 | LR [0.19989879143186015]: \n"
          ],
          "name": "stdout"
        },
        {
          "output_type": "stream",
          "text": [
            "Train set: Loss=0.9203608632087708 Batch_id=390 Accuracy=70.12: 100%|██████████| 391/391 [00:15<00:00, 25.59it/s]\n",
            "  0%|          | 0/391 [00:00<?, ?it/s]"
          ],
          "name": "stderr"
        },
        {
          "output_type": "stream",
          "text": [
            "\n",
            "Test set: Loss: 0.6044, Accuracy: 7936/10000 (79.36%)\n",
            "\n",
            "EPOCH 33 | LR [0.19959640145686372]: \n"
          ],
          "name": "stdout"
        },
        {
          "output_type": "stream",
          "text": [
            "Train set: Loss=0.8975569009780884 Batch_id=390 Accuracy=70.60: 100%|██████████| 391/391 [00:15<00:00, 25.28it/s]\n",
            "  0%|          | 0/391 [00:00<?, ?it/s]"
          ],
          "name": "stderr"
        },
        {
          "output_type": "stream",
          "text": [
            "\n",
            "Test set: Loss: 0.5832, Accuracy: 7993/10000 (79.93%)\n",
            "\n",
            "EPOCH 34 | LR [0.19909343838943092]: \n"
          ],
          "name": "stdout"
        },
        {
          "output_type": "stream",
          "text": [
            "Train set: Loss=0.8590608835220337 Batch_id=390 Accuracy=70.49: 100%|██████████| 391/391 [00:15<00:00, 25.60it/s]\n",
            "  0%|          | 0/391 [00:00<?, ?it/s]"
          ],
          "name": "stderr"
        },
        {
          "output_type": "stream",
          "text": [
            "\n",
            "Test set: Loss: 0.5820, Accuracy: 8005/10000 (80.05%)\n",
            "\n",
            "EPOCH 35 | LR [0.1983909151302439]: \n"
          ],
          "name": "stdout"
        },
        {
          "output_type": "stream",
          "text": [
            "Train set: Loss=1.1239842176437378 Batch_id=390 Accuracy=70.70: 100%|██████████| 391/391 [00:15<00:00, 25.45it/s]\n",
            "  0%|          | 0/391 [00:00<?, ?it/s]"
          ],
          "name": "stderr"
        },
        {
          "output_type": "stream",
          "text": [
            "\n",
            "Test set: Loss: 0.5619, Accuracy: 8066/10000 (80.66%)\n",
            "\n",
            "EPOCH 36 | LR [0.19749024646765304]: \n"
          ],
          "name": "stdout"
        },
        {
          "output_type": "stream",
          "text": [
            "Train set: Loss=0.8424393534660339 Batch_id=390 Accuracy=71.10: 100%|██████████| 391/391 [00:15<00:00, 25.28it/s]\n",
            "  0%|          | 0/391 [00:00<?, ?it/s]"
          ],
          "name": "stderr"
        },
        {
          "output_type": "stream",
          "text": [
            "\n",
            "Test set: Loss: 0.5787, Accuracy: 8004/10000 (80.04%)\n",
            "\n",
            "EPOCH 37 | LR [0.1963932462284814]: \n"
          ],
          "name": "stdout"
        },
        {
          "output_type": "stream",
          "text": [
            "Train set: Loss=0.706008791923523 Batch_id=390 Accuracy=71.16: 100%|██████████| 391/391 [00:15<00:00, 25.24it/s]\n",
            "  0%|          | 0/391 [00:00<?, ?it/s]"
          ],
          "name": "stderr"
        },
        {
          "output_type": "stream",
          "text": [
            "\n",
            "Test set: Loss: 0.5616, Accuracy: 8081/10000 (80.81%)\n",
            "\n",
            "EPOCH 38 | LR [0.19510212362521903]: \n"
          ],
          "name": "stdout"
        },
        {
          "output_type": "stream",
          "text": [
            "Train set: Loss=0.8142059445381165 Batch_id=390 Accuracy=71.45: 100%|██████████| 391/391 [00:15<00:00, 25.49it/s]\n",
            "  0%|          | 0/391 [00:00<?, ?it/s]"
          ],
          "name": "stderr"
        },
        {
          "output_type": "stream",
          "text": [
            "\n",
            "Test set: Loss: 0.5719, Accuracy: 8058/10000 (80.58%)\n",
            "\n",
            "EPOCH 39 | LR [0.19361947880696287]: \n"
          ],
          "name": "stdout"
        },
        {
          "output_type": "stream",
          "text": [
            "Train set: Loss=0.9271425008773804 Batch_id=390 Accuracy=71.39: 100%|██████████| 391/391 [00:15<00:00, 25.62it/s]\n",
            "  0%|          | 0/391 [00:00<?, ?it/s]"
          ],
          "name": "stderr"
        },
        {
          "output_type": "stream",
          "text": [
            "\n",
            "Test set: Loss: 0.5472, Accuracy: 8120/10000 (81.20%)\n",
            "\n",
            "EPOCH 40 | LR [0.19194829762306267]: \n"
          ],
          "name": "stdout"
        },
        {
          "output_type": "stream",
          "text": [
            "Train set: Loss=0.7342993021011353 Batch_id=390 Accuracy=71.72: 100%|██████████| 391/391 [00:15<00:00, 25.19it/s]\n",
            "  0%|          | 0/391 [00:00<?, ?it/s]"
          ],
          "name": "stderr"
        },
        {
          "output_type": "stream",
          "text": [
            "\n",
            "Test set: Loss: 0.5401, Accuracy: 8157/10000 (81.57%)\n",
            "\n",
            "EPOCH 41 | LR [0.1900919456100176]: \n"
          ],
          "name": "stdout"
        },
        {
          "output_type": "stream",
          "text": [
            "Train set: Loss=0.7958152294158936 Batch_id=390 Accuracy=72.00: 100%|██████████| 391/391 [00:15<00:00, 25.46it/s]\n",
            "  0%|          | 0/391 [00:00<?, ?it/s]"
          ],
          "name": "stderr"
        },
        {
          "output_type": "stream",
          "text": [
            "\n",
            "Test set: Loss: 0.5444, Accuracy: 8145/10000 (81.45%)\n",
            "\n",
            "EPOCH 42 | LR [0.18805416121373375]: \n"
          ],
          "name": "stdout"
        },
        {
          "output_type": "stream",
          "text": [
            "Train set: Loss=0.9954707026481628 Batch_id=390 Accuracy=72.12: 100%|██████████| 391/391 [00:15<00:00, 25.64it/s]\n",
            "  0%|          | 0/391 [00:00<?, ?it/s]"
          ],
          "name": "stderr"
        },
        {
          "output_type": "stream",
          "text": [
            "\n",
            "Test set: Loss: 0.5577, Accuracy: 8073/10000 (80.73%)\n",
            "\n",
            "EPOCH 43 | LR [0.18583904826079145]: \n"
          ],
          "name": "stdout"
        },
        {
          "output_type": "stream",
          "text": [
            "Train set: Loss=0.6748496294021606 Batch_id=390 Accuracy=72.45: 100%|██████████| 391/391 [00:15<00:00, 25.58it/s]\n",
            "  0%|          | 0/391 [00:00<?, ?it/s]"
          ],
          "name": "stderr"
        },
        {
          "output_type": "stream",
          "text": [
            "\n",
            "Test set: Loss: 0.5441, Accuracy: 8110/10000 (81.10%)\n",
            "\n",
            "EPOCH 44 | LR [0.18345106769388497]: \n"
          ],
          "name": "stdout"
        },
        {
          "output_type": "stream",
          "text": [
            "Train set: Loss=0.7882579565048218 Batch_id=390 Accuracy=72.47: 100%|██████████| 391/391 [00:15<00:00, 25.63it/s]\n",
            "  0%|          | 0/391 [00:00<?, ?it/s]"
          ],
          "name": "stderr"
        },
        {
          "output_type": "stream",
          "text": [
            "\n",
            "Test set: Loss: 0.5407, Accuracy: 8171/10000 (81.71%)\n",
            "\n",
            "EPOCH 45 | LR [0.18089502858807724]: \n"
          ],
          "name": "stdout"
        },
        {
          "output_type": "stream",
          "text": [
            "Train set: Loss=0.8101080060005188 Batch_id=390 Accuracy=72.69: 100%|██████████| 391/391 [00:15<00:00, 25.40it/s]\n",
            "  0%|          | 0/391 [00:00<?, ?it/s]"
          ],
          "name": "stderr"
        },
        {
          "output_type": "stream",
          "text": [
            "\n",
            "Test set: Loss: 0.5279, Accuracy: 8192/10000 (81.92%)\n",
            "\n",
            "EPOCH 46 | LR [0.17817607846596298]: \n"
          ],
          "name": "stdout"
        },
        {
          "output_type": "stream",
          "text": [
            "Train set: Loss=0.6071494817733765 Batch_id=390 Accuracy=72.88: 100%|██████████| 391/391 [00:15<00:00, 25.26it/s]\n",
            "  0%|          | 0/391 [00:00<?, ?it/s]"
          ],
          "name": "stderr"
        },
        {
          "output_type": "stream",
          "text": [
            "\n",
            "Test set: Loss: 0.5392, Accuracy: 8160/10000 (81.60%)\n",
            "\n",
            "EPOCH 47 | LR [0.17529969293124315]: \n"
          ],
          "name": "stdout"
        },
        {
          "output_type": "stream",
          "text": [
            "Train set: Loss=0.7494003176689148 Batch_id=390 Accuracy=72.81: 100%|██████████| 391/391 [00:15<00:00, 25.50it/s]\n",
            "  0%|          | 0/391 [00:00<?, ?it/s]"
          ],
          "name": "stderr"
        },
        {
          "output_type": "stream",
          "text": [
            "\n",
            "Test set: Loss: 0.5202, Accuracy: 8235/10000 (82.35%)\n",
            "\n",
            "EPOCH 48 | LR [0.17227166464158766]: \n"
          ],
          "name": "stdout"
        },
        {
          "output_type": "stream",
          "text": [
            "Train set: Loss=0.6678029298782349 Batch_id=390 Accuracy=73.01: 100%|██████████| 391/391 [00:15<00:00, 25.71it/s]\n",
            "  0%|          | 0/391 [00:00<?, ?it/s]"
          ],
          "name": "stderr"
        },
        {
          "output_type": "stream",
          "text": [
            "\n",
            "Test set: Loss: 0.5206, Accuracy: 8225/10000 (82.25%)\n",
            "\n",
            "EPOCH 49 | LR [0.16909809164299394]: \n"
          ],
          "name": "stdout"
        },
        {
          "output_type": "stream",
          "text": [
            "Train set: Loss=0.7585243582725525 Batch_id=390 Accuracy=73.25: 100%|██████████| 391/391 [00:15<00:00, 25.51it/s]\n",
            "  0%|          | 0/391 [00:00<?, ?it/s]"
          ],
          "name": "stderr"
        },
        {
          "output_type": "stream",
          "text": [
            "\n",
            "Test set: Loss: 0.5131, Accuracy: 8221/10000 (82.21%)\n",
            "\n",
            "EPOCH 50 | LR [0.16578536508913375]: \n"
          ],
          "name": "stdout"
        },
        {
          "output_type": "stream",
          "text": [
            "Train set: Loss=0.8782132863998413 Batch_id=390 Accuracy=73.30: 100%|██████████| 391/391 [00:15<00:00, 25.63it/s]\n",
            "  0%|          | 0/391 [00:00<?, ?it/s]"
          ],
          "name": "stderr"
        },
        {
          "output_type": "stream",
          "text": [
            "\n",
            "Test set: Loss: 0.5184, Accuracy: 8215/10000 (82.15%)\n",
            "\n",
            "EPOCH 51 | LR [0.16234015637042012]: \n"
          ],
          "name": "stdout"
        },
        {
          "output_type": "stream",
          "text": [
            "Train set: Loss=0.8806703686714172 Batch_id=390 Accuracy=73.49: 100%|██████████| 391/391 [00:15<00:00, 25.35it/s]\n",
            "  0%|          | 0/391 [00:00<?, ?it/s]"
          ],
          "name": "stderr"
        },
        {
          "output_type": "stream",
          "text": [
            "\n",
            "Test set: Loss: 0.5118, Accuracy: 8267/10000 (82.67%)\n",
            "\n",
            "EPOCH 52 | LR [0.15876940367871514]: \n"
          ],
          "name": "stdout"
        },
        {
          "output_type": "stream",
          "text": [
            "Train set: Loss=0.8763670921325684 Batch_id=390 Accuracy=73.71: 100%|██████████| 391/391 [00:15<00:00, 25.59it/s]\n",
            "  0%|          | 0/391 [00:00<?, ?it/s]"
          ],
          "name": "stderr"
        },
        {
          "output_type": "stream",
          "text": [
            "\n",
            "Test set: Loss: 0.5190, Accuracy: 8246/10000 (82.46%)\n",
            "\n",
            "EPOCH 53 | LR [0.15508029803473478]: \n"
          ],
          "name": "stdout"
        },
        {
          "output_type": "stream",
          "text": [
            "Train set: Loss=0.9641477465629578 Batch_id=390 Accuracy=73.98: 100%|██████████| 391/391 [00:15<00:00, 25.61it/s]\n",
            "  0%|          | 0/391 [00:00<?, ?it/s]"
          ],
          "name": "stderr"
        },
        {
          "output_type": "stream",
          "text": [
            "\n",
            "Test set: Loss: 0.5171, Accuracy: 8223/10000 (82.23%)\n",
            "\n",
            "EPOCH 54 | LR [0.1512802688062901]: \n"
          ],
          "name": "stdout"
        },
        {
          "output_type": "stream",
          "text": [
            "Train set: Loss=0.8231363296508789 Batch_id=390 Accuracy=73.93: 100%|██████████| 391/391 [00:15<00:00, 25.66it/s]\n",
            "  0%|          | 0/391 [00:00<?, ?it/s]"
          ],
          "name": "stderr"
        },
        {
          "output_type": "stream",
          "text": [
            "\n",
            "Test set: Loss: 0.5096, Accuracy: 8230/10000 (82.30%)\n",
            "\n",
            "EPOCH 55 | LR [0.14737696874652936]: \n"
          ],
          "name": "stdout"
        },
        {
          "output_type": "stream",
          "text": [
            "Train set: Loss=0.5252000093460083 Batch_id=390 Accuracy=73.65: 100%|██████████| 391/391 [00:15<00:00, 25.36it/s]\n",
            "  0%|          | 0/391 [00:00<?, ?it/s]"
          ],
          "name": "stderr"
        },
        {
          "output_type": "stream",
          "text": [
            "\n",
            "Test set: Loss: 0.5058, Accuracy: 8249/10000 (82.49%)\n",
            "\n",
            "EPOCH 56 | LR [0.1433782585823114]: \n"
          ],
          "name": "stdout"
        },
        {
          "output_type": "stream",
          "text": [
            "Train set: Loss=0.809292197227478 Batch_id=390 Accuracy=73.88: 100%|██████████| 391/391 [00:15<00:00, 25.59it/s]\n",
            "  0%|          | 0/391 [00:00<?, ?it/s]"
          ],
          "name": "stderr"
        },
        {
          "output_type": "stream",
          "text": [
            "\n",
            "Test set: Loss: 0.5098, Accuracy: 8254/10000 (82.54%)\n",
            "\n",
            "EPOCH 57 | LR [0.13929219118374817]: \n"
          ],
          "name": "stdout"
        },
        {
          "output_type": "stream",
          "text": [
            "Train set: Loss=0.8270317316055298 Batch_id=390 Accuracy=74.21: 100%|██████████| 391/391 [00:15<00:00, 25.32it/s]\n",
            "  0%|          | 0/391 [00:00<?, ?it/s]"
          ],
          "name": "stderr"
        },
        {
          "output_type": "stream",
          "text": [
            "\n",
            "Test set: Loss: 0.5107, Accuracy: 8271/10000 (82.71%)\n",
            "\n",
            "EPOCH 58 | LR [0.13512699534679573]: \n"
          ],
          "name": "stdout"
        },
        {
          "output_type": "stream",
          "text": [
            "Train set: Loss=1.0096710920333862 Batch_id=390 Accuracy=74.17: 100%|██████████| 391/391 [00:15<00:00, 25.63it/s]\n",
            "  0%|          | 0/391 [00:00<?, ?it/s]"
          ],
          "name": "stderr"
        },
        {
          "output_type": "stream",
          "text": [
            "\n",
            "Test set: Loss: 0.5008, Accuracy: 8277/10000 (82.77%)\n",
            "\n",
            "EPOCH 59 | LR [0.1308910592215545]: \n"
          ],
          "name": "stdout"
        },
        {
          "output_type": "stream",
          "text": [
            "Train set: Loss=0.8708030581474304 Batch_id=390 Accuracy=74.37: 100%|██████████| 391/391 [00:15<00:00, 25.39it/s]\n",
            "  0%|          | 0/391 [00:00<?, ?it/s]"
          ],
          "name": "stderr"
        },
        {
          "output_type": "stream",
          "text": [
            "\n",
            "Test set: Loss: 0.4894, Accuracy: 8331/10000 (83.31%)\n",
            "\n",
            "EPOCH 60 | LR [0.12659291341965126]: \n"
          ],
          "name": "stdout"
        },
        {
          "output_type": "stream",
          "text": [
            "Train set: Loss=0.8178900480270386 Batch_id=390 Accuracy=74.32: 100%|██████████| 391/391 [00:15<00:00, 25.65it/s]\n",
            "  0%|          | 0/391 [00:00<?, ?it/s]"
          ],
          "name": "stderr"
        },
        {
          "output_type": "stream",
          "text": [
            "\n",
            "Test set: Loss: 0.4820, Accuracy: 8348/10000 (83.48%)\n",
            "\n",
            "EPOCH 61 | LR [0.12224121383472243]: \n"
          ],
          "name": "stdout"
        },
        {
          "output_type": "stream",
          "text": [
            "Train set: Loss=0.7903426289558411 Batch_id=390 Accuracy=74.44: 100%|██████████| 391/391 [00:15<00:00, 25.41it/s]\n",
            "  0%|          | 0/391 [00:00<?, ?it/s]"
          ],
          "name": "stderr"
        },
        {
          "output_type": "stream",
          "text": [
            "\n",
            "Test set: Loss: 0.4871, Accuracy: 8314/10000 (83.14%)\n",
            "\n",
            "EPOCH 62 | LR [0.11784472421059644]: \n"
          ],
          "name": "stdout"
        },
        {
          "output_type": "stream",
          "text": [
            "Train set: Loss=0.5427671670913696 Batch_id=390 Accuracy=74.51: 100%|██████████| 391/391 [00:15<00:00, 25.08it/s]\n",
            "  0%|          | 0/391 [00:00<?, ?it/s]"
          ],
          "name": "stderr"
        },
        {
          "output_type": "stream",
          "text": [
            "\n",
            "Test set: Loss: 0.4865, Accuracy: 8332/10000 (83.32%)\n",
            "\n",
            "EPOCH 63 | LR [0.1134122984922799]: \n"
          ],
          "name": "stdout"
        },
        {
          "output_type": "stream",
          "text": [
            "Train set: Loss=0.5562142133712769 Batch_id=390 Accuracy=74.80: 100%|██████████| 391/391 [00:15<00:00, 25.24it/s]\n",
            "  0%|          | 0/391 [00:00<?, ?it/s]"
          ],
          "name": "stderr"
        },
        {
          "output_type": "stream",
          "text": [
            "\n",
            "Test set: Loss: 0.4809, Accuracy: 8325/10000 (83.25%)\n",
            "\n",
            "EPOCH 64 | LR [0.10895286299529063]: \n"
          ],
          "name": "stdout"
        },
        {
          "output_type": "stream",
          "text": [
            "Train set: Loss=0.5917636156082153 Batch_id=390 Accuracy=74.94: 100%|██████████| 391/391 [00:15<00:00, 25.54it/s]\n",
            "  0%|          | 0/391 [00:00<?, ?it/s]"
          ],
          "name": "stderr"
        },
        {
          "output_type": "stream",
          "text": [
            "\n",
            "Test set: Loss: 0.4748, Accuracy: 8369/10000 (83.69%)\n",
            "\n",
            "EPOCH 65 | LR [0.10447539842924614]: \n"
          ],
          "name": "stdout"
        },
        {
          "output_type": "stream",
          "text": [
            "Train set: Loss=0.6728726625442505 Batch_id=390 Accuracy=74.89: 100%|██████████| 391/391 [00:15<00:00, 25.33it/s]\n",
            "  0%|          | 0/391 [00:00<?, ?it/s]"
          ],
          "name": "stderr"
        },
        {
          "output_type": "stream",
          "text": [
            "\n",
            "Test set: Loss: 0.4685, Accuracy: 8373/10000 (83.73%)\n",
            "\n",
            "EPOCH 66 | LR [0.09998892181190969]: \n"
          ],
          "name": "stdout"
        },
        {
          "output_type": "stream",
          "text": [
            "Train set: Loss=0.7999541759490967 Batch_id=390 Accuracy=75.02: 100%|██████████| 391/391 [00:15<00:00, 25.35it/s]\n",
            "  0%|          | 0/391 [00:00<?, ?it/s]"
          ],
          "name": "stderr"
        },
        {
          "output_type": "stream",
          "text": [
            "\n",
            "Test set: Loss: 0.4752, Accuracy: 8380/10000 (83.80%)\n",
            "\n",
            "EPOCH 67 | LR [0.09550246831011652]: \n"
          ],
          "name": "stdout"
        },
        {
          "output_type": "stream",
          "text": [
            "Train set: Loss=0.798050582408905 Batch_id=390 Accuracy=74.99: 100%|██████████| 391/391 [00:15<00:00, 25.57it/s]\n",
            "  0%|          | 0/391 [00:00<?, ?it/s]"
          ],
          "name": "stderr"
        },
        {
          "output_type": "stream",
          "text": [
            "\n",
            "Test set: Loss: 0.4738, Accuracy: 8385/10000 (83.85%)\n",
            "\n",
            "EPOCH 68 | LR [0.09102507304415022]: \n"
          ],
          "name": "stdout"
        },
        {
          "output_type": "stream",
          "text": [
            "Train set: Loss=0.9390913248062134 Batch_id=390 Accuracy=75.35: 100%|██████████| 391/391 [00:15<00:00, 25.60it/s]\n",
            "  0%|          | 0/391 [00:00<?, ?it/s]"
          ],
          "name": "stderr"
        },
        {
          "output_type": "stream",
          "text": [
            "\n",
            "Test set: Loss: 0.4730, Accuracy: 8377/10000 (83.77%)\n",
            "\n",
            "EPOCH 69 | LR [0.08656575289221285]: \n"
          ],
          "name": "stdout"
        },
        {
          "output_type": "stream",
          "text": [
            "Train set: Loss=0.8720968961715698 Batch_id=390 Accuracy=75.53: 100%|██████████| 391/391 [00:15<00:00, 25.42it/s]\n",
            "  0%|          | 0/391 [00:00<?, ?it/s]"
          ],
          "name": "stderr"
        },
        {
          "output_type": "stream",
          "text": [
            "\n",
            "Test set: Loss: 0.4768, Accuracy: 8350/10000 (83.50%)\n",
            "\n",
            "EPOCH 70 | LR [0.08213348833163246]: \n"
          ],
          "name": "stdout"
        },
        {
          "output_type": "stream",
          "text": [
            "Train set: Loss=0.5228174924850464 Batch_id=390 Accuracy=75.23: 100%|██████████| 391/391 [00:15<00:00, 25.57it/s]\n",
            "  0%|          | 0/391 [00:00<?, ?it/s]"
          ],
          "name": "stderr"
        },
        {
          "output_type": "stream",
          "text": [
            "\n",
            "Test set: Loss: 0.4796, Accuracy: 8373/10000 (83.73%)\n",
            "\n",
            "EPOCH 71 | LR [0.07773720535337653]: \n"
          ],
          "name": "stdout"
        },
        {
          "output_type": "stream",
          "text": [
            "Train set: Loss=0.5424597859382629 Batch_id=390 Accuracy=75.62: 100%|██████████| 391/391 [00:15<00:00, 25.49it/s]\n",
            "  0%|          | 0/391 [00:00<?, ?it/s]"
          ],
          "name": "stderr"
        },
        {
          "output_type": "stream",
          "text": [
            "\n",
            "Test set: Loss: 0.4598, Accuracy: 8451/10000 (84.51%)\n",
            "\n",
            "EPOCH 72 | LR [0.07338575748629446]: \n"
          ],
          "name": "stdout"
        },
        {
          "output_type": "stream",
          "text": [
            "Train set: Loss=0.6568186283111572 Batch_id=390 Accuracy=75.47: 100%|██████████| 391/391 [00:15<00:00, 25.66it/s]\n",
            "  0%|          | 0/391 [00:00<?, ?it/s]"
          ],
          "name": "stderr"
        },
        {
          "output_type": "stream",
          "text": [
            "\n",
            "Test set: Loss: 0.4794, Accuracy: 8398/10000 (83.98%)\n",
            "\n",
            "EPOCH 73 | LR [0.06908790796728835]: \n"
          ],
          "name": "stdout"
        },
        {
          "output_type": "stream",
          "text": [
            "Train set: Loss=0.7037032246589661 Batch_id=390 Accuracy=75.55: 100%|██████████| 391/391 [00:15<00:00, 25.41it/s]\n",
            "  0%|          | 0/391 [00:00<?, ?it/s]"
          ],
          "name": "stderr"
        },
        {
          "output_type": "stream",
          "text": [
            "\n",
            "Test set: Loss: 0.4560, Accuracy: 8463/10000 (84.63%)\n",
            "\n",
            "EPOCH 74 | LR [0.06485231209332044]: \n"
          ],
          "name": "stdout"
        },
        {
          "output_type": "stream",
          "text": [
            "Train set: Loss=0.8720318078994751 Batch_id=390 Accuracy=75.66: 100%|██████████| 391/391 [00:15<00:00, 25.68it/s]\n",
            "  0%|          | 0/391 [00:00<?, ?it/s]"
          ],
          "name": "stderr"
        },
        {
          "output_type": "stream",
          "text": [
            "\n",
            "Test set: Loss: 0.4665, Accuracy: 8388/10000 (83.88%)\n",
            "\n",
            "EPOCH 75 | LR [0.0606874997907966]: \n"
          ],
          "name": "stdout"
        },
        {
          "output_type": "stream",
          "text": [
            "Train set: Loss=0.567078173160553 Batch_id=390 Accuracy=75.68: 100%|██████████| 391/391 [00:15<00:00, 25.45it/s]\n",
            "  0%|          | 0/391 [00:00<?, ?it/s]"
          ],
          "name": "stderr"
        },
        {
          "output_type": "stream",
          "text": [
            "\n",
            "Test set: Loss: 0.4576, Accuracy: 8467/10000 (84.67%)\n",
            "\n",
            "EPOCH 76 | LR [0.05660185843743]: \n"
          ],
          "name": "stdout"
        },
        {
          "output_type": "stream",
          "text": [
            "Train set: Loss=0.6563477516174316 Batch_id=390 Accuracy=75.84: 100%|██████████| 391/391 [00:15<00:00, 25.35it/s]\n",
            "  0%|          | 0/391 [00:00<?, ?it/s]"
          ],
          "name": "stderr"
        },
        {
          "output_type": "stream",
          "text": [
            "\n",
            "Test set: Loss: 0.4565, Accuracy: 8424/10000 (84.24%)\n",
            "\n",
            "EPOCH 77 | LR [0.05260361597117835]: \n"
          ],
          "name": "stdout"
        },
        {
          "output_type": "stream",
          "text": [
            "Train set: Loss=0.9702550768852234 Batch_id=390 Accuracy=75.84: 100%|██████████| 391/391 [00:15<00:00, 25.12it/s]\n",
            "  0%|          | 0/391 [00:00<?, ?it/s]"
          ],
          "name": "stderr"
        },
        {
          "output_type": "stream",
          "text": [
            "\n",
            "Test set: Loss: 0.4592, Accuracy: 8447/10000 (84.47%)\n",
            "\n",
            "EPOCH 78 | LR [0.04870082432027218]: \n"
          ],
          "name": "stdout"
        },
        {
          "output_type": "stream",
          "text": [
            "Train set: Loss=0.8014042973518372 Batch_id=390 Accuracy=75.53: 100%|██████████| 391/391 [00:15<00:00, 24.96it/s]\n",
            "  0%|          | 0/391 [00:00<?, ?it/s]"
          ],
          "name": "stderr"
        },
        {
          "output_type": "stream",
          "text": [
            "\n",
            "Test set: Loss: 0.4515, Accuracy: 8455/10000 (84.55%)\n",
            "\n",
            "EPOCH 79 | LR [0.044901343187702523]: \n"
          ],
          "name": "stdout"
        },
        {
          "output_type": "stream",
          "text": [
            "Train set: Loss=0.6754647493362427 Batch_id=390 Accuracy=75.98: 100%|██████████| 391/391 [00:15<00:00, 24.84it/s]\n",
            "  0%|          | 0/391 [00:00<?, ?it/s]"
          ],
          "name": "stderr"
        },
        {
          "output_type": "stream",
          "text": [
            "\n",
            "Test set: Loss: 0.4470, Accuracy: 8478/10000 (84.78%)\n",
            "\n",
            "EPOCH 80 | LR [0.04121282422282549]: \n"
          ],
          "name": "stdout"
        },
        {
          "output_type": "stream",
          "text": [
            "Train set: Loss=0.6944453120231628 Batch_id=390 Accuracy=76.16: 100%|██████████| 391/391 [00:15<00:00, 24.99it/s]\n",
            "  0%|          | 0/391 [00:00<?, ?it/s]"
          ],
          "name": "stderr"
        },
        {
          "output_type": "stream",
          "text": [
            "\n",
            "Test set: Loss: 0.4548, Accuracy: 8421/10000 (84.21%)\n",
            "\n",
            "EPOCH 81 | LR [0.03764269561195852]: \n"
          ],
          "name": "stdout"
        },
        {
          "output_type": "stream",
          "text": [
            "Train set: Loss=0.6139858365058899 Batch_id=390 Accuracy=75.94: 100%|██████████| 391/391 [00:15<00:00, 25.26it/s]\n",
            "  0%|          | 0/391 [00:00<?, ?it/s]"
          ],
          "name": "stderr"
        },
        {
          "output_type": "stream",
          "text": [
            "\n",
            "Test set: Loss: 0.4463, Accuracy: 8492/10000 (84.92%)\n",
            "\n",
            "EPOCH 82 | LR [0.03419814711900182]: \n"
          ],
          "name": "stdout"
        },
        {
          "output_type": "stream",
          "text": [
            "Train set: Loss=0.7593590617179871 Batch_id=390 Accuracy=76.15: 100%|██████████| 391/391 [00:15<00:00, 25.39it/s]\n",
            "  0%|          | 0/391 [00:00<?, ?it/s]"
          ],
          "name": "stderr"
        },
        {
          "output_type": "stream",
          "text": [
            "\n",
            "Test set: Loss: 0.4435, Accuracy: 8480/10000 (84.80%)\n",
            "\n",
            "EPOCH 83 | LR [0.03088611560621062]: \n"
          ],
          "name": "stdout"
        },
        {
          "output_type": "stream",
          "text": [
            "Train set: Loss=0.9225966334342957 Batch_id=390 Accuracy=76.15: 100%|██████████| 391/391 [00:15<00:00, 25.30it/s]\n",
            "  0%|          | 0/391 [00:00<?, ?it/s]"
          ],
          "name": "stderr"
        },
        {
          "output_type": "stream",
          "text": [
            "\n",
            "Test set: Loss: 0.4590, Accuracy: 8420/10000 (84.20%)\n",
            "\n",
            "EPOCH 84 | LR [0.027713271064277813]: \n"
          ],
          "name": "stdout"
        },
        {
          "output_type": "stream",
          "text": [
            "Train set: Loss=0.7426514029502869 Batch_id=390 Accuracy=76.05: 100%|██████████| 391/391 [00:15<00:00, 25.57it/s]\n",
            "  0%|          | 0/391 [00:00<?, ?it/s]"
          ],
          "name": "stderr"
        },
        {
          "output_type": "stream",
          "text": [
            "\n",
            "Test set: Loss: 0.4615, Accuracy: 8433/10000 (84.33%)\n",
            "\n",
            "EPOCH 85 | LR [0.024686003179860385]: \n"
          ],
          "name": "stdout"
        },
        {
          "output_type": "stream",
          "text": [
            "Train set: Loss=0.5369698405265808 Batch_id=390 Accuracy=76.23: 100%|██████████| 391/391 [00:15<00:00, 25.12it/s]\n",
            "  0%|          | 0/391 [00:00<?, ?it/s]"
          ],
          "name": "stderr"
        },
        {
          "output_type": "stream",
          "text": [
            "\n",
            "Test set: Loss: 0.4476, Accuracy: 8474/10000 (84.74%)\n",
            "\n",
            "EPOCH 86 | LR [0.021810408467600722]: \n"
          ],
          "name": "stdout"
        },
        {
          "output_type": "stream",
          "text": [
            "Train set: Loss=1.0383789539337158 Batch_id=390 Accuracy=76.09: 100%|██████████| 391/391 [00:15<00:00, 25.52it/s]\n",
            "  0%|          | 0/391 [00:00<?, ?it/s]"
          ],
          "name": "stderr"
        },
        {
          "output_type": "stream",
          "text": [
            "\n",
            "Test set: Loss: 0.4462, Accuracy: 8496/10000 (84.96%)\n",
            "\n",
            "EPOCH 87 | LR [0.019092277992557718]: \n"
          ],
          "name": "stdout"
        },
        {
          "output_type": "stream",
          "text": [
            "Train set: Loss=0.6931540369987488 Batch_id=390 Accuracy=76.54: 100%|██████████| 391/391 [00:15<00:00, 25.21it/s]\n",
            "  0%|          | 0/391 [00:00<?, ?it/s]"
          ],
          "name": "stderr"
        },
        {
          "output_type": "stream",
          "text": [
            "\n",
            "Test set: Loss: 0.4386, Accuracy: 8510/10000 (85.10%)\n",
            "\n",
            "EPOCH 88 | LR [0.016537085707772042]: \n"
          ],
          "name": "stdout"
        },
        {
          "output_type": "stream",
          "text": [
            "Train set: Loss=0.7491913437843323 Batch_id=390 Accuracy=76.54: 100%|██████████| 391/391 [00:15<00:00, 25.57it/s]\n",
            "  0%|          | 0/391 [00:00<?, ?it/s]"
          ],
          "name": "stderr"
        },
        {
          "output_type": "stream",
          "text": [
            "\n",
            "Test set: Loss: 0.4424, Accuracy: 8491/10000 (84.91%)\n",
            "\n",
            "EPOCH 89 | LR [0.014149977430453648]: \n"
          ],
          "name": "stdout"
        },
        {
          "output_type": "stream",
          "text": [
            "Train set: Loss=0.6872810125350952 Batch_id=390 Accuracy=76.59: 100%|██████████| 391/391 [00:15<00:00, 25.35it/s]\n",
            "  0%|          | 0/391 [00:00<?, ?it/s]"
          ],
          "name": "stderr"
        },
        {
          "output_type": "stream",
          "text": [
            "\n",
            "Test set: Loss: 0.4385, Accuracy: 8525/10000 (85.25%)\n",
            "\n",
            "EPOCH 90 | LR [0.011935760478990339]: \n"
          ],
          "name": "stdout"
        },
        {
          "output_type": "stream",
          "text": [
            "Train set: Loss=0.6971794366836548 Batch_id=390 Accuracy=76.44: 100%|██████████| 391/391 [00:15<00:00, 25.25it/s]\n",
            "  0%|          | 0/391 [00:00<?, ?it/s]"
          ],
          "name": "stderr"
        },
        {
          "output_type": "stream",
          "text": [
            "\n",
            "Test set: Loss: 0.4332, Accuracy: 8544/10000 (85.44%)\n",
            "\n",
            "EPOCH 91 | LR [0.009898893991648554]: \n"
          ],
          "name": "stdout"
        },
        {
          "output_type": "stream",
          "text": [
            "Train set: Loss=0.8629752397537231 Batch_id=390 Accuracy=76.73: 100%|██████████| 391/391 [00:15<00:00, 25.04it/s]\n",
            "  0%|          | 0/391 [00:00<?, ?it/s]"
          ],
          "name": "stderr"
        },
        {
          "output_type": "stream",
          "text": [
            "\n",
            "Test set: Loss: 0.4395, Accuracy: 8546/10000 (85.46%)\n",
            "\n",
            "EPOCH 92 | LR [0.008043479946462278]: \n"
          ],
          "name": "stdout"
        },
        {
          "output_type": "stream",
          "text": [
            "Train set: Loss=0.6671547293663025 Batch_id=390 Accuracy=76.57: 100%|██████████| 391/391 [00:15<00:00, 25.42it/s]\n",
            "  0%|          | 0/391 [00:00<?, ?it/s]"
          ],
          "name": "stderr"
        },
        {
          "output_type": "stream",
          "text": [
            "\n",
            "Test set: Loss: 0.4332, Accuracy: 8544/10000 (85.44%)\n",
            "\n",
            "EPOCH 93 | LR [0.006373254900395109]: \n"
          ],
          "name": "stdout"
        },
        {
          "output_type": "stream",
          "text": [
            "Train set: Loss=0.728205144405365 Batch_id=390 Accuracy=76.67: 100%|██████████| 391/391 [00:15<00:00, 25.47it/s]\n",
            "  0%|          | 0/391 [00:00<?, ?it/s]"
          ],
          "name": "stderr"
        },
        {
          "output_type": "stream",
          "text": [
            "\n",
            "Test set: Loss: 0.4277, Accuracy: 8545/10000 (85.45%)\n",
            "\n",
            "EPOCH 94 | LR [0.004891582464411912]: \n"
          ],
          "name": "stdout"
        },
        {
          "output_type": "stream",
          "text": [
            "Train set: Loss=0.7459709644317627 Batch_id=390 Accuracy=76.96: 100%|██████████| 391/391 [00:15<00:00, 25.29it/s]\n",
            "  0%|          | 0/391 [00:00<?, ?it/s]"
          ],
          "name": "stderr"
        },
        {
          "output_type": "stream",
          "text": [
            "\n",
            "Test set: Loss: 0.4408, Accuracy: 8499/10000 (84.99%)\n",
            "\n",
            "EPOCH 95 | LR [0.003601446529613887]: \n"
          ],
          "name": "stdout"
        },
        {
          "output_type": "stream",
          "text": [
            "Train set: Loss=0.5873793363571167 Batch_id=390 Accuracy=76.88: 100%|██████████| 391/391 [00:15<00:00, 25.06it/s]\n",
            "  0%|          | 0/391 [00:00<?, ?it/s]"
          ],
          "name": "stderr"
        },
        {
          "output_type": "stream",
          "text": [
            "\n",
            "Test set: Loss: 0.4385, Accuracy: 8507/10000 (85.07%)\n",
            "\n",
            "EPOCH 96 | LR [0.002505445258079023]: \n"
          ],
          "name": "stdout"
        },
        {
          "output_type": "stream",
          "text": [
            "Train set: Loss=0.6162337064743042 Batch_id=390 Accuracy=77.19: 100%|██████████| 391/391 [00:15<00:00, 25.33it/s]\n",
            "  0%|          | 0/391 [00:00<?, ?it/s]"
          ],
          "name": "stderr"
        },
        {
          "output_type": "stream",
          "text": [
            "\n",
            "Test set: Loss: 0.4318, Accuracy: 8553/10000 (85.53%)\n",
            "\n",
            "EPOCH 97 | LR [0.001605785850509474]: \n"
          ],
          "name": "stdout"
        },
        {
          "output_type": "stream",
          "text": [
            "Train set: Loss=0.7679985165596008 Batch_id=390 Accuracy=76.70: 100%|██████████| 391/391 [00:15<00:00, 25.21it/s]\n",
            "  0%|          | 0/391 [00:00<?, ?it/s]"
          ],
          "name": "stderr"
        },
        {
          "output_type": "stream",
          "text": [
            "\n",
            "Test set: Loss: 0.4336, Accuracy: 8510/10000 (85.10%)\n",
            "\n",
            "EPOCH 98 | LR [0.0009042801012230328]: \n"
          ],
          "name": "stdout"
        },
        {
          "output_type": "stream",
          "text": [
            "Train set: Loss=0.742810070514679 Batch_id=390 Accuracy=76.72: 100%|██████████| 391/391 [00:15<00:00, 25.18it/s]\n",
            "  0%|          | 0/391 [00:00<?, ?it/s]"
          ],
          "name": "stderr"
        },
        {
          "output_type": "stream",
          "text": [
            "\n",
            "Test set: Loss: 0.4289, Accuracy: 8549/10000 (85.49%)\n",
            "\n",
            "EPOCH 99 | LR [0.0004023407494405405]: \n"
          ],
          "name": "stdout"
        },
        {
          "output_type": "stream",
          "text": [
            "Train set: Loss=0.8799812197685242 Batch_id=390 Accuracy=77.12: 100%|██████████| 391/391 [00:15<00:00, 25.16it/s]\n",
            "  0%|          | 0/391 [00:00<?, ?it/s]"
          ],
          "name": "stderr"
        },
        {
          "output_type": "stream",
          "text": [
            "\n",
            "Test set: Loss: 0.4292, Accuracy: 8519/10000 (85.19%)\n",
            "\n",
            "EPOCH 100 | LR [0.00010097863421708351]: \n"
          ],
          "name": "stdout"
        },
        {
          "output_type": "stream",
          "text": [
            "Train set: Loss=0.720141589641571 Batch_id=390 Accuracy=77.39: 100%|██████████| 391/391 [00:15<00:00, 25.25it/s]\n"
          ],
          "name": "stderr"
        },
        {
          "output_type": "stream",
          "text": [
            "\n",
            "Test set: Loss: 0.4275, Accuracy: 8543/10000 (85.43%)\n",
            "\n"
          ],
          "name": "stdout"
        }
      ]
    },
    {
      "cell_type": "code",
      "metadata": {
        "colab": {
          "base_uri": "https://localhost:8080/",
          "height": 1000
        },
        "id": "IydQGIj1D51K",
        "outputId": "2279492e-780a-44c6-d513-11927682c362"
      },
      "source": [
        "test_misc_images = [test_misc_images[i] for i in range(20)]\n",
        "data_utils.plot_misclassified_rgb(test_misc_images, 'test_misc_batchnorm.png', config=modelconfig)"
      ],
      "execution_count": 23,
      "outputs": [
        {
          "output_type": "stream",
          "text": [
            "Clipping input data to the valid range for imshow with RGB data ([0..1] for floats or [0..255] for integers).\n",
            "Clipping input data to the valid range for imshow with RGB data ([0..1] for floats or [0..255] for integers).\n",
            "Clipping input data to the valid range for imshow with RGB data ([0..1] for floats or [0..255] for integers).\n",
            "Clipping input data to the valid range for imshow with RGB data ([0..1] for floats or [0..255] for integers).\n",
            "Clipping input data to the valid range for imshow with RGB data ([0..1] for floats or [0..255] for integers).\n",
            "Clipping input data to the valid range for imshow with RGB data ([0..1] for floats or [0..255] for integers).\n",
            "Clipping input data to the valid range for imshow with RGB data ([0..1] for floats or [0..255] for integers).\n",
            "Clipping input data to the valid range for imshow with RGB data ([0..1] for floats or [0..255] for integers).\n",
            "Clipping input data to the valid range for imshow with RGB data ([0..1] for floats or [0..255] for integers).\n",
            "Clipping input data to the valid range for imshow with RGB data ([0..1] for floats or [0..255] for integers).\n",
            "Clipping input data to the valid range for imshow with RGB data ([0..1] for floats or [0..255] for integers).\n",
            "Clipping input data to the valid range for imshow with RGB data ([0..1] for floats or [0..255] for integers).\n",
            "Clipping input data to the valid range for imshow with RGB data ([0..1] for floats or [0..255] for integers).\n",
            "Clipping input data to the valid range for imshow with RGB data ([0..1] for floats or [0..255] for integers).\n",
            "Clipping input data to the valid range for imshow with RGB data ([0..1] for floats or [0..255] for integers).\n",
            "Clipping input data to the valid range for imshow with RGB data ([0..1] for floats or [0..255] for integers).\n",
            "Clipping input data to the valid range for imshow with RGB data ([0..1] for floats or [0..255] for integers).\n",
            "Clipping input data to the valid range for imshow with RGB data ([0..1] for floats or [0..255] for integers).\n",
            "Clipping input data to the valid range for imshow with RGB data ([0..1] for floats or [0..255] for integers).\n",
            "Clipping input data to the valid range for imshow with RGB data ([0..1] for floats or [0..255] for integers).\n"
          ],
          "name": "stderr"
        },
        {
          "output_type": "display_data",
          "data": {
            "image/png": "[encoded data removed]",
            "text/plain": [
              "<Figure size 1080x1080 with 20 Axes>"
            ]
          },
          "metadata": {
            "tags": [],
            "needs_background": "light"
          }
        }
      ]
    },
    {
      "cell_type": "code",
      "metadata": {
        "colab": {
          "base_uri": "https://localhost:8080/"
        },
        "id": "gHSQ2N79hHd1",
        "outputId": "7ec591ce-8a1c-4fdb-cd24-6d0389cad4b6"
      },
      "source": [
        "class_correct = list(0. for i in range(10))\n",
        "class_total = list(0. for i in range(10))\n",
        "with torch.no_grad():\n",
        "    for data in modelconfig.testloader:\n",
        "        images, labels = data\n",
        "        labels=labels.to(modelconfig.device)\n",
        "        outputs = model(images.to(modelconfig.device))\n",
        "        _, predicted = torch.max(outputs, 1)\n",
        "        c = (predicted == labels).squeeze()\n",
        "        for i in range(4):\n",
        "            label = labels[i]\n",
        "            class_correct[label] += c[i].item()\n",
        "            class_total[label] += 1\n",
        "\n",
        "\n",
        "for i in range(10):\n",
        "    print('Accuracy of %5s : %2d %%' % (\n",
        "        modelconfig.classes[i], 100 * class_correct[i] / class_total[i]))"
      ],
      "execution_count": 24,
      "outputs": [
        {
          "output_type": "stream",
          "text": [
            "Accuracy of plane : 84 %\n",
            "Accuracy of   car : 91 %\n",
            "Accuracy of  bird : 73 %\n",
            "Accuracy of   cat : 57 %\n",
            "Accuracy of  deer : 79 %\n",
            "Accuracy of   dog : 84 %\n",
            "Accuracy of  frog : 95 %\n",
            "Accuracy of horse : 85 %\n",
            "Accuracy of  ship : 96 %\n",
            "Accuracy of truck : 90 %\n"
          ],
          "name": "stdout"
        }
      ]
    },
    {
      "cell_type": "code",
      "metadata": {
        "id": "8XcigfR5hHWL"
      },
      "source": [
        "testacc = result_dict['TestAcc']\n",
        "trainacc = result_dict['TrainAcc']\n",
        "testloss = result_dict['TestLoss']\n",
        "trainloss = result_dict['TrainLoss']\n",
        " "
      ],
      "execution_count": 25,
      "outputs": []
    },
    {
      "cell_type": "code",
      "metadata": {
        "id": "WeeihvmXhHSe"
      },
      "source": [
        "plot_details_dict = {'Test Accuracy(%)': 'Validation Accuracy',\n",
        "                     'Train Accuracy(%)': 'Train Accuracy',\n",
        "                     'Test Loss(%)': 'Validation Loss',\n",
        "                     'Train Loss(%)': 'Train Loss'}\n",
        "\n",
        "\n",
        "def plot_curve(data, y_label):\n",
        "  # Plotting both the curves simultaneously\n",
        "  with plt.style.context('dark_background'):# fivethirtyeight\n",
        "    plt.plot(data[0:70], color='r', label='BatchNorm')\n",
        "    \n",
        "    # Naming the x-axis, y-axis and the whole graph\n",
        "    plt.xlabel(\"Epochs\")\n",
        "    plt.ylabel(y_label)\n",
        "    plt.title(plot_details_dict[y_label])\n",
        "      \n",
        "    # Adding legend, which helps us recognize the curve according to it's color\n",
        "    plt.legend()\n",
        "  "
      ],
      "execution_count": 26,
      "outputs": []
    },
    {
      "cell_type": "code",
      "metadata": {
        "id": "pDNFuDEDpoDG",
        "colab": {
          "base_uri": "https://localhost:8080/",
          "height": 295
        },
        "outputId": "5dae5ed2-68fb-49b4-ffbd-db7088ba3410"
      },
      "source": [
        "plot_curve(testacc, \"Test Accuracy(%)\")"
      ],
      "execution_count": 27,
      "outputs": [
        {
          "output_type": "display_data",
          "data": {
            "image/png": "[encoded data removed]",
            "text/plain": [
              "<Figure size 432x288 with 1 Axes>"
            ]
          },
          "metadata": {
            "tags": []
          }
        }
      ]
    },
    {
      "cell_type": "code",
      "metadata": {
        "colab": {
          "base_uri": "https://localhost:8080/",
          "height": 295
        },
        "id": "gNh6AfQPiBKN",
        "outputId": "ea4424ab-c85c-48f3-b0a6-ae40fb9ebebd"
      },
      "source": [
        "plot_curve(trainacc, \"Train Accuracy(%)\")"
      ],
      "execution_count": 28,
      "outputs": [
        {
          "output_type": "display_data",
          "data": {
            "image/png": "[encoded data removed]",
            "text/plain": [
              "<Figure size 432x288 with 1 Axes>"
            ]
          },
          "metadata": {
            "tags": []
          }
        }
      ]
    },
    {
      "cell_type": "code",
      "metadata": {
        "colab": {
          "base_uri": "https://localhost:8080/",
          "height": 295
        },
        "id": "Q3k9cnfeiRJa",
        "outputId": "7bd7d7e9-0e43-49a6-a3e9-fca5e675190e"
      },
      "source": [
        "plot_curve(testloss, \"Test Loss(%)\")"
      ],
      "execution_count": 29,
      "outputs": [
        {
          "output_type": "display_data",
          "data": {
            "image/png": "[encoded data removed]",
            "text/plain": [
              "<Figure size 432x288 with 1 Axes>"
            ]
          },
          "metadata": {
            "tags": []
          }
        }
      ]
    },
    {
      "cell_type": "code",
      "metadata": {
        "colab": {
          "base_uri": "https://localhost:8080/",
          "height": 295
        },
        "id": "lq2O8UW6iRiK",
        "outputId": "503564c8-952b-4d3c-89d4-ed74877d7730"
      },
      "source": [
        "plot_curve(trainloss, \"Train Loss(%)\")"
      ],
      "execution_count": 30,
      "outputs": [
        {
          "output_type": "display_data",
          "data": {
            "image/png": "[encoded data removed]",
            "text/plain": [
              "<Figure size 432x288 with 1 Axes>"
            ]
          },
          "metadata": {
            "tags": []
          }
        }
      ]
    }
  ]
}