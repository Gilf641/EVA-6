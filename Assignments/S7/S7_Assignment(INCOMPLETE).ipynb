{
  "nbformat": 4,
  "nbformat_minor": 0,
  "metadata": {
    "kernelspec": {
      "name": "python3",
      "display_name": "Python 3"
    },
    "language_info": {
      "codemirror_mode": {
        "name": "ipython",
        "version": 3
      },
      "file_extension": ".py",
      "mimetype": "text/x-python",
      "name": "python",
      "nbconvert_exporter": "python",
      "pygments_lexer": "ipython3",
      "version": "3.6.6"
    },
    "colab": {
      "name": "S7-Assignment.ipynb",
      "provenance": [],
      "collapsed_sections": []
    },
    "accelerator": "GPU"
  },
  "cells": [
    {
      "cell_type": "code",
      "metadata": {
        "colab": {
          "base_uri": "https://localhost:8080/"
        },
        "id": "pBg8ohxzYfvX",
        "outputId": "1272e8e0-99a4-4e03-ea8a-8257d981f59b"
      },
      "source": [
        "!pip install nvitop"
      ],
      "execution_count": 1,
      "outputs": [
        {
          "output_type": "stream",
          "text": [
            "Collecting nvitop\n",
            "\u001b[?25l  Downloading https://files.pythonhosted.org/packages/42/02/0a21e987a715c59d586f6fd950e84bbb7bce372e05344159c15aa52eb264/nvitop-0.3.4.1-py3-none-any.whl (74kB)\n",
            "\r\u001b[K     |████▍                           | 10kB 22.2MB/s eta 0:00:01\r\u001b[K     |████████▉                       | 20kB 17.8MB/s eta 0:00:01\r\u001b[K     |█████████████▎                  | 30kB 15.3MB/s eta 0:00:01\r\u001b[K     |█████████████████▊              | 40kB 14.1MB/s eta 0:00:01\r\u001b[K     |██████████████████████          | 51kB 8.4MB/s eta 0:00:01\r\u001b[K     |██████████████████████████▌     | 61kB 9.7MB/s eta 0:00:01\r\u001b[K     |███████████████████████████████ | 71kB 9.2MB/s eta 0:00:01\r\u001b[K     |████████████████████████████████| 81kB 6.2MB/s \n",
            "\u001b[?25hRequirement already satisfied: termcolor in /usr/local/lib/python3.7/dist-packages (from nvitop) (1.1.0)\n",
            "Requirement already satisfied: cachetools in /usr/local/lib/python3.7/dist-packages (from nvitop) (4.2.2)\n",
            "Collecting nvidia-ml-py==11.450.51\n",
            "  Downloading https://files.pythonhosted.org/packages/4c/e7/f6fef887708f601cda64c8fd48dcb80a0763cb6ee4eaf89939bdc165ce41/nvidia-ml-py-11.450.51.tar.gz\n",
            "Requirement already satisfied: psutil in /usr/local/lib/python3.7/dist-packages (from nvitop) (5.4.8)\n",
            "Building wheels for collected packages: nvidia-ml-py\n",
            "  Building wheel for nvidia-ml-py (setup.py) ... \u001b[?25l\u001b[?25hdone\n",
            "  Created wheel for nvidia-ml-py: filename=nvidia_ml_py-11.450.51-cp37-none-any.whl size=24235 sha256=07cd68f0fc1ec3730510c07e006d4bec5a50ffda59af45caa80a600a242fc950\n",
            "  Stored in directory: /root/.cache/pip/wheels/98/bf/a0/2ccfd4ff2f7b98e64f29b57149ddf9cd59d298d583ba9040a3\n",
            "Successfully built nvidia-ml-py\n",
            "Installing collected packages: nvidia-ml-py, nvitop\n",
            "Successfully installed nvidia-ml-py-11.450.51 nvitop-0.3.4.1\n"
          ],
          "name": "stdout"
        }
      ]
    },
    {
      "cell_type": "code",
      "metadata": {
        "colab": {
          "base_uri": "https://localhost:8080/"
        },
        "id": "fsxEsLqQDNNm",
        "outputId": "7c8d39c9-5fcb-436d-f4d9-9355cc0ed497"
      },
      "source": [
        "!nvitop"
      ],
      "execution_count": null,
      "outputs": [
        {
          "output_type": "stream",
          "text": [
            "Fri Jun 18 16:10:39 2021\n",
            "╒═════════════════════════════════════════════════════════════════════════════╕\n",
            "│ NVIDIA-SMI 460.32.03    Driver Version: 460.32.03    CUDA Version: 11.2     │\n",
            "├───────────────────────────────┬──────────────────────┬──────────────────────┤\n",
            "│ GPU  Name        Persistence-M│ Bus-Id        Disp.A │ Volatile Uncorr. ECC │\n",
            "│ Fan  Temp  Perf  Pwr:Usage/Cap│         Memory-Usage │ GPU-Util  Compute M. │\n",
            "╞═══════════════════════════════╪══════════════════════╪══════════════════════╡\n",
            "│\u001b[32m   0  Tesla T4            Off  \u001b[0m│\u001b[32m 00000000:00:04.0 Off \u001b[0m│\u001b[32m                    0 \u001b[0m│\n",
            "│\u001b[32m N/A   42C    P8      9W / 70W \u001b[0m│\u001b[32m    128KiB / 15110MiB \u001b[0m│\u001b[32m      0%      Default \u001b[0m│\n",
            "╘═══════════════════════════════╧══════════════════════╧══════════════════════╛\n",
            "\u001b[1m\u001b[36m[ CPU: ██████████████ 40.0%                    ]\u001b[0m  \u001b[1m( Load Average: N/A N/A N/A )\u001b[0m\n",
            "\u001b[1m\u001b[35m[ MEM: ██▎ 6.3%                                ]\u001b[0m  \u001b[1m\u001b[34m[ SWP: ▏ 0%                 ]\u001b[0m\n",
            "\n",
            "╒═════════════════════════════════════════════════════════════════════════════╕\n",
            "│ Processes:                                                                  │\n",
            "│ GPU    PID      USER  GPU-MEM %SM  %CPU  %MEM  TIME  COMMAND                │\n",
            "╞═════════════════════════════════════════════════════════════════════════════╡\n",
            "│  No running processes found                                                 │\n",
            "╘═════════════════════════════════════════════════════════════════════════════╛\n"
          ],
          "name": "stdout"
        }
      ]
    },
    {
      "cell_type": "code",
      "metadata": {
        "colab": {
          "base_uri": "https://localhost:8080/"
        },
        "id": "LfQ7zahiDRD3",
        "outputId": "76b298d4-895d-4c55-ef1b-1b86836cb8ec"
      },
      "source": [
        "import sys\n",
        "from google.colab import drive\n",
        "\n",
        "drive.mount('/content/gdrive', force_remount=True)\n",
        "sys.path.append('/content/gdrive/MyDrive')\n",
        "\n",
        "%reload_ext tensorboard\n"
      ],
      "execution_count": 1,
      "outputs": [
        {
          "output_type": "stream",
          "text": [
            "Mounted at /content/gdrive\n"
          ],
          "name": "stdout"
        }
      ]
    },
    {
      "cell_type": "code",
      "metadata": {
        "colab": {
          "base_uri": "https://localhost:8080/"
        },
        "id": "dpO40ss4nWLe",
        "outputId": "378c28dd-a48f-4e88-c73e-9ec2c46f5494"
      },
      "source": [
        "!pip install -U albumentations>=0.3.0 --user\n",
        "!pip install --upgrade git+https://github.com/albumentations-team/albumentations\n",
        "\n",
        "\n",
        "import albumentations as A"
      ],
      "execution_count": 2,
      "outputs": [
        {
          "output_type": "stream",
          "text": [
            "Collecting git+https://github.com/albumentations-team/albumentations\n",
            "  Cloning https://github.com/albumentations-team/albumentations to /tmp/pip-req-build-fffa2hlz\n",
            "  Running command git clone -q https://github.com/albumentations-team/albumentations /tmp/pip-req-build-fffa2hlz\n",
            "Requirement already satisfied, skipping upgrade: numpy>=1.11.1 in /usr/local/lib/python3.7/dist-packages (from albumentations==1.0.0) (1.19.5)\n",
            "Requirement already satisfied, skipping upgrade: scipy in /usr/local/lib/python3.7/dist-packages (from albumentations==1.0.0) (1.4.1)\n",
            "Requirement already satisfied, skipping upgrade: scikit-image>=0.16.1 in /usr/local/lib/python3.7/dist-packages (from albumentations==1.0.0) (0.16.2)\n",
            "Requirement already satisfied, skipping upgrade: PyYAML in /usr/local/lib/python3.7/dist-packages (from albumentations==1.0.0) (3.13)\n",
            "Requirement already satisfied, skipping upgrade: opencv-python>=4.1.1 in /usr/local/lib/python3.7/dist-packages (from albumentations==1.0.0) (4.1.2.30)\n",
            "Requirement already satisfied, skipping upgrade: matplotlib!=3.0.0,>=2.0.0 in /usr/local/lib/python3.7/dist-packages (from scikit-image>=0.16.1->albumentations==1.0.0) (3.2.2)\n",
            "Requirement already satisfied, skipping upgrade: pillow>=4.3.0 in /usr/local/lib/python3.7/dist-packages (from scikit-image>=0.16.1->albumentations==1.0.0) (7.1.2)\n",
            "Requirement already satisfied, skipping upgrade: PyWavelets>=0.4.0 in /usr/local/lib/python3.7/dist-packages (from scikit-image>=0.16.1->albumentations==1.0.0) (1.1.1)\n",
            "Requirement already satisfied, skipping upgrade: networkx>=2.0 in /usr/local/lib/python3.7/dist-packages (from scikit-image>=0.16.1->albumentations==1.0.0) (2.5.1)\n",
            "Requirement already satisfied, skipping upgrade: imageio>=2.3.0 in /usr/local/lib/python3.7/dist-packages (from scikit-image>=0.16.1->albumentations==1.0.0) (2.4.1)\n",
            "Requirement already satisfied, skipping upgrade: python-dateutil>=2.1 in /usr/local/lib/python3.7/dist-packages (from matplotlib!=3.0.0,>=2.0.0->scikit-image>=0.16.1->albumentations==1.0.0) (2.8.1)\n",
            "Requirement already satisfied, skipping upgrade: pyparsing!=2.0.4,!=2.1.2,!=2.1.6,>=2.0.1 in /usr/local/lib/python3.7/dist-packages (from matplotlib!=3.0.0,>=2.0.0->scikit-image>=0.16.1->albumentations==1.0.0) (2.4.7)\n",
            "Requirement already satisfied, skipping upgrade: kiwisolver>=1.0.1 in /usr/local/lib/python3.7/dist-packages (from matplotlib!=3.0.0,>=2.0.0->scikit-image>=0.16.1->albumentations==1.0.0) (1.3.1)\n",
            "Requirement already satisfied, skipping upgrade: cycler>=0.10 in /usr/local/lib/python3.7/dist-packages (from matplotlib!=3.0.0,>=2.0.0->scikit-image>=0.16.1->albumentations==1.0.0) (0.10.0)\n",
            "Requirement already satisfied, skipping upgrade: decorator<5,>=4.3 in /usr/local/lib/python3.7/dist-packages (from networkx>=2.0->scikit-image>=0.16.1->albumentations==1.0.0) (4.4.2)\n",
            "Requirement already satisfied, skipping upgrade: six>=1.5 in /usr/local/lib/python3.7/dist-packages (from python-dateutil>=2.1->matplotlib!=3.0.0,>=2.0.0->scikit-image>=0.16.1->albumentations==1.0.0) (1.15.0)\n",
            "Building wheels for collected packages: albumentations\n",
            "  Building wheel for albumentations (setup.py) ... \u001b[?25l\u001b[?25hdone\n",
            "  Created wheel for albumentations: filename=albumentations-1.0.0-cp37-none-any.whl size=98151 sha256=e2f440a8234583486bf1463ca7738f2810a477df0acd8b2d24d930ed6c6194ed\n",
            "  Stored in directory: /tmp/pip-ephem-wheel-cache-rmwlamuj/wheels/6f/77/82/86baf8aeda64a6de0f890cd0f2fb31acaf5545cc9c99ad21ba\n",
            "Successfully built albumentations\n",
            "Installing collected packages: albumentations\n",
            "  Found existing installation: albumentations 1.0.0\n",
            "    Uninstalling albumentations-1.0.0:\n",
            "      Successfully uninstalled albumentations-1.0.0\n",
            "Successfully installed albumentations-1.0.0\n"
          ],
          "name": "stdout"
        }
      ]
    },
    {
      "cell_type": "code",
      "metadata": {
        "id": "-yVpodAMpoCi",
        "colab": {
          "base_uri": "https://localhost:8080/"
        },
        "outputId": "fc8c0579-b83e-47b6-842e-bcb64eee58e4"
      },
      "source": [
        "from __future__ import print_function\n",
        "import torch\n",
        "import torch.nn as nn\n",
        "import torch.nn.functional as F\n",
        "import torch.optim as optim\n",
        "import torchvision\n",
        "from torchvision import datasets, transforms\n",
        "from torch.utils.tensorboard import SummaryWriter\n",
        "from tqdm import tqdm_notebook\n",
        "from tqdm import tqdm\n",
        "!pip install torchsummary\n",
        "from torchsummary import summary\n",
        "import numpy as np\n",
        "import matplotlib.pyplot as plt\n",
        "from torch.utils.data import Dataset, DataLoader\n",
        "import albumentations as A\n",
        "from albumentations.pytorch import ToTensorV2\n",
        "\n",
        "# custom torch package\n",
        "import torchkit\n",
        "from torchkit.run import train, test, fit\n",
        "from torchkit.data.dataloader import convert\n",
        "from torchkit.data.dataset import CIFAR_Dataset\n",
        "from torchkit.utils import data_utils, model_utils\n",
        "from torchkit.models.cifar_net import SeaFar"
      ],
      "execution_count": 4,
      "outputs": [
        {
          "output_type": "stream",
          "text": [
            "Requirement already satisfied: torchsummary in /usr/local/lib/python3.7/dist-packages (1.5.1)\n"
          ],
          "name": "stdout"
        }
      ]
    },
    {
      "cell_type": "markdown",
      "metadata": {
        "id": "5kjt4e2TpoCk"
      },
      "source": [
        "The output of torchvision datasets are PILImage images of range [0, 1].\n",
        "We transform them to Tensors of normalized range [-1, 1].\n",
        "\n"
      ]
    },
    {
      "cell_type": "code",
      "metadata": {
        "colab": {
          "base_uri": "https://localhost:8080/"
        },
        "id": "nzpxSQZNVOAt",
        "outputId": "05207d46-32cf-4734-81cc-f93501d321f7"
      },
      "source": [
        "# Download CIFAR data\n",
        "trainset = torchvision.datasets.CIFAR10(root='./data', train=True,\n",
        "                                        download=True)\n",
        "testset = torchvision.datasets.CIFAR10(root='./data', train=False,\n",
        "                                       download=True)"
      ],
      "execution_count": 5,
      "outputs": [
        {
          "output_type": "stream",
          "text": [
            "Files already downloaded and verified\n",
            "Files already downloaded and verified\n"
          ],
          "name": "stdout"
        }
      ]
    },
    {
      "cell_type": "code",
      "metadata": {
        "id": "NZyAlaAQ3P77"
      },
      "source": [
        "# Train and Test Transforms \n",
        "\n",
        "train_transform = A.Compose(\n",
        "    [\n",
        "        A.HorizontalFlip(),\n",
        "        A.ShiftScaleRotate(),\n",
        "        A.CoarseDropout(max_holes = 1, max_height=16, max_width=16, min_holes = 1, min_height=16, min_width=16, fill_value=(0.4675, 0.4599, 0.4236), mask_fill_value = None),\n",
        "        A.Normalize(mean=(0.4675, 0.4599, 0.4236), std=(0.2901, 0.2874, 0.2917)),\n",
        "        ToTensorV2(),\n",
        "    ])\n",
        "\n",
        "\n",
        "test_transform = A.Compose(\n",
        "    [\n",
        "        A.Normalize(mean=(0.4675, 0.4599, 0.4236), std=(0.2901, 0.2874, 0.2917)),\n",
        "        ToTensorV2(),\n",
        "    ])"
      ],
      "execution_count": 7,
      "outputs": []
    },
    {
      "cell_type": "code",
      "metadata": {
        "id": "o8HLCrGUrGyq"
      },
      "source": [
        "train = CIFAR_Dataset(trainset.data, trainset.targets, transforms=train_transform)\n",
        "test = CIFAR_Dataset(testset.data, testset.targets, transforms=test_transform)\n",
        "\n",
        "train_loader, test_loader = convert(train, test)\n"
      ],
      "execution_count": 8,
      "outputs": []
    },
    {
      "cell_type": "code",
      "metadata": {
        "id": "p5PCVq_Lahqx"
      },
      "source": [
        "class GlobalConfig:\n",
        "    seed = 1992\n",
        "    num_classes = 10\n",
        "    batch_size = 128\n",
        "    EPOCHS = 70\n",
        "    device = torch.device('cuda' if torch.cuda.is_available() else 'cpu')\n",
        "\n",
        "    # data\n",
        "    input_image_size = (3, 32, 32)\n",
        "    trainloader = train_loader\n",
        "    testloader = test_loader\n",
        "\n",
        "    classes = ('plane', 'car', 'bird', 'cat',\n",
        "           'deer', 'dog', 'frog', 'horse', 'ship', 'truck')\n",
        "\n",
        "\n",
        "\n",
        "    # model data normalization\n",
        "    channel_norm = 'BatchNorm2d'\n",
        "    channel_norm_params = {'GroupNorm': {'num_groups':2},\n",
        "                 'BatchNorm2d':{'affine':True},\n",
        "                 'LayerNorm': {'normalized_shape':10}}\n",
        "                \n",
        "\n",
        "    # regularizer\n",
        "    dropout_value = 0.05\n",
        "\n",
        "    # loss\n",
        "    loss_function = 'CrossEntropyLoss'\n",
        "\n",
        "    # scheduler\n",
        "    lr_scheduler = 'StepLR'\n",
        "    lr_scheduler_params = {'StepLR': {'step_size':7, 'gamma':0.5},\n",
        "                \n",
        "                'ReduceLROnPlateau': {'mode':'min', 'factor':0.5, 'patience':2, 'threshold':0.0001,\n",
        "                                      'threshold_mode':'rel', 'cooldown':0, 'min_lr':1e-4,\n",
        "                                      'eps':1e-08, 'verbose':True},\n",
        "                'OneCycleLR': {'max_lr': 0.2, 'steps_per_epoch':len(trainloader), 'div_factor':20, 'epochs':EPOCHS }}\n",
        "                                \n",
        "\n",
        "    # optimizer\n",
        "    optimizer = 'SGD'\n",
        "    optimizer_params = {'SGD':{'lr':0.01, 'momentum':0.9}}\n",
        "\n",
        "    # store model stats\n",
        "    model_results = {'TestAccuracy': [], \n",
        "                  'TrainAccuracy': [],\n",
        "                  'TestLoss': [],\n",
        "                  'TrainLoss':[]}\n",
        "\n",
        "    # Params\n",
        "    misclassified=True\n",
        "    L1Lambda=False\n",
        "\n",
        "    \n",
        "modelconfig = GlobalConfig\n"
      ],
      "execution_count": 9,
      "outputs": []
    },
    {
      "cell_type": "markdown",
      "metadata": {
        "id": "_cj433rtpoCn"
      },
      "source": [
        "Let us show some of the training images, for fun.\n",
        "\n"
      ]
    },
    {
      "cell_type": "code",
      "metadata": {
        "colab": {
          "base_uri": "https://localhost:8080/",
          "height": 1000
        },
        "id": "h-Xkm0TfnnRQ",
        "outputId": "46257419-306a-4193-8c82-a7b33a68886f"
      },
      "source": [
        "img, label = next(iter(modelconfig.trainloader))\n",
        "data = CIFAR_Dataset(img,label)\n",
        "data_utils.plot_data(data,modelconfig)"
      ],
      "execution_count": 10,
      "outputs": [
        {
          "output_type": "stream",
          "text": [
            "Clipping input data to the valid range for imshow with RGB data ([0..1] for floats or [0..255] for integers).\n",
            "Clipping input data to the valid range for imshow with RGB data ([0..1] for floats or [0..255] for integers).\n",
            "Clipping input data to the valid range for imshow with RGB data ([0..1] for floats or [0..255] for integers).\n",
            "Clipping input data to the valid range for imshow with RGB data ([0..1] for floats or [0..255] for integers).\n",
            "Clipping input data to the valid range for imshow with RGB data ([0..1] for floats or [0..255] for integers).\n",
            "Clipping input data to the valid range for imshow with RGB data ([0..1] for floats or [0..255] for integers).\n",
            "Clipping input data to the valid range for imshow with RGB data ([0..1] for floats or [0..255] for integers).\n",
            "Clipping input data to the valid range for imshow with RGB data ([0..1] for floats or [0..255] for integers).\n",
            "Clipping input data to the valid range for imshow with RGB data ([0..1] for floats or [0..255] for integers).\n",
            "Clipping input data to the valid range for imshow with RGB data ([0..1] for floats or [0..255] for integers).\n",
            "Clipping input data to the valid range for imshow with RGB data ([0..1] for floats or [0..255] for integers).\n",
            "Clipping input data to the valid range for imshow with RGB data ([0..1] for floats or [0..255] for integers).\n",
            "Clipping input data to the valid range for imshow with RGB data ([0..1] for floats or [0..255] for integers).\n",
            "Clipping input data to the valid range for imshow with RGB data ([0..1] for floats or [0..255] for integers).\n",
            "Clipping input data to the valid range for imshow with RGB data ([0..1] for floats or [0..255] for integers).\n",
            "Clipping input data to the valid range for imshow with RGB data ([0..1] for floats or [0..255] for integers).\n",
            "Clipping input data to the valid range for imshow with RGB data ([0..1] for floats or [0..255] for integers).\n",
            "Clipping input data to the valid range for imshow with RGB data ([0..1] for floats or [0..255] for integers).\n",
            "Clipping input data to the valid range for imshow with RGB data ([0..1] for floats or [0..255] for integers).\n",
            "Clipping input data to the valid range for imshow with RGB data ([0..1] for floats or [0..255] for integers).\n",
            "Clipping input data to the valid range for imshow with RGB data ([0..1] for floats or [0..255] for integers).\n",
            "Clipping input data to the valid range for imshow with RGB data ([0..1] for floats or [0..255] for integers).\n",
            "Clipping input data to the valid range for imshow with RGB data ([0..1] for floats or [0..255] for integers).\n",
            "Clipping input data to the valid range for imshow with RGB data ([0..1] for floats or [0..255] for integers).\n",
            "Clipping input data to the valid range for imshow with RGB data ([0..1] for floats or [0..255] for integers).\n",
            "Clipping input data to the valid range for imshow with RGB data ([0..1] for floats or [0..255] for integers).\n",
            "Clipping input data to the valid range for imshow with RGB data ([0..1] for floats or [0..255] for integers).\n",
            "Clipping input data to the valid range for imshow with RGB data ([0..1] for floats or [0..255] for integers).\n",
            "Clipping input data to the valid range for imshow with RGB data ([0..1] for floats or [0..255] for integers).\n",
            "Clipping input data to the valid range for imshow with RGB data ([0..1] for floats or [0..255] for integers).\n",
            "Clipping input data to the valid range for imshow with RGB data ([0..1] for floats or [0..255] for integers).\n",
            "Clipping input data to the valid range for imshow with RGB data ([0..1] for floats or [0..255] for integers).\n",
            "Clipping input data to the valid range for imshow with RGB data ([0..1] for floats or [0..255] for integers).\n",
            "Clipping input data to the valid range for imshow with RGB data ([0..1] for floats or [0..255] for integers).\n",
            "Clipping input data to the valid range for imshow with RGB data ([0..1] for floats or [0..255] for integers).\n",
            "Clipping input data to the valid range for imshow with RGB data ([0..1] for floats or [0..255] for integers).\n",
            "Clipping input data to the valid range for imshow with RGB data ([0..1] for floats or [0..255] for integers).\n",
            "Clipping input data to the valid range for imshow with RGB data ([0..1] for floats or [0..255] for integers).\n",
            "Clipping input data to the valid range for imshow with RGB data ([0..1] for floats or [0..255] for integers).\n",
            "Clipping input data to the valid range for imshow with RGB data ([0..1] for floats or [0..255] for integers).\n"
          ],
          "name": "stderr"
        },
        {
          "output_type": "display_data",
          "data": {
            "image/png": "[encoded data removed]",
            "text/plain": [
              "<Figure size 1152x720 with 40 Axes>"
            ]
          },
          "metadata": {
            "tags": [],
            "needs_background": "light"
          }
        }
      ]
    },
    {
      "cell_type": "code",
      "metadata": {
        "id": "xth_sK9pnnMu"
      },
      "source": [
        ""
      ],
      "execution_count": null,
      "outputs": []
    },
    {
      "cell_type": "markdown",
      "metadata": {
        "id": "3NKcu-xgXwwV"
      },
      "source": [
        "**Class/Batch Balance**"
      ]
    },
    {
      "cell_type": "code",
      "metadata": {
        "id": "-BF6sqmqEp5v",
        "colab": {
          "base_uri": "https://localhost:8080/"
        },
        "outputId": "f6aaf448-ba13-4dad-a140-2762f81382c0"
      },
      "source": [
        "from collections import defaultdict\n",
        "data = defaultdict()\n",
        "for batch_idx, (images, labels) in enumerate(iter(modelconfig.trainloader)):\n",
        "  data[batch_idx] = labels\n",
        "\n",
        "total_data = []\n",
        "first_batch = data[1]\n",
        "for i in range(len(data)):\n",
        "  for label in list(data[i]):\n",
        "   total_data.append(label.item())\n",
        "\n",
        "class_balance = defaultdict()\n",
        "class_data = {0,1,2,3,4,5,6,7,8,9}\n",
        "for i in class_data:\n",
        "  class_balance[i]=total_data.count(i)\n",
        "class_balance\n",
        "\n"
      ],
      "execution_count": null,
      "outputs": [
        {
          "output_type": "execute_result",
          "data": {
            "text/plain": [
              "defaultdict(None,\n",
              "            {0: 5000,\n",
              "             1: 5000,\n",
              "             2: 5000,\n",
              "             3: 5000,\n",
              "             4: 5000,\n",
              "             5: 5000,\n",
              "             6: 5000,\n",
              "             7: 5000,\n",
              "             8: 5000,\n",
              "             9: 5000})"
            ]
          },
          "metadata": {
            "tags": []
          },
          "execution_count": 21
        }
      ]
    },
    {
      "cell_type": "markdown",
      "metadata": {
        "id": "yrDX-mSIaQkC"
      },
      "source": [
        "All classes have same number of images, 5000. Dataset is balanced. "
      ]
    },
    {
      "cell_type": "code",
      "metadata": {
        "id": "M4xBbDROpoCv",
        "colab": {
          "base_uri": "https://localhost:8080/"
        },
        "outputId": "32eb2914-976b-4456-b57f-8fae781e965d"
      },
      "source": [
        "\n",
        "model = SeaFar(modelconfig).to(modelconfig.device)\n",
        "summary(model, input_size=modelconfig.input_image_size)\n",
        "train_misc_img, test_misc_img, model_results = fit(model=model, config=modelconfig)"
      ],
      "execution_count": null,
      "outputs": [
        {
          "output_type": "stream",
          "text": [
            "\r  0%|          | 0/391 [00:00<?, ?it/s]"
          ],
          "name": "stderr"
        },
        {
          "output_type": "stream",
          "text": [
            "----------------------------------------------------------------\n",
            "        Layer (type)               Output Shape         Param #\n",
            "================================================================\n",
            "            Conv2d-1           [-1, 32, 32, 32]             896\n",
            "            Conv2d-2           [-1, 32, 30, 30]           9,248\n",
            "            Conv2d-3           [-1, 64, 30, 30]           2,112\n",
            "              ReLU-4           [-1, 64, 30, 30]               0\n",
            "       BatchNorm2d-5           [-1, 64, 30, 30]             128\n",
            "           Dropout-6           [-1, 64, 30, 30]               0\n",
            "            Conv2d-7           [-1, 64, 15, 15]          36,864\n",
            "            Conv2d-8           [-1, 32, 15, 15]           2,048\n",
            "            Conv2d-9           [-1, 48, 15, 15]          13,872\n",
            "           Conv2d-10           [-1, 48, 13, 13]          20,784\n",
            "           Conv2d-11           [-1, 64, 13, 13]           3,136\n",
            "             ReLU-12           [-1, 64, 13, 13]               0\n",
            "      BatchNorm2d-13           [-1, 64, 13, 13]             128\n",
            "          Dropout-14           [-1, 64, 13, 13]               0\n",
            "           Conv2d-15             [-1, 64, 7, 7]          36,864\n",
            "           Conv2d-16             [-1, 32, 7, 7]           2,048\n",
            "           Conv2d-17             [-1, 32, 7, 7]           9,216\n",
            "             ReLU-18             [-1, 32, 7, 7]               0\n",
            "      BatchNorm2d-19             [-1, 32, 7, 7]              64\n",
            "          Dropout-20             [-1, 32, 7, 7]               0\n",
            "           Conv2d-21             [-1, 48, 7, 7]          13,824\n",
            "             ReLU-22             [-1, 48, 7, 7]               0\n",
            "      BatchNorm2d-23             [-1, 48, 7, 7]              96\n",
            "          Dropout-24             [-1, 48, 7, 7]               0\n",
            "           Conv2d-25             [-1, 48, 4, 4]          20,736\n",
            "           Conv2d-26             [-1, 24, 4, 4]           1,152\n",
            "           Conv2d-27             [-1, 32, 4, 4]             768\n",
            "             ReLU-28             [-1, 32, 4, 4]               0\n",
            "      BatchNorm2d-29             [-1, 32, 4, 4]              64\n",
            "          Dropout-30             [-1, 32, 4, 4]               0\n",
            "        AvgPool2d-31             [-1, 32, 1, 1]               0\n",
            "           Conv2d-32             [-1, 10, 1, 1]             330\n",
            "================================================================\n",
            "Total params: 174,378\n",
            "Trainable params: 174,378\n",
            "Non-trainable params: 0\n",
            "----------------------------------------------------------------\n",
            "Input size (MB): 0.01\n",
            "Forward/backward pass size (MB): 3.05\n",
            "Params size (MB): 0.67\n",
            "Estimated Total Size (MB): 3.72\n",
            "----------------------------------------------------------------\n",
            "\n",
            "EPOCH:  1 LR:  [0.01]\n"
          ],
          "name": "stdout"
        },
        {
          "output_type": "stream",
          "text": [
            "Train set: batch_id=390  Average loss: 1.6715997457504272 Accuracy: 32.44: 100%|██████████| 391/391 [00:11<00:00, 35.24it/s]\n",
            "/usr/local/lib/python3.7/dist-packages/torch/optim/lr_scheduler.py:134: UserWarning: Detected call of `lr_scheduler.step()` before `optimizer.step()`. In PyTorch 1.1.0 and later, you should call them in the opposite order: `optimizer.step()` before `lr_scheduler.step()`.  Failure to do this will result in PyTorch skipping the first value of the learning rate schedule. See more details at https://pytorch.org/docs/stable/optim.html#how-to-adjust-learning-rate\n",
            "  \"https://pytorch.org/docs/stable/optim.html#how-to-adjust-learning-rate\", UserWarning)\n",
            "  0%|          | 0/391 [00:00<?, ?it/s]"
          ],
          "name": "stderr"
        },
        {
          "output_type": "stream",
          "text": [
            "\n",
            "Test set: Average loss: 0.0121, Accuracy: 4336/10000 (43.36%)\n",
            "\n",
            "\n",
            "EPOCH:  2 LR:  [0.01]\n"
          ],
          "name": "stdout"
        },
        {
          "output_type": "stream",
          "text": [
            "Train set: batch_id=390  Average loss: 1.4026663303375244 Accuracy: 43.372: 100%|██████████| 391/391 [00:11<00:00, 35.32it/s]\n",
            "  0%|          | 0/391 [00:00<?, ?it/s]"
          ],
          "name": "stderr"
        },
        {
          "output_type": "stream",
          "text": [
            "\n",
            "Test set: Average loss: 0.0108, Accuracy: 5104/10000 (51.04%)\n",
            "\n",
            "\n",
            "EPOCH:  3 LR:  [0.01]\n"
          ],
          "name": "stdout"
        },
        {
          "output_type": "stream",
          "text": [
            "Train set: batch_id=390  Average loss: 1.419890284538269 Accuracy: 47.984: 100%|██████████| 391/391 [00:11<00:00, 35.30it/s]\n",
            "  0%|          | 0/391 [00:00<?, ?it/s]"
          ],
          "name": "stderr"
        },
        {
          "output_type": "stream",
          "text": [
            "\n",
            "Test set: Average loss: 0.0096, Accuracy: 5623/10000 (56.23%)\n",
            "\n",
            "\n",
            "EPOCH:  4 LR:  [0.01]\n"
          ],
          "name": "stdout"
        },
        {
          "output_type": "stream",
          "text": [
            "Train set: batch_id=390  Average loss: 1.379957675933838 Accuracy: 51.502: 100%|██████████| 391/391 [00:10<00:00, 35.80it/s]\n",
            "Traceback (most recent call last):\n",
            "  File \"/usr/lib/python3.7/multiprocessing/queues.py\", line 242, in _feed\n",
            "    send_bytes(obj)\n",
            "  File \"/usr/lib/python3.7/multiprocessing/connection.py\", line 200, in send_bytes\n",
            "    self._send_bytes(m[offset:offset + size])\n",
            "  File \"/usr/lib/python3.7/multiprocessing/connection.py\", line 404, in _send_bytes\n",
            "    self._send(header + buf)\n",
            "  File \"/usr/lib/python3.7/multiprocessing/connection.py\", line 368, in _send\n",
            "    n = write(self._handle, buf)\n",
            "BrokenPipeError: [Errno 32] Broken pipe\n",
            "  0%|          | 0/391 [00:00<?, ?it/s]"
          ],
          "name": "stderr"
        },
        {
          "output_type": "stream",
          "text": [
            "\n",
            "Test set: Average loss: 0.0086, Accuracy: 6071/10000 (60.71%)\n",
            "\n",
            "\n",
            "EPOCH:  5 LR:  [0.01]\n"
          ],
          "name": "stdout"
        },
        {
          "output_type": "stream",
          "text": [
            "Train set: batch_id=390  Average loss: 1.3808786869049072 Accuracy: 53.624: 100%|██████████| 391/391 [00:10<00:00, 35.56it/s]\n"
          ],
          "name": "stderr"
        },
        {
          "output_type": "stream",
          "text": [
            "Validation loss has  decreased from 0.0083 to 0.0082. Saving the model\n"
          ],
          "name": "stdout"
        },
        {
          "output_type": "stream",
          "text": [
            "\r  0%|          | 0/391 [00:00<?, ?it/s]"
          ],
          "name": "stderr"
        },
        {
          "output_type": "stream",
          "text": [
            "\n",
            "Test set: Average loss: 0.0082, Accuracy: 6323/10000 (63.23%)\n",
            "\n",
            "\n",
            "EPOCH:  6 LR:  [0.01]\n"
          ],
          "name": "stdout"
        },
        {
          "output_type": "stream",
          "text": [
            "Train set: batch_id=390  Average loss: 1.1238958835601807 Accuracy: 55.83: 100%|██████████| 391/391 [00:11<00:00, 35.17it/s]\n"
          ],
          "name": "stderr"
        },
        {
          "output_type": "stream",
          "text": [
            "Validation loss has  decreased from 0.0082 to 0.0078. Saving the model\n"
          ],
          "name": "stdout"
        },
        {
          "output_type": "stream",
          "text": [
            "\r  0%|          | 0/391 [00:00<?, ?it/s]"
          ],
          "name": "stderr"
        },
        {
          "output_type": "stream",
          "text": [
            "\n",
            "Test set: Average loss: 0.0078, Accuracy: 6467/10000 (64.67%)\n",
            "\n",
            "\n",
            "EPOCH:  7 LR:  [0.01]\n"
          ],
          "name": "stdout"
        },
        {
          "output_type": "stream",
          "text": [
            "Train set: batch_id=390  Average loss: 1.2141258716583252 Accuracy: 57.294: 100%|██████████| 391/391 [00:11<00:00, 34.90it/s]\n"
          ],
          "name": "stderr"
        },
        {
          "output_type": "stream",
          "text": [
            "Validation loss has  decreased from 0.0078 to 0.0073. Saving the model\n"
          ],
          "name": "stdout"
        },
        {
          "output_type": "stream",
          "text": [
            "\r  0%|          | 0/391 [00:00<?, ?it/s]"
          ],
          "name": "stderr"
        },
        {
          "output_type": "stream",
          "text": [
            "\n",
            "Test set: Average loss: 0.0073, Accuracy: 6768/10000 (67.68%)\n",
            "\n",
            "\n",
            "EPOCH:  8 LR:  [0.005]\n"
          ],
          "name": "stdout"
        },
        {
          "output_type": "stream",
          "text": [
            "Train set: batch_id=390  Average loss: 1.2461849451065063 Accuracy: 58.672: 100%|██████████| 391/391 [00:11<00:00, 35.08it/s]\n",
            "  0%|          | 0/391 [00:00<?, ?it/s]"
          ],
          "name": "stderr"
        },
        {
          "output_type": "stream",
          "text": [
            "\n",
            "Test set: Average loss: 0.0081, Accuracy: 6387/10000 (63.87%)\n",
            "\n",
            "\n",
            "EPOCH:  9 LR:  [0.005]\n"
          ],
          "name": "stdout"
        },
        {
          "output_type": "stream",
          "text": [
            "Train set: batch_id=390  Average loss: 1.309148907661438 Accuracy: 60.086: 100%|██████████| 391/391 [00:11<00:00, 34.82it/s]\n"
          ],
          "name": "stderr"
        },
        {
          "output_type": "stream",
          "text": [
            "Validation loss has  decreased from 0.0073 to 0.0069. Saving the model\n"
          ],
          "name": "stdout"
        },
        {
          "output_type": "stream",
          "text": [
            "\r  0%|          | 0/391 [00:00<?, ?it/s]"
          ],
          "name": "stderr"
        },
        {
          "output_type": "stream",
          "text": [
            "\n",
            "Test set: Average loss: 0.0069, Accuracy: 6955/10000 (69.55%)\n",
            "\n",
            "\n",
            "EPOCH:  10 LR:  [0.005]\n"
          ],
          "name": "stdout"
        },
        {
          "output_type": "stream",
          "text": [
            "Train set: batch_id=390  Average loss: 1.0920722484588623 Accuracy: 61.11: 100%|██████████| 391/391 [00:11<00:00, 35.03it/s]\n",
            "  0%|          | 0/391 [00:00<?, ?it/s]"
          ],
          "name": "stderr"
        },
        {
          "output_type": "stream",
          "text": [
            "\n",
            "Test set: Average loss: 0.0070, Accuracy: 6903/10000 (69.03%)\n",
            "\n",
            "\n",
            "EPOCH:  11 LR:  [0.005]\n"
          ],
          "name": "stdout"
        },
        {
          "output_type": "stream",
          "text": [
            "Train set: batch_id=390  Average loss: 1.0626318454742432 Accuracy: 61.998: 100%|██████████| 391/391 [00:11<00:00, 35.09it/s]\n"
          ],
          "name": "stderr"
        },
        {
          "output_type": "stream",
          "text": [
            "Validation loss has  decreased from 0.0069 to 0.0066. Saving the model\n"
          ],
          "name": "stdout"
        },
        {
          "output_type": "stream",
          "text": [
            "\r  0%|          | 0/391 [00:00<?, ?it/s]"
          ],
          "name": "stderr"
        },
        {
          "output_type": "stream",
          "text": [
            "\n",
            "Test set: Average loss: 0.0066, Accuracy: 6993/10000 (69.93%)\n",
            "\n",
            "\n",
            "EPOCH:  12 LR:  [0.005]\n"
          ],
          "name": "stdout"
        },
        {
          "output_type": "stream",
          "text": [
            "Train set: batch_id=390  Average loss: 1.0298371315002441 Accuracy: 62.638: 100%|██████████| 391/391 [00:11<00:00, 34.55it/s]\n",
            "  0%|          | 0/391 [00:00<?, ?it/s]"
          ],
          "name": "stderr"
        },
        {
          "output_type": "stream",
          "text": [
            "\n",
            "Test set: Average loss: 0.0068, Accuracy: 6958/10000 (69.58%)\n",
            "\n",
            "\n",
            "EPOCH:  13 LR:  [0.005]\n"
          ],
          "name": "stdout"
        },
        {
          "output_type": "stream",
          "text": [
            "Train set: batch_id=390  Average loss: 0.9759451150894165 Accuracy: 63.134: 100%|██████████| 391/391 [00:11<00:00, 34.90it/s]\n"
          ],
          "name": "stderr"
        },
        {
          "output_type": "stream",
          "text": [
            "Validation loss has  decreased from 0.0066 to 0.0062. Saving the model\n"
          ],
          "name": "stdout"
        },
        {
          "output_type": "stream",
          "text": [
            "\r  0%|          | 0/391 [00:00<?, ?it/s]"
          ],
          "name": "stderr"
        },
        {
          "output_type": "stream",
          "text": [
            "\n",
            "Test set: Average loss: 0.0062, Accuracy: 7286/10000 (72.86%)\n",
            "\n",
            "\n",
            "EPOCH:  14 LR:  [0.005]\n"
          ],
          "name": "stdout"
        },
        {
          "output_type": "stream",
          "text": [
            "Train set: batch_id=390  Average loss: 0.8876146078109741 Accuracy: 64.22: 100%|██████████| 391/391 [00:11<00:00, 34.99it/s]\n"
          ],
          "name": "stderr"
        },
        {
          "output_type": "stream",
          "text": [
            "Validation loss has  decreased from 0.0062 to 0.0059. Saving the model\n"
          ],
          "name": "stdout"
        },
        {
          "output_type": "stream",
          "text": [
            "\r  0%|          | 0/391 [00:00<?, ?it/s]"
          ],
          "name": "stderr"
        },
        {
          "output_type": "stream",
          "text": [
            "\n",
            "Test set: Average loss: 0.0059, Accuracy: 7422/10000 (74.22%)\n",
            "\n",
            "\n",
            "EPOCH:  15 LR:  [0.0025]\n"
          ],
          "name": "stdout"
        },
        {
          "output_type": "stream",
          "text": [
            "Train set: batch_id=390  Average loss: 1.1747570037841797 Accuracy: 64.65: 100%|██████████| 391/391 [00:10<00:00, 35.68it/s]\n",
            "  0%|          | 0/391 [00:00<?, ?it/s]"
          ],
          "name": "stderr"
        },
        {
          "output_type": "stream",
          "text": [
            "\n",
            "Test set: Average loss: 0.0059, Accuracy: 7359/10000 (73.59%)\n",
            "\n",
            "\n",
            "EPOCH:  16 LR:  [0.0025]\n"
          ],
          "name": "stdout"
        },
        {
          "output_type": "stream",
          "text": [
            "Train set: batch_id=390  Average loss: 1.1036765575408936 Accuracy: 65.368: 100%|██████████| 391/391 [00:11<00:00, 34.96it/s]\n"
          ],
          "name": "stderr"
        },
        {
          "output_type": "stream",
          "text": [
            "Validation loss has  decreased from 0.0059 to 0.0057. Saving the model\n"
          ],
          "name": "stdout"
        },
        {
          "output_type": "stream",
          "text": [
            "\r  0%|          | 0/391 [00:00<?, ?it/s]"
          ],
          "name": "stderr"
        },
        {
          "output_type": "stream",
          "text": [
            "\n",
            "Test set: Average loss: 0.0057, Accuracy: 7541/10000 (75.41%)\n",
            "\n",
            "\n",
            "EPOCH:  17 LR:  [0.0025]\n"
          ],
          "name": "stdout"
        },
        {
          "output_type": "stream",
          "text": [
            "Train set: batch_id=390  Average loss: 0.8192383050918579 Accuracy: 66.006: 100%|██████████| 391/391 [00:11<00:00, 35.00it/s]\n"
          ],
          "name": "stderr"
        },
        {
          "output_type": "stream",
          "text": [
            "Validation loss has  decreased from 0.0057 to 0.0056. Saving the model\n"
          ],
          "name": "stdout"
        },
        {
          "output_type": "stream",
          "text": [
            "\r  0%|          | 0/391 [00:00<?, ?it/s]"
          ],
          "name": "stderr"
        },
        {
          "output_type": "stream",
          "text": [
            "\n",
            "Test set: Average loss: 0.0056, Accuracy: 7558/10000 (75.58%)\n",
            "\n",
            "\n",
            "EPOCH:  18 LR:  [0.0025]\n"
          ],
          "name": "stdout"
        },
        {
          "output_type": "stream",
          "text": [
            "Train set: batch_id=390  Average loss: 0.9629412889480591 Accuracy: 65.908: 100%|██████████| 391/391 [00:11<00:00, 34.94it/s]\n"
          ],
          "name": "stderr"
        },
        {
          "output_type": "stream",
          "text": [
            "Validation loss has  decreased from 0.0056 to 0.0054. Saving the model\n"
          ],
          "name": "stdout"
        },
        {
          "output_type": "stream",
          "text": [
            "\r  0%|          | 0/391 [00:00<?, ?it/s]"
          ],
          "name": "stderr"
        },
        {
          "output_type": "stream",
          "text": [
            "\n",
            "Test set: Average loss: 0.0054, Accuracy: 7619/10000 (76.19%)\n",
            "\n",
            "\n",
            "EPOCH:  19 LR:  [0.0025]\n"
          ],
          "name": "stdout"
        },
        {
          "output_type": "stream",
          "text": [
            "Train set: batch_id=390  Average loss: 0.9910710453987122 Accuracy: 66.472: 100%|██████████| 391/391 [00:11<00:00, 34.65it/s]\n",
            "Traceback (most recent call last):\n",
            "  File \"/usr/lib/python3.7/multiprocessing/queues.py\", line 242, in _feed\n",
            "    send_bytes(obj)\n",
            "  File \"/usr/lib/python3.7/multiprocessing/connection.py\", line 200, in send_bytes\n",
            "    self._send_bytes(m[offset:offset + size])\n",
            "  File \"/usr/lib/python3.7/multiprocessing/connection.py\", line 404, in _send_bytes\n",
            "    self._send(header + buf)\n",
            "  File \"/usr/lib/python3.7/multiprocessing/connection.py\", line 368, in _send\n",
            "    n = write(self._handle, buf)\n",
            "BrokenPipeError: [Errno 32] Broken pipe\n",
            "  0%|          | 0/391 [00:00<?, ?it/s]"
          ],
          "name": "stderr"
        },
        {
          "output_type": "stream",
          "text": [
            "\n",
            "Test set: Average loss: 0.0054, Accuracy: 7576/10000 (75.76%)\n",
            "\n",
            "\n",
            "EPOCH:  20 LR:  [0.0025]\n"
          ],
          "name": "stdout"
        },
        {
          "output_type": "stream",
          "text": [
            "Train set: batch_id=390  Average loss: 1.054401159286499 Accuracy: 66.566: 100%|██████████| 391/391 [00:11<00:00, 35.23it/s]\n"
          ],
          "name": "stderr"
        },
        {
          "output_type": "stream",
          "text": [
            "Validation loss has  decreased from 0.0054 to 0.0053. Saving the model\n"
          ],
          "name": "stdout"
        },
        {
          "output_type": "stream",
          "text": [
            "\r  0%|          | 0/391 [00:00<?, ?it/s]"
          ],
          "name": "stderr"
        },
        {
          "output_type": "stream",
          "text": [
            "\n",
            "Test set: Average loss: 0.0053, Accuracy: 7688/10000 (76.88%)\n",
            "\n",
            "\n",
            "EPOCH:  21 LR:  [0.0025]\n"
          ],
          "name": "stdout"
        },
        {
          "output_type": "stream",
          "text": [
            "Train set: batch_id=390  Average loss: 1.1086504459381104 Accuracy: 67.052: 100%|██████████| 391/391 [00:11<00:00, 34.53it/s]\n",
            "  0%|          | 0/391 [00:00<?, ?it/s]"
          ],
          "name": "stderr"
        },
        {
          "output_type": "stream",
          "text": [
            "\n",
            "Test set: Average loss: 0.0053, Accuracy: 7645/10000 (76.45%)\n",
            "\n",
            "\n",
            "EPOCH:  22 LR:  [0.00125]\n"
          ],
          "name": "stdout"
        },
        {
          "output_type": "stream",
          "text": [
            "Train set: batch_id=390  Average loss: 0.8655682802200317 Accuracy: 67.472: 100%|██████████| 391/391 [00:11<00:00, 34.73it/s]\n",
            "  0%|          | 0/391 [00:00<?, ?it/s]"
          ],
          "name": "stderr"
        },
        {
          "output_type": "stream",
          "text": [
            "\n",
            "Test set: Average loss: 0.0058, Accuracy: 7486/10000 (74.86%)\n",
            "\n",
            "\n",
            "EPOCH:  23 LR:  [0.00125]\n"
          ],
          "name": "stdout"
        },
        {
          "output_type": "stream",
          "text": [
            "Train set: batch_id=390  Average loss: 0.7647688388824463 Accuracy: 67.842: 100%|██████████| 391/391 [00:11<00:00, 34.67it/s]\n",
            "  0%|          | 0/391 [00:00<?, ?it/s]"
          ],
          "name": "stderr"
        },
        {
          "output_type": "stream",
          "text": [
            "\n",
            "Test set: Average loss: 0.0054, Accuracy: 7662/10000 (76.62%)\n",
            "\n",
            "\n",
            "EPOCH:  24 LR:  [0.00125]\n"
          ],
          "name": "stdout"
        },
        {
          "output_type": "stream",
          "text": [
            "Train set: batch_id=390  Average loss: 0.8937781453132629 Accuracy: 67.746: 100%|██████████| 391/391 [00:11<00:00, 34.58it/s]\n"
          ],
          "name": "stderr"
        },
        {
          "output_type": "stream",
          "text": [
            "Validation loss has  decreased from 0.0053 to 0.0052. Saving the model\n"
          ],
          "name": "stdout"
        },
        {
          "output_type": "stream",
          "text": [
            "\r  0%|          | 0/391 [00:00<?, ?it/s]"
          ],
          "name": "stderr"
        },
        {
          "output_type": "stream",
          "text": [
            "\n",
            "Test set: Average loss: 0.0052, Accuracy: 7764/10000 (77.64%)\n",
            "\n",
            "\n",
            "EPOCH:  25 LR:  [0.00125]\n"
          ],
          "name": "stdout"
        },
        {
          "output_type": "stream",
          "text": [
            "Train set: batch_id=390  Average loss: 1.234517216682434 Accuracy: 68.122: 100%|██████████| 391/391 [00:11<00:00, 35.01it/s]\n"
          ],
          "name": "stderr"
        },
        {
          "output_type": "stream",
          "text": [
            "Validation loss has  decreased from 0.0052 to 0.005. Saving the model\n"
          ],
          "name": "stdout"
        },
        {
          "output_type": "stream",
          "text": [
            "\r  0%|          | 0/391 [00:00<?, ?it/s]"
          ],
          "name": "stderr"
        },
        {
          "output_type": "stream",
          "text": [
            "\n",
            "Test set: Average loss: 0.0050, Accuracy: 7790/10000 (77.90%)\n",
            "\n",
            "\n",
            "EPOCH:  26 LR:  [0.00125]\n"
          ],
          "name": "stdout"
        },
        {
          "output_type": "stream",
          "text": [
            "Train set: batch_id=390  Average loss: 1.0281951427459717 Accuracy: 68.508: 100%|██████████| 391/391 [00:11<00:00, 34.56it/s]\n"
          ],
          "name": "stderr"
        },
        {
          "output_type": "stream",
          "text": [
            "Validation loss has  decreased from 0.005 to 0.005. Saving the model\n"
          ],
          "name": "stdout"
        },
        {
          "output_type": "stream",
          "text": [
            "\r  0%|          | 0/391 [00:00<?, ?it/s]"
          ],
          "name": "stderr"
        },
        {
          "output_type": "stream",
          "text": [
            "\n",
            "Test set: Average loss: 0.0050, Accuracy: 7861/10000 (78.61%)\n",
            "\n",
            "\n",
            "EPOCH:  27 LR:  [0.00125]\n"
          ],
          "name": "stdout"
        },
        {
          "output_type": "stream",
          "text": [
            "Train set: batch_id=390  Average loss: 0.836329460144043 Accuracy: 68.766: 100%|██████████| 391/391 [00:11<00:00, 34.67it/s]\n",
            "  0%|          | 0/391 [00:00<?, ?it/s]"
          ],
          "name": "stderr"
        },
        {
          "output_type": "stream",
          "text": [
            "\n",
            "Test set: Average loss: 0.0052, Accuracy: 7752/10000 (77.52%)\n",
            "\n",
            "\n",
            "EPOCH:  28 LR:  [0.00125]\n"
          ],
          "name": "stdout"
        },
        {
          "output_type": "stream",
          "text": [
            "Train set: batch_id=390  Average loss: 0.8713458180427551 Accuracy: 69.1: 100%|██████████| 391/391 [00:11<00:00, 34.81it/s]\n",
            "  0%|          | 0/391 [00:00<?, ?it/s]"
          ],
          "name": "stderr"
        },
        {
          "output_type": "stream",
          "text": [
            "\n",
            "Test set: Average loss: 0.0051, Accuracy: 7792/10000 (77.92%)\n",
            "\n",
            "\n",
            "EPOCH:  29 LR:  [0.000625]\n"
          ],
          "name": "stdout"
        },
        {
          "output_type": "stream",
          "text": [
            "Train set: batch_id=390  Average loss: 0.9135953783988953 Accuracy: 69.144: 100%|██████████| 391/391 [00:11<00:00, 34.66it/s]\n"
          ],
          "name": "stderr"
        },
        {
          "output_type": "stream",
          "text": [
            "Validation loss has  decreased from 0.005 to 0.0049. Saving the model\n"
          ],
          "name": "stdout"
        },
        {
          "output_type": "stream",
          "text": [
            "\r  0%|          | 0/391 [00:00<?, ?it/s]"
          ],
          "name": "stderr"
        },
        {
          "output_type": "stream",
          "text": [
            "\n",
            "Test set: Average loss: 0.0049, Accuracy: 7900/10000 (79.00%)\n",
            "\n",
            "\n",
            "EPOCH:  30 LR:  [0.000625]\n"
          ],
          "name": "stdout"
        },
        {
          "output_type": "stream",
          "text": [
            "Train set: batch_id=390  Average loss: 0.8505711555480957 Accuracy: 69.748: 100%|██████████| 391/391 [00:11<00:00, 34.52it/s]\n",
            "  0%|          | 0/391 [00:00<?, ?it/s]"
          ],
          "name": "stderr"
        },
        {
          "output_type": "stream",
          "text": [
            "\n",
            "Test set: Average loss: 0.0052, Accuracy: 7808/10000 (78.08%)\n",
            "\n",
            "\n",
            "EPOCH:  31 LR:  [0.000625]\n"
          ],
          "name": "stdout"
        },
        {
          "output_type": "stream",
          "text": [
            "Train set: batch_id=390  Average loss: 0.8775336146354675 Accuracy: 69.604: 100%|██████████| 391/391 [00:11<00:00, 34.01it/s]\n"
          ],
          "name": "stderr"
        },
        {
          "output_type": "stream",
          "text": [
            "Validation loss has  decreased from 0.0049 to 0.0049. Saving the model\n"
          ],
          "name": "stdout"
        },
        {
          "output_type": "stream",
          "text": [
            "\r  0%|          | 0/391 [00:00<?, ?it/s]"
          ],
          "name": "stderr"
        },
        {
          "output_type": "stream",
          "text": [
            "\n",
            "Test set: Average loss: 0.0049, Accuracy: 7899/10000 (78.99%)\n",
            "\n",
            "\n",
            "EPOCH:  32 LR:  [0.000625]\n"
          ],
          "name": "stdout"
        },
        {
          "output_type": "stream",
          "text": [
            "Train set: batch_id=390  Average loss: 0.9120426177978516 Accuracy: 69.93: 100%|██████████| 391/391 [00:11<00:00, 33.96it/s]\n",
            "  0%|          | 0/391 [00:00<?, ?it/s]"
          ],
          "name": "stderr"
        },
        {
          "output_type": "stream",
          "text": [
            "\n",
            "Test set: Average loss: 0.0050, Accuracy: 7885/10000 (78.85%)\n",
            "\n",
            "\n",
            "EPOCH:  33 LR:  [0.000625]\n"
          ],
          "name": "stdout"
        },
        {
          "output_type": "stream",
          "text": [
            "Train set: batch_id=390  Average loss: 0.918443500995636 Accuracy: 70.014: 100%|██████████| 391/391 [00:11<00:00, 34.68it/s]\n"
          ],
          "name": "stderr"
        },
        {
          "output_type": "stream",
          "text": [
            "Validation loss has  decreased from 0.0049 to 0.0047. Saving the model\n"
          ],
          "name": "stdout"
        },
        {
          "output_type": "stream",
          "text": [
            "\r  0%|          | 0/391 [00:00<?, ?it/s]"
          ],
          "name": "stderr"
        },
        {
          "output_type": "stream",
          "text": [
            "\n",
            "Test set: Average loss: 0.0047, Accuracy: 7914/10000 (79.14%)\n",
            "\n",
            "\n",
            "EPOCH:  34 LR:  [0.000625]\n"
          ],
          "name": "stdout"
        },
        {
          "output_type": "stream",
          "text": [
            "Train set: batch_id=390  Average loss: 0.8474190831184387 Accuracy: 70.16: 100%|██████████| 391/391 [00:11<00:00, 34.40it/s]\n",
            "  0%|          | 0/391 [00:00<?, ?it/s]"
          ],
          "name": "stderr"
        },
        {
          "output_type": "stream",
          "text": [
            "\n",
            "Test set: Average loss: 0.0048, Accuracy: 7904/10000 (79.04%)\n",
            "\n",
            "\n",
            "EPOCH:  35 LR:  [0.000625]\n"
          ],
          "name": "stdout"
        },
        {
          "output_type": "stream",
          "text": [
            "Train set: batch_id=390  Average loss: 1.1125233173370361 Accuracy: 70.388: 100%|██████████| 391/391 [00:11<00:00, 34.48it/s]\n",
            "  0%|          | 0/391 [00:00<?, ?it/s]"
          ],
          "name": "stderr"
        },
        {
          "output_type": "stream",
          "text": [
            "\n",
            "Test set: Average loss: 0.0047, Accuracy: 7971/10000 (79.71%)\n",
            "\n",
            "\n",
            "EPOCH:  36 LR:  [0.0003125]\n"
          ],
          "name": "stdout"
        },
        {
          "output_type": "stream",
          "text": [
            "Train set: batch_id=390  Average loss: 0.9031804203987122 Accuracy: 70.714: 100%|██████████| 391/391 [00:11<00:00, 34.21it/s]\n",
            "  0%|          | 0/391 [00:00<?, ?it/s]"
          ],
          "name": "stderr"
        },
        {
          "output_type": "stream",
          "text": [
            "\n",
            "Test set: Average loss: 0.0049, Accuracy: 7894/10000 (78.94%)\n",
            "\n",
            "\n",
            "EPOCH:  37 LR:  [0.0003125]\n"
          ],
          "name": "stdout"
        },
        {
          "output_type": "stream",
          "text": [
            "Train set: batch_id=390  Average loss: 0.9921013116836548 Accuracy: 70.5: 100%|██████████| 391/391 [00:11<00:00, 33.80it/s]\n",
            "  0%|          | 0/391 [00:00<?, ?it/s]"
          ],
          "name": "stderr"
        },
        {
          "output_type": "stream",
          "text": [
            "\n",
            "Test set: Average loss: 0.0047, Accuracy: 7937/10000 (79.37%)\n",
            "\n",
            "\n",
            "EPOCH:  38 LR:  [0.0003125]\n"
          ],
          "name": "stdout"
        },
        {
          "output_type": "stream",
          "text": [
            "Train set: batch_id=390  Average loss: 0.6488890051841736 Accuracy: 70.608: 100%|██████████| 391/391 [00:11<00:00, 34.36it/s]\n",
            "  0%|          | 0/391 [00:00<?, ?it/s]"
          ],
          "name": "stderr"
        },
        {
          "output_type": "stream",
          "text": [
            "\n",
            "Test set: Average loss: 0.0050, Accuracy: 7810/10000 (78.10%)\n",
            "\n",
            "\n",
            "EPOCH:  39 LR:  [0.0003125]\n"
          ],
          "name": "stdout"
        },
        {
          "output_type": "stream",
          "text": [
            "Train set: batch_id=390  Average loss: 0.8991101384162903 Accuracy: 71.124: 100%|██████████| 391/391 [00:11<00:00, 34.44it/s]\n"
          ],
          "name": "stderr"
        },
        {
          "output_type": "stream",
          "text": [
            "Validation loss has  decreased from 0.0047 to 0.0046. Saving the model\n"
          ],
          "name": "stdout"
        },
        {
          "output_type": "stream",
          "text": [
            "\r  0%|          | 0/391 [00:00<?, ?it/s]"
          ],
          "name": "stderr"
        },
        {
          "output_type": "stream",
          "text": [
            "\n",
            "Test set: Average loss: 0.0046, Accuracy: 8008/10000 (80.08%)\n",
            "\n",
            "\n",
            "EPOCH:  40 LR:  [0.0003125]\n"
          ],
          "name": "stdout"
        },
        {
          "output_type": "stream",
          "text": [
            "Train set: batch_id=390  Average loss: 0.7395986318588257 Accuracy: 71.198: 100%|██████████| 391/391 [00:11<00:00, 34.61it/s]\n"
          ],
          "name": "stderr"
        },
        {
          "output_type": "stream",
          "text": [
            "Validation loss has  decreased from 0.0046 to 0.0045. Saving the model\n"
          ],
          "name": "stdout"
        },
        {
          "output_type": "stream",
          "text": [
            "\r  0%|          | 0/391 [00:00<?, ?it/s]"
          ],
          "name": "stderr"
        },
        {
          "output_type": "stream",
          "text": [
            "\n",
            "Test set: Average loss: 0.0045, Accuracy: 8064/10000 (80.64%)\n",
            "\n",
            "\n",
            "EPOCH:  41 LR:  [0.0003125]\n"
          ],
          "name": "stdout"
        },
        {
          "output_type": "stream",
          "text": [
            "Train set: batch_id=390  Average loss: 0.6863176822662354 Accuracy: 71.36: 100%|██████████| 391/391 [00:11<00:00, 34.24it/s]\n",
            "  0%|          | 0/391 [00:00<?, ?it/s]"
          ],
          "name": "stderr"
        },
        {
          "output_type": "stream",
          "text": [
            "\n",
            "Test set: Average loss: 0.0046, Accuracy: 8035/10000 (80.35%)\n",
            "\n",
            "\n",
            "EPOCH:  42 LR:  [0.0003125]\n"
          ],
          "name": "stdout"
        },
        {
          "output_type": "stream",
          "text": [
            "Train set: batch_id=390  Average loss: 0.6401492357254028 Accuracy: 71.302: 100%|██████████| 391/391 [00:11<00:00, 34.17it/s]\n",
            "  0%|          | 0/391 [00:00<?, ?it/s]"
          ],
          "name": "stderr"
        },
        {
          "output_type": "stream",
          "text": [
            "\n",
            "Test set: Average loss: 0.0046, Accuracy: 8003/10000 (80.03%)\n",
            "\n",
            "\n",
            "EPOCH:  43 LR:  [0.00015625]\n"
          ],
          "name": "stdout"
        },
        {
          "output_type": "stream",
          "text": [
            "Train set: batch_id=390  Average loss: 0.9778555035591125 Accuracy: 71.468: 100%|██████████| 391/391 [00:11<00:00, 34.29it/s]\n",
            "  0%|          | 0/391 [00:00<?, ?it/s]"
          ],
          "name": "stderr"
        },
        {
          "output_type": "stream",
          "text": [
            "\n",
            "Test set: Average loss: 0.0046, Accuracy: 8032/10000 (80.32%)\n",
            "\n",
            "\n",
            "EPOCH:  44 LR:  [0.00015625]\n"
          ],
          "name": "stdout"
        },
        {
          "output_type": "stream",
          "text": [
            "Train set: batch_id=390  Average loss: 0.7893295884132385 Accuracy: 72.088: 100%|██████████| 391/391 [00:11<00:00, 33.57it/s]\n"
          ],
          "name": "stderr"
        },
        {
          "output_type": "stream",
          "text": [
            "Validation loss has  decreased from 0.0045 to 0.0044. Saving the model\n"
          ],
          "name": "stdout"
        },
        {
          "output_type": "stream",
          "text": [
            "\r  0%|          | 0/391 [00:00<?, ?it/s]"
          ],
          "name": "stderr"
        },
        {
          "output_type": "stream",
          "text": [
            "\n",
            "Test set: Average loss: 0.0044, Accuracy: 8074/10000 (80.74%)\n",
            "\n",
            "\n",
            "EPOCH:  45 LR:  [0.00015625]\n"
          ],
          "name": "stdout"
        },
        {
          "output_type": "stream",
          "text": [
            "Train set: batch_id=390  Average loss: 0.8204591870307922 Accuracy: 71.94: 100%|██████████| 391/391 [00:11<00:00, 34.30it/s]\n",
            "  0%|          | 0/391 [00:00<?, ?it/s]"
          ],
          "name": "stderr"
        },
        {
          "output_type": "stream",
          "text": [
            "\n",
            "Test set: Average loss: 0.0045, Accuracy: 8069/10000 (80.69%)\n",
            "\n",
            "\n",
            "EPOCH:  46 LR:  [0.00015625]\n"
          ],
          "name": "stdout"
        },
        {
          "output_type": "stream",
          "text": [
            "Train set: batch_id=390  Average loss: 0.8517694473266602 Accuracy: 71.838: 100%|██████████| 391/391 [00:11<00:00, 34.01it/s]\n",
            "  0%|          | 0/391 [00:00<?, ?it/s]"
          ],
          "name": "stderr"
        },
        {
          "output_type": "stream",
          "text": [
            "\n",
            "Test set: Average loss: 0.0045, Accuracy: 8071/10000 (80.71%)\n",
            "\n",
            "\n",
            "EPOCH:  47 LR:  [0.00015625]\n"
          ],
          "name": "stdout"
        },
        {
          "output_type": "stream",
          "text": [
            "Train set: batch_id=390  Average loss: 0.5805330276489258 Accuracy: 71.876: 100%|██████████| 391/391 [00:11<00:00, 33.94it/s]\n"
          ],
          "name": "stderr"
        },
        {
          "output_type": "stream",
          "text": [
            "Validation loss has  decreased from 0.0044 to 0.0044. Saving the model\n"
          ],
          "name": "stdout"
        },
        {
          "output_type": "stream",
          "text": [
            "\r  0%|          | 0/391 [00:00<?, ?it/s]"
          ],
          "name": "stderr"
        },
        {
          "output_type": "stream",
          "text": [
            "\n",
            "Test set: Average loss: 0.0044, Accuracy: 8152/10000 (81.52%)\n",
            "\n",
            "\n",
            "EPOCH:  48 LR:  [0.00015625]\n"
          ],
          "name": "stdout"
        },
        {
          "output_type": "stream",
          "text": [
            "Train set: batch_id=390  Average loss: 0.7011325359344482 Accuracy: 72.034: 100%|██████████| 391/391 [00:11<00:00, 34.15it/s]\n"
          ],
          "name": "stderr"
        },
        {
          "output_type": "stream",
          "text": [
            "Validation loss has  decreased from 0.0044 to 0.0043. Saving the model\n"
          ],
          "name": "stdout"
        },
        {
          "output_type": "stream",
          "text": [
            "\r  0%|          | 0/391 [00:00<?, ?it/s]"
          ],
          "name": "stderr"
        },
        {
          "output_type": "stream",
          "text": [
            "\n",
            "Test set: Average loss: 0.0043, Accuracy: 8111/10000 (81.11%)\n",
            "\n",
            "\n",
            "EPOCH:  49 LR:  [0.00015625]\n"
          ],
          "name": "stdout"
        },
        {
          "output_type": "stream",
          "text": [
            "Train set: batch_id=390  Average loss: 1.0599364042282104 Accuracy: 71.956: 100%|██████████| 391/391 [00:11<00:00, 33.60it/s]\n",
            "  0%|          | 0/391 [00:00<?, ?it/s]"
          ],
          "name": "stderr"
        },
        {
          "output_type": "stream",
          "text": [
            "\n",
            "Test set: Average loss: 0.0046, Accuracy: 7998/10000 (79.98%)\n",
            "\n",
            "\n",
            "EPOCH:  50 LR:  [7.8125e-05]\n"
          ],
          "name": "stdout"
        },
        {
          "output_type": "stream",
          "text": [
            "Train set: batch_id=390  Average loss: 1.0338435173034668 Accuracy: 72.616: 100%|██████████| 391/391 [00:11<00:00, 34.00it/s]\n",
            "  0%|          | 0/391 [00:00<?, ?it/s]"
          ],
          "name": "stderr"
        },
        {
          "output_type": "stream",
          "text": [
            "\n",
            "Test set: Average loss: 0.0043, Accuracy: 8129/10000 (81.29%)\n",
            "\n",
            "\n",
            "EPOCH:  51 LR:  [7.8125e-05]\n"
          ],
          "name": "stdout"
        },
        {
          "output_type": "stream",
          "text": [
            "Train set: batch_id=390  Average loss: 0.6606529951095581 Accuracy: 71.998: 100%|██████████| 391/391 [00:11<00:00, 33.96it/s]\n"
          ],
          "name": "stderr"
        },
        {
          "output_type": "stream",
          "text": [
            "Validation loss has  decreased from 0.0043 to 0.0042. Saving the model\n"
          ],
          "name": "stdout"
        },
        {
          "output_type": "stream",
          "text": [
            "\r  0%|          | 0/391 [00:00<?, ?it/s]"
          ],
          "name": "stderr"
        },
        {
          "output_type": "stream",
          "text": [
            "\n",
            "Test set: Average loss: 0.0042, Accuracy: 8110/10000 (81.10%)\n",
            "\n",
            "\n",
            "EPOCH:  52 LR:  [7.8125e-05]\n"
          ],
          "name": "stdout"
        },
        {
          "output_type": "stream",
          "text": [
            "Train set: batch_id=390  Average loss: 0.7329553365707397 Accuracy: 72.442: 100%|██████████| 391/391 [00:11<00:00, 33.83it/s]\n"
          ],
          "name": "stderr"
        },
        {
          "output_type": "stream",
          "text": [
            "Validation loss has  decreased from 0.0042 to 0.0042. Saving the model\n"
          ],
          "name": "stdout"
        },
        {
          "output_type": "stream",
          "text": [
            "\r  0%|          | 0/391 [00:00<?, ?it/s]"
          ],
          "name": "stderr"
        },
        {
          "output_type": "stream",
          "text": [
            "\n",
            "Test set: Average loss: 0.0042, Accuracy: 8186/10000 (81.86%)\n",
            "\n",
            "\n",
            "EPOCH:  53 LR:  [7.8125e-05]\n"
          ],
          "name": "stdout"
        },
        {
          "output_type": "stream",
          "text": [
            "Train set: batch_id=390  Average loss: 0.7156457304954529 Accuracy: 72.692: 100%|██████████| 391/391 [00:11<00:00, 34.06it/s]\n",
            "  0%|          | 0/391 [00:00<?, ?it/s]"
          ],
          "name": "stderr"
        },
        {
          "output_type": "stream",
          "text": [
            "\n",
            "Test set: Average loss: 0.0043, Accuracy: 8123/10000 (81.23%)\n",
            "\n",
            "\n",
            "EPOCH:  54 LR:  [7.8125e-05]\n"
          ],
          "name": "stdout"
        },
        {
          "output_type": "stream",
          "text": [
            "Train set: batch_id=390  Average loss: 0.6372300982475281 Accuracy: 73.234: 100%|██████████| 391/391 [00:11<00:00, 33.76it/s]\n",
            "Traceback (most recent call last):\n"
          ],
          "name": "stderr"
        },
        {
          "output_type": "stream",
          "text": [
            "Validation loss has  decreased from 0.0042 to 0.0041. Saving the model\n"
          ],
          "name": "stdout"
        },
        {
          "output_type": "stream",
          "text": [
            "\r  0%|          | 0/391 [00:00<?, ?it/s]"
          ],
          "name": "stderr"
        },
        {
          "output_type": "stream",
          "text": [
            "\n",
            "Test set: Average loss: 0.0041, Accuracy: 8165/10000 (81.65%)\n",
            "\n",
            "\n",
            "EPOCH:  55 LR:  [7.8125e-05]\n"
          ],
          "name": "stdout"
        },
        {
          "output_type": "stream",
          "text": [
            "Train set: batch_id=390  Average loss: 0.7555563449859619 Accuracy: 72.708: 100%|██████████| 391/391 [00:11<00:00, 33.60it/s]\n",
            "  0%|          | 0/391 [00:00<?, ?it/s]"
          ],
          "name": "stderr"
        },
        {
          "output_type": "stream",
          "text": [
            "\n",
            "Test set: Average loss: 0.0043, Accuracy: 8101/10000 (81.01%)\n",
            "\n",
            "\n",
            "EPOCH:  56 LR:  [7.8125e-05]\n"
          ],
          "name": "stdout"
        },
        {
          "output_type": "stream",
          "text": [
            "Train set: batch_id=390  Average loss: 0.6176298260688782 Accuracy: 72.716: 100%|██████████| 391/391 [00:11<00:00, 34.15it/s]\n",
            "  0%|          | 0/391 [00:00<?, ?it/s]"
          ],
          "name": "stderr"
        },
        {
          "output_type": "stream",
          "text": [
            "\n",
            "Test set: Average loss: 0.0043, Accuracy: 8150/10000 (81.50%)\n",
            "\n",
            "\n",
            "EPOCH:  57 LR:  [3.90625e-05]\n"
          ],
          "name": "stdout"
        },
        {
          "output_type": "stream",
          "text": [
            "Train set: batch_id=390  Average loss: 0.6796845197677612 Accuracy: 73.112: 100%|██████████| 391/391 [00:11<00:00, 33.79it/s]\n",
            "Traceback (most recent call last):\n",
            "  File \"/usr/lib/python3.7/multiprocessing/queues.py\", line 242, in _feed\n",
            "    send_bytes(obj)\n",
            "  File \"/usr/lib/python3.7/multiprocessing/connection.py\", line 200, in send_bytes\n",
            "    self._send_bytes(m[offset:offset + size])\n",
            "  File \"/usr/lib/python3.7/multiprocessing/connection.py\", line 404, in _send_bytes\n",
            "    self._send(header + buf)\n",
            "  File \"/usr/lib/python3.7/multiprocessing/connection.py\", line 368, in _send\n",
            "    n = write(self._handle, buf)\n",
            "BrokenPipeError: [Errno 32] Broken pipe\n",
            "  0%|          | 0/391 [00:00<?, ?it/s]"
          ],
          "name": "stderr"
        },
        {
          "output_type": "stream",
          "text": [
            "\n",
            "Test set: Average loss: 0.0042, Accuracy: 8172/10000 (81.72%)\n",
            "\n",
            "\n",
            "EPOCH:  58 LR:  [3.90625e-05]\n"
          ],
          "name": "stdout"
        },
        {
          "output_type": "stream",
          "text": [
            "Train set: batch_id=390  Average loss: 0.8723943829536438 Accuracy: 73.064: 100%|██████████| 391/391 [00:11<00:00, 33.80it/s]\n",
            "  0%|          | 0/391 [00:00<?, ?it/s]"
          ],
          "name": "stderr"
        },
        {
          "output_type": "stream",
          "text": [
            "\n",
            "Test set: Average loss: 0.0042, Accuracy: 8174/10000 (81.74%)\n",
            "\n",
            "\n",
            "EPOCH:  59 LR:  [3.90625e-05]\n"
          ],
          "name": "stdout"
        },
        {
          "output_type": "stream",
          "text": [
            "Train set: batch_id=390  Average loss: 0.7204220294952393 Accuracy: 73.184: 100%|██████████| 391/391 [00:11<00:00, 33.69it/s]\n"
          ],
          "name": "stderr"
        },
        {
          "output_type": "stream",
          "text": [
            "Validation loss has  decreased from 0.0041 to 0.0041. Saving the model\n"
          ],
          "name": "stdout"
        },
        {
          "output_type": "stream",
          "text": [
            "\r  0%|          | 0/391 [00:00<?, ?it/s]"
          ],
          "name": "stderr"
        },
        {
          "output_type": "stream",
          "text": [
            "\n",
            "Test set: Average loss: 0.0041, Accuracy: 8197/10000 (81.97%)\n",
            "\n",
            "\n",
            "EPOCH:  60 LR:  [3.90625e-05]\n"
          ],
          "name": "stdout"
        },
        {
          "output_type": "stream",
          "text": [
            "Train set: batch_id=390  Average loss: 0.736437201499939 Accuracy: 73.522: 100%|██████████| 391/391 [00:11<00:00, 33.93it/s]\n",
            "  0%|          | 0/391 [00:00<?, ?it/s]"
          ],
          "name": "stderr"
        },
        {
          "output_type": "stream",
          "text": [
            "\n",
            "Test set: Average loss: 0.0043, Accuracy: 8117/10000 (81.17%)\n",
            "\n",
            "\n",
            "EPOCH:  61 LR:  [3.90625e-05]\n"
          ],
          "name": "stdout"
        },
        {
          "output_type": "stream",
          "text": [
            "Train set: batch_id=390  Average loss: 0.7346717119216919 Accuracy: 73.658: 100%|██████████| 391/391 [00:11<00:00, 33.89it/s]\n",
            "  0%|          | 0/391 [00:00<?, ?it/s]"
          ],
          "name": "stderr"
        },
        {
          "output_type": "stream",
          "text": [
            "\n",
            "Test set: Average loss: 0.0042, Accuracy: 8203/10000 (82.03%)\n",
            "\n",
            "\n",
            "EPOCH:  62 LR:  [3.90625e-05]\n"
          ],
          "name": "stdout"
        },
        {
          "output_type": "stream",
          "text": [
            "Train set: batch_id=390  Average loss: 0.8313978910446167 Accuracy: 73.382: 100%|██████████| 391/391 [00:11<00:00, 33.67it/s]\n",
            "  0%|          | 0/391 [00:00<?, ?it/s]"
          ],
          "name": "stderr"
        },
        {
          "output_type": "stream",
          "text": [
            "\n",
            "Test set: Average loss: 0.0042, Accuracy: 8199/10000 (81.99%)\n",
            "\n",
            "\n",
            "EPOCH:  63 LR:  [3.90625e-05]\n"
          ],
          "name": "stdout"
        },
        {
          "output_type": "stream",
          "text": [
            "Train set: batch_id=390  Average loss: 0.771901547908783 Accuracy: 73.302: 100%|██████████| 391/391 [00:11<00:00, 33.45it/s]\n",
            "  0%|          | 0/391 [00:00<?, ?it/s]"
          ],
          "name": "stderr"
        },
        {
          "output_type": "stream",
          "text": [
            "\n",
            "Test set: Average loss: 0.0043, Accuracy: 8154/10000 (81.54%)\n",
            "\n",
            "\n",
            "EPOCH:  64 LR:  [1.953125e-05]\n"
          ],
          "name": "stdout"
        },
        {
          "output_type": "stream",
          "text": [
            "Train set: batch_id=390  Average loss: 0.6813703775405884 Accuracy: 73.418: 100%|██████████| 391/391 [00:11<00:00, 33.29it/s]\n",
            "  0%|          | 0/391 [00:00<?, ?it/s]"
          ],
          "name": "stderr"
        },
        {
          "output_type": "stream",
          "text": [
            "\n",
            "Test set: Average loss: 0.0042, Accuracy: 8149/10000 (81.49%)\n",
            "\n",
            "\n",
            "EPOCH:  65 LR:  [1.953125e-05]\n"
          ],
          "name": "stdout"
        },
        {
          "output_type": "stream",
          "text": [
            "Train set: batch_id=390  Average loss: 0.7875052094459534 Accuracy: 73.852: 100%|██████████| 391/391 [00:11<00:00, 33.58it/s]\n"
          ],
          "name": "stderr"
        },
        {
          "output_type": "stream",
          "text": [
            "Validation loss has  decreased from 0.0041 to 0.0041. Saving the model\n"
          ],
          "name": "stdout"
        },
        {
          "output_type": "stream",
          "text": [
            "\r  0%|          | 0/391 [00:00<?, ?it/s]"
          ],
          "name": "stderr"
        },
        {
          "output_type": "stream",
          "text": [
            "\n",
            "Test set: Average loss: 0.0041, Accuracy: 8224/10000 (82.24%)\n",
            "\n",
            "\n",
            "EPOCH:  66 LR:  [1.953125e-05]\n"
          ],
          "name": "stdout"
        },
        {
          "output_type": "stream",
          "text": [
            "Train set: batch_id=390  Average loss: 0.6785708665847778 Accuracy: 73.826: 100%|██████████| 391/391 [00:11<00:00, 34.04it/s]\n",
            "  0%|          | 0/391 [00:00<?, ?it/s]"
          ],
          "name": "stderr"
        },
        {
          "output_type": "stream",
          "text": [
            "\n",
            "Test set: Average loss: 0.0042, Accuracy: 8202/10000 (82.02%)\n",
            "\n",
            "\n",
            "EPOCH:  67 LR:  [1.953125e-05]\n"
          ],
          "name": "stdout"
        },
        {
          "output_type": "stream",
          "text": [
            "Train set: batch_id=390  Average loss: 0.8053725361824036 Accuracy: 73.886: 100%|██████████| 391/391 [00:11<00:00, 33.67it/s]\n"
          ],
          "name": "stderr"
        },
        {
          "output_type": "stream",
          "text": [
            "Validation loss has  decreased from 0.0041 to 0.004. Saving the model\n"
          ],
          "name": "stdout"
        },
        {
          "output_type": "stream",
          "text": [
            "\r  0%|          | 0/391 [00:00<?, ?it/s]"
          ],
          "name": "stderr"
        },
        {
          "output_type": "stream",
          "text": [
            "\n",
            "Test set: Average loss: 0.0040, Accuracy: 8252/10000 (82.52%)\n",
            "\n",
            "\n",
            "EPOCH:  68 LR:  [1.953125e-05]\n"
          ],
          "name": "stdout"
        },
        {
          "output_type": "stream",
          "text": [
            "Train set: batch_id=390  Average loss: 0.8220790028572083 Accuracy: 73.576: 100%|██████████| 391/391 [00:11<00:00, 33.96it/s]\n"
          ],
          "name": "stderr"
        },
        {
          "output_type": "stream",
          "text": [
            "Validation loss has  decreased from 0.004 to 0.004. Saving the model\n"
          ],
          "name": "stdout"
        },
        {
          "output_type": "stream",
          "text": [
            "\r  0%|          | 0/391 [00:00<?, ?it/s]"
          ],
          "name": "stderr"
        },
        {
          "output_type": "stream",
          "text": [
            "\n",
            "Test set: Average loss: 0.0040, Accuracy: 8307/10000 (83.07%)\n",
            "\n",
            "\n",
            "EPOCH:  69 LR:  [1.953125e-05]\n"
          ],
          "name": "stdout"
        },
        {
          "output_type": "stream",
          "text": [
            "Train set: batch_id=390  Average loss: 0.795085072517395 Accuracy: 74.138: 100%|██████████| 391/391 [00:11<00:00, 33.34it/s]\n",
            "  0%|          | 0/391 [00:00<?, ?it/s]"
          ],
          "name": "stderr"
        },
        {
          "output_type": "stream",
          "text": [
            "\n",
            "Test set: Average loss: 0.0040, Accuracy: 8228/10000 (82.28%)\n",
            "\n",
            "\n",
            "EPOCH:  70 LR:  [1.953125e-05]\n"
          ],
          "name": "stdout"
        },
        {
          "output_type": "stream",
          "text": [
            "Train set: batch_id=390  Average loss: 0.7126436829566956 Accuracy: 74.25: 100%|██████████| 391/391 [00:11<00:00, 33.72it/s]\n"
          ],
          "name": "stderr"
        },
        {
          "output_type": "stream",
          "text": [
            "Validation loss has  decreased from 0.004 to 0.0039. Saving the model\n",
            "\n",
            "Test set: Average loss: 0.0039, Accuracy: 8291/10000 (82.91%)\n",
            "\n"
          ],
          "name": "stdout"
        }
      ]
    },
    {
      "cell_type": "code",
      "metadata": {
        "colab": {
          "base_uri": "https://localhost:8080/",
          "height": 1000
        },
        "id": "IydQGIj1D51K",
        "outputId": "aad9a18f-1229-49d7-ae7f-82db9b380264"
      },
      "source": [
        "test_misc_images = [test_misc_img[i] for i in range(20)]\n",
        "data_utils.plot_misclassified_rgb(test_misc_images, 'test_misc_batchnorm.png', config=modelconfig)"
      ],
      "execution_count": null,
      "outputs": [
        {
          "output_type": "stream",
          "text": [
            "Clipping input data to the valid range for imshow with RGB data ([0..1] for floats or [0..255] for integers).\n",
            "Clipping input data to the valid range for imshow with RGB data ([0..1] for floats or [0..255] for integers).\n",
            "Clipping input data to the valid range for imshow with RGB data ([0..1] for floats or [0..255] for integers).\n",
            "Clipping input data to the valid range for imshow with RGB data ([0..1] for floats or [0..255] for integers).\n",
            "Clipping input data to the valid range for imshow with RGB data ([0..1] for floats or [0..255] for integers).\n",
            "Clipping input data to the valid range for imshow with RGB data ([0..1] for floats or [0..255] for integers).\n",
            "Clipping input data to the valid range for imshow with RGB data ([0..1] for floats or [0..255] for integers).\n",
            "Clipping input data to the valid range for imshow with RGB data ([0..1] for floats or [0..255] for integers).\n",
            "Clipping input data to the valid range for imshow with RGB data ([0..1] for floats or [0..255] for integers).\n",
            "Clipping input data to the valid range for imshow with RGB data ([0..1] for floats or [0..255] for integers).\n",
            "Clipping input data to the valid range for imshow with RGB data ([0..1] for floats or [0..255] for integers).\n",
            "Clipping input data to the valid range for imshow with RGB data ([0..1] for floats or [0..255] for integers).\n",
            "Clipping input data to the valid range for imshow with RGB data ([0..1] for floats or [0..255] for integers).\n",
            "Clipping input data to the valid range for imshow with RGB data ([0..1] for floats or [0..255] for integers).\n",
            "Clipping input data to the valid range for imshow with RGB data ([0..1] for floats or [0..255] for integers).\n",
            "Clipping input data to the valid range for imshow with RGB data ([0..1] for floats or [0..255] for integers).\n",
            "Clipping input data to the valid range for imshow with RGB data ([0..1] for floats or [0..255] for integers).\n",
            "Clipping input data to the valid range for imshow with RGB data ([0..1] for floats or [0..255] for integers).\n",
            "Clipping input data to the valid range for imshow with RGB data ([0..1] for floats or [0..255] for integers).\n",
            "Clipping input data to the valid range for imshow with RGB data ([0..1] for floats or [0..255] for integers).\n"
          ],
          "name": "stderr"
        },
        {
          "output_type": "display_data",
          "data": {
            "image/png": "[encoded data removed]",
            "text/plain": [
              "<Figure size 1080x1080 with 20 Axes>"
            ]
          },
          "metadata": {
            "tags": [],
            "needs_background": "light"
          }
        }
      ]
    },
    {
      "cell_type": "code",
      "metadata": {
        "colab": {
          "base_uri": "https://localhost:8080/"
        },
        "id": "gHSQ2N79hHd1",
        "outputId": "ff4a89ae-f725-4af0-ef83-7dc744e08b94"
      },
      "source": [
        "class_correct = list(0. for i in range(10))\n",
        "class_total = list(0. for i in range(10))\n",
        "with torch.no_grad():\n",
        "    for data in modelconfig.testloader:\n",
        "        images, labels = data\n",
        "        labels=labels.to(modelconfig.device)\n",
        "        outputs = model(images.to(modelconfig.device))\n",
        "        _, predicted = torch.max(outputs, 1)\n",
        "        c = (predicted == labels).squeeze()\n",
        "        for i in range(4):\n",
        "            label = labels[i]\n",
        "            class_correct[label] += c[i].item()\n",
        "            class_total[label] += 1\n",
        "\n",
        "\n",
        "for i in range(10):\n",
        "    print('Accuracy of %5s : %2d %%' % (\n",
        "        modelconfig.classes[i], 100 * class_correct[i] / class_total[i]))"
      ],
      "execution_count": null,
      "outputs": [
        {
          "output_type": "stream",
          "text": [
            "Accuracy of plane : 90 %\n",
            "Accuracy of   car : 96 %\n",
            "Accuracy of  bird : 80 %\n",
            "Accuracy of   cat : 62 %\n",
            "Accuracy of  deer : 96 %\n",
            "Accuracy of   dog : 79 %\n",
            "Accuracy of  frog : 96 %\n",
            "Accuracy of horse : 86 %\n",
            "Accuracy of  ship : 100 %\n",
            "Accuracy of truck : 83 %\n"
          ],
          "name": "stdout"
        }
      ]
    },
    {
      "cell_type": "code",
      "metadata": {
        "colab": {
          "base_uri": "https://localhost:8080/"
        },
        "id": "VmDm9ogZhhNM",
        "outputId": "b72747f5-1f0e-443d-fe0b-0b2d9c411a9a"
      },
      "source": [
        "len(modelconfig.testloader)"
      ],
      "execution_count": null,
      "outputs": [
        {
          "output_type": "execute_result",
          "data": {
            "text/plain": [
              "79"
            ]
          },
          "metadata": {
            "tags": []
          },
          "execution_count": 18
        }
      ]
    },
    {
      "cell_type": "code",
      "metadata": {
        "id": "8XcigfR5hHWL"
      },
      "source": [
        "_results = modelconfig.model_results\n",
        "testacc =  _results['TestAccuracy']\n",
        "trainacc =  _results['TrainAccuracy']\n",
        "testloss = [i/len(modelconfig.testloader) for i in _results['TestLoss']]\n",
        "trainloss = [i/len(modelconfig.trainloader) for i in _results['TrainLoss']]\n",
        "\n",
        "# testacc = model_results['TestAccuracy']\n",
        "# trainacc = model_results['TrainAccuracy']\n",
        "# testloss = model_results['TestLoss']\n",
        "# trainloss = model_results['TrainLoss']\n",
        "# _results"
      ],
      "execution_count": null,
      "outputs": []
    },
    {
      "cell_type": "code",
      "metadata": {
        "colab": {
          "base_uri": "https://localhost:8080/"
        },
        "id": "jpxUjZYfiLox",
        "outputId": "6abe92a3-6108-4e9d-83c6-86cdea1e0934"
      },
      "source": [
        "len(testacc)"
      ],
      "execution_count": null,
      "outputs": [
        {
          "output_type": "execute_result",
          "data": {
            "text/plain": [
              "70"
            ]
          },
          "metadata": {
            "tags": []
          },
          "execution_count": 25
        }
      ]
    },
    {
      "cell_type": "code",
      "metadata": {
        "id": "WeeihvmXhHSe"
      },
      "source": [
        "plot_details_dict = {'Test Accuracy(%)': 'Validation Accuracy',\n",
        "                     'Train Accuracy(%)': 'Train Accuracy',\n",
        "                     'Test Loss(%)': 'Validation Loss',\n",
        "                     'Train Loss(%)': 'Train Loss'}\n",
        "\n",
        "\n",
        "def plot_curve(data, y_label):\n",
        "  # Plotting both the curves simultaneously\n",
        "  with plt.style.context('dark_background'):# fivethirtyeight\n",
        "    plt.plot(data[0:70], color='r', label='BatchNorm')\n",
        "    \n",
        "    # Naming the x-axis, y-axis and the whole graph\n",
        "    plt.xlabel(\"Epochs\")\n",
        "    plt.ylabel(y_label)\n",
        "    plt.title(plot_details_dict[y_label])\n",
        "      \n",
        "    # Adding legend, which helps us recognize the curve according to it's color\n",
        "    plt.legend()\n",
        "  "
      ],
      "execution_count": null,
      "outputs": []
    },
    {
      "cell_type": "code",
      "metadata": {
        "id": "pDNFuDEDpoDG",
        "colab": {
          "base_uri": "https://localhost:8080/",
          "height": 295
        },
        "outputId": "d2fe366e-7964-4b89-aebc-a9cc1a117f29"
      },
      "source": [
        "plot_curve(testacc, \"Test Accuracy(%)\")"
      ],
      "execution_count": null,
      "outputs": [
        {
          "output_type": "display_data",
          "data": {
            "image/png": "[encoded data removed]",
            "text/plain": [
              "<Figure size 432x288 with 1 Axes>"
            ]
          },
          "metadata": {
            "tags": []
          }
        }
      ]
    },
    {
      "cell_type": "code",
      "metadata": {
        "colab": {
          "base_uri": "https://localhost:8080/",
          "height": 295
        },
        "id": "gNh6AfQPiBKN",
        "outputId": "92dd31a8-7c00-4c47-feae-a446773ea10e"
      },
      "source": [
        "plot_curve(trainacc, \"Train Accuracy(%)\")"
      ],
      "execution_count": null,
      "outputs": [
        {
          "output_type": "display_data",
          "data": {
            "image/png": "[encoded data removed]",
            "text/plain": [
              "<Figure size 432x288 with 1 Axes>"
            ]
          },
          "metadata": {
            "tags": []
          }
        }
      ]
    },
    {
      "cell_type": "code",
      "metadata": {
        "colab": {
          "base_uri": "https://localhost:8080/",
          "height": 295
        },
        "id": "Q3k9cnfeiRJa",
        "outputId": "ce90315d-5a00-42cb-dc0c-fd80baea25e4"
      },
      "source": [
        "plot_curve(testloss, \"Test Loss(%)\")"
      ],
      "execution_count": null,
      "outputs": [
        {
          "output_type": "display_data",
          "data": {
            "image/png": "[encoded data removed]",
            "text/plain": [
              "<Figure size 432x288 with 1 Axes>"
            ]
          },
          "metadata": {
            "tags": []
          }
        }
      ]
    },
    {
      "cell_type": "code",
      "metadata": {
        "colab": {
          "base_uri": "https://localhost:8080/",
          "height": 295
        },
        "id": "lq2O8UW6iRiK",
        "outputId": "dc2e0ca4-94a3-4b8b-e9a3-5c0972fd58ed"
      },
      "source": [
        "plot_curve(trainloss, \"Train Loss(%)\")"
      ],
      "execution_count": null,
      "outputs": [
        {
          "output_type": "display_data",
          "data": {
            "image/png": "[encoded data removed]",
            "text/plain": [
              "<Figure size 432x288 with 1 Axes>"
            ]
          },
          "metadata": {
            "tags": []
          }
        }
      ]
    },
    {
      "cell_type": "code",
      "metadata": {
        "id": "riEYa-HviYvs"
      },
      "source": [
        ""
      ],
      "execution_count": null,
      "outputs": []
    }
  ]
}