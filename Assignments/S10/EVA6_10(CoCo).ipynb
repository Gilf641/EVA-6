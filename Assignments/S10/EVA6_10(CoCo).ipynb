{
  "nbformat": 4,
  "nbformat_minor": 0,
  "metadata": {
    "colab": {
      "name": "EVA6_10(CoCo).ipynb",
      "provenance": [],
      "collapsed_sections": []
    },
    "kernelspec": {
      "name": "python3",
      "display_name": "Python 3"
    },
    "language_info": {
      "name": "python"
    }
  },
  "cells": [
    {
      "cell_type": "markdown",
      "metadata": {
        "id": "5OH7Pf-7x1u3"
      },
      "source": [
        "###Import Required Modules"
      ]
    },
    {
      "cell_type": "code",
      "metadata": {
        "id": "AiLrft1vtaYA"
      },
      "source": [
        "import pandas as pd\n",
        "import re\n",
        "import json\n",
        "import matplotlib.pyplot as plt\n",
        "import numpy as np\n",
        "import cv2\n",
        "import json\n",
        "import os\n",
        "from sklearn.cluster import KMeans\n",
        "from dataclasses import dataclass\n",
        "from typing import List\n",
        "from matplotlib.patches import Rectangle\n",
        "from matplotlib.collections import PatchCollection"
      ],
      "execution_count": 3,
      "outputs": []
    },
    {
      "cell_type": "markdown",
      "metadata": {
        "id": "yccNUR96xwX-"
      },
      "source": [
        "### Downloading COCO Annotations Dataset"
      ]
    },
    {
      "cell_type": "code",
      "metadata": {
        "colab": {
          "base_uri": "https://localhost:8080/"
        },
        "id": "3LQ_Sdxptjms",
        "outputId": "9966f227-3c29-4694-8823-c8a11530b945"
      },
      "source": [
        "print(f\"os.getcwd()={os.getcwd()}\")\n",
        "\n",
        "# download annotation from https://cocodataset.org/#download: 2017 Train/Val annotations [241MB]\n",
        "!wget http://images.cocodataset.org/annotations/annotations_trainval2017.zip\n",
        "!unzip 'annotations_trainval2017.zip'\n",
        "!ls -la /content/annotations"
      ],
      "execution_count": 2,
      "outputs": [
        {
          "output_type": "stream",
          "text": [
            "os.getcwd()=/content\n",
            "--2021-08-07 17:44:08--  http://images.cocodataset.org/annotations/annotations_trainval2017.zip\n",
            "Resolving images.cocodataset.org (images.cocodataset.org)... 52.217.76.188\n",
            "Connecting to images.cocodataset.org (images.cocodataset.org)|52.217.76.188|:80... connected.\n",
            "HTTP request sent, awaiting response... 200 OK\n",
            "Length: 252907541 (241M) [application/zip]\n",
            "Saving to: ‘annotations_trainval2017.zip’\n",
            "\n",
            "annotations_trainva 100%[===================>] 241.19M  35.0MB/s    in 7.5s    \n",
            "\n",
            "2021-08-07 17:44:16 (32.3 MB/s) - ‘annotations_trainval2017.zip’ saved [252907541/252907541]\n",
            "\n",
            "Archive:  annotations_trainval2017.zip\n",
            "  inflating: annotations/instances_train2017.json  \n",
            "  inflating: annotations/instances_val2017.json  \n",
            "  inflating: annotations/captions_train2017.json  \n",
            "  inflating: annotations/captions_val2017.json  \n",
            "  inflating: annotations/person_keypoints_train2017.json  \n",
            "  inflating: annotations/person_keypoints_val2017.json  \n",
            "total 814896\n",
            "drwxr-xr-x 2 root root      4096 Aug  7 17:44 .\n",
            "drwxr-xr-x 1 root root      4096 Aug  7 17:44 ..\n",
            "-rw-rw-r-- 1 root root  91865115 Sep  1  2017 captions_train2017.json\n",
            "-rw-rw-r-- 1 root root   3872473 Sep  1  2017 captions_val2017.json\n",
            "-rw-rw-r-- 1 root root 469785474 Sep  1  2017 instances_train2017.json\n",
            "-rw-rw-r-- 1 root root  19987840 Sep  1  2017 instances_val2017.json\n",
            "-rw-rw-r-- 1 root root 238884731 Sep  1  2017 person_keypoints_train2017.json\n",
            "-rw-rw-r-- 1 root root  10020657 Sep  1  2017 person_keypoints_val2017.json\n"
          ],
          "name": "stdout"
        }
      ]
    },
    {
      "cell_type": "markdown",
      "metadata": {
        "id": "YdkdfI40xqh6"
      },
      "source": [
        "### Reading COCO-2017 Annotations Dataset"
      ]
    },
    {
      "cell_type": "code",
      "metadata": {
        "id": "4-r-x5Putwg6"
      },
      "source": [
        "\n",
        "with open('/content/annotations/instances_train2017.json', \"r\") as train2017_file:\n",
        "  train2017_data:dict = json.load(train2017_file)\n",
        "\n",
        "images:list = train2017_data[\"images\"]\n",
        "categories:list = train2017_data[\"categories\"]\n",
        "annotations:list = train2017_data[\"annotations\"]"
      ],
      "execution_count": 8,
      "outputs": []
    },
    {
      "cell_type": "code",
      "metadata": {
        "id": "U0pqQxJ3t28v"
      },
      "source": [
        "id_to_name:dict = {}\n",
        "for category in categories:\n",
        "    id_to_name[category['id']] = category['name']"
      ],
      "execution_count": 9,
      "outputs": []
    },
    {
      "cell_type": "markdown",
      "metadata": {
        "id": "y0ifEne3xm9l"
      },
      "source": [
        "### Mapping Class ID to Names"
      ]
    },
    {
      "cell_type": "code",
      "metadata": {
        "id": "M_J6vDJBupPK"
      },
      "source": [
        "\n",
        "name_to_annot_count:dict = {}\n",
        "for annot in annotations:\n",
        "    cat_name = id_to_name[annot['category_id']]\n",
        "    if not name_to_annot_count.get(cat_name): name_to_annot_count[cat_name] = 0  # initialize with 0 for the very first time.\n",
        "    name_to_annot_count[cat_name] += 1\n",
        "\n",
        "sorted_cats = [ k for k, v in sorted(name_to_annot_count.items(), reverse=True, key=lambda item: item[1]) ]\n",
        "sorted_cat_counts = [ v for k, v in sorted(name_to_annot_count.items(), reverse=True, key=lambda item: item[1]) ]  # sort in descending order\n"
      ],
      "execution_count": 10,
      "outputs": []
    },
    {
      "cell_type": "markdown",
      "metadata": {
        "id": "ViU5xlAOxjf3"
      },
      "source": [
        "### Num of BBox for each class"
      ]
    },
    {
      "cell_type": "code",
      "metadata": {
        "colab": {
          "base_uri": "https://localhost:8080/",
          "height": 413
        },
        "id": "J2rw5I0Nu2pA",
        "outputId": "10ffd2e2-d310-4b02-a19f-e593c0acc173"
      },
      "source": [
        "top_n = 20\n",
        "plt.figure(figsize=(top_n,10))   # figsize : (float, float), optional, default: None; width, height in inches. If not provided, defaults to figure.figsize = [6.4, 4.8].\n",
        "plt.bar(np.arange(top_n),sorted_cat_counts[:top_n], width=0.5, tick_label=sorted_cats[:top_n], color='orange')   \n",
        "#plt.xticks(rotation=90) \n",
        "plt.xlim(-0.5,top_n)\n",
        "plt.xlabel('Classname')\n",
        "plt.ylabel('Number of BBoxes')\n",
        "plt.title('BBox Distribution for each Class')\n",
        "plt.show()"
      ],
      "execution_count": 19,
      "outputs": [
        {
          "output_type": "display_data",
          "data": {
            "image/png": "[encoded data removed]",
            "text/plain": [
              "<Figure size 1440x720 with 1 Axes>"
            ]
          },
          "metadata": {
            "tags": [],
            "needs_background": "light"
          }
        }
      ]
    },
    {
      "cell_type": "markdown",
      "metadata": {
        "id": "tIcEJjwXxaF6"
      },
      "source": [
        "### Setting up Normalized BBox Width and Height for KMeans"
      ]
    },
    {
      "cell_type": "code",
      "metadata": {
        "colab": {
          "base_uri": "https://localhost:8080/"
        },
        "id": "E7cyVI4au2-d",
        "outputId": "b468e15a-e5a7-4417-91e6-d43eb0e6dd53"
      },
      "source": [
        "\n",
        "images_df = pd.DataFrame(images, columns = ['id', 'file_name', 'width', 'height'])\n",
        "annotations_df = pd.DataFrame(annotations, columns = ['id', 'bbox'])\n",
        "\n",
        "annotation_map_df = pd.concat([images_df, annotations_df], 1)[['file_name', 'width', 'height', 'bbox']]\n",
        "\n",
        "box_df =pd.DataFrame(annotation_map_df['bbox'].values.tolist(), columns =['x', 'y', 'box_width', 'box_height'])\n",
        "annotation_map_df = pd.concat([annotation_map_df, box_df], 1)\n",
        "annotation_map_df = annotation_map_df.drop('bbox', axis =1)\n",
        "\n",
        "\n",
        "#Normalize the Box Dimensions based on Image Height and Width\n",
        "annotation_map_df['x'] = annotation_map_df['x'] / annotation_map_df['width']\n",
        "annotation_map_df['y'] = annotation_map_df['y'] / annotation_map_df['height']\n",
        "annotation_map_df['box_width'] = annotation_map_df['box_width'] / annotation_map_df['width']\n",
        "annotation_map_df['box_height'] = annotation_map_df['box_height'] / annotation_map_df['height']\n",
        "\n",
        "\n",
        "annotation_map_df = annotation_map_df.dropna()\n",
        "annotation_map_df.isnull().any()\n",
        "\n",
        "bb_width_height_arr = annotation_map_df[[\"box_width\", \"box_height\"]].to_numpy()\n",
        "bb_width_height_arr.shape"
      ],
      "execution_count": 21,
      "outputs": [
        {
          "output_type": "execute_result",
          "data": {
            "text/plain": [
              "(118287, 2)"
            ]
          },
          "metadata": {
            "tags": []
          },
          "execution_count": 21
        }
      ]
    },
    {
      "cell_type": "markdown",
      "metadata": {
        "id": "5pkEGEy8xGDF"
      },
      "source": [
        "### BBox Width and Height Scatter Plot"
      ]
    },
    {
      "cell_type": "code",
      "metadata": {
        "colab": {
          "base_uri": "https://localhost:8080/",
          "height": 281
        },
        "id": "zYcldsRXvtwS",
        "outputId": "efdd1fe1-cadb-4457-aa43-a3a2c9fad217"
      },
      "source": [
        "plt.scatter(bb_width_height_arr[:,0], bb_width_height_arr[:,1])\n",
        "plt.title(\"Scatter plot of BBox Width & Height\")\n",
        "plt.show()"
      ],
      "execution_count": 22,
      "outputs": [
        {
          "output_type": "display_data",
          "data": {
            "image/png": "[encoded data removed]",
            "text/plain": [
              "<Figure size 432x288 with 1 Axes>"
            ]
          },
          "metadata": {
            "tags": [],
            "needs_background": "light"
          }
        }
      ]
    },
    {
      "cell_type": "markdown",
      "metadata": {
        "id": "q5_aDOEvxBQu"
      },
      "source": [
        "### Perform KMeans Clustering on BBox"
      ]
    },
    {
      "cell_type": "code",
      "metadata": {
        "colab": {
          "base_uri": "https://localhost:8080/"
        },
        "id": "JFWipM6SvzSa",
        "outputId": "718028d2-c104-4b3d-d644-b4763ff2273b"
      },
      "source": [
        "def compute_IOU(x,centroids):\n",
        "    IoUs = []\n",
        "    for centroid in centroids:\n",
        "            bb_w, bb_h = x # bounding box's w, h\n",
        "            c_w,c_h = centroid # anchor box w, h\n",
        "           \n",
        "            if c_w>=bb_w and c_h>=bb_h: #anchor box surrounded by bounding box\n",
        "              iou = bb_w*bb_h/(c_w*c_h)\n",
        "            elif c_w>=bb_w and c_h<=bb_h: #anchor\n",
        "              iou = bb_w*c_h/(bb_w*bb_h + (c_w-bb_w)*c_h)\n",
        "            elif c_w<=bb_w and c_h>=bb_h: #anchor box is taller than bounding box in the width \n",
        "              iou = c_w*bb_h/(bb_w*bb_h + c_w*(c_h-bb_h))\n",
        "            else: #bounding box surrounded by anchor means both w,h are bigger than c_w and c_h respectively\n",
        "              iou = (c_w*c_h)/(bb_w*bb_h)\n",
        "            IoUs.append(iou) \n",
        "    return np.array(IoUs)  # return the IOU between this bounding box and each of the anchor boxes/centroids\n",
        "\n",
        "def compute_avg_IOU(X, centroids):\n",
        "    n,d = X.shape\n",
        "    sum_of_maxIOU = 0.\n",
        "    for i in range(X.shape[0]):   # iterate throught each bounding  box..\n",
        "        sum_of_maxIOU+= max(compute_IOU(X[i],centroids)) #compute the IOU for each anchor box; take the max; add it to the maxIOU\n",
        "    return sum_of_maxIOU / X.shape[0]   # compute the average: sum / number of bounding boxes\n",
        "\n",
        "def plot_anchor_boxes(num_of_clusters, centroids):\n",
        "    xdata = np.array([0.5]*len(centroids))\n",
        "    ydata = np.array([0.5]*len(centroids))\n",
        "    xerror = np.array([list(np.exp(centroids[:, 0])/2)]*2)\n",
        "    yerror = np.array([list(np.exp(centroids[:, 1])/2)]*2)\n",
        "    errorboxes = []\n",
        "    for x, y, xe, ye in zip(xdata, ydata, xerror.T, yerror.T):\n",
        "        rect = Rectangle((x - xe[0], y - ye[0]), xe.sum(), ye.sum())\n",
        "        errorboxes.append(rect)\n",
        "\n",
        "    pc = PatchCollection(errorboxes, facecolor='None', alpha=1, edgecolor='b')\n",
        "    fig, ax = plt.subplots(1)\n",
        "\n",
        "    ax.add_collection(pc)\n",
        "    plt.title(f'Anchor Boxes for number of clusters = {num_of_clusters}')\n",
        "    artists = plt.errorbar(xdata, ydata, xerr=xerror, yerr=yerror, fmt='None', ecolor='None')\n",
        "\n",
        "\n",
        "@dataclass\n",
        "class KMeansResult:\n",
        "    num_of_clusters:int\n",
        "    cluster_centers:List[List[float]]\n",
        "    pred_y:List[int]\n",
        "    avg_IOU:float\n",
        "\n",
        "\n",
        "kMeansResults:list = [None,None,None]\n",
        "num_cluster_range = range(3,7)   # compute kmeans cluster for number of clusters = 3 to 6\n",
        "for i in num_cluster_range:\n",
        "  kmeans = KMeans(n_clusters=i, init='k-means++', random_state=10)\n",
        "  pred_y = kmeans.fit_predict(bb_width_height_arr)\n",
        "  avg_iou = compute_avg_IOU(bb_width_height_arr, kmeans.cluster_centers_)\n",
        "  kMeansResults.append(KMeansResult(i, kmeans.cluster_centers_,pred_y, avg_iou))\n",
        "\n",
        "print(kMeansResults)"
      ],
      "execution_count": 23,
      "outputs": [
        {
          "output_type": "stream",
          "text": [
            "[None, None, None, KMeansResult(num_of_clusters=3, cluster_centers=array([[0.29170448, 0.41593413],\n",
            "       [0.07272931, 0.09557326],\n",
            "       [0.73640768, 0.79335423]]), pred_y=array([1, 1, 0, ..., 1, 1, 1], dtype=int32), avg_IOU=0.3896668733873761), KMeansResult(num_of_clusters=4, cluster_centers=array([[0.06698513, 0.08807545],\n",
            "       [0.88730536, 0.55921447],\n",
            "       [0.25906547, 0.36027513],\n",
            "       [0.45153117, 0.92247932]]), pred_y=array([0, 0, 2, ..., 0, 0, 0], dtype=int32), avg_IOU=0.40954508366064235), KMeansResult(num_of_clusters=5, cluster_centers=array([[0.213444  , 0.2620148 ],\n",
            "       [0.86614312, 0.49339784],\n",
            "       [0.05647555, 0.07617373],\n",
            "       [0.31349763, 0.60741733],\n",
            "       [0.63141078, 1.07827102]]), pred_y=array([0, 2, 0, ..., 2, 2, 2], dtype=int32), avg_IOU=0.44314776940260264), KMeansResult(num_of_clusters=6, cluster_centers=array([[0.05418414, 0.07093342],\n",
            "       [0.2636181 , 0.6031903 ],\n",
            "       [0.17661715, 0.24701394],\n",
            "       [0.56188941, 1.05368201],\n",
            "       [1.02843197, 0.63270424],\n",
            "       [0.56312777, 0.37031636]]), pred_y=array([2, 2, 2, ..., 0, 0, 0], dtype=int32), avg_IOU=0.4621943691082542)]\n"
          ],
          "name": "stdout"
        }
      ]
    },
    {
      "cell_type": "markdown",
      "metadata": {
        "id": "xmAcyqVDw0qO"
      },
      "source": [
        "### Plot of Num of Clusters vs Avg of Max IoU"
      ]
    },
    {
      "cell_type": "code",
      "metadata": {
        "colab": {
          "base_uri": "https://localhost:8080/",
          "height": 350
        },
        "id": "eofwyMFSwMi-",
        "outputId": "7fcdd8e8-faac-4513-a331-096bdbc4ff76"
      },
      "source": [
        "fig = plt.figure(figsize=(9, 5))\n",
        "plt.plot(num_cluster_range, [kMeansResult.avg_IOU for kMeansResult in kMeansResults[3:] ], marker='o')\n",
        "plt.xlabel('Number of Clusters')\n",
        "plt.ylabel('Avg of Max IOU')\n",
        "plt.title(\"Number of Clusters Vs Avg of Max IOU\")\n",
        "plt.show()"
      ],
      "execution_count": 24,
      "outputs": [
        {
          "output_type": "display_data",
          "data": {
            "image/png": "[encoded data removed]",
            "text/plain": [
              "<Figure size 648x360 with 1 Axes>"
            ]
          },
          "metadata": {
            "tags": [],
            "needs_background": "light"
          }
        }
      ]
    },
    {
      "cell_type": "markdown",
      "metadata": {
        "id": "dUpsInnYwsoW"
      },
      "source": [
        "### Anchor Boxes for Clusters 3, 4, 5, 6"
      ]
    },
    {
      "cell_type": "code",
      "metadata": {
        "colab": {
          "base_uri": "https://localhost:8080/",
          "height": 281
        },
        "id": "hfa-by6YwctW",
        "outputId": "ae6e259c-21cc-45e2-dda5-7e77010518e6"
      },
      "source": [
        "plot_anchor_boxes(kMeansResults[3].num_of_clusters, kMeansResults[3].cluster_centers)"
      ],
      "execution_count": 25,
      "outputs": [
        {
          "output_type": "display_data",
          "data": {
            "image/png": "[encoded data removed]",
            "text/plain": [
              "<Figure size 432x288 with 1 Axes>"
            ]
          },
          "metadata": {
            "tags": [],
            "needs_background": "light"
          }
        }
      ]
    },
    {
      "cell_type": "code",
      "metadata": {
        "colab": {
          "base_uri": "https://localhost:8080/",
          "height": 281
        },
        "id": "eVzYEDNfwck5",
        "outputId": "9c4371e4-5ecd-4834-ed9e-786e87574903"
      },
      "source": [
        "plot_anchor_boxes(kMeansResults[4].num_of_clusters, kMeansResults[4].cluster_centers)"
      ],
      "execution_count": 30,
      "outputs": [
        {
          "output_type": "display_data",
          "data": {
            "image/png": "[encoded data removed]",
            "text/plain": [
              "<Figure size 432x288 with 1 Axes>"
            ]
          },
          "metadata": {
            "tags": [],
            "needs_background": "light"
          }
        }
      ]
    },
    {
      "cell_type": "code",
      "metadata": {
        "colab": {
          "base_uri": "https://localhost:8080/",
          "height": 281
        },
        "id": "tUqbuNlOwhV5",
        "outputId": "91fc8bbe-453c-4dfe-b895-2498ecedd2d8"
      },
      "source": [
        "plot_anchor_boxes(kMeansResults[5].num_of_clusters, kMeansResults[5].cluster_centers)"
      ],
      "execution_count": 31,
      "outputs": [
        {
          "output_type": "display_data",
          "data": {
            "image/png": "[encoded data removed]",
            "text/plain": [
              "<Figure size 432x288 with 1 Axes>"
            ]
          },
          "metadata": {
            "tags": [],
            "needs_background": "light"
          }
        }
      ]
    },
    {
      "cell_type": "code",
      "metadata": {
        "colab": {
          "base_uri": "https://localhost:8080/",
          "height": 281
        },
        "id": "fZJVTtOFwhTk",
        "outputId": "ab1a524b-7b59-4353-a168-06c4fa25c6de"
      },
      "source": [
        "plot_anchor_boxes(kMeansResults[6].num_of_clusters, kMeansResults[6].cluster_centers)"
      ],
      "execution_count": 32,
      "outputs": [
        {
          "output_type": "display_data",
          "data": {
            "image/png": "[encoded data removed]",
            "text/plain": [
              "<Figure size 432x288 with 1 Axes>"
            ]
          },
          "metadata": {
            "tags": [],
            "needs_background": "light"
          }
        }
      ]
    }
  ]
}